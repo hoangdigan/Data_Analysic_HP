{
 "cells": [
  {
   "cell_type": "markdown",
   "id": "4f853f92-238e-4197-bdb1-50a6960d0369",
   "metadata": {},
   "source": [
    "Step 1: Go to Kaggle to download foodfacts dataset"
   ]
  },
  {
   "cell_type": "markdown",
   "id": "f628a65f-5dae-493d-af26-741f167fcd08",
   "metadata": {},
   "source": [
    "Step 2: Import Libs"
   ]
  },
  {
   "cell_type": "code",
   "execution_count": 1,
   "id": "0c83f3db-62bf-4c59-b0c2-64902bf83680",
   "metadata": {},
   "outputs": [],
   "source": [
    "import pandas as pd"
   ]
  },
  {
   "cell_type": "markdown",
   "id": "522bd88a-2aed-4bae-940d-afa5ea8fa089",
   "metadata": {},
   "source": [
    "Step 3: Read data, assign to df_food dataframe"
   ]
  },
  {
   "cell_type": "code",
   "execution_count": null,
   "id": "a47acb17-063d-40eb-88cf-c4a919d8ca2e",
   "metadata": {},
   "outputs": [],
   "source": [
    "df_food = pd.read_csv('en.openfoodfacts.org.products.tsv', sep = '\\t')"
   ]
  },
  {
   "cell_type": "markdown",
   "id": "6c65d1af-b4aa-4b2e-b525-34f4928a3fef",
   "metadata": {},
   "source": [
    "Step 4: See first 5"
   ]
  },
  {
   "cell_type": "code",
   "execution_count": null,
   "id": "5e1debdf-0c7c-4b96-9187-c73d30c9a3dd",
   "metadata": {},
   "outputs": [],
   "source": [
    "df_food.head(5)"
   ]
  },
  {
   "cell_type": "markdown",
   "id": "4e16ab30-f787-4713-90cb-d824dbb46e25",
   "metadata": {},
   "source": [
    "Step 5: What is number of observations in the dataset?"
   ]
  },
  {
   "cell_type": "code",
   "execution_count": null,
   "id": "3065b0e2-f8f8-47a7-9e55-3536a4d8f235",
   "metadata": {},
   "outputs": [],
   "source": [
    "df_food.shape[0]"
   ]
  },
  {
   "cell_type": "markdown",
   "id": "3976c8fc-42e4-419b-b655-b2f678dd5a7e",
   "metadata": {},
   "source": [
    "Step 6: What is number of columns in the dataset"
   ]
  },
  {
   "cell_type": "code",
   "execution_count": null,
   "id": "d1a7a952-cd14-4fe8-a9bb-320c78a229f1",
   "metadata": {},
   "outputs": [],
   "source": [
    "df_food.shape[1]"
   ]
  },
  {
   "cell_type": "markdown",
   "id": "7c97cf0e-60f7-4c68-9ae9-18cde9f731b3",
   "metadata": {},
   "source": [
    "Step 7: Print the name of all columns"
   ]
  },
  {
   "cell_type": "code",
   "execution_count": null,
   "id": "03a2b1e6-f9bb-4d3e-bc27-6e22e9ee6e4e",
   "metadata": {},
   "outputs": [],
   "source": [
    "df_food.columns"
   ]
  },
  {
   "cell_type": "markdown",
   "id": "3b335841-90c5-487a-9ef4-4f6ac579a4c5",
   "metadata": {},
   "source": [
    "Step 8: Name of 105th column?"
   ]
  },
  {
   "cell_type": "code",
   "execution_count": null,
   "id": "00e43267-9651-4c70-b097-250b00bb257b",
   "metadata": {},
   "outputs": [],
   "source": [
    "df_food.columns[104]"
   ]
  },
  {
   "cell_type": "markdown",
   "id": "1a2a99a9-2c64-4960-86e1-efb0befd6d8e",
   "metadata": {},
   "source": [
    "Step 9: Print type of 195th column"
   ]
  },
  {
   "cell_type": "code",
   "execution_count": null,
   "id": "cae48643-8ee5-4d72-a9dc-96d74f9800ad",
   "metadata": {},
   "outputs": [],
   "source": [
    "df_food.dtypes['-glucose_100g']"
   ]
  },
  {
   "cell_type": "markdown",
   "id": "b1ffc461-0c26-4c54-ae50-38450f44ec03",
   "metadata": {},
   "source": [
    "Step 10: How is the dataset index?"
   ]
  },
  {
   "cell_type": "code",
   "execution_count": null,
   "id": "f45b9485-9e0b-4851-a974-3fb95dcc4f91",
   "metadata": {},
   "outputs": [],
   "source": [
    "df_food.index"
   ]
  },
  {
   "cell_type": "markdown",
   "id": "7835c230-9b0c-4f30-a016-f0d6c0b47112",
   "metadata": {},
   "source": [
    "Step 11: Product name of 19th observation?"
   ]
  },
  {
   "cell_type": "code",
   "execution_count": null,
   "id": "ecb30f10-fb33-46df-874b-29227e91bf26",
   "metadata": {},
   "outputs": [],
   "source": [
    "df_food.values[18][7]"
   ]
  },
  {
   "cell_type": "markdown",
   "id": "a09dd79f-e0d9-42cf-b896-73ccefb6da76",
   "metadata": {},
   "source": [
    "Step 12: Convert created_datetine, last_modified_datetime to datetime type"
   ]
  },
  {
   "cell_type": "code",
   "execution_count": null,
   "id": "c0f0970c-a060-4325-af54-efbd96c6b55f",
   "metadata": {},
   "outputs": [],
   "source": [
    "# pip install tzlocal==2.1"
   ]
  },
  {
   "cell_type": "code",
   "execution_count": null,
   "id": "598b1996-2ee1-4a0a-b215-1f8ea955f8ab",
   "metadata": {},
   "outputs": [],
   "source": [
    "from datetime import datetime\n",
    "from datetime import timezone\n",
    "from tzlocal import get_localzone\n",
    "tz = get_localzone()\n",
    "\n",
    "def dt_func(x):\n",
    "    try:       \n",
    "        d = datetime.fromisoformat(x[:-1]).astimezone(tz)\n",
    "        return d\n",
    "    except:\n",
    "        return None\n",
    "\n",
    "# dt_func = lambda x: datetime.fromisoformat(x[:-1]).astimezone(tz) (error, check later)\n",
    "\n",
    "df_food['created_datetime']=df_food['created_datetime'].apply(dt_func)\n",
    "df_food['last_modified_datetime']=df_food['last_modified_datetime'].apply(dt_func)\n",
    "\n",
    "df_food['created_datetime'].head(1)\n",
    "\n",
    "df_food['last_modified_datetime'].head(1)\n"
   ]
  },
  {
   "cell_type": "markdown",
   "id": "536c7160-13fa-42cf-a272-da4edc127b42",
   "metadata": {},
   "source": [
    "Step 13: Get latest food, oldest food"
   ]
  },
  {
   "cell_type": "markdown",
   "id": "5b32686c-5407-4336-86f2-37557692712a",
   "metadata": {},
   "source": [
    "Step 13a: Get latest food"
   ]
  },
  {
   "cell_type": "code",
   "execution_count": null,
   "id": "05d82ec8-3e62-4fd8-bd28-c835a9692400",
   "metadata": {},
   "outputs": [],
   "source": [
    "get_latest_food = df_food.sort_values(['created_datetime'], ascending = False)\n",
    "get_latest_food .head(1)"
   ]
  },
  {
   "cell_type": "code",
   "execution_count": null,
   "id": "164d4927-039b-4e9d-8426-b9c61f9dabe8",
   "metadata": {},
   "outputs": [],
   "source": [
    "get_latest_food .head(1)['product_name']"
   ]
  },
  {
   "cell_type": "markdown",
   "id": "c4bbd0cb-50c1-4b8d-999c-5c411c23872c",
   "metadata": {},
   "source": [
    "Step 13b: Get oldest food"
   ]
  },
  {
   "cell_type": "code",
   "execution_count": null,
   "id": "108bff76-4309-41e7-bf13-247a12e298a4",
   "metadata": {},
   "outputs": [],
   "source": [
    "get_oldest_food = df_food.sort_values(['created_datetime'])\n",
    "get_oldest_food .head(1)"
   ]
  },
  {
   "cell_type": "code",
   "execution_count": null,
   "id": "a6260b9f-5689-451c-9c6e-ee391d75f2bf",
   "metadata": {},
   "outputs": [],
   "source": [
    "get_oldest_food .head(1)['product_name']"
   ]
  }
 ],
 "metadata": {
  "kernelspec": {
   "display_name": "Python 3",
   "language": "python",
   "name": "python3"
  },
  "language_info": {
   "codemirror_mode": {
    "name": "ipython",
    "version": 3
   },
   "file_extension": ".py",
   "mimetype": "text/x-python",
   "name": "python",
   "nbconvert_exporter": "python",
   "pygments_lexer": "ipython3",
   "version": "3.8.8"
  }
 },
 "nbformat": 4,
 "nbformat_minor": 5
}
