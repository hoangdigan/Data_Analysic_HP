{
 "cells": [
  {
   "cell_type": "markdown",
   "metadata": {},
   "source": [
    "Assignment 10\n",
    " + sort International score then re-draw scatter charts & 3D Scatter"
   ]
  },
  {
   "cell_type": "code",
   "execution_count": 19,
   "metadata": {},
   "outputs": [],
   "source": [
    "import pandas as pd\n",
    "import plotly.graph_objects as go"
   ]
  },
  {
   "cell_type": "code",
   "execution_count": 20,
   "metadata": {},
   "outputs": [
    {
     "data": {
      "text/html": [
       "<div>\n",
       "<style scoped>\n",
       "    .dataframe tbody tr th:only-of-type {\n",
       "        vertical-align: middle;\n",
       "    }\n",
       "\n",
       "    .dataframe tbody tr th {\n",
       "        vertical-align: top;\n",
       "    }\n",
       "\n",
       "    .dataframe thead th {\n",
       "        text-align: right;\n",
       "    }\n",
       "</style>\n",
       "<table border=\"1\" class=\"dataframe\">\n",
       "  <thead>\n",
       "    <tr style=\"text-align: right;\">\n",
       "      <th></th>\n",
       "      <th>world_rank</th>\n",
       "      <th>university_name</th>\n",
       "      <th>country</th>\n",
       "      <th>teaching</th>\n",
       "      <th>international</th>\n",
       "      <th>research</th>\n",
       "      <th>citations</th>\n",
       "      <th>income</th>\n",
       "      <th>total_score</th>\n",
       "      <th>num_students</th>\n",
       "      <th>student_staff_ratio</th>\n",
       "      <th>international_students</th>\n",
       "      <th>female_male_ratio</th>\n",
       "      <th>year</th>\n",
       "    </tr>\n",
       "  </thead>\n",
       "  <tbody>\n",
       "    <tr>\n",
       "      <th>0</th>\n",
       "      <td>1</td>\n",
       "      <td>Harvard University</td>\n",
       "      <td>United States of America</td>\n",
       "      <td>99.7</td>\n",
       "      <td>72.4</td>\n",
       "      <td>98.7</td>\n",
       "      <td>98.8</td>\n",
       "      <td>34.5</td>\n",
       "      <td>96.1</td>\n",
       "      <td>20,152</td>\n",
       "      <td>8.9</td>\n",
       "      <td>25%</td>\n",
       "      <td>NaN</td>\n",
       "      <td>2011</td>\n",
       "    </tr>\n",
       "    <tr>\n",
       "      <th>1</th>\n",
       "      <td>2</td>\n",
       "      <td>California Institute of Technology</td>\n",
       "      <td>United States of America</td>\n",
       "      <td>97.7</td>\n",
       "      <td>54.6</td>\n",
       "      <td>98.0</td>\n",
       "      <td>99.9</td>\n",
       "      <td>83.7</td>\n",
       "      <td>96.0</td>\n",
       "      <td>2,243</td>\n",
       "      <td>6.9</td>\n",
       "      <td>27%</td>\n",
       "      <td>33 : 67</td>\n",
       "      <td>2011</td>\n",
       "    </tr>\n",
       "    <tr>\n",
       "      <th>2</th>\n",
       "      <td>3</td>\n",
       "      <td>Massachusetts Institute of Technology</td>\n",
       "      <td>United States of America</td>\n",
       "      <td>97.8</td>\n",
       "      <td>82.3</td>\n",
       "      <td>91.4</td>\n",
       "      <td>99.9</td>\n",
       "      <td>87.5</td>\n",
       "      <td>95.6</td>\n",
       "      <td>11,074</td>\n",
       "      <td>9.0</td>\n",
       "      <td>33%</td>\n",
       "      <td>37 : 63</td>\n",
       "      <td>2011</td>\n",
       "    </tr>\n",
       "    <tr>\n",
       "      <th>3</th>\n",
       "      <td>4</td>\n",
       "      <td>Stanford University</td>\n",
       "      <td>United States of America</td>\n",
       "      <td>98.3</td>\n",
       "      <td>29.5</td>\n",
       "      <td>98.1</td>\n",
       "      <td>99.2</td>\n",
       "      <td>64.3</td>\n",
       "      <td>94.3</td>\n",
       "      <td>15,596</td>\n",
       "      <td>7.8</td>\n",
       "      <td>22%</td>\n",
       "      <td>42 : 58</td>\n",
       "      <td>2011</td>\n",
       "    </tr>\n",
       "    <tr>\n",
       "      <th>4</th>\n",
       "      <td>5</td>\n",
       "      <td>Princeton University</td>\n",
       "      <td>United States of America</td>\n",
       "      <td>90.9</td>\n",
       "      <td>70.3</td>\n",
       "      <td>95.4</td>\n",
       "      <td>99.9</td>\n",
       "      <td>-</td>\n",
       "      <td>94.2</td>\n",
       "      <td>7,929</td>\n",
       "      <td>8.4</td>\n",
       "      <td>27%</td>\n",
       "      <td>45 : 55</td>\n",
       "      <td>2011</td>\n",
       "    </tr>\n",
       "  </tbody>\n",
       "</table>\n",
       "</div>"
      ],
      "text/plain": [
       "  world_rank                        university_name                   country  \\\n",
       "0          1                     Harvard University  United States of America   \n",
       "1          2     California Institute of Technology  United States of America   \n",
       "2          3  Massachusetts Institute of Technology  United States of America   \n",
       "3          4                    Stanford University  United States of America   \n",
       "4          5                   Princeton University  United States of America   \n",
       "\n",
       "   teaching international  research  citations income total_score  \\\n",
       "0      99.7          72.4      98.7       98.8   34.5        96.1   \n",
       "1      97.7          54.6      98.0       99.9   83.7        96.0   \n",
       "2      97.8          82.3      91.4       99.9   87.5        95.6   \n",
       "3      98.3          29.5      98.1       99.2   64.3        94.3   \n",
       "4      90.9          70.3      95.4       99.9      -        94.2   \n",
       "\n",
       "  num_students  student_staff_ratio international_students female_male_ratio  \\\n",
       "0       20,152                  8.9                    25%               NaN   \n",
       "1        2,243                  6.9                    27%           33 : 67   \n",
       "2       11,074                  9.0                    33%           37 : 63   \n",
       "3       15,596                  7.8                    22%           42 : 58   \n",
       "4        7,929                  8.4                    27%           45 : 55   \n",
       "\n",
       "   year  \n",
       "0  2011  \n",
       "1  2011  \n",
       "2  2011  \n",
       "3  2011  \n",
       "4  2011  "
      ]
     },
     "execution_count": 20,
     "metadata": {},
     "output_type": "execute_result"
    }
   ],
   "source": [
    "df= pd.read_csv(\"uni_ranking_dataset.csv\")\n",
    "df.head()"
   ]
  },
  {
   "cell_type": "markdown",
   "metadata": {},
   "source": [
    "1. Scatter chart"
   ]
  },
  {
   "cell_type": "code",
   "execution_count": 21,
   "metadata": {},
   "outputs": [
    {
     "data": {
      "text/html": [
       "<div>\n",
       "<style scoped>\n",
       "    .dataframe tbody tr th:only-of-type {\n",
       "        vertical-align: middle;\n",
       "    }\n",
       "\n",
       "    .dataframe tbody tr th {\n",
       "        vertical-align: top;\n",
       "    }\n",
       "\n",
       "    .dataframe thead th {\n",
       "        text-align: right;\n",
       "    }\n",
       "</style>\n",
       "<table border=\"1\" class=\"dataframe\">\n",
       "  <thead>\n",
       "    <tr style=\"text-align: right;\">\n",
       "      <th></th>\n",
       "      <th>world_rank</th>\n",
       "      <th>university_name</th>\n",
       "      <th>country</th>\n",
       "      <th>teaching</th>\n",
       "      <th>international</th>\n",
       "      <th>research</th>\n",
       "      <th>citations</th>\n",
       "      <th>income</th>\n",
       "      <th>total_score</th>\n",
       "      <th>num_students</th>\n",
       "      <th>student_staff_ratio</th>\n",
       "      <th>international_students</th>\n",
       "      <th>female_male_ratio</th>\n",
       "      <th>year</th>\n",
       "    </tr>\n",
       "  </thead>\n",
       "  <tbody>\n",
       "    <tr>\n",
       "      <th>1002</th>\n",
       "      <td>1</td>\n",
       "      <td>California Institute of Technology</td>\n",
       "      <td>United States of America</td>\n",
       "      <td>94.4</td>\n",
       "      <td>65.8</td>\n",
       "      <td>98.2</td>\n",
       "      <td>99.8</td>\n",
       "      <td>91.2</td>\n",
       "      <td>94.9</td>\n",
       "      <td>2,243</td>\n",
       "      <td>6.9</td>\n",
       "      <td>27%</td>\n",
       "      <td>33 : 67</td>\n",
       "      <td>2014</td>\n",
       "    </tr>\n",
       "    <tr>\n",
       "      <th>1003</th>\n",
       "      <td>2</td>\n",
       "      <td>Harvard University</td>\n",
       "      <td>United States of America</td>\n",
       "      <td>95.3</td>\n",
       "      <td>66.2</td>\n",
       "      <td>98.5</td>\n",
       "      <td>99.1</td>\n",
       "      <td>40.6</td>\n",
       "      <td>93.9</td>\n",
       "      <td>20,152</td>\n",
       "      <td>8.9</td>\n",
       "      <td>25%</td>\n",
       "      <td>NaN</td>\n",
       "      <td>2014</td>\n",
       "    </tr>\n",
       "    <tr>\n",
       "      <th>1004</th>\n",
       "      <td>2</td>\n",
       "      <td>University of Oxford</td>\n",
       "      <td>United Kingdom</td>\n",
       "      <td>89.0</td>\n",
       "      <td>90.2</td>\n",
       "      <td>98.5</td>\n",
       "      <td>95.4</td>\n",
       "      <td>90.3</td>\n",
       "      <td>93.9</td>\n",
       "      <td>19,919</td>\n",
       "      <td>11.6</td>\n",
       "      <td>34%</td>\n",
       "      <td>46 : 54</td>\n",
       "      <td>2014</td>\n",
       "    </tr>\n",
       "    <tr>\n",
       "      <th>1005</th>\n",
       "      <td>4</td>\n",
       "      <td>Stanford University</td>\n",
       "      <td>United States of America</td>\n",
       "      <td>94.7</td>\n",
       "      <td>68.0</td>\n",
       "      <td>96.8</td>\n",
       "      <td>99.1</td>\n",
       "      <td>61.3</td>\n",
       "      <td>93.8</td>\n",
       "      <td>15,596</td>\n",
       "      <td>7.8</td>\n",
       "      <td>22%</td>\n",
       "      <td>42 : 58</td>\n",
       "      <td>2014</td>\n",
       "    </tr>\n",
       "    <tr>\n",
       "      <th>1006</th>\n",
       "      <td>5</td>\n",
       "      <td>Massachusetts Institute of Technology</td>\n",
       "      <td>United States of America</td>\n",
       "      <td>92.9</td>\n",
       "      <td>82.0</td>\n",
       "      <td>89.0</td>\n",
       "      <td>100.0</td>\n",
       "      <td>94.3</td>\n",
       "      <td>93.0</td>\n",
       "      <td>11,074</td>\n",
       "      <td>9.0</td>\n",
       "      <td>33%</td>\n",
       "      <td>37 : 63</td>\n",
       "      <td>2014</td>\n",
       "    </tr>\n",
       "    <tr>\n",
       "      <th>...</th>\n",
       "      <td>...</td>\n",
       "      <td>...</td>\n",
       "      <td>...</td>\n",
       "      <td>...</td>\n",
       "      <td>...</td>\n",
       "      <td>...</td>\n",
       "      <td>...</td>\n",
       "      <td>...</td>\n",
       "      <td>...</td>\n",
       "      <td>...</td>\n",
       "      <td>...</td>\n",
       "      <td>...</td>\n",
       "      <td>...</td>\n",
       "      <td>...</td>\n",
       "    </tr>\n",
       "    <tr>\n",
       "      <th>1097</th>\n",
       "      <td>96</td>\n",
       "      <td>Pierre and Marie Curie University</td>\n",
       "      <td>France</td>\n",
       "      <td>50.2</td>\n",
       "      <td>65.5</td>\n",
       "      <td>26.7</td>\n",
       "      <td>82.3</td>\n",
       "      <td>34.4</td>\n",
       "      <td>53.5</td>\n",
       "      <td>27,862</td>\n",
       "      <td>8.7</td>\n",
       "      <td>18%</td>\n",
       "      <td>48 : 52</td>\n",
       "      <td>2014</td>\n",
       "    </tr>\n",
       "    <tr>\n",
       "      <th>1098</th>\n",
       "      <td>97</td>\n",
       "      <td>University of Colorado Boulder</td>\n",
       "      <td>United States of America</td>\n",
       "      <td>34.2</td>\n",
       "      <td>40.5</td>\n",
       "      <td>33.3</td>\n",
       "      <td>97.3</td>\n",
       "      <td>-</td>\n",
       "      <td>53.4</td>\n",
       "      <td>29,325</td>\n",
       "      <td>16.1</td>\n",
       "      <td>8%</td>\n",
       "      <td>45 : 55</td>\n",
       "      <td>2014</td>\n",
       "    </tr>\n",
       "    <tr>\n",
       "      <th>1099</th>\n",
       "      <td>98</td>\n",
       "      <td>Maastricht University</td>\n",
       "      <td>Netherlands</td>\n",
       "      <td>33.1</td>\n",
       "      <td>89.1</td>\n",
       "      <td>47.1</td>\n",
       "      <td>65.8</td>\n",
       "      <td>98.2</td>\n",
       "      <td>52.9</td>\n",
       "      <td>15,626</td>\n",
       "      <td>18.9</td>\n",
       "      <td>48%</td>\n",
       "      <td>56 : 44</td>\n",
       "      <td>2014</td>\n",
       "    </tr>\n",
       "    <tr>\n",
       "      <th>1100</th>\n",
       "      <td>98</td>\n",
       "      <td>University of Groningen</td>\n",
       "      <td>Netherlands</td>\n",
       "      <td>36.0</td>\n",
       "      <td>53.0</td>\n",
       "      <td>48.6</td>\n",
       "      <td>71.1</td>\n",
       "      <td>87.6</td>\n",
       "      <td>52.9</td>\n",
       "      <td>24,556</td>\n",
       "      <td>25.6</td>\n",
       "      <td>12%</td>\n",
       "      <td>52 : 48</td>\n",
       "      <td>2014</td>\n",
       "    </tr>\n",
       "    <tr>\n",
       "      <th>1101</th>\n",
       "      <td>100</td>\n",
       "      <td>University of Helsinki</td>\n",
       "      <td>Finland</td>\n",
       "      <td>35.5</td>\n",
       "      <td>51.3</td>\n",
       "      <td>46.5</td>\n",
       "      <td>77.8</td>\n",
       "      <td>30.7</td>\n",
       "      <td>52.6</td>\n",
       "      <td>23,505</td>\n",
       "      <td>15.1</td>\n",
       "      <td>6%</td>\n",
       "      <td>66 : 34</td>\n",
       "      <td>2014</td>\n",
       "    </tr>\n",
       "  </tbody>\n",
       "</table>\n",
       "<p>100 rows × 14 columns</p>\n",
       "</div>"
      ],
      "text/plain": [
       "     world_rank                        university_name  \\\n",
       "1002          1     California Institute of Technology   \n",
       "1003          2                     Harvard University   \n",
       "1004          2                   University of Oxford   \n",
       "1005          4                    Stanford University   \n",
       "1006          5  Massachusetts Institute of Technology   \n",
       "...         ...                                    ...   \n",
       "1097         96      Pierre and Marie Curie University   \n",
       "1098         97         University of Colorado Boulder   \n",
       "1099         98                  Maastricht University   \n",
       "1100         98                University of Groningen   \n",
       "1101        100                 University of Helsinki   \n",
       "\n",
       "                       country  teaching international  research  citations  \\\n",
       "1002  United States of America      94.4          65.8      98.2       99.8   \n",
       "1003  United States of America      95.3          66.2      98.5       99.1   \n",
       "1004            United Kingdom      89.0          90.2      98.5       95.4   \n",
       "1005  United States of America      94.7          68.0      96.8       99.1   \n",
       "1006  United States of America      92.9          82.0      89.0      100.0   \n",
       "...                        ...       ...           ...       ...        ...   \n",
       "1097                    France      50.2          65.5      26.7       82.3   \n",
       "1098  United States of America      34.2          40.5      33.3       97.3   \n",
       "1099               Netherlands      33.1          89.1      47.1       65.8   \n",
       "1100               Netherlands      36.0          53.0      48.6       71.1   \n",
       "1101                   Finland      35.5          51.3      46.5       77.8   \n",
       "\n",
       "     income total_score num_students  student_staff_ratio  \\\n",
       "1002   91.2        94.9        2,243                  6.9   \n",
       "1003   40.6        93.9       20,152                  8.9   \n",
       "1004   90.3        93.9       19,919                 11.6   \n",
       "1005   61.3        93.8       15,596                  7.8   \n",
       "1006   94.3        93.0       11,074                  9.0   \n",
       "...     ...         ...          ...                  ...   \n",
       "1097   34.4        53.5       27,862                  8.7   \n",
       "1098      -        53.4       29,325                 16.1   \n",
       "1099   98.2        52.9       15,626                 18.9   \n",
       "1100   87.6        52.9       24,556                 25.6   \n",
       "1101   30.7        52.6       23,505                 15.1   \n",
       "\n",
       "     international_students female_male_ratio  year  \n",
       "1002                    27%           33 : 67  2014  \n",
       "1003                    25%               NaN  2014  \n",
       "1004                    34%           46 : 54  2014  \n",
       "1005                    22%           42 : 58  2014  \n",
       "1006                    33%           37 : 63  2014  \n",
       "...                     ...               ...   ...  \n",
       "1097                    18%           48 : 52  2014  \n",
       "1098                     8%           45 : 55  2014  \n",
       "1099                    48%           56 : 44  2014  \n",
       "1100                    12%           52 : 48  2014  \n",
       "1101                     6%           66 : 34  2014  \n",
       "\n",
       "[100 rows x 14 columns]"
      ]
     },
     "execution_count": 21,
     "metadata": {},
     "output_type": "execute_result"
    }
   ],
   "source": [
    "# International score vs world ranking of top 100 university in 2014, 2015, 2016\n",
    "\n",
    "df_2014=df[df['year']==2014].iloc[:100, :]\n",
    "df_2014"
   ]
  },
  {
   "cell_type": "code",
   "execution_count": 22,
   "metadata": {},
   "outputs": [],
   "source": [
    "df_2014.sort_values(by=['international'], inplace=True)"
   ]
  },
  {
   "cell_type": "code",
   "execution_count": 23,
   "metadata": {},
   "outputs": [
    {
     "data": {
      "text/html": [
       "<div>\n",
       "<style scoped>\n",
       "    .dataframe tbody tr th:only-of-type {\n",
       "        vertical-align: middle;\n",
       "    }\n",
       "\n",
       "    .dataframe tbody tr th {\n",
       "        vertical-align: top;\n",
       "    }\n",
       "\n",
       "    .dataframe thead th {\n",
       "        text-align: right;\n",
       "    }\n",
       "</style>\n",
       "<table border=\"1\" class=\"dataframe\">\n",
       "  <thead>\n",
       "    <tr style=\"text-align: right;\">\n",
       "      <th></th>\n",
       "      <th>world_rank</th>\n",
       "      <th>university_name</th>\n",
       "      <th>country</th>\n",
       "      <th>teaching</th>\n",
       "      <th>international</th>\n",
       "      <th>research</th>\n",
       "      <th>citations</th>\n",
       "      <th>income</th>\n",
       "      <th>total_score</th>\n",
       "      <th>num_students</th>\n",
       "      <th>student_staff_ratio</th>\n",
       "      <th>international_students</th>\n",
       "      <th>female_male_ratio</th>\n",
       "      <th>year</th>\n",
       "    </tr>\n",
       "  </thead>\n",
       "  <tbody>\n",
       "    <tr>\n",
       "      <th>1054</th>\n",
       "      <td>52</td>\n",
       "      <td>Kyoto University</td>\n",
       "      <td>Japan</td>\n",
       "      <td>69.5</td>\n",
       "      <td>27.5</td>\n",
       "      <td>69.5</td>\n",
       "      <td>58.2</td>\n",
       "      <td>78.7</td>\n",
       "      <td>63.2</td>\n",
       "      <td>22,809</td>\n",
       "      <td>5.6</td>\n",
       "      <td>7%</td>\n",
       "      <td>NaN</td>\n",
       "      <td>2014</td>\n",
       "    </tr>\n",
       "    <tr>\n",
       "      <th>1090</th>\n",
       "      <td>88</td>\n",
       "      <td>Vanderbilt University</td>\n",
       "      <td>United States of America</td>\n",
       "      <td>46.8</td>\n",
       "      <td>28.6</td>\n",
       "      <td>38.7</td>\n",
       "      <td>86.5</td>\n",
       "      <td>51.0</td>\n",
       "      <td>55.0</td>\n",
       "      <td>12,161</td>\n",
       "      <td>3.6</td>\n",
       "      <td>10%</td>\n",
       "      <td>52 : 48</td>\n",
       "      <td>2014</td>\n",
       "    </tr>\n",
       "    <tr>\n",
       "      <th>1045</th>\n",
       "      <td>44</td>\n",
       "      <td>Seoul National University</td>\n",
       "      <td>South Korea</td>\n",
       "      <td>76.4</td>\n",
       "      <td>29.4</td>\n",
       "      <td>79.2</td>\n",
       "      <td>47.3</td>\n",
       "      <td>86.0</td>\n",
       "      <td>65.2</td>\n",
       "      <td>26,389</td>\n",
       "      <td>13.9</td>\n",
       "      <td>10%</td>\n",
       "      <td>NaN</td>\n",
       "      <td>2014</td>\n",
       "    </tr>\n",
       "    <tr>\n",
       "      <th>1079</th>\n",
       "      <td>78</td>\n",
       "      <td>University of Pittsburgh</td>\n",
       "      <td>United States of America</td>\n",
       "      <td>48.6</td>\n",
       "      <td>29.4</td>\n",
       "      <td>45.4</td>\n",
       "      <td>84.4</td>\n",
       "      <td>39.4</td>\n",
       "      <td>56.7</td>\n",
       "      <td>26,485</td>\n",
       "      <td>5.8</td>\n",
       "      <td>10%</td>\n",
       "      <td>51 : 49</td>\n",
       "      <td>2014</td>\n",
       "    </tr>\n",
       "    <tr>\n",
       "      <th>1024</th>\n",
       "      <td>23</td>\n",
       "      <td>University of Tokyo</td>\n",
       "      <td>Japan</td>\n",
       "      <td>84.7</td>\n",
       "      <td>29.6</td>\n",
       "      <td>88.0</td>\n",
       "      <td>69.8</td>\n",
       "      <td>56.7</td>\n",
       "      <td>76.4</td>\n",
       "      <td>26,199</td>\n",
       "      <td>5.7</td>\n",
       "      <td>10%</td>\n",
       "      <td>NaN</td>\n",
       "      <td>2014</td>\n",
       "    </tr>\n",
       "    <tr>\n",
       "      <th>...</th>\n",
       "      <td>...</td>\n",
       "      <td>...</td>\n",
       "      <td>...</td>\n",
       "      <td>...</td>\n",
       "      <td>...</td>\n",
       "      <td>...</td>\n",
       "      <td>...</td>\n",
       "      <td>...</td>\n",
       "      <td>...</td>\n",
       "      <td>...</td>\n",
       "      <td>...</td>\n",
       "      <td>...</td>\n",
       "      <td>...</td>\n",
       "      <td>...</td>\n",
       "    </tr>\n",
       "    <tr>\n",
       "      <th>1049</th>\n",
       "      <td>48</td>\n",
       "      <td>Australian National University</td>\n",
       "      <td>Australia</td>\n",
       "      <td>51.8</td>\n",
       "      <td>91.4</td>\n",
       "      <td>65.1</td>\n",
       "      <td>71.2</td>\n",
       "      <td>44.8</td>\n",
       "      <td>64.4</td>\n",
       "      <td>14,604</td>\n",
       "      <td>19.2</td>\n",
       "      <td>35%</td>\n",
       "      <td>52 : 48</td>\n",
       "      <td>2014</td>\n",
       "    </tr>\n",
       "    <tr>\n",
       "      <th>1011</th>\n",
       "      <td>10</td>\n",
       "      <td>Imperial College London</td>\n",
       "      <td>United Kingdom</td>\n",
       "      <td>84.5</td>\n",
       "      <td>91.8</td>\n",
       "      <td>88.1</td>\n",
       "      <td>90.0</td>\n",
       "      <td>72.3</td>\n",
       "      <td>87.5</td>\n",
       "      <td>15,060</td>\n",
       "      <td>11.7</td>\n",
       "      <td>51%</td>\n",
       "      <td>37 : 63</td>\n",
       "      <td>2014</td>\n",
       "    </tr>\n",
       "    <tr>\n",
       "      <th>1027</th>\n",
       "      <td>26</td>\n",
       "      <td>National University of Singapore</td>\n",
       "      <td>Singapore</td>\n",
       "      <td>68.0</td>\n",
       "      <td>94.3</td>\n",
       "      <td>77.8</td>\n",
       "      <td>66.4</td>\n",
       "      <td>64.3</td>\n",
       "      <td>72.4</td>\n",
       "      <td>31,592</td>\n",
       "      <td>15.5</td>\n",
       "      <td>34%</td>\n",
       "      <td>49 : 51</td>\n",
       "      <td>2014</td>\n",
       "    </tr>\n",
       "    <tr>\n",
       "      <th>1015</th>\n",
       "      <td>14</td>\n",
       "      <td>ETH Zurich – Swiss Federal Institute of Techno...</td>\n",
       "      <td>Switzerland</td>\n",
       "      <td>77.6</td>\n",
       "      <td>96.7</td>\n",
       "      <td>88.2</td>\n",
       "      <td>85.0</td>\n",
       "      <td>78.8</td>\n",
       "      <td>84.5</td>\n",
       "      <td>18,178</td>\n",
       "      <td>14.7</td>\n",
       "      <td>37%</td>\n",
       "      <td>31 : 69</td>\n",
       "      <td>2014</td>\n",
       "    </tr>\n",
       "    <tr>\n",
       "      <th>1038</th>\n",
       "      <td>37</td>\n",
       "      <td>École Polytechnique Fédérale de Lausanne</td>\n",
       "      <td>Switzerland</td>\n",
       "      <td>52.9</td>\n",
       "      <td>98.2</td>\n",
       "      <td>48.3</td>\n",
       "      <td>95.9</td>\n",
       "      <td>49.2</td>\n",
       "      <td>67.7</td>\n",
       "      <td>9,666</td>\n",
       "      <td>10.5</td>\n",
       "      <td>54%</td>\n",
       "      <td>27 : 73</td>\n",
       "      <td>2014</td>\n",
       "    </tr>\n",
       "  </tbody>\n",
       "</table>\n",
       "<p>100 rows × 14 columns</p>\n",
       "</div>"
      ],
      "text/plain": [
       "     world_rank                                    university_name  \\\n",
       "1054         52                                   Kyoto University   \n",
       "1090         88                              Vanderbilt University   \n",
       "1045         44                          Seoul National University   \n",
       "1079         78                           University of Pittsburgh   \n",
       "1024         23                                University of Tokyo   \n",
       "...         ...                                                ...   \n",
       "1049         48                     Australian National University   \n",
       "1011         10                            Imperial College London   \n",
       "1027         26                   National University of Singapore   \n",
       "1015         14  ETH Zurich – Swiss Federal Institute of Techno...   \n",
       "1038         37           École Polytechnique Fédérale de Lausanne   \n",
       "\n",
       "                       country  teaching international  research  citations  \\\n",
       "1054                     Japan      69.5          27.5      69.5       58.2   \n",
       "1090  United States of America      46.8          28.6      38.7       86.5   \n",
       "1045               South Korea      76.4          29.4      79.2       47.3   \n",
       "1079  United States of America      48.6          29.4      45.4       84.4   \n",
       "1024                     Japan      84.7          29.6      88.0       69.8   \n",
       "...                        ...       ...           ...       ...        ...   \n",
       "1049                 Australia      51.8          91.4      65.1       71.2   \n",
       "1011            United Kingdom      84.5          91.8      88.1       90.0   \n",
       "1027                 Singapore      68.0          94.3      77.8       66.4   \n",
       "1015               Switzerland      77.6          96.7      88.2       85.0   \n",
       "1038               Switzerland      52.9          98.2      48.3       95.9   \n",
       "\n",
       "     income total_score num_students  student_staff_ratio  \\\n",
       "1054   78.7        63.2       22,809                  5.6   \n",
       "1090   51.0        55.0       12,161                  3.6   \n",
       "1045   86.0        65.2       26,389                 13.9   \n",
       "1079   39.4        56.7       26,485                  5.8   \n",
       "1024   56.7        76.4       26,199                  5.7   \n",
       "...     ...         ...          ...                  ...   \n",
       "1049   44.8        64.4       14,604                 19.2   \n",
       "1011   72.3        87.5       15,060                 11.7   \n",
       "1027   64.3        72.4       31,592                 15.5   \n",
       "1015   78.8        84.5       18,178                 14.7   \n",
       "1038   49.2        67.7        9,666                 10.5   \n",
       "\n",
       "     international_students female_male_ratio  year  \n",
       "1054                     7%               NaN  2014  \n",
       "1090                    10%           52 : 48  2014  \n",
       "1045                    10%               NaN  2014  \n",
       "1079                    10%           51 : 49  2014  \n",
       "1024                    10%               NaN  2014  \n",
       "...                     ...               ...   ...  \n",
       "1049                    35%           52 : 48  2014  \n",
       "1011                    51%           37 : 63  2014  \n",
       "1027                    34%           49 : 51  2014  \n",
       "1015                    37%           31 : 69  2014  \n",
       "1038                    54%           27 : 73  2014  \n",
       "\n",
       "[100 rows x 14 columns]"
      ]
     },
     "execution_count": 23,
     "metadata": {},
     "output_type": "execute_result"
    }
   ],
   "source": [
    "df_2014"
   ]
  },
  {
   "cell_type": "code",
   "execution_count": 24,
   "metadata": {},
   "outputs": [
    {
     "data": {
      "text/html": [
       "<div>\n",
       "<style scoped>\n",
       "    .dataframe tbody tr th:only-of-type {\n",
       "        vertical-align: middle;\n",
       "    }\n",
       "\n",
       "    .dataframe tbody tr th {\n",
       "        vertical-align: top;\n",
       "    }\n",
       "\n",
       "    .dataframe thead th {\n",
       "        text-align: right;\n",
       "    }\n",
       "</style>\n",
       "<table border=\"1\" class=\"dataframe\">\n",
       "  <thead>\n",
       "    <tr style=\"text-align: right;\">\n",
       "      <th></th>\n",
       "      <th>world_rank</th>\n",
       "      <th>university_name</th>\n",
       "      <th>country</th>\n",
       "      <th>teaching</th>\n",
       "      <th>international</th>\n",
       "      <th>research</th>\n",
       "      <th>citations</th>\n",
       "      <th>income</th>\n",
       "      <th>total_score</th>\n",
       "      <th>num_students</th>\n",
       "      <th>student_staff_ratio</th>\n",
       "      <th>international_students</th>\n",
       "      <th>female_male_ratio</th>\n",
       "      <th>year</th>\n",
       "    </tr>\n",
       "  </thead>\n",
       "  <tbody>\n",
       "    <tr>\n",
       "      <th>1497</th>\n",
       "      <td>96</td>\n",
       "      <td>Vanderbilt University</td>\n",
       "      <td>United States of America</td>\n",
       "      <td>46.0</td>\n",
       "      <td>28.3</td>\n",
       "      <td>38.2</td>\n",
       "      <td>87.7</td>\n",
       "      <td>59.4</td>\n",
       "      <td>55.2</td>\n",
       "      <td>12,161</td>\n",
       "      <td>3.6</td>\n",
       "      <td>10%</td>\n",
       "      <td>52 : 48</td>\n",
       "      <td>2015</td>\n",
       "    </tr>\n",
       "    <tr>\n",
       "      <th>1460</th>\n",
       "      <td>59</td>\n",
       "      <td>Kyoto University</td>\n",
       "      <td>Japan</td>\n",
       "      <td>70.4</td>\n",
       "      <td>29.0</td>\n",
       "      <td>68.4</td>\n",
       "      <td>57.0</td>\n",
       "      <td>73.3</td>\n",
       "      <td>62.8</td>\n",
       "      <td>22,809</td>\n",
       "      <td>5.6</td>\n",
       "      <td>7%</td>\n",
       "      <td>NaN</td>\n",
       "      <td>2015</td>\n",
       "    </tr>\n",
       "    <tr>\n",
       "      <th>1451</th>\n",
       "      <td>50</td>\n",
       "      <td>Seoul National University</td>\n",
       "      <td>South Korea</td>\n",
       "      <td>75.5</td>\n",
       "      <td>30.3</td>\n",
       "      <td>77.1</td>\n",
       "      <td>48.7</td>\n",
       "      <td>86.3</td>\n",
       "      <td>64.8</td>\n",
       "      <td>26,389</td>\n",
       "      <td>13.9</td>\n",
       "      <td>10%</td>\n",
       "      <td>NaN</td>\n",
       "      <td>2015</td>\n",
       "    </tr>\n",
       "    <tr>\n",
       "      <th>1493</th>\n",
       "      <td>91</td>\n",
       "      <td>University of Pittsburgh</td>\n",
       "      <td>United States of America</td>\n",
       "      <td>45.2</td>\n",
       "      <td>32.2</td>\n",
       "      <td>46.3</td>\n",
       "      <td>84.4</td>\n",
       "      <td>38.5</td>\n",
       "      <td>56.1</td>\n",
       "      <td>26,485</td>\n",
       "      <td>5.8</td>\n",
       "      <td>10%</td>\n",
       "      <td>51 : 49</td>\n",
       "      <td>2015</td>\n",
       "    </tr>\n",
       "    <tr>\n",
       "      <th>1424</th>\n",
       "      <td>23</td>\n",
       "      <td>University of Tokyo</td>\n",
       "      <td>Japan</td>\n",
       "      <td>81.4</td>\n",
       "      <td>32.4</td>\n",
       "      <td>85.1</td>\n",
       "      <td>74.7</td>\n",
       "      <td>51.2</td>\n",
       "      <td>76.1</td>\n",
       "      <td>26,199</td>\n",
       "      <td>5.7</td>\n",
       "      <td>10%</td>\n",
       "      <td>NaN</td>\n",
       "      <td>2015</td>\n",
       "    </tr>\n",
       "    <tr>\n",
       "      <th>...</th>\n",
       "      <td>...</td>\n",
       "      <td>...</td>\n",
       "      <td>...</td>\n",
       "      <td>...</td>\n",
       "      <td>...</td>\n",
       "      <td>...</td>\n",
       "      <td>...</td>\n",
       "      <td>...</td>\n",
       "      <td>...</td>\n",
       "      <td>...</td>\n",
       "      <td>...</td>\n",
       "      <td>...</td>\n",
       "      <td>...</td>\n",
       "      <td>...</td>\n",
       "    </tr>\n",
       "    <tr>\n",
       "      <th>1410</th>\n",
       "      <td>9</td>\n",
       "      <td>Imperial College London</td>\n",
       "      <td>United Kingdom</td>\n",
       "      <td>84.6</td>\n",
       "      <td>92.7</td>\n",
       "      <td>88.3</td>\n",
       "      <td>89.4</td>\n",
       "      <td>72.7</td>\n",
       "      <td>87.5</td>\n",
       "      <td>15,060</td>\n",
       "      <td>11.7</td>\n",
       "      <td>51%</td>\n",
       "      <td>37 : 63</td>\n",
       "      <td>2015</td>\n",
       "    </tr>\n",
       "    <tr>\n",
       "      <th>1463</th>\n",
       "      <td>61</td>\n",
       "      <td>École Polytechnique</td>\n",
       "      <td>France</td>\n",
       "      <td>50.5</td>\n",
       "      <td>94.5</td>\n",
       "      <td>47.1</td>\n",
       "      <td>79.9</td>\n",
       "      <td>76.8</td>\n",
       "      <td>62.2</td>\n",
       "      <td>2,429</td>\n",
       "      <td>4.8</td>\n",
       "      <td>30%</td>\n",
       "      <td>18 : 82</td>\n",
       "      <td>2015</td>\n",
       "    </tr>\n",
       "    <tr>\n",
       "      <th>1426</th>\n",
       "      <td>25</td>\n",
       "      <td>National University of Singapore</td>\n",
       "      <td>Singapore</td>\n",
       "      <td>72.0</td>\n",
       "      <td>94.9</td>\n",
       "      <td>78.1</td>\n",
       "      <td>66.0</td>\n",
       "      <td>53.4</td>\n",
       "      <td>73.3</td>\n",
       "      <td>31,592</td>\n",
       "      <td>15.5</td>\n",
       "      <td>34%</td>\n",
       "      <td>49 : 51</td>\n",
       "      <td>2015</td>\n",
       "    </tr>\n",
       "    <tr>\n",
       "      <th>1414</th>\n",
       "      <td>13</td>\n",
       "      <td>ETH Zurich – Swiss Federal Institute of Techno...</td>\n",
       "      <td>Switzerland</td>\n",
       "      <td>78.2</td>\n",
       "      <td>96.6</td>\n",
       "      <td>90.2</td>\n",
       "      <td>83.5</td>\n",
       "      <td>73.2</td>\n",
       "      <td>84.6</td>\n",
       "      <td>18,178</td>\n",
       "      <td>14.7</td>\n",
       "      <td>37%</td>\n",
       "      <td>31 : 69</td>\n",
       "      <td>2015</td>\n",
       "    </tr>\n",
       "    <tr>\n",
       "      <th>1436</th>\n",
       "      <td>34</td>\n",
       "      <td>École Polytechnique Fédérale de Lausanne</td>\n",
       "      <td>Switzerland</td>\n",
       "      <td>54.7</td>\n",
       "      <td>98.8</td>\n",
       "      <td>56.9</td>\n",
       "      <td>95.0</td>\n",
       "      <td>61.9</td>\n",
       "      <td>70.9</td>\n",
       "      <td>9,666</td>\n",
       "      <td>10.5</td>\n",
       "      <td>54%</td>\n",
       "      <td>27 : 73</td>\n",
       "      <td>2015</td>\n",
       "    </tr>\n",
       "  </tbody>\n",
       "</table>\n",
       "<p>100 rows × 14 columns</p>\n",
       "</div>"
      ],
      "text/plain": [
       "     world_rank                                    university_name  \\\n",
       "1497         96                              Vanderbilt University   \n",
       "1460         59                                   Kyoto University   \n",
       "1451         50                          Seoul National University   \n",
       "1493         91                           University of Pittsburgh   \n",
       "1424         23                                University of Tokyo   \n",
       "...         ...                                                ...   \n",
       "1410          9                            Imperial College London   \n",
       "1463         61                                École Polytechnique   \n",
       "1426         25                   National University of Singapore   \n",
       "1414         13  ETH Zurich – Swiss Federal Institute of Techno...   \n",
       "1436         34           École Polytechnique Fédérale de Lausanne   \n",
       "\n",
       "                       country  teaching international  research  citations  \\\n",
       "1497  United States of America      46.0          28.3      38.2       87.7   \n",
       "1460                     Japan      70.4          29.0      68.4       57.0   \n",
       "1451               South Korea      75.5          30.3      77.1       48.7   \n",
       "1493  United States of America      45.2          32.2      46.3       84.4   \n",
       "1424                     Japan      81.4          32.4      85.1       74.7   \n",
       "...                        ...       ...           ...       ...        ...   \n",
       "1410            United Kingdom      84.6          92.7      88.3       89.4   \n",
       "1463                    France      50.5          94.5      47.1       79.9   \n",
       "1426                 Singapore      72.0          94.9      78.1       66.0   \n",
       "1414               Switzerland      78.2          96.6      90.2       83.5   \n",
       "1436               Switzerland      54.7          98.8      56.9       95.0   \n",
       "\n",
       "     income total_score num_students  student_staff_ratio  \\\n",
       "1497   59.4        55.2       12,161                  3.6   \n",
       "1460   73.3        62.8       22,809                  5.6   \n",
       "1451   86.3        64.8       26,389                 13.9   \n",
       "1493   38.5        56.1       26,485                  5.8   \n",
       "1424   51.2        76.1       26,199                  5.7   \n",
       "...     ...         ...          ...                  ...   \n",
       "1410   72.7        87.5       15,060                 11.7   \n",
       "1463   76.8        62.2        2,429                  4.8   \n",
       "1426   53.4        73.3       31,592                 15.5   \n",
       "1414   73.2        84.6       18,178                 14.7   \n",
       "1436   61.9        70.9        9,666                 10.5   \n",
       "\n",
       "     international_students female_male_ratio  year  \n",
       "1497                    10%           52 : 48  2015  \n",
       "1460                     7%               NaN  2015  \n",
       "1451                    10%               NaN  2015  \n",
       "1493                    10%           51 : 49  2015  \n",
       "1424                    10%               NaN  2015  \n",
       "...                     ...               ...   ...  \n",
       "1410                    51%           37 : 63  2015  \n",
       "1463                    30%           18 : 82  2015  \n",
       "1426                    34%           49 : 51  2015  \n",
       "1414                    37%           31 : 69  2015  \n",
       "1436                    54%           27 : 73  2015  \n",
       "\n",
       "[100 rows x 14 columns]"
      ]
     },
     "execution_count": 24,
     "metadata": {},
     "output_type": "execute_result"
    }
   ],
   "source": [
    "df_2015=df[df['year']==2015].iloc[:100, :]\n",
    "df_2015.sort_values(by=['international'], inplace=True)\n",
    "df_2015"
   ]
  },
  {
   "cell_type": "code",
   "execution_count": 25,
   "metadata": {},
   "outputs": [
    {
     "data": {
      "text/html": [
       "<div>\n",
       "<style scoped>\n",
       "    .dataframe tbody tr th:only-of-type {\n",
       "        vertical-align: middle;\n",
       "    }\n",
       "\n",
       "    .dataframe tbody tr th {\n",
       "        vertical-align: top;\n",
       "    }\n",
       "\n",
       "    .dataframe thead th {\n",
       "        text-align: right;\n",
       "    }\n",
       "</style>\n",
       "<table border=\"1\" class=\"dataframe\">\n",
       "  <thead>\n",
       "    <tr style=\"text-align: right;\">\n",
       "      <th></th>\n",
       "      <th>world_rank</th>\n",
       "      <th>university_name</th>\n",
       "      <th>country</th>\n",
       "      <th>teaching</th>\n",
       "      <th>international</th>\n",
       "      <th>research</th>\n",
       "      <th>citations</th>\n",
       "      <th>income</th>\n",
       "      <th>total_score</th>\n",
       "      <th>num_students</th>\n",
       "      <th>student_staff_ratio</th>\n",
       "      <th>international_students</th>\n",
       "      <th>female_male_ratio</th>\n",
       "      <th>year</th>\n",
       "    </tr>\n",
       "  </thead>\n",
       "  <tbody>\n",
       "    <tr>\n",
       "      <th>1890</th>\n",
       "      <td>=88</td>\n",
       "      <td>Kyoto University</td>\n",
       "      <td>Japan</td>\n",
       "      <td>70.6</td>\n",
       "      <td>26.1</td>\n",
       "      <td>69.3</td>\n",
       "      <td>46.6</td>\n",
       "      <td>79.0</td>\n",
       "      <td>59.9</td>\n",
       "      <td>22,809</td>\n",
       "      <td>5.6</td>\n",
       "      <td>7%</td>\n",
       "      <td>NaN</td>\n",
       "      <td>2016</td>\n",
       "    </tr>\n",
       "    <tr>\n",
       "      <th>1889</th>\n",
       "      <td>87</td>\n",
       "      <td>Vanderbilt University</td>\n",
       "      <td>United States of America</td>\n",
       "      <td>47.8</td>\n",
       "      <td>29.1</td>\n",
       "      <td>44.2</td>\n",
       "      <td>95.7</td>\n",
       "      <td>63.2</td>\n",
       "      <td>60.1</td>\n",
       "      <td>12,161</td>\n",
       "      <td>3.6</td>\n",
       "      <td>10%</td>\n",
       "      <td>52 : 48</td>\n",
       "      <td>2016</td>\n",
       "    </tr>\n",
       "    <tr>\n",
       "      <th>1845</th>\n",
       "      <td>43</td>\n",
       "      <td>University of Tokyo</td>\n",
       "      <td>Japan</td>\n",
       "      <td>81.4</td>\n",
       "      <td>30.3</td>\n",
       "      <td>83.0</td>\n",
       "      <td>60.9</td>\n",
       "      <td>50.8</td>\n",
       "      <td>71.1</td>\n",
       "      <td>26,199</td>\n",
       "      <td>5.7</td>\n",
       "      <td>10%</td>\n",
       "      <td>NaN</td>\n",
       "      <td>2016</td>\n",
       "    </tr>\n",
       "    <tr>\n",
       "      <th>1887</th>\n",
       "      <td>85</td>\n",
       "      <td>Seoul National University</td>\n",
       "      <td>South Korea</td>\n",
       "      <td>66.5</td>\n",
       "      <td>30.9</td>\n",
       "      <td>70.5</td>\n",
       "      <td>50.0</td>\n",
       "      <td>85.4</td>\n",
       "      <td>60.5</td>\n",
       "      <td>26,389</td>\n",
       "      <td>13.9</td>\n",
       "      <td>10%</td>\n",
       "      <td>NaN</td>\n",
       "      <td>2016</td>\n",
       "    </tr>\n",
       "    <tr>\n",
       "      <th>1848</th>\n",
       "      <td>46</td>\n",
       "      <td>University of Texas at Austin</td>\n",
       "      <td>United States of America</td>\n",
       "      <td>59.3</td>\n",
       "      <td>31.7</td>\n",
       "      <td>69.7</td>\n",
       "      <td>92.2</td>\n",
       "      <td>63.1</td>\n",
       "      <td>70.3</td>\n",
       "      <td>49,427</td>\n",
       "      <td>17.4</td>\n",
       "      <td>9%</td>\n",
       "      <td>51 : 49</td>\n",
       "      <td>2016</td>\n",
       "    </tr>\n",
       "    <tr>\n",
       "      <th>...</th>\n",
       "      <td>...</td>\n",
       "      <td>...</td>\n",
       "      <td>...</td>\n",
       "      <td>...</td>\n",
       "      <td>...</td>\n",
       "      <td>...</td>\n",
       "      <td>...</td>\n",
       "      <td>...</td>\n",
       "      <td>...</td>\n",
       "      <td>...</td>\n",
       "      <td>...</td>\n",
       "      <td>...</td>\n",
       "      <td>...</td>\n",
       "      <td>...</td>\n",
       "    </tr>\n",
       "    <tr>\n",
       "      <th>1810</th>\n",
       "      <td>8</td>\n",
       "      <td>Imperial College London</td>\n",
       "      <td>United Kingdom</td>\n",
       "      <td>83.3</td>\n",
       "      <td>96.0</td>\n",
       "      <td>88.5</td>\n",
       "      <td>96.7</td>\n",
       "      <td>53.7</td>\n",
       "      <td>89.1</td>\n",
       "      <td>15,060</td>\n",
       "      <td>11.7</td>\n",
       "      <td>51%</td>\n",
       "      <td>37 : 63</td>\n",
       "      <td>2016</td>\n",
       "    </tr>\n",
       "    <tr>\n",
       "      <th>1828</th>\n",
       "      <td>26</td>\n",
       "      <td>National University of Singapore</td>\n",
       "      <td>Singapore</td>\n",
       "      <td>71.7</td>\n",
       "      <td>96.2</td>\n",
       "      <td>84.5</td>\n",
       "      <td>79.4</td>\n",
       "      <td>49.8</td>\n",
       "      <td>79.2</td>\n",
       "      <td>31,592</td>\n",
       "      <td>15.5</td>\n",
       "      <td>34%</td>\n",
       "      <td>49 : 51</td>\n",
       "      <td>2016</td>\n",
       "    </tr>\n",
       "    <tr>\n",
       "      <th>1811</th>\n",
       "      <td>9</td>\n",
       "      <td>ETH Zurich – Swiss Federal Institute of Techno...</td>\n",
       "      <td>Switzerland</td>\n",
       "      <td>77.0</td>\n",
       "      <td>97.9</td>\n",
       "      <td>95.0</td>\n",
       "      <td>91.1</td>\n",
       "      <td>80.0</td>\n",
       "      <td>88.3</td>\n",
       "      <td>18,178</td>\n",
       "      <td>14.7</td>\n",
       "      <td>37%</td>\n",
       "      <td>31 : 69</td>\n",
       "      <td>2016</td>\n",
       "    </tr>\n",
       "    <tr>\n",
       "      <th>1833</th>\n",
       "      <td>31</td>\n",
       "      <td>École Polytechnique Fédérale de Lausanne</td>\n",
       "      <td>Switzerland</td>\n",
       "      <td>61.3</td>\n",
       "      <td>98.6</td>\n",
       "      <td>67.5</td>\n",
       "      <td>94.6</td>\n",
       "      <td>65.4</td>\n",
       "      <td>76.1</td>\n",
       "      <td>9,666</td>\n",
       "      <td>10.5</td>\n",
       "      <td>54%</td>\n",
       "      <td>27 : 73</td>\n",
       "      <td>2016</td>\n",
       "    </tr>\n",
       "    <tr>\n",
       "      <th>1847</th>\n",
       "      <td>=44</td>\n",
       "      <td>University of Hong Kong</td>\n",
       "      <td>Hong Kong</td>\n",
       "      <td>64.6</td>\n",
       "      <td>99.5</td>\n",
       "      <td>72.8</td>\n",
       "      <td>70.1</td>\n",
       "      <td>53.7</td>\n",
       "      <td>71.0</td>\n",
       "      <td>19,835</td>\n",
       "      <td>17.6</td>\n",
       "      <td>38%</td>\n",
       "      <td>53 : 47</td>\n",
       "      <td>2016</td>\n",
       "    </tr>\n",
       "  </tbody>\n",
       "</table>\n",
       "<p>100 rows × 14 columns</p>\n",
       "</div>"
      ],
      "text/plain": [
       "     world_rank                                    university_name  \\\n",
       "1890        =88                                   Kyoto University   \n",
       "1889         87                              Vanderbilt University   \n",
       "1845         43                                University of Tokyo   \n",
       "1887         85                          Seoul National University   \n",
       "1848         46                      University of Texas at Austin   \n",
       "...         ...                                                ...   \n",
       "1810          8                            Imperial College London   \n",
       "1828         26                   National University of Singapore   \n",
       "1811          9  ETH Zurich – Swiss Federal Institute of Techno...   \n",
       "1833         31           École Polytechnique Fédérale de Lausanne   \n",
       "1847        =44                            University of Hong Kong   \n",
       "\n",
       "                       country  teaching international  research  citations  \\\n",
       "1890                     Japan      70.6          26.1      69.3       46.6   \n",
       "1889  United States of America      47.8          29.1      44.2       95.7   \n",
       "1845                     Japan      81.4          30.3      83.0       60.9   \n",
       "1887               South Korea      66.5          30.9      70.5       50.0   \n",
       "1848  United States of America      59.3          31.7      69.7       92.2   \n",
       "...                        ...       ...           ...       ...        ...   \n",
       "1810            United Kingdom      83.3          96.0      88.5       96.7   \n",
       "1828                 Singapore      71.7          96.2      84.5       79.4   \n",
       "1811               Switzerland      77.0          97.9      95.0       91.1   \n",
       "1833               Switzerland      61.3          98.6      67.5       94.6   \n",
       "1847                 Hong Kong      64.6          99.5      72.8       70.1   \n",
       "\n",
       "     income total_score num_students  student_staff_ratio  \\\n",
       "1890   79.0        59.9       22,809                  5.6   \n",
       "1889   63.2        60.1       12,161                  3.6   \n",
       "1845   50.8        71.1       26,199                  5.7   \n",
       "1887   85.4        60.5       26,389                 13.9   \n",
       "1848   63.1        70.3       49,427                 17.4   \n",
       "...     ...         ...          ...                  ...   \n",
       "1810   53.7        89.1       15,060                 11.7   \n",
       "1828   49.8        79.2       31,592                 15.5   \n",
       "1811   80.0        88.3       18,178                 14.7   \n",
       "1833   65.4        76.1        9,666                 10.5   \n",
       "1847   53.7        71.0       19,835                 17.6   \n",
       "\n",
       "     international_students female_male_ratio  year  \n",
       "1890                     7%               NaN  2016  \n",
       "1889                    10%           52 : 48  2016  \n",
       "1845                    10%               NaN  2016  \n",
       "1887                    10%               NaN  2016  \n",
       "1848                     9%           51 : 49  2016  \n",
       "...                     ...               ...   ...  \n",
       "1810                    51%           37 : 63  2016  \n",
       "1828                    34%           49 : 51  2016  \n",
       "1811                    37%           31 : 69  2016  \n",
       "1833                    54%           27 : 73  2016  \n",
       "1847                    38%           53 : 47  2016  \n",
       "\n",
       "[100 rows x 14 columns]"
      ]
     },
     "execution_count": 25,
     "metadata": {},
     "output_type": "execute_result"
    }
   ],
   "source": [
    "df_2016=df[df['year']==2016].iloc[:100, :]\n",
    "df_2016.sort_values(by=['international'], inplace=True)\n",
    "df_2016"
   ]
  },
  {
   "cell_type": "code",
   "execution_count": 26,
   "metadata": {},
   "outputs": [
    {
     "data": {
      "application/vnd.plotly.v1+json": {
       "config": {
        "plotlyServerURL": "https://plot.ly"
       },
       "data": [
        {
         "mode": "markers",
         "name": "2014",
         "type": "scatter",
         "x": [
          "52",
          "88",
          "44",
          "78",
          "23",
          "46",
          "30",
          "49",
          "60",
          "56",
          "22",
          "47",
          "88",
          "40",
          "93",
          "52",
          "97",
          "16",
          "29",
          "40",
          "80",
          "27",
          "50",
          "25",
          "70",
          "80",
          "50",
          "42",
          "12",
          "90",
          "59",
          "74",
          "85",
          "18",
          "17",
          "95",
          "100",
          "63",
          "83",
          "98",
          "52",
          "94",
          "19",
          "55",
          "8",
          "11",
          "24",
          "83",
          "67",
          "61",
          "9",
          "86",
          "15",
          "6",
          "62",
          "45",
          "68",
          "33",
          "87",
          "96",
          "1",
          "2",
          "73",
          "65",
          "65",
          "28",
          "13",
          "92",
          "4",
          "20",
          "36",
          "69",
          "79",
          "80",
          "57",
          "35",
          "77",
          "91",
          "63",
          "43",
          "58",
          "34",
          "39",
          "32",
          "5",
          "31",
          "72",
          "38",
          "70",
          "7",
          "98",
          "21",
          "2",
          "76",
          "74",
          "48",
          "10",
          "26",
          "14",
          "37"
         ],
         "y": [
          "27.5",
          "28.6",
          "29.4",
          "29.4",
          "29.6",
          "31.7",
          "32.3",
          "33.7",
          "33.8",
          "34.3",
          "34.4",
          "35.0",
          "35.4",
          "35.6",
          "36.4",
          "37.7",
          "40.5",
          "40.6",
          "41.1",
          "41.8",
          "42.4",
          "42.4",
          "42.6",
          "43.2",
          "43.4",
          "43.4",
          "44.2",
          "44.6",
          "46.4",
          "47.5",
          "48.1",
          "49.2",
          "49.5",
          "49.5",
          "50.0",
          "50.7",
          "51.3",
          "51.5",
          "52.6",
          "53.0",
          "53.7",
          "54.4",
          "55.6",
          "56.3",
          "57.3",
          "57.6",
          "58.1",
          "58.3",
          "58.5",
          "58.6",
          "58.6",
          "58.7",
          "59.3",
          "59.6",
          "60.6",
          "60.6",
          "61.3",
          "61.8",
          "63.1",
          "65.5",
          "65.8",
          "66.2",
          "66.6",
          "67.1",
          "67.7",
          "67.8",
          "68.0",
          "68.0",
          "68.0",
          "70.0",
          "73.2",
          "74.2",
          "75.0",
          "76.8",
          "77.0",
          "77.8",
          "78.3",
          "78.3",
          "79.7",
          "80.3",
          "80.9",
          "81.3",
          "81.5",
          "81.7",
          "82.0",
          "84.2",
          "84.8",
          "86.0",
          "86.1",
          "86.7",
          "89.1",
          "90.2",
          "90.2",
          "91.0",
          "91.1",
          "91.4",
          "91.8",
          "94.3",
          "96.7",
          "98.2"
         ]
        },
        {
         "mode": "markers",
         "name": "2015",
         "type": "scatter",
         "x": [
          "96",
          "59",
          "50",
          "91",
          "23",
          "28",
          "29",
          "46",
          "52",
          "46",
          "66",
          "21",
          "41",
          "54",
          "58",
          "85",
          "86",
          "97",
          "91",
          "38",
          "75",
          "93",
          "16",
          "29",
          "49",
          "42",
          "57",
          "26",
          "90",
          "12",
          "17",
          "63",
          "18",
          "88",
          "86",
          "68",
          "55",
          "79",
          "98",
          "48",
          "67",
          "82",
          "80",
          "88",
          "29",
          "81",
          "98",
          "8",
          "19",
          "24",
          "64",
          "15",
          "9",
          "77",
          "44",
          "7",
          "55",
          "70",
          "98",
          "37",
          "11",
          "72",
          "1",
          "2",
          "14",
          "27",
          "4",
          "94",
          "69",
          "20",
          "74",
          "51",
          "71",
          "73",
          "94",
          "39",
          "83",
          "65",
          "83",
          "33",
          "78",
          "43",
          "52",
          "60",
          "6",
          "36",
          "32",
          "40",
          "34",
          "5",
          "22",
          "3",
          "75",
          "45",
          "61",
          "9",
          "61",
          "25",
          "13",
          "34"
         ],
         "y": [
          "28.3",
          "29.0",
          "30.3",
          "32.2",
          "32.4",
          "33.1",
          "33.6",
          "33.8",
          "34.9",
          "35.3",
          "36.0",
          "36.7",
          "37.0",
          "37.0",
          "37.4",
          "38.7",
          "38.8",
          "39.1",
          "40.3",
          "41.2",
          "42.7",
          "42.9",
          "43.8",
          "43.9",
          "44.6",
          "46.5",
          "47.8",
          "47.9",
          "49.1",
          "49.2",
          "49.8",
          "50.1",
          "50.5",
          "51.1",
          "51.4",
          "51.5",
          "52.9",
          "52.9",
          "53.2",
          "53.7",
          "53.9",
          "55.0",
          "55.7",
          "56.1",
          "56.4",
          "56.6",
          "57.5",
          "58.5",
          "59.0",
          "59.3",
          "59.5",
          "59.7",
          "59.8",
          "60.5",
          "60.6",
          "61.2",
          "62.3",
          "63.1",
          "64.0",
          "64.3",
          "65.2",
          "66.2",
          "67.0",
          "67.6",
          "68.3",
          "68.9",
          "69.0",
          "69.4",
          "70.8",
          "71.2",
          "76.6",
          "77.8",
          "77.9",
          "78.7",
          "78.8",
          "79.0",
          "79.6",
          "80.4",
          "80.4",
          "81.3",
          "81.9",
          "81.9",
          "82.0",
          "83.6",
          "84.3",
          "84.3",
          "84.8",
          "87.0",
          "87.4",
          "87.8",
          "90.6",
          "90.7",
          "91.2",
          "91.3",
          "92.5",
          "92.7",
          "94.5",
          "94.9",
          "96.6",
          "98.8"
         ]
        },
        {
         "mode": "markers",
         "name": "2016",
         "type": "scatter",
         "x": [
          "=88",
          "87",
          "43",
          "85",
          "46",
          "50",
          "79",
          "=65",
          "63",
          "=47",
          "75",
          "=39",
          "=60",
          "36",
          "42",
          "30",
          "17",
          "=90",
          "64",
          "32",
          "=76",
          "=94",
          "=90",
          "21",
          "25",
          "62",
          "68",
          "=99",
          "=99",
          "16",
          "20",
          "22",
          "51",
          "78",
          "=44",
          "81",
          "84",
          "=39",
          "13",
          "49",
          "37",
          "29",
          "=94",
          "53",
          "18",
          "74",
          "1",
          "67",
          "12",
          "10",
          "58",
          "35",
          "72",
          "11",
          "=47",
          "41",
          "28",
          "15",
          "=90",
          "=94",
          "71",
          "3",
          "6",
          "19",
          "7",
          "59",
          "97",
          "69",
          "=82",
          "=65",
          "5",
          "=56",
          "54",
          "38",
          "=76",
          "70",
          "=56",
          "33",
          "93",
          "73",
          "=60",
          "=82",
          "24",
          "80",
          "34",
          "4",
          "86",
          "52",
          "98",
          "23",
          "27",
          "14",
          "2",
          "55",
          "=88",
          "8",
          "26",
          "9",
          "31",
          "=44"
         ],
         "y": [
          "26.1",
          "29.1",
          "30.3",
          "30.9",
          "31.7",
          "33.0",
          "33.9",
          "35.3",
          "39.0",
          "39.5",
          "40.8",
          "42.9",
          "44.9",
          "45.8",
          "49.2",
          "49.3",
          "49.5",
          "51.0",
          "51.0",
          "51.2",
          "51.8",
          "52.7",
          "53.0",
          "53.7",
          "53.9",
          "55.8",
          "56.3",
          "56.4",
          "56.4",
          "56.4",
          "56.5",
          "57.1",
          "57.8",
          "58.2",
          "58.4",
          "59.6",
          "60.3",
          "61.5",
          "61.9",
          "62.6",
          "62.8",
          "62.8",
          "63.6",
          "63.8",
          "63.9",
          "63.9",
          "64.0",
          "64.3",
          "64.3",
          "65.0",
          "66.5",
          "68.6",
          "69.2",
          "70.0",
          "70.3",
          "71.5",
          "73.1",
          "73.5",
          "74.1",
          "76.1",
          "76.1",
          "76.3",
          "77.2",
          "77.8",
          "78.5",
          "80.5",
          "81.9",
          "82.4",
          "83.3",
          "84.0",
          "84.0",
          "84.4",
          "85.5",
          "85.5",
          "85.8",
          "86.4",
          "87.0",
          "87.1",
          "87.3",
          "87.6",
          "89.3",
          "89.5",
          "89.8",
          "90.3",
          "90.5",
          "91.5",
          "92.3",
          "93.3",
          "93.5",
          "93.6",
          "93.8",
          "94.4",
          "94.4",
          "94.6",
          "95.5",
          "96.0",
          "96.2",
          "97.9",
          "98.6",
          "99.5"
         ]
        }
       ],
       "layout": {
        "plot_bgcolor": "rgba(0,0,0,0)",
        "template": {
         "data": {
          "bar": [
           {
            "error_x": {
             "color": "#2a3f5f"
            },
            "error_y": {
             "color": "#2a3f5f"
            },
            "marker": {
             "line": {
              "color": "#E5ECF6",
              "width": 0.5
             },
             "pattern": {
              "fillmode": "overlay",
              "size": 10,
              "solidity": 0.2
             }
            },
            "type": "bar"
           }
          ],
          "barpolar": [
           {
            "marker": {
             "line": {
              "color": "#E5ECF6",
              "width": 0.5
             },
             "pattern": {
              "fillmode": "overlay",
              "size": 10,
              "solidity": 0.2
             }
            },
            "type": "barpolar"
           }
          ],
          "carpet": [
           {
            "aaxis": {
             "endlinecolor": "#2a3f5f",
             "gridcolor": "white",
             "linecolor": "white",
             "minorgridcolor": "white",
             "startlinecolor": "#2a3f5f"
            },
            "baxis": {
             "endlinecolor": "#2a3f5f",
             "gridcolor": "white",
             "linecolor": "white",
             "minorgridcolor": "white",
             "startlinecolor": "#2a3f5f"
            },
            "type": "carpet"
           }
          ],
          "choropleth": [
           {
            "colorbar": {
             "outlinewidth": 0,
             "ticks": ""
            },
            "type": "choropleth"
           }
          ],
          "contour": [
           {
            "colorbar": {
             "outlinewidth": 0,
             "ticks": ""
            },
            "colorscale": [
             [
              0,
              "#0d0887"
             ],
             [
              0.1111111111111111,
              "#46039f"
             ],
             [
              0.2222222222222222,
              "#7201a8"
             ],
             [
              0.3333333333333333,
              "#9c179e"
             ],
             [
              0.4444444444444444,
              "#bd3786"
             ],
             [
              0.5555555555555556,
              "#d8576b"
             ],
             [
              0.6666666666666666,
              "#ed7953"
             ],
             [
              0.7777777777777778,
              "#fb9f3a"
             ],
             [
              0.8888888888888888,
              "#fdca26"
             ],
             [
              1,
              "#f0f921"
             ]
            ],
            "type": "contour"
           }
          ],
          "contourcarpet": [
           {
            "colorbar": {
             "outlinewidth": 0,
             "ticks": ""
            },
            "type": "contourcarpet"
           }
          ],
          "heatmap": [
           {
            "colorbar": {
             "outlinewidth": 0,
             "ticks": ""
            },
            "colorscale": [
             [
              0,
              "#0d0887"
             ],
             [
              0.1111111111111111,
              "#46039f"
             ],
             [
              0.2222222222222222,
              "#7201a8"
             ],
             [
              0.3333333333333333,
              "#9c179e"
             ],
             [
              0.4444444444444444,
              "#bd3786"
             ],
             [
              0.5555555555555556,
              "#d8576b"
             ],
             [
              0.6666666666666666,
              "#ed7953"
             ],
             [
              0.7777777777777778,
              "#fb9f3a"
             ],
             [
              0.8888888888888888,
              "#fdca26"
             ],
             [
              1,
              "#f0f921"
             ]
            ],
            "type": "heatmap"
           }
          ],
          "heatmapgl": [
           {
            "colorbar": {
             "outlinewidth": 0,
             "ticks": ""
            },
            "colorscale": [
             [
              0,
              "#0d0887"
             ],
             [
              0.1111111111111111,
              "#46039f"
             ],
             [
              0.2222222222222222,
              "#7201a8"
             ],
             [
              0.3333333333333333,
              "#9c179e"
             ],
             [
              0.4444444444444444,
              "#bd3786"
             ],
             [
              0.5555555555555556,
              "#d8576b"
             ],
             [
              0.6666666666666666,
              "#ed7953"
             ],
             [
              0.7777777777777778,
              "#fb9f3a"
             ],
             [
              0.8888888888888888,
              "#fdca26"
             ],
             [
              1,
              "#f0f921"
             ]
            ],
            "type": "heatmapgl"
           }
          ],
          "histogram": [
           {
            "marker": {
             "pattern": {
              "fillmode": "overlay",
              "size": 10,
              "solidity": 0.2
             }
            },
            "type": "histogram"
           }
          ],
          "histogram2d": [
           {
            "colorbar": {
             "outlinewidth": 0,
             "ticks": ""
            },
            "colorscale": [
             [
              0,
              "#0d0887"
             ],
             [
              0.1111111111111111,
              "#46039f"
             ],
             [
              0.2222222222222222,
              "#7201a8"
             ],
             [
              0.3333333333333333,
              "#9c179e"
             ],
             [
              0.4444444444444444,
              "#bd3786"
             ],
             [
              0.5555555555555556,
              "#d8576b"
             ],
             [
              0.6666666666666666,
              "#ed7953"
             ],
             [
              0.7777777777777778,
              "#fb9f3a"
             ],
             [
              0.8888888888888888,
              "#fdca26"
             ],
             [
              1,
              "#f0f921"
             ]
            ],
            "type": "histogram2d"
           }
          ],
          "histogram2dcontour": [
           {
            "colorbar": {
             "outlinewidth": 0,
             "ticks": ""
            },
            "colorscale": [
             [
              0,
              "#0d0887"
             ],
             [
              0.1111111111111111,
              "#46039f"
             ],
             [
              0.2222222222222222,
              "#7201a8"
             ],
             [
              0.3333333333333333,
              "#9c179e"
             ],
             [
              0.4444444444444444,
              "#bd3786"
             ],
             [
              0.5555555555555556,
              "#d8576b"
             ],
             [
              0.6666666666666666,
              "#ed7953"
             ],
             [
              0.7777777777777778,
              "#fb9f3a"
             ],
             [
              0.8888888888888888,
              "#fdca26"
             ],
             [
              1,
              "#f0f921"
             ]
            ],
            "type": "histogram2dcontour"
           }
          ],
          "mesh3d": [
           {
            "colorbar": {
             "outlinewidth": 0,
             "ticks": ""
            },
            "type": "mesh3d"
           }
          ],
          "parcoords": [
           {
            "line": {
             "colorbar": {
              "outlinewidth": 0,
              "ticks": ""
             }
            },
            "type": "parcoords"
           }
          ],
          "pie": [
           {
            "automargin": true,
            "type": "pie"
           }
          ],
          "scatter": [
           {
            "fillpattern": {
             "fillmode": "overlay",
             "size": 10,
             "solidity": 0.2
            },
            "type": "scatter"
           }
          ],
          "scatter3d": [
           {
            "line": {
             "colorbar": {
              "outlinewidth": 0,
              "ticks": ""
             }
            },
            "marker": {
             "colorbar": {
              "outlinewidth": 0,
              "ticks": ""
             }
            },
            "type": "scatter3d"
           }
          ],
          "scattercarpet": [
           {
            "marker": {
             "colorbar": {
              "outlinewidth": 0,
              "ticks": ""
             }
            },
            "type": "scattercarpet"
           }
          ],
          "scattergeo": [
           {
            "marker": {
             "colorbar": {
              "outlinewidth": 0,
              "ticks": ""
             }
            },
            "type": "scattergeo"
           }
          ],
          "scattergl": [
           {
            "marker": {
             "colorbar": {
              "outlinewidth": 0,
              "ticks": ""
             }
            },
            "type": "scattergl"
           }
          ],
          "scattermapbox": [
           {
            "marker": {
             "colorbar": {
              "outlinewidth": 0,
              "ticks": ""
             }
            },
            "type": "scattermapbox"
           }
          ],
          "scatterpolar": [
           {
            "marker": {
             "colorbar": {
              "outlinewidth": 0,
              "ticks": ""
             }
            },
            "type": "scatterpolar"
           }
          ],
          "scatterpolargl": [
           {
            "marker": {
             "colorbar": {
              "outlinewidth": 0,
              "ticks": ""
             }
            },
            "type": "scatterpolargl"
           }
          ],
          "scatterternary": [
           {
            "marker": {
             "colorbar": {
              "outlinewidth": 0,
              "ticks": ""
             }
            },
            "type": "scatterternary"
           }
          ],
          "surface": [
           {
            "colorbar": {
             "outlinewidth": 0,
             "ticks": ""
            },
            "colorscale": [
             [
              0,
              "#0d0887"
             ],
             [
              0.1111111111111111,
              "#46039f"
             ],
             [
              0.2222222222222222,
              "#7201a8"
             ],
             [
              0.3333333333333333,
              "#9c179e"
             ],
             [
              0.4444444444444444,
              "#bd3786"
             ],
             [
              0.5555555555555556,
              "#d8576b"
             ],
             [
              0.6666666666666666,
              "#ed7953"
             ],
             [
              0.7777777777777778,
              "#fb9f3a"
             ],
             [
              0.8888888888888888,
              "#fdca26"
             ],
             [
              1,
              "#f0f921"
             ]
            ],
            "type": "surface"
           }
          ],
          "table": [
           {
            "cells": {
             "fill": {
              "color": "#EBF0F8"
             },
             "line": {
              "color": "white"
             }
            },
            "header": {
             "fill": {
              "color": "#C8D4E3"
             },
             "line": {
              "color": "white"
             }
            },
            "type": "table"
           }
          ]
         },
         "layout": {
          "annotationdefaults": {
           "arrowcolor": "#2a3f5f",
           "arrowhead": 0,
           "arrowwidth": 1
          },
          "autotypenumbers": "strict",
          "coloraxis": {
           "colorbar": {
            "outlinewidth": 0,
            "ticks": ""
           }
          },
          "colorscale": {
           "diverging": [
            [
             0,
             "#8e0152"
            ],
            [
             0.1,
             "#c51b7d"
            ],
            [
             0.2,
             "#de77ae"
            ],
            [
             0.3,
             "#f1b6da"
            ],
            [
             0.4,
             "#fde0ef"
            ],
            [
             0.5,
             "#f7f7f7"
            ],
            [
             0.6,
             "#e6f5d0"
            ],
            [
             0.7,
             "#b8e186"
            ],
            [
             0.8,
             "#7fbc41"
            ],
            [
             0.9,
             "#4d9221"
            ],
            [
             1,
             "#276419"
            ]
           ],
           "sequential": [
            [
             0,
             "#0d0887"
            ],
            [
             0.1111111111111111,
             "#46039f"
            ],
            [
             0.2222222222222222,
             "#7201a8"
            ],
            [
             0.3333333333333333,
             "#9c179e"
            ],
            [
             0.4444444444444444,
             "#bd3786"
            ],
            [
             0.5555555555555556,
             "#d8576b"
            ],
            [
             0.6666666666666666,
             "#ed7953"
            ],
            [
             0.7777777777777778,
             "#fb9f3a"
            ],
            [
             0.8888888888888888,
             "#fdca26"
            ],
            [
             1,
             "#f0f921"
            ]
           ],
           "sequentialminus": [
            [
             0,
             "#0d0887"
            ],
            [
             0.1111111111111111,
             "#46039f"
            ],
            [
             0.2222222222222222,
             "#7201a8"
            ],
            [
             0.3333333333333333,
             "#9c179e"
            ],
            [
             0.4444444444444444,
             "#bd3786"
            ],
            [
             0.5555555555555556,
             "#d8576b"
            ],
            [
             0.6666666666666666,
             "#ed7953"
            ],
            [
             0.7777777777777778,
             "#fb9f3a"
            ],
            [
             0.8888888888888888,
             "#fdca26"
            ],
            [
             1,
             "#f0f921"
            ]
           ]
          },
          "colorway": [
           "#636efa",
           "#EF553B",
           "#00cc96",
           "#ab63fa",
           "#FFA15A",
           "#19d3f3",
           "#FF6692",
           "#B6E880",
           "#FF97FF",
           "#FECB52"
          ],
          "font": {
           "color": "#2a3f5f"
          },
          "geo": {
           "bgcolor": "white",
           "lakecolor": "white",
           "landcolor": "#E5ECF6",
           "showlakes": true,
           "showland": true,
           "subunitcolor": "white"
          },
          "hoverlabel": {
           "align": "left"
          },
          "hovermode": "closest",
          "mapbox": {
           "style": "light"
          },
          "paper_bgcolor": "white",
          "plot_bgcolor": "#E5ECF6",
          "polar": {
           "angularaxis": {
            "gridcolor": "white",
            "linecolor": "white",
            "ticks": ""
           },
           "bgcolor": "#E5ECF6",
           "radialaxis": {
            "gridcolor": "white",
            "linecolor": "white",
            "ticks": ""
           }
          },
          "scene": {
           "xaxis": {
            "backgroundcolor": "#E5ECF6",
            "gridcolor": "white",
            "gridwidth": 2,
            "linecolor": "white",
            "showbackground": true,
            "ticks": "",
            "zerolinecolor": "white"
           },
           "yaxis": {
            "backgroundcolor": "#E5ECF6",
            "gridcolor": "white",
            "gridwidth": 2,
            "linecolor": "white",
            "showbackground": true,
            "ticks": "",
            "zerolinecolor": "white"
           },
           "zaxis": {
            "backgroundcolor": "#E5ECF6",
            "gridcolor": "white",
            "gridwidth": 2,
            "linecolor": "white",
            "showbackground": true,
            "ticks": "",
            "zerolinecolor": "white"
           }
          },
          "shapedefaults": {
           "line": {
            "color": "#2a3f5f"
           }
          },
          "ternary": {
           "aaxis": {
            "gridcolor": "white",
            "linecolor": "white",
            "ticks": ""
           },
           "baxis": {
            "gridcolor": "white",
            "linecolor": "white",
            "ticks": ""
           },
           "bgcolor": "#E5ECF6",
           "caxis": {
            "gridcolor": "white",
            "linecolor": "white",
            "ticks": ""
           }
          },
          "title": {
           "x": 0.05
          },
          "xaxis": {
           "automargin": true,
           "gridcolor": "white",
           "linecolor": "white",
           "ticks": "",
           "title": {
            "standoff": 15
           },
           "zerolinecolor": "white",
           "zerolinewidth": 2
          },
          "yaxis": {
           "automargin": true,
           "gridcolor": "white",
           "linecolor": "white",
           "ticks": "",
           "title": {
            "standoff": 15
           },
           "zerolinecolor": "white",
           "zerolinewidth": 2
          }
         }
        },
        "title": {
         "text": "International score vs ranking of top 100"
        },
        "xaxis": {
         "title": {
          "text": "World Ranking"
         }
        },
        "yaxis": {
         "title": {
          "text": "International"
         }
        }
       }
      }
     },
     "metadata": {},
     "output_type": "display_data"
    }
   ],
   "source": [
    "# create figure\n",
    "fig=go.Figure()\n",
    "\n",
    "# create trace 1\n",
    "trace_2014 = go.Scatter(\n",
    "    x=df_2014[\"world_rank\"],\n",
    "    y=df_2014['international'],\n",
    "    mode=\"markers\",\n",
    "    name='2014'\n",
    ")\n",
    "\n",
    "fig.add_trace(trace_2014)\n",
    "\n",
    "# create trace 2\n",
    "trace_2015 = go.Scatter(\n",
    "    x=df_2015[\"world_rank\"],\n",
    "    y=df_2015['international'],\n",
    "    mode=\"markers\",\n",
    "    name='2015'\n",
    ")\n",
    "\n",
    "fig.add_trace(trace_2015)\n",
    "\n",
    "# create trace 3\n",
    "trace_2016 = go.Scatter(\n",
    "    x=df_2016[\"world_rank\"],\n",
    "    y=df_2016['international'],\n",
    "    mode=\"markers\",\n",
    "    name='2016'\n",
    ")\n",
    "fig.add_trace(trace_2016)\n",
    "\n",
    "# edit layout\n",
    "fig.update_layout(\n",
    "    title='International score vs ranking of top 100',\n",
    "    xaxis_title= \"World Ranking\",\n",
    "    yaxis_title =\"International\",    \n",
    "    plot_bgcolor='rgba(0,0,0,0)'   \n",
    ")\n",
    "\n",
    "fig.show()"
   ]
  },
  {
   "cell_type": "code",
   "execution_count": 27,
   "metadata": {},
   "outputs": [],
   "source": [
    "#2. 3D Scatter"
   ]
  },
  {
   "cell_type": "code",
   "execution_count": 28,
   "metadata": {},
   "outputs": [
    {
     "data": {
      "application/vnd.plotly.v1+json": {
       "config": {
        "plotlyServerURL": "https://plot.ly"
       },
       "data": [
        {
         "marker": {
          "color": "red",
          "size": 3
         },
         "mode": "markers",
         "type": "scatter3d",
         "x": [
          "52",
          "88",
          "44",
          "78",
          "23",
          "46",
          "30",
          "49",
          "60",
          "56",
          "22",
          "47",
          "88",
          "40",
          "93",
          "52",
          "97",
          "16",
          "29",
          "40",
          "80",
          "27",
          "50",
          "25",
          "70",
          "80",
          "50",
          "42",
          "12",
          "90",
          "59",
          "74",
          "85",
          "18",
          "17",
          "95",
          "100",
          "63",
          "83",
          "98",
          "52",
          "94",
          "19",
          "55",
          "8",
          "11",
          "24",
          "83",
          "67",
          "61",
          "9",
          "86",
          "15",
          "6",
          "62",
          "45",
          "68",
          "33",
          "87",
          "96",
          "1",
          "2",
          "73",
          "65",
          "65",
          "28",
          "13",
          "92",
          "4",
          "20",
          "36",
          "69",
          "79",
          "80",
          "57",
          "35",
          "77",
          "91",
          "63",
          "43",
          "58",
          "34",
          "39",
          "32",
          "5",
          "31",
          "72",
          "38",
          "70",
          "7",
          "98",
          "21",
          "2",
          "76",
          "74",
          "48",
          "10",
          "26",
          "14",
          "37"
         ],
         "y": [
          58.2,
          86.5,
          47.3,
          84.4,
          69.8,
          81.2,
          87.2,
          79.4,
          85.7,
          67,
          97.1,
          90.2,
          82.8,
          96.7,
          89.7,
          91.3,
          97.3,
          95,
          79.4,
          87.9,
          90.8,
          91.3,
          59.9,
          95.6,
          81.2,
          93.9,
          95.3,
          96.4,
          95.6,
          91.8,
          79.4,
          82,
          74.9,
          90.8,
          96.7,
          89.7,
          77.8,
          89.6,
          71.5,
          71.1,
          81.2,
          68.4,
          90.8,
          83.3,
          99.3,
          93.5,
          93.9,
          75,
          84.2,
          72.9,
          98,
          64.8,
          95,
          99.7,
          67,
          62.8,
          76,
          99.4,
          80.7,
          82.3,
          99.8,
          99.1,
          81.2,
          87,
          99.9,
          87.9,
          95.6,
          79.4,
          99.1,
          84.5,
          76,
          47.2,
          84.9,
          88.2,
          72.3,
          74.5,
          74.1,
          65.4,
          73.3,
          61.5,
          77.3,
          80.2,
          87.6,
          69.2,
          100,
          83.7,
          66.6,
          87.6,
          82.3,
          95.7,
          65.8,
          84.1,
          95.4,
          67.5,
          81.4,
          71.2,
          90,
          66.4,
          85,
          95.9
         ],
         "z": [
          "27.5",
          "28.6",
          "29.4",
          "29.4",
          "29.6",
          "31.7",
          "32.3",
          "33.7",
          "33.8",
          "34.3",
          "34.4",
          "35.0",
          "35.4",
          "35.6",
          "36.4",
          "37.7",
          "40.5",
          "40.6",
          "41.1",
          "41.8",
          "42.4",
          "42.4",
          "42.6",
          "43.2",
          "43.4",
          "43.4",
          "44.2",
          "44.6",
          "46.4",
          "47.5",
          "48.1",
          "49.2",
          "49.5",
          "49.5",
          "50.0",
          "50.7",
          "51.3",
          "51.5",
          "52.6",
          "53.0",
          "53.7",
          "54.4",
          "55.6",
          "56.3",
          "57.3",
          "57.6",
          "58.1",
          "58.3",
          "58.5",
          "58.6",
          "58.6",
          "58.7",
          "59.3",
          "59.6",
          "60.6",
          "60.6",
          "61.3",
          "61.8",
          "63.1",
          "65.5",
          "65.8",
          "66.2",
          "66.6",
          "67.1",
          "67.7",
          "67.8",
          "68.0",
          "68.0",
          "68.0",
          "70.0",
          "73.2",
          "74.2",
          "75.0",
          "76.8",
          "77.0",
          "77.8",
          "78.3",
          "78.3",
          "79.7",
          "80.3",
          "80.9",
          "81.3",
          "81.5",
          "81.7",
          "82.0",
          "84.2",
          "84.8",
          "86.0",
          "86.1",
          "86.7",
          "89.1",
          "90.2",
          "90.2",
          "91.0",
          "91.1",
          "91.4",
          "91.8",
          "94.3",
          "96.7",
          "98.2"
         ]
        }
       ],
       "layout": {
        "height": 650,
        "margin": {
         "b": 0,
         "l": 0,
         "r": 0,
         "t": 0
        },
        "scene": {
         "xaxis": {
          "title": {
           "text": "World rank"
          }
         },
         "yaxis": {
          "title": {
           "text": "Citations"
          }
         },
         "zaxis": {
          "title": {
           "text": "International"
          }
         }
        },
        "template": {
         "data": {
          "bar": [
           {
            "error_x": {
             "color": "#2a3f5f"
            },
            "error_y": {
             "color": "#2a3f5f"
            },
            "marker": {
             "line": {
              "color": "#E5ECF6",
              "width": 0.5
             },
             "pattern": {
              "fillmode": "overlay",
              "size": 10,
              "solidity": 0.2
             }
            },
            "type": "bar"
           }
          ],
          "barpolar": [
           {
            "marker": {
             "line": {
              "color": "#E5ECF6",
              "width": 0.5
             },
             "pattern": {
              "fillmode": "overlay",
              "size": 10,
              "solidity": 0.2
             }
            },
            "type": "barpolar"
           }
          ],
          "carpet": [
           {
            "aaxis": {
             "endlinecolor": "#2a3f5f",
             "gridcolor": "white",
             "linecolor": "white",
             "minorgridcolor": "white",
             "startlinecolor": "#2a3f5f"
            },
            "baxis": {
             "endlinecolor": "#2a3f5f",
             "gridcolor": "white",
             "linecolor": "white",
             "minorgridcolor": "white",
             "startlinecolor": "#2a3f5f"
            },
            "type": "carpet"
           }
          ],
          "choropleth": [
           {
            "colorbar": {
             "outlinewidth": 0,
             "ticks": ""
            },
            "type": "choropleth"
           }
          ],
          "contour": [
           {
            "colorbar": {
             "outlinewidth": 0,
             "ticks": ""
            },
            "colorscale": [
             [
              0,
              "#0d0887"
             ],
             [
              0.1111111111111111,
              "#46039f"
             ],
             [
              0.2222222222222222,
              "#7201a8"
             ],
             [
              0.3333333333333333,
              "#9c179e"
             ],
             [
              0.4444444444444444,
              "#bd3786"
             ],
             [
              0.5555555555555556,
              "#d8576b"
             ],
             [
              0.6666666666666666,
              "#ed7953"
             ],
             [
              0.7777777777777778,
              "#fb9f3a"
             ],
             [
              0.8888888888888888,
              "#fdca26"
             ],
             [
              1,
              "#f0f921"
             ]
            ],
            "type": "contour"
           }
          ],
          "contourcarpet": [
           {
            "colorbar": {
             "outlinewidth": 0,
             "ticks": ""
            },
            "type": "contourcarpet"
           }
          ],
          "heatmap": [
           {
            "colorbar": {
             "outlinewidth": 0,
             "ticks": ""
            },
            "colorscale": [
             [
              0,
              "#0d0887"
             ],
             [
              0.1111111111111111,
              "#46039f"
             ],
             [
              0.2222222222222222,
              "#7201a8"
             ],
             [
              0.3333333333333333,
              "#9c179e"
             ],
             [
              0.4444444444444444,
              "#bd3786"
             ],
             [
              0.5555555555555556,
              "#d8576b"
             ],
             [
              0.6666666666666666,
              "#ed7953"
             ],
             [
              0.7777777777777778,
              "#fb9f3a"
             ],
             [
              0.8888888888888888,
              "#fdca26"
             ],
             [
              1,
              "#f0f921"
             ]
            ],
            "type": "heatmap"
           }
          ],
          "heatmapgl": [
           {
            "colorbar": {
             "outlinewidth": 0,
             "ticks": ""
            },
            "colorscale": [
             [
              0,
              "#0d0887"
             ],
             [
              0.1111111111111111,
              "#46039f"
             ],
             [
              0.2222222222222222,
              "#7201a8"
             ],
             [
              0.3333333333333333,
              "#9c179e"
             ],
             [
              0.4444444444444444,
              "#bd3786"
             ],
             [
              0.5555555555555556,
              "#d8576b"
             ],
             [
              0.6666666666666666,
              "#ed7953"
             ],
             [
              0.7777777777777778,
              "#fb9f3a"
             ],
             [
              0.8888888888888888,
              "#fdca26"
             ],
             [
              1,
              "#f0f921"
             ]
            ],
            "type": "heatmapgl"
           }
          ],
          "histogram": [
           {
            "marker": {
             "pattern": {
              "fillmode": "overlay",
              "size": 10,
              "solidity": 0.2
             }
            },
            "type": "histogram"
           }
          ],
          "histogram2d": [
           {
            "colorbar": {
             "outlinewidth": 0,
             "ticks": ""
            },
            "colorscale": [
             [
              0,
              "#0d0887"
             ],
             [
              0.1111111111111111,
              "#46039f"
             ],
             [
              0.2222222222222222,
              "#7201a8"
             ],
             [
              0.3333333333333333,
              "#9c179e"
             ],
             [
              0.4444444444444444,
              "#bd3786"
             ],
             [
              0.5555555555555556,
              "#d8576b"
             ],
             [
              0.6666666666666666,
              "#ed7953"
             ],
             [
              0.7777777777777778,
              "#fb9f3a"
             ],
             [
              0.8888888888888888,
              "#fdca26"
             ],
             [
              1,
              "#f0f921"
             ]
            ],
            "type": "histogram2d"
           }
          ],
          "histogram2dcontour": [
           {
            "colorbar": {
             "outlinewidth": 0,
             "ticks": ""
            },
            "colorscale": [
             [
              0,
              "#0d0887"
             ],
             [
              0.1111111111111111,
              "#46039f"
             ],
             [
              0.2222222222222222,
              "#7201a8"
             ],
             [
              0.3333333333333333,
              "#9c179e"
             ],
             [
              0.4444444444444444,
              "#bd3786"
             ],
             [
              0.5555555555555556,
              "#d8576b"
             ],
             [
              0.6666666666666666,
              "#ed7953"
             ],
             [
              0.7777777777777778,
              "#fb9f3a"
             ],
             [
              0.8888888888888888,
              "#fdca26"
             ],
             [
              1,
              "#f0f921"
             ]
            ],
            "type": "histogram2dcontour"
           }
          ],
          "mesh3d": [
           {
            "colorbar": {
             "outlinewidth": 0,
             "ticks": ""
            },
            "type": "mesh3d"
           }
          ],
          "parcoords": [
           {
            "line": {
             "colorbar": {
              "outlinewidth": 0,
              "ticks": ""
             }
            },
            "type": "parcoords"
           }
          ],
          "pie": [
           {
            "automargin": true,
            "type": "pie"
           }
          ],
          "scatter": [
           {
            "fillpattern": {
             "fillmode": "overlay",
             "size": 10,
             "solidity": 0.2
            },
            "type": "scatter"
           }
          ],
          "scatter3d": [
           {
            "line": {
             "colorbar": {
              "outlinewidth": 0,
              "ticks": ""
             }
            },
            "marker": {
             "colorbar": {
              "outlinewidth": 0,
              "ticks": ""
             }
            },
            "type": "scatter3d"
           }
          ],
          "scattercarpet": [
           {
            "marker": {
             "colorbar": {
              "outlinewidth": 0,
              "ticks": ""
             }
            },
            "type": "scattercarpet"
           }
          ],
          "scattergeo": [
           {
            "marker": {
             "colorbar": {
              "outlinewidth": 0,
              "ticks": ""
             }
            },
            "type": "scattergeo"
           }
          ],
          "scattergl": [
           {
            "marker": {
             "colorbar": {
              "outlinewidth": 0,
              "ticks": ""
             }
            },
            "type": "scattergl"
           }
          ],
          "scattermapbox": [
           {
            "marker": {
             "colorbar": {
              "outlinewidth": 0,
              "ticks": ""
             }
            },
            "type": "scattermapbox"
           }
          ],
          "scatterpolar": [
           {
            "marker": {
             "colorbar": {
              "outlinewidth": 0,
              "ticks": ""
             }
            },
            "type": "scatterpolar"
           }
          ],
          "scatterpolargl": [
           {
            "marker": {
             "colorbar": {
              "outlinewidth": 0,
              "ticks": ""
             }
            },
            "type": "scatterpolargl"
           }
          ],
          "scatterternary": [
           {
            "marker": {
             "colorbar": {
              "outlinewidth": 0,
              "ticks": ""
             }
            },
            "type": "scatterternary"
           }
          ],
          "surface": [
           {
            "colorbar": {
             "outlinewidth": 0,
             "ticks": ""
            },
            "colorscale": [
             [
              0,
              "#0d0887"
             ],
             [
              0.1111111111111111,
              "#46039f"
             ],
             [
              0.2222222222222222,
              "#7201a8"
             ],
             [
              0.3333333333333333,
              "#9c179e"
             ],
             [
              0.4444444444444444,
              "#bd3786"
             ],
             [
              0.5555555555555556,
              "#d8576b"
             ],
             [
              0.6666666666666666,
              "#ed7953"
             ],
             [
              0.7777777777777778,
              "#fb9f3a"
             ],
             [
              0.8888888888888888,
              "#fdca26"
             ],
             [
              1,
              "#f0f921"
             ]
            ],
            "type": "surface"
           }
          ],
          "table": [
           {
            "cells": {
             "fill": {
              "color": "#EBF0F8"
             },
             "line": {
              "color": "white"
             }
            },
            "header": {
             "fill": {
              "color": "#C8D4E3"
             },
             "line": {
              "color": "white"
             }
            },
            "type": "table"
           }
          ]
         },
         "layout": {
          "annotationdefaults": {
           "arrowcolor": "#2a3f5f",
           "arrowhead": 0,
           "arrowwidth": 1
          },
          "autotypenumbers": "strict",
          "coloraxis": {
           "colorbar": {
            "outlinewidth": 0,
            "ticks": ""
           }
          },
          "colorscale": {
           "diverging": [
            [
             0,
             "#8e0152"
            ],
            [
             0.1,
             "#c51b7d"
            ],
            [
             0.2,
             "#de77ae"
            ],
            [
             0.3,
             "#f1b6da"
            ],
            [
             0.4,
             "#fde0ef"
            ],
            [
             0.5,
             "#f7f7f7"
            ],
            [
             0.6,
             "#e6f5d0"
            ],
            [
             0.7,
             "#b8e186"
            ],
            [
             0.8,
             "#7fbc41"
            ],
            [
             0.9,
             "#4d9221"
            ],
            [
             1,
             "#276419"
            ]
           ],
           "sequential": [
            [
             0,
             "#0d0887"
            ],
            [
             0.1111111111111111,
             "#46039f"
            ],
            [
             0.2222222222222222,
             "#7201a8"
            ],
            [
             0.3333333333333333,
             "#9c179e"
            ],
            [
             0.4444444444444444,
             "#bd3786"
            ],
            [
             0.5555555555555556,
             "#d8576b"
            ],
            [
             0.6666666666666666,
             "#ed7953"
            ],
            [
             0.7777777777777778,
             "#fb9f3a"
            ],
            [
             0.8888888888888888,
             "#fdca26"
            ],
            [
             1,
             "#f0f921"
            ]
           ],
           "sequentialminus": [
            [
             0,
             "#0d0887"
            ],
            [
             0.1111111111111111,
             "#46039f"
            ],
            [
             0.2222222222222222,
             "#7201a8"
            ],
            [
             0.3333333333333333,
             "#9c179e"
            ],
            [
             0.4444444444444444,
             "#bd3786"
            ],
            [
             0.5555555555555556,
             "#d8576b"
            ],
            [
             0.6666666666666666,
             "#ed7953"
            ],
            [
             0.7777777777777778,
             "#fb9f3a"
            ],
            [
             0.8888888888888888,
             "#fdca26"
            ],
            [
             1,
             "#f0f921"
            ]
           ]
          },
          "colorway": [
           "#636efa",
           "#EF553B",
           "#00cc96",
           "#ab63fa",
           "#FFA15A",
           "#19d3f3",
           "#FF6692",
           "#B6E880",
           "#FF97FF",
           "#FECB52"
          ],
          "font": {
           "color": "#2a3f5f"
          },
          "geo": {
           "bgcolor": "white",
           "lakecolor": "white",
           "landcolor": "#E5ECF6",
           "showlakes": true,
           "showland": true,
           "subunitcolor": "white"
          },
          "hoverlabel": {
           "align": "left"
          },
          "hovermode": "closest",
          "mapbox": {
           "style": "light"
          },
          "paper_bgcolor": "white",
          "plot_bgcolor": "#E5ECF6",
          "polar": {
           "angularaxis": {
            "gridcolor": "white",
            "linecolor": "white",
            "ticks": ""
           },
           "bgcolor": "#E5ECF6",
           "radialaxis": {
            "gridcolor": "white",
            "linecolor": "white",
            "ticks": ""
           }
          },
          "scene": {
           "xaxis": {
            "backgroundcolor": "#E5ECF6",
            "gridcolor": "white",
            "gridwidth": 2,
            "linecolor": "white",
            "showbackground": true,
            "ticks": "",
            "zerolinecolor": "white"
           },
           "yaxis": {
            "backgroundcolor": "#E5ECF6",
            "gridcolor": "white",
            "gridwidth": 2,
            "linecolor": "white",
            "showbackground": true,
            "ticks": "",
            "zerolinecolor": "white"
           },
           "zaxis": {
            "backgroundcolor": "#E5ECF6",
            "gridcolor": "white",
            "gridwidth": 2,
            "linecolor": "white",
            "showbackground": true,
            "ticks": "",
            "zerolinecolor": "white"
           }
          },
          "shapedefaults": {
           "line": {
            "color": "#2a3f5f"
           }
          },
          "ternary": {
           "aaxis": {
            "gridcolor": "white",
            "linecolor": "white",
            "ticks": ""
           },
           "baxis": {
            "gridcolor": "white",
            "linecolor": "white",
            "ticks": ""
           },
           "bgcolor": "#E5ECF6",
           "caxis": {
            "gridcolor": "white",
            "linecolor": "white",
            "ticks": ""
           }
          },
          "title": {
           "x": 0.05
          },
          "xaxis": {
           "automargin": true,
           "gridcolor": "white",
           "linecolor": "white",
           "ticks": "",
           "title": {
            "standoff": 15
           },
           "zerolinecolor": "white",
           "zerolinewidth": 2
          },
          "yaxis": {
           "automargin": true,
           "gridcolor": "white",
           "linecolor": "white",
           "ticks": "",
           "title": {
            "standoff": 15
           },
           "zerolinecolor": "white",
           "zerolinewidth": 2
          }
         }
        },
        "title": {
         "text": "2014",
         "x": 0.5,
         "xanchor": "center",
         "y": 0.95,
         "yanchor": "top"
        },
        "width": 950
       }
      }
     },
     "metadata": {},
     "output_type": "display_data"
    }
   ],
   "source": [
    "# 2014\n",
    "\n",
    "df =df_2014\n",
    "fig=go.Figure(\n",
    "    go.Scatter3d(\n",
    "        x=df['world_rank'],\n",
    "        z=df['international'],\n",
    "        y=df['citations'],\n",
    "        mode='markers',\n",
    "        marker=dict(\n",
    "            size=3,\n",
    "            color='red'\n",
    "        )\n",
    "    )\n",
    ")\n",
    "\n",
    "fig.update_layout(\n",
    "    title = {\n",
    "         'text': \"2014\",\n",
    "         'y':0.95, \n",
    "         'x':0.5,\n",
    "         'xanchor': 'center',\n",
    "         'yanchor': 'top',\n",
    "        },\n",
    "\n",
    "    width=950,\n",
    "    height=650,\n",
    "    margin =dict(\n",
    "        l=0,\n",
    "        r=0,\n",
    "        b=0,\n",
    "        t=00\n",
    "    ),\n",
    "    scene = dict(\n",
    "        xaxis = dict(\n",
    "            title='World rank'),\n",
    "        yaxis = dict(\n",
    "            title='Citations'),\n",
    "        zaxis = dict(\n",
    "            title='International')\n",
    "        )\n",
    ")\n",
    "\n",
    "# show fig\n",
    "fig.show()"
   ]
  },
  {
   "cell_type": "code",
   "execution_count": 29,
   "metadata": {},
   "outputs": [
    {
     "data": {
      "application/vnd.plotly.v1+json": {
       "config": {
        "plotlyServerURL": "https://plot.ly"
       },
       "data": [
        {
         "marker": {
          "color": "blue",
          "size": 3
         },
         "mode": "markers",
         "type": "scatter3d",
         "x": [
          "96",
          "59",
          "50",
          "91",
          "23",
          "28",
          "29",
          "46",
          "52",
          "46",
          "66",
          "21",
          "41",
          "54",
          "58",
          "85",
          "86",
          "97",
          "91",
          "38",
          "75",
          "93",
          "16",
          "29",
          "49",
          "42",
          "57",
          "26",
          "90",
          "12",
          "17",
          "63",
          "18",
          "88",
          "86",
          "68",
          "55",
          "79",
          "98",
          "48",
          "67",
          "82",
          "80",
          "88",
          "29",
          "81",
          "98",
          "8",
          "19",
          "24",
          "64",
          "15",
          "9",
          "77",
          "44",
          "7",
          "55",
          "70",
          "98",
          "37",
          "11",
          "72",
          "1",
          "2",
          "14",
          "27",
          "4",
          "94",
          "69",
          "20",
          "74",
          "51",
          "71",
          "73",
          "94",
          "39",
          "83",
          "65",
          "83",
          "33",
          "78",
          "43",
          "52",
          "60",
          "6",
          "36",
          "32",
          "40",
          "34",
          "5",
          "22",
          "3",
          "75",
          "45",
          "61",
          "9",
          "61",
          "25",
          "13",
          "34"
         ],
         "y": [
          87.7,
          57,
          48.7,
          84.4,
          74.7,
          91.5,
          87.7,
          82.9,
          71.4,
          91,
          84.4,
          96.9,
          96.4,
          92,
          76,
          92,
          74,
          97.4,
          78.7,
          89.5,
          81.3,
          89.5,
          94.4,
          77.8,
          65,
          97.1,
          94.4,
          95,
          73.8,
          95.3,
          88.9,
          96.4,
          96.6,
          92.9,
          90,
          80.4,
          80.4,
          80,
          90.9,
          63.7,
          92.3,
          74,
          71.9,
          89.5,
          83,
          67.6,
          70.9,
          99.1,
          91.5,
          92,
          82.3,
          93.6,
          94,
          76.6,
          76.8,
          99.6,
          71.8,
          81.4,
          78.8,
          99.2,
          97.3,
          82.3,
          99.7,
          98.9,
          95.3,
          85.8,
          99.1,
          78.8,
          99.9,
          83,
          85.1,
          72.9,
          42.6,
          77.5,
          83.7,
          76,
          65.7,
          74.2,
          88.9,
          80.6,
          84.8,
          65.1,
          74.3,
          69,
          100,
          88.3,
          85.3,
          88.3,
          71.3,
          95.2,
          85.1,
          95.5,
          81.4,
          71.1,
          75.9,
          89.4,
          79.9,
          66,
          83.5,
          95
         ],
         "z": [
          "28.3",
          "29.0",
          "30.3",
          "32.2",
          "32.4",
          "33.1",
          "33.6",
          "33.8",
          "34.9",
          "35.3",
          "36.0",
          "36.7",
          "37.0",
          "37.0",
          "37.4",
          "38.7",
          "38.8",
          "39.1",
          "40.3",
          "41.2",
          "42.7",
          "42.9",
          "43.8",
          "43.9",
          "44.6",
          "46.5",
          "47.8",
          "47.9",
          "49.1",
          "49.2",
          "49.8",
          "50.1",
          "50.5",
          "51.1",
          "51.4",
          "51.5",
          "52.9",
          "52.9",
          "53.2",
          "53.7",
          "53.9",
          "55.0",
          "55.7",
          "56.1",
          "56.4",
          "56.6",
          "57.5",
          "58.5",
          "59.0",
          "59.3",
          "59.5",
          "59.7",
          "59.8",
          "60.5",
          "60.6",
          "61.2",
          "62.3",
          "63.1",
          "64.0",
          "64.3",
          "65.2",
          "66.2",
          "67.0",
          "67.6",
          "68.3",
          "68.9",
          "69.0",
          "69.4",
          "70.8",
          "71.2",
          "76.6",
          "77.8",
          "77.9",
          "78.7",
          "78.8",
          "79.0",
          "79.6",
          "80.4",
          "80.4",
          "81.3",
          "81.9",
          "81.9",
          "82.0",
          "83.6",
          "84.3",
          "84.3",
          "84.8",
          "87.0",
          "87.4",
          "87.8",
          "90.6",
          "90.7",
          "91.2",
          "91.3",
          "92.5",
          "92.7",
          "94.5",
          "94.9",
          "96.6",
          "98.8"
         ]
        }
       ],
       "layout": {
        "height": 650,
        "margin": {
         "b": 0,
         "l": 0,
         "r": 0,
         "t": 0
        },
        "scene": {
         "xaxis": {
          "title": {
           "text": "World rank"
          }
         },
         "yaxis": {
          "title": {
           "text": "Citations"
          }
         },
         "zaxis": {
          "title": {
           "text": "International"
          }
         }
        },
        "template": {
         "data": {
          "bar": [
           {
            "error_x": {
             "color": "#2a3f5f"
            },
            "error_y": {
             "color": "#2a3f5f"
            },
            "marker": {
             "line": {
              "color": "#E5ECF6",
              "width": 0.5
             },
             "pattern": {
              "fillmode": "overlay",
              "size": 10,
              "solidity": 0.2
             }
            },
            "type": "bar"
           }
          ],
          "barpolar": [
           {
            "marker": {
             "line": {
              "color": "#E5ECF6",
              "width": 0.5
             },
             "pattern": {
              "fillmode": "overlay",
              "size": 10,
              "solidity": 0.2
             }
            },
            "type": "barpolar"
           }
          ],
          "carpet": [
           {
            "aaxis": {
             "endlinecolor": "#2a3f5f",
             "gridcolor": "white",
             "linecolor": "white",
             "minorgridcolor": "white",
             "startlinecolor": "#2a3f5f"
            },
            "baxis": {
             "endlinecolor": "#2a3f5f",
             "gridcolor": "white",
             "linecolor": "white",
             "minorgridcolor": "white",
             "startlinecolor": "#2a3f5f"
            },
            "type": "carpet"
           }
          ],
          "choropleth": [
           {
            "colorbar": {
             "outlinewidth": 0,
             "ticks": ""
            },
            "type": "choropleth"
           }
          ],
          "contour": [
           {
            "colorbar": {
             "outlinewidth": 0,
             "ticks": ""
            },
            "colorscale": [
             [
              0,
              "#0d0887"
             ],
             [
              0.1111111111111111,
              "#46039f"
             ],
             [
              0.2222222222222222,
              "#7201a8"
             ],
             [
              0.3333333333333333,
              "#9c179e"
             ],
             [
              0.4444444444444444,
              "#bd3786"
             ],
             [
              0.5555555555555556,
              "#d8576b"
             ],
             [
              0.6666666666666666,
              "#ed7953"
             ],
             [
              0.7777777777777778,
              "#fb9f3a"
             ],
             [
              0.8888888888888888,
              "#fdca26"
             ],
             [
              1,
              "#f0f921"
             ]
            ],
            "type": "contour"
           }
          ],
          "contourcarpet": [
           {
            "colorbar": {
             "outlinewidth": 0,
             "ticks": ""
            },
            "type": "contourcarpet"
           }
          ],
          "heatmap": [
           {
            "colorbar": {
             "outlinewidth": 0,
             "ticks": ""
            },
            "colorscale": [
             [
              0,
              "#0d0887"
             ],
             [
              0.1111111111111111,
              "#46039f"
             ],
             [
              0.2222222222222222,
              "#7201a8"
             ],
             [
              0.3333333333333333,
              "#9c179e"
             ],
             [
              0.4444444444444444,
              "#bd3786"
             ],
             [
              0.5555555555555556,
              "#d8576b"
             ],
             [
              0.6666666666666666,
              "#ed7953"
             ],
             [
              0.7777777777777778,
              "#fb9f3a"
             ],
             [
              0.8888888888888888,
              "#fdca26"
             ],
             [
              1,
              "#f0f921"
             ]
            ],
            "type": "heatmap"
           }
          ],
          "heatmapgl": [
           {
            "colorbar": {
             "outlinewidth": 0,
             "ticks": ""
            },
            "colorscale": [
             [
              0,
              "#0d0887"
             ],
             [
              0.1111111111111111,
              "#46039f"
             ],
             [
              0.2222222222222222,
              "#7201a8"
             ],
             [
              0.3333333333333333,
              "#9c179e"
             ],
             [
              0.4444444444444444,
              "#bd3786"
             ],
             [
              0.5555555555555556,
              "#d8576b"
             ],
             [
              0.6666666666666666,
              "#ed7953"
             ],
             [
              0.7777777777777778,
              "#fb9f3a"
             ],
             [
              0.8888888888888888,
              "#fdca26"
             ],
             [
              1,
              "#f0f921"
             ]
            ],
            "type": "heatmapgl"
           }
          ],
          "histogram": [
           {
            "marker": {
             "pattern": {
              "fillmode": "overlay",
              "size": 10,
              "solidity": 0.2
             }
            },
            "type": "histogram"
           }
          ],
          "histogram2d": [
           {
            "colorbar": {
             "outlinewidth": 0,
             "ticks": ""
            },
            "colorscale": [
             [
              0,
              "#0d0887"
             ],
             [
              0.1111111111111111,
              "#46039f"
             ],
             [
              0.2222222222222222,
              "#7201a8"
             ],
             [
              0.3333333333333333,
              "#9c179e"
             ],
             [
              0.4444444444444444,
              "#bd3786"
             ],
             [
              0.5555555555555556,
              "#d8576b"
             ],
             [
              0.6666666666666666,
              "#ed7953"
             ],
             [
              0.7777777777777778,
              "#fb9f3a"
             ],
             [
              0.8888888888888888,
              "#fdca26"
             ],
             [
              1,
              "#f0f921"
             ]
            ],
            "type": "histogram2d"
           }
          ],
          "histogram2dcontour": [
           {
            "colorbar": {
             "outlinewidth": 0,
             "ticks": ""
            },
            "colorscale": [
             [
              0,
              "#0d0887"
             ],
             [
              0.1111111111111111,
              "#46039f"
             ],
             [
              0.2222222222222222,
              "#7201a8"
             ],
             [
              0.3333333333333333,
              "#9c179e"
             ],
             [
              0.4444444444444444,
              "#bd3786"
             ],
             [
              0.5555555555555556,
              "#d8576b"
             ],
             [
              0.6666666666666666,
              "#ed7953"
             ],
             [
              0.7777777777777778,
              "#fb9f3a"
             ],
             [
              0.8888888888888888,
              "#fdca26"
             ],
             [
              1,
              "#f0f921"
             ]
            ],
            "type": "histogram2dcontour"
           }
          ],
          "mesh3d": [
           {
            "colorbar": {
             "outlinewidth": 0,
             "ticks": ""
            },
            "type": "mesh3d"
           }
          ],
          "parcoords": [
           {
            "line": {
             "colorbar": {
              "outlinewidth": 0,
              "ticks": ""
             }
            },
            "type": "parcoords"
           }
          ],
          "pie": [
           {
            "automargin": true,
            "type": "pie"
           }
          ],
          "scatter": [
           {
            "fillpattern": {
             "fillmode": "overlay",
             "size": 10,
             "solidity": 0.2
            },
            "type": "scatter"
           }
          ],
          "scatter3d": [
           {
            "line": {
             "colorbar": {
              "outlinewidth": 0,
              "ticks": ""
             }
            },
            "marker": {
             "colorbar": {
              "outlinewidth": 0,
              "ticks": ""
             }
            },
            "type": "scatter3d"
           }
          ],
          "scattercarpet": [
           {
            "marker": {
             "colorbar": {
              "outlinewidth": 0,
              "ticks": ""
             }
            },
            "type": "scattercarpet"
           }
          ],
          "scattergeo": [
           {
            "marker": {
             "colorbar": {
              "outlinewidth": 0,
              "ticks": ""
             }
            },
            "type": "scattergeo"
           }
          ],
          "scattergl": [
           {
            "marker": {
             "colorbar": {
              "outlinewidth": 0,
              "ticks": ""
             }
            },
            "type": "scattergl"
           }
          ],
          "scattermapbox": [
           {
            "marker": {
             "colorbar": {
              "outlinewidth": 0,
              "ticks": ""
             }
            },
            "type": "scattermapbox"
           }
          ],
          "scatterpolar": [
           {
            "marker": {
             "colorbar": {
              "outlinewidth": 0,
              "ticks": ""
             }
            },
            "type": "scatterpolar"
           }
          ],
          "scatterpolargl": [
           {
            "marker": {
             "colorbar": {
              "outlinewidth": 0,
              "ticks": ""
             }
            },
            "type": "scatterpolargl"
           }
          ],
          "scatterternary": [
           {
            "marker": {
             "colorbar": {
              "outlinewidth": 0,
              "ticks": ""
             }
            },
            "type": "scatterternary"
           }
          ],
          "surface": [
           {
            "colorbar": {
             "outlinewidth": 0,
             "ticks": ""
            },
            "colorscale": [
             [
              0,
              "#0d0887"
             ],
             [
              0.1111111111111111,
              "#46039f"
             ],
             [
              0.2222222222222222,
              "#7201a8"
             ],
             [
              0.3333333333333333,
              "#9c179e"
             ],
             [
              0.4444444444444444,
              "#bd3786"
             ],
             [
              0.5555555555555556,
              "#d8576b"
             ],
             [
              0.6666666666666666,
              "#ed7953"
             ],
             [
              0.7777777777777778,
              "#fb9f3a"
             ],
             [
              0.8888888888888888,
              "#fdca26"
             ],
             [
              1,
              "#f0f921"
             ]
            ],
            "type": "surface"
           }
          ],
          "table": [
           {
            "cells": {
             "fill": {
              "color": "#EBF0F8"
             },
             "line": {
              "color": "white"
             }
            },
            "header": {
             "fill": {
              "color": "#C8D4E3"
             },
             "line": {
              "color": "white"
             }
            },
            "type": "table"
           }
          ]
         },
         "layout": {
          "annotationdefaults": {
           "arrowcolor": "#2a3f5f",
           "arrowhead": 0,
           "arrowwidth": 1
          },
          "autotypenumbers": "strict",
          "coloraxis": {
           "colorbar": {
            "outlinewidth": 0,
            "ticks": ""
           }
          },
          "colorscale": {
           "diverging": [
            [
             0,
             "#8e0152"
            ],
            [
             0.1,
             "#c51b7d"
            ],
            [
             0.2,
             "#de77ae"
            ],
            [
             0.3,
             "#f1b6da"
            ],
            [
             0.4,
             "#fde0ef"
            ],
            [
             0.5,
             "#f7f7f7"
            ],
            [
             0.6,
             "#e6f5d0"
            ],
            [
             0.7,
             "#b8e186"
            ],
            [
             0.8,
             "#7fbc41"
            ],
            [
             0.9,
             "#4d9221"
            ],
            [
             1,
             "#276419"
            ]
           ],
           "sequential": [
            [
             0,
             "#0d0887"
            ],
            [
             0.1111111111111111,
             "#46039f"
            ],
            [
             0.2222222222222222,
             "#7201a8"
            ],
            [
             0.3333333333333333,
             "#9c179e"
            ],
            [
             0.4444444444444444,
             "#bd3786"
            ],
            [
             0.5555555555555556,
             "#d8576b"
            ],
            [
             0.6666666666666666,
             "#ed7953"
            ],
            [
             0.7777777777777778,
             "#fb9f3a"
            ],
            [
             0.8888888888888888,
             "#fdca26"
            ],
            [
             1,
             "#f0f921"
            ]
           ],
           "sequentialminus": [
            [
             0,
             "#0d0887"
            ],
            [
             0.1111111111111111,
             "#46039f"
            ],
            [
             0.2222222222222222,
             "#7201a8"
            ],
            [
             0.3333333333333333,
             "#9c179e"
            ],
            [
             0.4444444444444444,
             "#bd3786"
            ],
            [
             0.5555555555555556,
             "#d8576b"
            ],
            [
             0.6666666666666666,
             "#ed7953"
            ],
            [
             0.7777777777777778,
             "#fb9f3a"
            ],
            [
             0.8888888888888888,
             "#fdca26"
            ],
            [
             1,
             "#f0f921"
            ]
           ]
          },
          "colorway": [
           "#636efa",
           "#EF553B",
           "#00cc96",
           "#ab63fa",
           "#FFA15A",
           "#19d3f3",
           "#FF6692",
           "#B6E880",
           "#FF97FF",
           "#FECB52"
          ],
          "font": {
           "color": "#2a3f5f"
          },
          "geo": {
           "bgcolor": "white",
           "lakecolor": "white",
           "landcolor": "#E5ECF6",
           "showlakes": true,
           "showland": true,
           "subunitcolor": "white"
          },
          "hoverlabel": {
           "align": "left"
          },
          "hovermode": "closest",
          "mapbox": {
           "style": "light"
          },
          "paper_bgcolor": "white",
          "plot_bgcolor": "#E5ECF6",
          "polar": {
           "angularaxis": {
            "gridcolor": "white",
            "linecolor": "white",
            "ticks": ""
           },
           "bgcolor": "#E5ECF6",
           "radialaxis": {
            "gridcolor": "white",
            "linecolor": "white",
            "ticks": ""
           }
          },
          "scene": {
           "xaxis": {
            "backgroundcolor": "#E5ECF6",
            "gridcolor": "white",
            "gridwidth": 2,
            "linecolor": "white",
            "showbackground": true,
            "ticks": "",
            "zerolinecolor": "white"
           },
           "yaxis": {
            "backgroundcolor": "#E5ECF6",
            "gridcolor": "white",
            "gridwidth": 2,
            "linecolor": "white",
            "showbackground": true,
            "ticks": "",
            "zerolinecolor": "white"
           },
           "zaxis": {
            "backgroundcolor": "#E5ECF6",
            "gridcolor": "white",
            "gridwidth": 2,
            "linecolor": "white",
            "showbackground": true,
            "ticks": "",
            "zerolinecolor": "white"
           }
          },
          "shapedefaults": {
           "line": {
            "color": "#2a3f5f"
           }
          },
          "ternary": {
           "aaxis": {
            "gridcolor": "white",
            "linecolor": "white",
            "ticks": ""
           },
           "baxis": {
            "gridcolor": "white",
            "linecolor": "white",
            "ticks": ""
           },
           "bgcolor": "#E5ECF6",
           "caxis": {
            "gridcolor": "white",
            "linecolor": "white",
            "ticks": ""
           }
          },
          "title": {
           "x": 0.05
          },
          "xaxis": {
           "automargin": true,
           "gridcolor": "white",
           "linecolor": "white",
           "ticks": "",
           "title": {
            "standoff": 15
           },
           "zerolinecolor": "white",
           "zerolinewidth": 2
          },
          "yaxis": {
           "automargin": true,
           "gridcolor": "white",
           "linecolor": "white",
           "ticks": "",
           "title": {
            "standoff": 15
           },
           "zerolinecolor": "white",
           "zerolinewidth": 2
          }
         }
        },
        "title": {
         "text": "2015",
         "x": 0.5,
         "xanchor": "center",
         "y": 0.95,
         "yanchor": "top"
        },
        "width": 950
       }
      }
     },
     "metadata": {},
     "output_type": "display_data"
    }
   ],
   "source": [
    "# 2015\n",
    "df = df_2015\n",
    "fig=go.Figure(\n",
    "    go.Scatter3d(\n",
    "        x=df['world_rank'],\n",
    "        z=df['international'],\n",
    "        y=df['citations'],\n",
    "        mode='markers',\n",
    "        marker=dict(\n",
    "            size=3,\n",
    "            color='blue'\n",
    "        )\n",
    "    )\n",
    ")\n",
    "\n",
    "\n",
    "fig.update_layout(\n",
    "    title = {\n",
    "         'text': \"2015\",\n",
    "         'y':0.95, \n",
    "         'x':0.5,\n",
    "         'xanchor': 'center',\n",
    "         'yanchor': 'top',\n",
    "        },\n",
    "    width=950,\n",
    "    height=650,\n",
    "    margin =dict(\n",
    "        l=0,\n",
    "        r=0,\n",
    "        b=0,\n",
    "        t=0\n",
    "    ),\n",
    "    scene = dict(\n",
    "        xaxis = dict(\n",
    "            title='World rank'),\n",
    "        yaxis = dict(\n",
    "            title='Citations'),\n",
    "        zaxis = dict(\n",
    "            title='International')\n",
    "        )\n",
    ")\n",
    "\n",
    "# show fig\n",
    "fig.show()"
   ]
  },
  {
   "cell_type": "code",
   "execution_count": 30,
   "metadata": {},
   "outputs": [
    {
     "data": {
      "application/vnd.plotly.v1+json": {
       "config": {
        "plotlyServerURL": "https://plot.ly"
       },
       "data": [
        {
         "marker": {
          "color": "orange",
          "size": 3
         },
         "mode": "markers",
         "type": "scatter3d",
         "x": [
          "=88",
          "87",
          "43",
          "85",
          "46",
          "50",
          "79",
          "=65",
          "63",
          "=47",
          "75",
          "=39",
          "=60",
          "36",
          "42",
          "30",
          "17",
          "=90",
          "64",
          "32",
          "=76",
          "=94",
          "=90",
          "21",
          "25",
          "62",
          "68",
          "=99",
          "=99",
          "16",
          "20",
          "22",
          "51",
          "78",
          "=44",
          "81",
          "84",
          "=39",
          "13",
          "49",
          "37",
          "29",
          "=94",
          "53",
          "18",
          "74",
          "1",
          "67",
          "12",
          "10",
          "58",
          "35",
          "72",
          "11",
          "=47",
          "41",
          "28",
          "15",
          "=90",
          "=94",
          "71",
          "3",
          "6",
          "19",
          "7",
          "59",
          "97",
          "69",
          "=82",
          "=65",
          "5",
          "=56",
          "54",
          "38",
          "=76",
          "70",
          "=56",
          "33",
          "93",
          "73",
          "=60",
          "=82",
          "24",
          "80",
          "34",
          "4",
          "86",
          "52",
          "98",
          "23",
          "27",
          "14",
          "2",
          "55",
          "=88",
          "8",
          "26",
          "9",
          "31",
          "=44"
         ],
         "y": [
          46.6,
          95.7,
          60.9,
          50,
          92.2,
          86.6,
          92.3,
          88,
          95.9,
          58.8,
          80.5,
          98.7,
          99.2,
          86.8,
          69.1,
          95.3,
          98.6,
          96.7,
          97.7,
          98.6,
          82.1,
          82.5,
          83.2,
          94.4,
          96.5,
          88.1,
          93,
          72.7,
          76.8,
          98.5,
          99,
          99.1,
          96.4,
          79.3,
          84.3,
          80.9,
          80.5,
          99.2,
          99.7,
          73.6,
          88.2,
          85.7,
          85.3,
          80.1,
          97.2,
          84,
          99.8,
          85.2,
          97.2,
          99.2,
          87.4,
          87.3,
          60.2,
          98.2,
          87.8,
          86,
          92.2,
          98.1,
          81.3,
          84.9,
          95.6,
          99.9,
          99.8,
          90.9,
          99.3,
          82.6,
          80.1,
          91.2,
          86.2,
          61.5,
          99.7,
          77.5,
          87.1,
          78.9,
          92.3,
          87.7,
          77.3,
          86.6,
          94.3,
          73.3,
          82.4,
          82.1,
          96.3,
          78.2,
          91.5,
          97,
          78.8,
          72.3,
          93.3,
          94.3,
          93.8,
          94.2,
          98.8,
          85.6,
          82.7,
          96.7,
          79.4,
          91.1,
          94.6,
          70.1
         ],
         "z": [
          "26.1",
          "29.1",
          "30.3",
          "30.9",
          "31.7",
          "33.0",
          "33.9",
          "35.3",
          "39.0",
          "39.5",
          "40.8",
          "42.9",
          "44.9",
          "45.8",
          "49.2",
          "49.3",
          "49.5",
          "51.0",
          "51.0",
          "51.2",
          "51.8",
          "52.7",
          "53.0",
          "53.7",
          "53.9",
          "55.8",
          "56.3",
          "56.4",
          "56.4",
          "56.4",
          "56.5",
          "57.1",
          "57.8",
          "58.2",
          "58.4",
          "59.6",
          "60.3",
          "61.5",
          "61.9",
          "62.6",
          "62.8",
          "62.8",
          "63.6",
          "63.8",
          "63.9",
          "63.9",
          "64.0",
          "64.3",
          "64.3",
          "65.0",
          "66.5",
          "68.6",
          "69.2",
          "70.0",
          "70.3",
          "71.5",
          "73.1",
          "73.5",
          "74.1",
          "76.1",
          "76.1",
          "76.3",
          "77.2",
          "77.8",
          "78.5",
          "80.5",
          "81.9",
          "82.4",
          "83.3",
          "84.0",
          "84.0",
          "84.4",
          "85.5",
          "85.5",
          "85.8",
          "86.4",
          "87.0",
          "87.1",
          "87.3",
          "87.6",
          "89.3",
          "89.5",
          "89.8",
          "90.3",
          "90.5",
          "91.5",
          "92.3",
          "93.3",
          "93.5",
          "93.6",
          "93.8",
          "94.4",
          "94.4",
          "94.6",
          "95.5",
          "96.0",
          "96.2",
          "97.9",
          "98.6",
          "99.5"
         ]
        }
       ],
       "layout": {
        "height": 650,
        "margin": {
         "b": 0,
         "l": 0,
         "r": 0,
         "t": 0
        },
        "scene": {
         "xaxis": {
          "title": {
           "text": "World rank"
          }
         },
         "yaxis": {
          "title": {
           "text": "Citations"
          }
         },
         "zaxis": {
          "title": {
           "text": "International"
          }
         }
        },
        "template": {
         "data": {
          "bar": [
           {
            "error_x": {
             "color": "#2a3f5f"
            },
            "error_y": {
             "color": "#2a3f5f"
            },
            "marker": {
             "line": {
              "color": "#E5ECF6",
              "width": 0.5
             },
             "pattern": {
              "fillmode": "overlay",
              "size": 10,
              "solidity": 0.2
             }
            },
            "type": "bar"
           }
          ],
          "barpolar": [
           {
            "marker": {
             "line": {
              "color": "#E5ECF6",
              "width": 0.5
             },
             "pattern": {
              "fillmode": "overlay",
              "size": 10,
              "solidity": 0.2
             }
            },
            "type": "barpolar"
           }
          ],
          "carpet": [
           {
            "aaxis": {
             "endlinecolor": "#2a3f5f",
             "gridcolor": "white",
             "linecolor": "white",
             "minorgridcolor": "white",
             "startlinecolor": "#2a3f5f"
            },
            "baxis": {
             "endlinecolor": "#2a3f5f",
             "gridcolor": "white",
             "linecolor": "white",
             "minorgridcolor": "white",
             "startlinecolor": "#2a3f5f"
            },
            "type": "carpet"
           }
          ],
          "choropleth": [
           {
            "colorbar": {
             "outlinewidth": 0,
             "ticks": ""
            },
            "type": "choropleth"
           }
          ],
          "contour": [
           {
            "colorbar": {
             "outlinewidth": 0,
             "ticks": ""
            },
            "colorscale": [
             [
              0,
              "#0d0887"
             ],
             [
              0.1111111111111111,
              "#46039f"
             ],
             [
              0.2222222222222222,
              "#7201a8"
             ],
             [
              0.3333333333333333,
              "#9c179e"
             ],
             [
              0.4444444444444444,
              "#bd3786"
             ],
             [
              0.5555555555555556,
              "#d8576b"
             ],
             [
              0.6666666666666666,
              "#ed7953"
             ],
             [
              0.7777777777777778,
              "#fb9f3a"
             ],
             [
              0.8888888888888888,
              "#fdca26"
             ],
             [
              1,
              "#f0f921"
             ]
            ],
            "type": "contour"
           }
          ],
          "contourcarpet": [
           {
            "colorbar": {
             "outlinewidth": 0,
             "ticks": ""
            },
            "type": "contourcarpet"
           }
          ],
          "heatmap": [
           {
            "colorbar": {
             "outlinewidth": 0,
             "ticks": ""
            },
            "colorscale": [
             [
              0,
              "#0d0887"
             ],
             [
              0.1111111111111111,
              "#46039f"
             ],
             [
              0.2222222222222222,
              "#7201a8"
             ],
             [
              0.3333333333333333,
              "#9c179e"
             ],
             [
              0.4444444444444444,
              "#bd3786"
             ],
             [
              0.5555555555555556,
              "#d8576b"
             ],
             [
              0.6666666666666666,
              "#ed7953"
             ],
             [
              0.7777777777777778,
              "#fb9f3a"
             ],
             [
              0.8888888888888888,
              "#fdca26"
             ],
             [
              1,
              "#f0f921"
             ]
            ],
            "type": "heatmap"
           }
          ],
          "heatmapgl": [
           {
            "colorbar": {
             "outlinewidth": 0,
             "ticks": ""
            },
            "colorscale": [
             [
              0,
              "#0d0887"
             ],
             [
              0.1111111111111111,
              "#46039f"
             ],
             [
              0.2222222222222222,
              "#7201a8"
             ],
             [
              0.3333333333333333,
              "#9c179e"
             ],
             [
              0.4444444444444444,
              "#bd3786"
             ],
             [
              0.5555555555555556,
              "#d8576b"
             ],
             [
              0.6666666666666666,
              "#ed7953"
             ],
             [
              0.7777777777777778,
              "#fb9f3a"
             ],
             [
              0.8888888888888888,
              "#fdca26"
             ],
             [
              1,
              "#f0f921"
             ]
            ],
            "type": "heatmapgl"
           }
          ],
          "histogram": [
           {
            "marker": {
             "pattern": {
              "fillmode": "overlay",
              "size": 10,
              "solidity": 0.2
             }
            },
            "type": "histogram"
           }
          ],
          "histogram2d": [
           {
            "colorbar": {
             "outlinewidth": 0,
             "ticks": ""
            },
            "colorscale": [
             [
              0,
              "#0d0887"
             ],
             [
              0.1111111111111111,
              "#46039f"
             ],
             [
              0.2222222222222222,
              "#7201a8"
             ],
             [
              0.3333333333333333,
              "#9c179e"
             ],
             [
              0.4444444444444444,
              "#bd3786"
             ],
             [
              0.5555555555555556,
              "#d8576b"
             ],
             [
              0.6666666666666666,
              "#ed7953"
             ],
             [
              0.7777777777777778,
              "#fb9f3a"
             ],
             [
              0.8888888888888888,
              "#fdca26"
             ],
             [
              1,
              "#f0f921"
             ]
            ],
            "type": "histogram2d"
           }
          ],
          "histogram2dcontour": [
           {
            "colorbar": {
             "outlinewidth": 0,
             "ticks": ""
            },
            "colorscale": [
             [
              0,
              "#0d0887"
             ],
             [
              0.1111111111111111,
              "#46039f"
             ],
             [
              0.2222222222222222,
              "#7201a8"
             ],
             [
              0.3333333333333333,
              "#9c179e"
             ],
             [
              0.4444444444444444,
              "#bd3786"
             ],
             [
              0.5555555555555556,
              "#d8576b"
             ],
             [
              0.6666666666666666,
              "#ed7953"
             ],
             [
              0.7777777777777778,
              "#fb9f3a"
             ],
             [
              0.8888888888888888,
              "#fdca26"
             ],
             [
              1,
              "#f0f921"
             ]
            ],
            "type": "histogram2dcontour"
           }
          ],
          "mesh3d": [
           {
            "colorbar": {
             "outlinewidth": 0,
             "ticks": ""
            },
            "type": "mesh3d"
           }
          ],
          "parcoords": [
           {
            "line": {
             "colorbar": {
              "outlinewidth": 0,
              "ticks": ""
             }
            },
            "type": "parcoords"
           }
          ],
          "pie": [
           {
            "automargin": true,
            "type": "pie"
           }
          ],
          "scatter": [
           {
            "fillpattern": {
             "fillmode": "overlay",
             "size": 10,
             "solidity": 0.2
            },
            "type": "scatter"
           }
          ],
          "scatter3d": [
           {
            "line": {
             "colorbar": {
              "outlinewidth": 0,
              "ticks": ""
             }
            },
            "marker": {
             "colorbar": {
              "outlinewidth": 0,
              "ticks": ""
             }
            },
            "type": "scatter3d"
           }
          ],
          "scattercarpet": [
           {
            "marker": {
             "colorbar": {
              "outlinewidth": 0,
              "ticks": ""
             }
            },
            "type": "scattercarpet"
           }
          ],
          "scattergeo": [
           {
            "marker": {
             "colorbar": {
              "outlinewidth": 0,
              "ticks": ""
             }
            },
            "type": "scattergeo"
           }
          ],
          "scattergl": [
           {
            "marker": {
             "colorbar": {
              "outlinewidth": 0,
              "ticks": ""
             }
            },
            "type": "scattergl"
           }
          ],
          "scattermapbox": [
           {
            "marker": {
             "colorbar": {
              "outlinewidth": 0,
              "ticks": ""
             }
            },
            "type": "scattermapbox"
           }
          ],
          "scatterpolar": [
           {
            "marker": {
             "colorbar": {
              "outlinewidth": 0,
              "ticks": ""
             }
            },
            "type": "scatterpolar"
           }
          ],
          "scatterpolargl": [
           {
            "marker": {
             "colorbar": {
              "outlinewidth": 0,
              "ticks": ""
             }
            },
            "type": "scatterpolargl"
           }
          ],
          "scatterternary": [
           {
            "marker": {
             "colorbar": {
              "outlinewidth": 0,
              "ticks": ""
             }
            },
            "type": "scatterternary"
           }
          ],
          "surface": [
           {
            "colorbar": {
             "outlinewidth": 0,
             "ticks": ""
            },
            "colorscale": [
             [
              0,
              "#0d0887"
             ],
             [
              0.1111111111111111,
              "#46039f"
             ],
             [
              0.2222222222222222,
              "#7201a8"
             ],
             [
              0.3333333333333333,
              "#9c179e"
             ],
             [
              0.4444444444444444,
              "#bd3786"
             ],
             [
              0.5555555555555556,
              "#d8576b"
             ],
             [
              0.6666666666666666,
              "#ed7953"
             ],
             [
              0.7777777777777778,
              "#fb9f3a"
             ],
             [
              0.8888888888888888,
              "#fdca26"
             ],
             [
              1,
              "#f0f921"
             ]
            ],
            "type": "surface"
           }
          ],
          "table": [
           {
            "cells": {
             "fill": {
              "color": "#EBF0F8"
             },
             "line": {
              "color": "white"
             }
            },
            "header": {
             "fill": {
              "color": "#C8D4E3"
             },
             "line": {
              "color": "white"
             }
            },
            "type": "table"
           }
          ]
         },
         "layout": {
          "annotationdefaults": {
           "arrowcolor": "#2a3f5f",
           "arrowhead": 0,
           "arrowwidth": 1
          },
          "autotypenumbers": "strict",
          "coloraxis": {
           "colorbar": {
            "outlinewidth": 0,
            "ticks": ""
           }
          },
          "colorscale": {
           "diverging": [
            [
             0,
             "#8e0152"
            ],
            [
             0.1,
             "#c51b7d"
            ],
            [
             0.2,
             "#de77ae"
            ],
            [
             0.3,
             "#f1b6da"
            ],
            [
             0.4,
             "#fde0ef"
            ],
            [
             0.5,
             "#f7f7f7"
            ],
            [
             0.6,
             "#e6f5d0"
            ],
            [
             0.7,
             "#b8e186"
            ],
            [
             0.8,
             "#7fbc41"
            ],
            [
             0.9,
             "#4d9221"
            ],
            [
             1,
             "#276419"
            ]
           ],
           "sequential": [
            [
             0,
             "#0d0887"
            ],
            [
             0.1111111111111111,
             "#46039f"
            ],
            [
             0.2222222222222222,
             "#7201a8"
            ],
            [
             0.3333333333333333,
             "#9c179e"
            ],
            [
             0.4444444444444444,
             "#bd3786"
            ],
            [
             0.5555555555555556,
             "#d8576b"
            ],
            [
             0.6666666666666666,
             "#ed7953"
            ],
            [
             0.7777777777777778,
             "#fb9f3a"
            ],
            [
             0.8888888888888888,
             "#fdca26"
            ],
            [
             1,
             "#f0f921"
            ]
           ],
           "sequentialminus": [
            [
             0,
             "#0d0887"
            ],
            [
             0.1111111111111111,
             "#46039f"
            ],
            [
             0.2222222222222222,
             "#7201a8"
            ],
            [
             0.3333333333333333,
             "#9c179e"
            ],
            [
             0.4444444444444444,
             "#bd3786"
            ],
            [
             0.5555555555555556,
             "#d8576b"
            ],
            [
             0.6666666666666666,
             "#ed7953"
            ],
            [
             0.7777777777777778,
             "#fb9f3a"
            ],
            [
             0.8888888888888888,
             "#fdca26"
            ],
            [
             1,
             "#f0f921"
            ]
           ]
          },
          "colorway": [
           "#636efa",
           "#EF553B",
           "#00cc96",
           "#ab63fa",
           "#FFA15A",
           "#19d3f3",
           "#FF6692",
           "#B6E880",
           "#FF97FF",
           "#FECB52"
          ],
          "font": {
           "color": "#2a3f5f"
          },
          "geo": {
           "bgcolor": "white",
           "lakecolor": "white",
           "landcolor": "#E5ECF6",
           "showlakes": true,
           "showland": true,
           "subunitcolor": "white"
          },
          "hoverlabel": {
           "align": "left"
          },
          "hovermode": "closest",
          "mapbox": {
           "style": "light"
          },
          "paper_bgcolor": "white",
          "plot_bgcolor": "#E5ECF6",
          "polar": {
           "angularaxis": {
            "gridcolor": "white",
            "linecolor": "white",
            "ticks": ""
           },
           "bgcolor": "#E5ECF6",
           "radialaxis": {
            "gridcolor": "white",
            "linecolor": "white",
            "ticks": ""
           }
          },
          "scene": {
           "xaxis": {
            "backgroundcolor": "#E5ECF6",
            "gridcolor": "white",
            "gridwidth": 2,
            "linecolor": "white",
            "showbackground": true,
            "ticks": "",
            "zerolinecolor": "white"
           },
           "yaxis": {
            "backgroundcolor": "#E5ECF6",
            "gridcolor": "white",
            "gridwidth": 2,
            "linecolor": "white",
            "showbackground": true,
            "ticks": "",
            "zerolinecolor": "white"
           },
           "zaxis": {
            "backgroundcolor": "#E5ECF6",
            "gridcolor": "white",
            "gridwidth": 2,
            "linecolor": "white",
            "showbackground": true,
            "ticks": "",
            "zerolinecolor": "white"
           }
          },
          "shapedefaults": {
           "line": {
            "color": "#2a3f5f"
           }
          },
          "ternary": {
           "aaxis": {
            "gridcolor": "white",
            "linecolor": "white",
            "ticks": ""
           },
           "baxis": {
            "gridcolor": "white",
            "linecolor": "white",
            "ticks": ""
           },
           "bgcolor": "#E5ECF6",
           "caxis": {
            "gridcolor": "white",
            "linecolor": "white",
            "ticks": ""
           }
          },
          "title": {
           "x": 0.05
          },
          "xaxis": {
           "automargin": true,
           "gridcolor": "white",
           "linecolor": "white",
           "ticks": "",
           "title": {
            "standoff": 15
           },
           "zerolinecolor": "white",
           "zerolinewidth": 2
          },
          "yaxis": {
           "automargin": true,
           "gridcolor": "white",
           "linecolor": "white",
           "ticks": "",
           "title": {
            "standoff": 15
           },
           "zerolinecolor": "white",
           "zerolinewidth": 2
          }
         }
        },
        "title": {
         "text": "2016",
         "x": 0.5,
         "xanchor": "center",
         "y": 0.95,
         "yanchor": "top"
        },
        "width": 950
       }
      }
     },
     "metadata": {},
     "output_type": "display_data"
    }
   ],
   "source": [
    "# 2015\n",
    "df = df_2016\n",
    "fig=go.Figure(\n",
    "    go.Scatter3d(\n",
    "        x=df['world_rank'],\n",
    "        z=df['international'],\n",
    "        y=df['citations'],\n",
    "        mode='markers',\n",
    "        marker=dict(\n",
    "            size=3,\n",
    "            color='orange'\n",
    "        )\n",
    "    )\n",
    ")\n",
    "\n",
    "fig.update_layout(\n",
    "    title = {\n",
    "         'text': \"2016\",\n",
    "         'y':0.95, \n",
    "         'x':0.5,\n",
    "         'xanchor': 'center',\n",
    "         'yanchor': 'top',\n",
    "        },\n",
    "    width=950,\n",
    "    height=650,\n",
    "    margin =dict(\n",
    "        l=0,\n",
    "        r=0,\n",
    "        b=0,\n",
    "        t=0\n",
    "    ),\n",
    "    scene = dict(\n",
    "        xaxis = dict(\n",
    "            title='World rank'),\n",
    "        yaxis = dict(\n",
    "            title='Citations'),\n",
    "        zaxis = dict(\n",
    "            title='International')\n",
    "        )\n",
    ")\n",
    "\n",
    "# show fig\n",
    "fig.show()"
   ]
  }
 ],
 "metadata": {
  "interpreter": {
   "hash": "f5051a862b211aa3ac754ed70592e90620d523e87b3b3d1f0d4bf9ecbd174644"
  },
  "kernelspec": {
   "display_name": "Python 3.8.8 ('base')",
   "language": "python",
   "name": "python3"
  },
  "language_info": {
   "codemirror_mode": {
    "name": "ipython",
    "version": 3
   },
   "file_extension": ".py",
   "mimetype": "text/x-python",
   "name": "python",
   "nbconvert_exporter": "python",
   "pygments_lexer": "ipython3",
   "version": "3.8.8"
  },
  "orig_nbformat": 4
 },
 "nbformat": 4,
 "nbformat_minor": 2
}
