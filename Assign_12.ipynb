{
 "cells": [
  {
   "cell_type": "markdown",
   "metadata": {},
   "source": [
    "### 1. Load data from csv file"
   ]
  },
  {
   "cell_type": "code",
   "execution_count": 40,
   "metadata": {},
   "outputs": [],
   "source": [
    "# import libs\n",
    "import numpy as np\n",
    "import pandas as pd\n",
    "import plotly.express as px\n",
    "import plotly.graph_objects as go"
   ]
  },
  {
   "cell_type": "code",
   "execution_count": 41,
   "metadata": {},
   "outputs": [
    {
     "data": {
      "text/html": [
       "<div>\n",
       "<style scoped>\n",
       "    .dataframe tbody tr th:only-of-type {\n",
       "        vertical-align: middle;\n",
       "    }\n",
       "\n",
       "    .dataframe tbody tr th {\n",
       "        vertical-align: top;\n",
       "    }\n",
       "\n",
       "    .dataframe thead th {\n",
       "        text-align: right;\n",
       "    }\n",
       "</style>\n",
       "<table border=\"1\" class=\"dataframe\">\n",
       "  <thead>\n",
       "    <tr style=\"text-align: right;\">\n",
       "      <th></th>\n",
       "      <th>Date</th>\n",
       "      <th>Prefecture</th>\n",
       "      <th>Positive</th>\n",
       "      <th>Tested</th>\n",
       "      <th>Discharged</th>\n",
       "      <th>Fatal</th>\n",
       "      <th>Hosp_require</th>\n",
       "      <th>Hosp_severe</th>\n",
       "    </tr>\n",
       "  </thead>\n",
       "  <tbody>\n",
       "    <tr>\n",
       "      <th>0</th>\n",
       "      <td>2020-03-18</td>\n",
       "      <td>Hokkaido</td>\n",
       "      <td>154</td>\n",
       "      <td>1587.0</td>\n",
       "      <td>69.0</td>\n",
       "      <td>7.0</td>\n",
       "      <td>NaN</td>\n",
       "      <td>NaN</td>\n",
       "    </tr>\n",
       "    <tr>\n",
       "      <th>1</th>\n",
       "      <td>2020-03-18</td>\n",
       "      <td>Aomori</td>\n",
       "      <td>0</td>\n",
       "      <td>75.0</td>\n",
       "      <td>0.0</td>\n",
       "      <td>0.0</td>\n",
       "      <td>NaN</td>\n",
       "      <td>NaN</td>\n",
       "    </tr>\n",
       "    <tr>\n",
       "      <th>2</th>\n",
       "      <td>2020-03-18</td>\n",
       "      <td>Iwate</td>\n",
       "      <td>0</td>\n",
       "      <td>24.0</td>\n",
       "      <td>0.0</td>\n",
       "      <td>0.0</td>\n",
       "      <td>NaN</td>\n",
       "      <td>NaN</td>\n",
       "    </tr>\n",
       "    <tr>\n",
       "      <th>3</th>\n",
       "      <td>2020-03-18</td>\n",
       "      <td>Miyagi</td>\n",
       "      <td>1</td>\n",
       "      <td>138.0</td>\n",
       "      <td>1.0</td>\n",
       "      <td>0.0</td>\n",
       "      <td>NaN</td>\n",
       "      <td>NaN</td>\n",
       "    </tr>\n",
       "    <tr>\n",
       "      <th>4</th>\n",
       "      <td>2020-03-18</td>\n",
       "      <td>Akita</td>\n",
       "      <td>2</td>\n",
       "      <td>109.0</td>\n",
       "      <td>1.0</td>\n",
       "      <td>0.0</td>\n",
       "      <td>NaN</td>\n",
       "      <td>NaN</td>\n",
       "    </tr>\n",
       "  </tbody>\n",
       "</table>\n",
       "</div>"
      ],
      "text/plain": [
       "         Date Prefecture  Positive  Tested  Discharged  Fatal  Hosp_require  \\\n",
       "0  2020-03-18   Hokkaido       154  1587.0        69.0    7.0           NaN   \n",
       "1  2020-03-18     Aomori         0    75.0         0.0    0.0           NaN   \n",
       "2  2020-03-18      Iwate         0    24.0         0.0    0.0           NaN   \n",
       "3  2020-03-18     Miyagi         1   138.0         1.0    0.0           NaN   \n",
       "4  2020-03-18      Akita         2   109.0         1.0    0.0           NaN   \n",
       "\n",
       "   Hosp_severe  \n",
       "0          NaN  \n",
       "1          NaN  \n",
       "2          NaN  \n",
       "3          NaN  \n",
       "4          NaN  "
      ]
     },
     "execution_count": 41,
     "metadata": {},
     "output_type": "execute_result"
    }
   ],
   "source": [
    "df_data = pd.read_csv('../dataset/covid_jpn_prefecture.csv')\n",
    "df_data.head()"
   ]
  },
  {
   "cell_type": "code",
   "execution_count": 42,
   "metadata": {},
   "outputs": [
    {
     "name": "stdout",
     "output_type": "stream",
     "text": [
      "<class 'pandas.core.frame.DataFrame'>\n",
      "RangeIndex: 24534 entries, 0 to 24533\n",
      "Data columns (total 8 columns):\n",
      " #   Column        Non-Null Count  Dtype  \n",
      "---  ------        --------------  -----  \n",
      " 0   Date          24534 non-null  object \n",
      " 1   Prefecture    24534 non-null  object \n",
      " 2   Positive      24534 non-null  int64  \n",
      " 3   Tested        24467 non-null  float64\n",
      " 4   Discharged    24486 non-null  float64\n",
      " 5   Fatal         24176 non-null  float64\n",
      " 6   Hosp_require  22110 non-null  float64\n",
      " 7   Hosp_severe   21854 non-null  float64\n",
      "dtypes: float64(5), int64(1), object(2)\n",
      "memory usage: 1.5+ MB\n"
     ]
    }
   ],
   "source": [
    "# check data info\n",
    "df_data.info()"
   ]
  },
  {
   "cell_type": "markdown",
   "metadata": {},
   "source": [
    "2. Data cleaning"
   ]
  },
  {
   "cell_type": "code",
   "execution_count": 43,
   "metadata": {},
   "outputs": [
    {
     "data": {
      "text/html": [
       "<div>\n",
       "<style scoped>\n",
       "    .dataframe tbody tr th:only-of-type {\n",
       "        vertical-align: middle;\n",
       "    }\n",
       "\n",
       "    .dataframe tbody tr th {\n",
       "        vertical-align: top;\n",
       "    }\n",
       "\n",
       "    .dataframe thead th {\n",
       "        text-align: right;\n",
       "    }\n",
       "</style>\n",
       "<table border=\"1\" class=\"dataframe\">\n",
       "  <thead>\n",
       "    <tr style=\"text-align: right;\">\n",
       "      <th></th>\n",
       "      <th>Date</th>\n",
       "      <th>Prefecture</th>\n",
       "      <th>Positive</th>\n",
       "      <th>Tested</th>\n",
       "      <th>Discharged</th>\n",
       "      <th>Fatal</th>\n",
       "      <th>Hosp_require</th>\n",
       "      <th>Hosp_severe</th>\n",
       "    </tr>\n",
       "  </thead>\n",
       "  <tbody>\n",
       "    <tr>\n",
       "      <th>0</th>\n",
       "      <td>2020-03-18</td>\n",
       "      <td>Hokkaido</td>\n",
       "      <td>154</td>\n",
       "      <td>1587.0</td>\n",
       "      <td>69.0</td>\n",
       "      <td>7.0</td>\n",
       "      <td>NaN</td>\n",
       "      <td>NaN</td>\n",
       "    </tr>\n",
       "    <tr>\n",
       "      <th>1</th>\n",
       "      <td>2020-03-18</td>\n",
       "      <td>Aomori</td>\n",
       "      <td>0</td>\n",
       "      <td>75.0</td>\n",
       "      <td>0.0</td>\n",
       "      <td>0.0</td>\n",
       "      <td>NaN</td>\n",
       "      <td>NaN</td>\n",
       "    </tr>\n",
       "    <tr>\n",
       "      <th>2</th>\n",
       "      <td>2020-03-18</td>\n",
       "      <td>Iwate</td>\n",
       "      <td>0</td>\n",
       "      <td>24.0</td>\n",
       "      <td>0.0</td>\n",
       "      <td>0.0</td>\n",
       "      <td>NaN</td>\n",
       "      <td>NaN</td>\n",
       "    </tr>\n",
       "    <tr>\n",
       "      <th>3</th>\n",
       "      <td>2020-03-18</td>\n",
       "      <td>Miyagi</td>\n",
       "      <td>1</td>\n",
       "      <td>138.0</td>\n",
       "      <td>1.0</td>\n",
       "      <td>0.0</td>\n",
       "      <td>NaN</td>\n",
       "      <td>NaN</td>\n",
       "    </tr>\n",
       "    <tr>\n",
       "      <th>4</th>\n",
       "      <td>2020-03-18</td>\n",
       "      <td>Akita</td>\n",
       "      <td>2</td>\n",
       "      <td>109.0</td>\n",
       "      <td>1.0</td>\n",
       "      <td>0.0</td>\n",
       "      <td>NaN</td>\n",
       "      <td>NaN</td>\n",
       "    </tr>\n",
       "    <tr>\n",
       "      <th>...</th>\n",
       "      <td>...</td>\n",
       "      <td>...</td>\n",
       "      <td>...</td>\n",
       "      <td>...</td>\n",
       "      <td>...</td>\n",
       "      <td>...</td>\n",
       "      <td>...</td>\n",
       "      <td>...</td>\n",
       "    </tr>\n",
       "    <tr>\n",
       "      <th>24529</th>\n",
       "      <td>2021-08-21</td>\n",
       "      <td>Kumamoto</td>\n",
       "      <td>10426</td>\n",
       "      <td>98074.0</td>\n",
       "      <td>8466.0</td>\n",
       "      <td>123.0</td>\n",
       "      <td>1837.0</td>\n",
       "      <td>13.0</td>\n",
       "    </tr>\n",
       "    <tr>\n",
       "      <th>24530</th>\n",
       "      <td>2021-08-21</td>\n",
       "      <td>Oita</td>\n",
       "      <td>5449</td>\n",
       "      <td>210368.0</td>\n",
       "      <td>4086.0</td>\n",
       "      <td>65.0</td>\n",
       "      <td>1298.0</td>\n",
       "      <td>1.0</td>\n",
       "    </tr>\n",
       "    <tr>\n",
       "      <th>24531</th>\n",
       "      <td>2021-08-21</td>\n",
       "      <td>Miyazaki</td>\n",
       "      <td>4286</td>\n",
       "      <td>53900.0</td>\n",
       "      <td>3511.0</td>\n",
       "      <td>28.0</td>\n",
       "      <td>800.0</td>\n",
       "      <td>1.0</td>\n",
       "    </tr>\n",
       "    <tr>\n",
       "      <th>24532</th>\n",
       "      <td>2021-08-21</td>\n",
       "      <td>Kagoshima</td>\n",
       "      <td>6615</td>\n",
       "      <td>135705.0</td>\n",
       "      <td>4693.0</td>\n",
       "      <td>42.0</td>\n",
       "      <td>1691.0</td>\n",
       "      <td>4.0</td>\n",
       "    </tr>\n",
       "    <tr>\n",
       "      <th>24533</th>\n",
       "      <td>2021-08-21</td>\n",
       "      <td>Okinawa</td>\n",
       "      <td>36882</td>\n",
       "      <td>321707.0</td>\n",
       "      <td>29941.0</td>\n",
       "      <td>248.0</td>\n",
       "      <td>6509.0</td>\n",
       "      <td>117.0</td>\n",
       "    </tr>\n",
       "  </tbody>\n",
       "</table>\n",
       "<p>24534 rows × 8 columns</p>\n",
       "</div>"
      ],
      "text/plain": [
       "             Date Prefecture  Positive    Tested  Discharged  Fatal  \\\n",
       "0      2020-03-18   Hokkaido       154    1587.0        69.0    7.0   \n",
       "1      2020-03-18     Aomori         0      75.0         0.0    0.0   \n",
       "2      2020-03-18      Iwate         0      24.0         0.0    0.0   \n",
       "3      2020-03-18     Miyagi         1     138.0         1.0    0.0   \n",
       "4      2020-03-18      Akita         2     109.0         1.0    0.0   \n",
       "...           ...        ...       ...       ...         ...    ...   \n",
       "24529  2021-08-21   Kumamoto     10426   98074.0      8466.0  123.0   \n",
       "24530  2021-08-21       Oita      5449  210368.0      4086.0   65.0   \n",
       "24531  2021-08-21   Miyazaki      4286   53900.0      3511.0   28.0   \n",
       "24532  2021-08-21  Kagoshima      6615  135705.0      4693.0   42.0   \n",
       "24533  2021-08-21    Okinawa     36882  321707.0     29941.0  248.0   \n",
       "\n",
       "       Hosp_require  Hosp_severe  \n",
       "0               NaN          NaN  \n",
       "1               NaN          NaN  \n",
       "2               NaN          NaN  \n",
       "3               NaN          NaN  \n",
       "4               NaN          NaN  \n",
       "...             ...          ...  \n",
       "24529        1837.0         13.0  \n",
       "24530        1298.0          1.0  \n",
       "24531         800.0          1.0  \n",
       "24532        1691.0          4.0  \n",
       "24533        6509.0        117.0  \n",
       "\n",
       "[24534 rows x 8 columns]"
      ]
     },
     "execution_count": 43,
     "metadata": {},
     "output_type": "execute_result"
    }
   ],
   "source": [
    "# copy original data\n",
    "df_clean = df_data.copy()\n",
    "df_clean"
   ]
  },
  {
   "cell_type": "code",
   "execution_count": 44,
   "metadata": {},
   "outputs": [],
   "source": [
    "# remove row which has all values are null/missing\n",
    "df_clean.dropna(how=\"all\", inplace=True)"
   ]
  },
  {
   "cell_type": "code",
   "execution_count": 45,
   "metadata": {},
   "outputs": [
    {
     "name": "stdout",
     "output_type": "stream",
     "text": [
      "<class 'pandas.core.frame.DataFrame'>\n",
      "Int64Index: 24534 entries, 0 to 24533\n",
      "Data columns (total 8 columns):\n",
      " #   Column        Non-Null Count  Dtype  \n",
      "---  ------        --------------  -----  \n",
      " 0   Date          24534 non-null  object \n",
      " 1   Prefecture    24534 non-null  object \n",
      " 2   Positive      24534 non-null  int64  \n",
      " 3   Tested        24467 non-null  float64\n",
      " 4   Discharged    24486 non-null  float64\n",
      " 5   Fatal         24176 non-null  float64\n",
      " 6   Hosp_require  22110 non-null  float64\n",
      " 7   Hosp_severe   21854 non-null  float64\n",
      "dtypes: float64(5), int64(1), object(2)\n",
      "memory usage: 1.7+ MB\n"
     ]
    }
   ],
   "source": [
    "df_clean.info()"
   ]
  },
  {
   "cell_type": "code",
   "execution_count": 46,
   "metadata": {},
   "outputs": [],
   "source": [
    "# rename some features for meaningfull\n",
    "df_clean = df_clean.rename(columns={'Prefecture': 'Province','Fatal': 'Death', 'Hosp_require':\"Hospitalization\", \"Hosp_severe\": \"Severe\"})"
   ]
  },
  {
   "cell_type": "code",
   "execution_count": 47,
   "metadata": {},
   "outputs": [
    {
     "data": {
      "text/html": [
       "<div>\n",
       "<style scoped>\n",
       "    .dataframe tbody tr th:only-of-type {\n",
       "        vertical-align: middle;\n",
       "    }\n",
       "\n",
       "    .dataframe tbody tr th {\n",
       "        vertical-align: top;\n",
       "    }\n",
       "\n",
       "    .dataframe thead th {\n",
       "        text-align: right;\n",
       "    }\n",
       "</style>\n",
       "<table border=\"1\" class=\"dataframe\">\n",
       "  <thead>\n",
       "    <tr style=\"text-align: right;\">\n",
       "      <th></th>\n",
       "      <th>Date</th>\n",
       "      <th>Province</th>\n",
       "      <th>Positive</th>\n",
       "      <th>Tested</th>\n",
       "      <th>Discharged</th>\n",
       "      <th>Death</th>\n",
       "      <th>Hospitalization</th>\n",
       "      <th>Severe</th>\n",
       "    </tr>\n",
       "  </thead>\n",
       "  <tbody>\n",
       "    <tr>\n",
       "      <th>0</th>\n",
       "      <td>2020-03-18</td>\n",
       "      <td>Hokkaido</td>\n",
       "      <td>154</td>\n",
       "      <td>1587.0</td>\n",
       "      <td>69.0</td>\n",
       "      <td>7.0</td>\n",
       "      <td>NaN</td>\n",
       "      <td>NaN</td>\n",
       "    </tr>\n",
       "    <tr>\n",
       "      <th>1</th>\n",
       "      <td>2020-03-18</td>\n",
       "      <td>Aomori</td>\n",
       "      <td>0</td>\n",
       "      <td>75.0</td>\n",
       "      <td>0.0</td>\n",
       "      <td>0.0</td>\n",
       "      <td>NaN</td>\n",
       "      <td>NaN</td>\n",
       "    </tr>\n",
       "    <tr>\n",
       "      <th>2</th>\n",
       "      <td>2020-03-18</td>\n",
       "      <td>Iwate</td>\n",
       "      <td>0</td>\n",
       "      <td>24.0</td>\n",
       "      <td>0.0</td>\n",
       "      <td>0.0</td>\n",
       "      <td>NaN</td>\n",
       "      <td>NaN</td>\n",
       "    </tr>\n",
       "    <tr>\n",
       "      <th>3</th>\n",
       "      <td>2020-03-18</td>\n",
       "      <td>Miyagi</td>\n",
       "      <td>1</td>\n",
       "      <td>138.0</td>\n",
       "      <td>1.0</td>\n",
       "      <td>0.0</td>\n",
       "      <td>NaN</td>\n",
       "      <td>NaN</td>\n",
       "    </tr>\n",
       "    <tr>\n",
       "      <th>4</th>\n",
       "      <td>2020-03-18</td>\n",
       "      <td>Akita</td>\n",
       "      <td>2</td>\n",
       "      <td>109.0</td>\n",
       "      <td>1.0</td>\n",
       "      <td>0.0</td>\n",
       "      <td>NaN</td>\n",
       "      <td>NaN</td>\n",
       "    </tr>\n",
       "  </tbody>\n",
       "</table>\n",
       "</div>"
      ],
      "text/plain": [
       "         Date  Province  Positive  Tested  Discharged  Death  Hospitalization  \\\n",
       "0  2020-03-18  Hokkaido       154  1587.0        69.0    7.0              NaN   \n",
       "1  2020-03-18    Aomori         0    75.0         0.0    0.0              NaN   \n",
       "2  2020-03-18     Iwate         0    24.0         0.0    0.0              NaN   \n",
       "3  2020-03-18    Miyagi         1   138.0         1.0    0.0              NaN   \n",
       "4  2020-03-18     Akita         2   109.0         1.0    0.0              NaN   \n",
       "\n",
       "   Severe  \n",
       "0     NaN  \n",
       "1     NaN  \n",
       "2     NaN  \n",
       "3     NaN  \n",
       "4     NaN  "
      ]
     },
     "execution_count": 47,
     "metadata": {},
     "output_type": "execute_result"
    }
   ],
   "source": [
    "df_clean.head()"
   ]
  },
  {
   "cell_type": "code",
   "execution_count": 48,
   "metadata": {},
   "outputs": [],
   "source": [
    "df_clean['Date']=pd.to_datetime(df_clean['Date'])"
   ]
  },
  {
   "cell_type": "code",
   "execution_count": 49,
   "metadata": {},
   "outputs": [
    {
     "data": {
      "text/html": [
       "<div>\n",
       "<style scoped>\n",
       "    .dataframe tbody tr th:only-of-type {\n",
       "        vertical-align: middle;\n",
       "    }\n",
       "\n",
       "    .dataframe tbody tr th {\n",
       "        vertical-align: top;\n",
       "    }\n",
       "\n",
       "    .dataframe thead th {\n",
       "        text-align: right;\n",
       "    }\n",
       "</style>\n",
       "<table border=\"1\" class=\"dataframe\">\n",
       "  <thead>\n",
       "    <tr style=\"text-align: right;\">\n",
       "      <th></th>\n",
       "      <th>Date</th>\n",
       "      <th>Province</th>\n",
       "      <th>Positive</th>\n",
       "      <th>Tested</th>\n",
       "      <th>Discharged</th>\n",
       "      <th>Death</th>\n",
       "      <th>Hospitalization</th>\n",
       "      <th>Severe</th>\n",
       "    </tr>\n",
       "  </thead>\n",
       "  <tbody>\n",
       "    <tr>\n",
       "      <th>0</th>\n",
       "      <td>2020-03-18</td>\n",
       "      <td>Hokkaido</td>\n",
       "      <td>154</td>\n",
       "      <td>1587.0</td>\n",
       "      <td>69.0</td>\n",
       "      <td>7.0</td>\n",
       "      <td>NaN</td>\n",
       "      <td>NaN</td>\n",
       "    </tr>\n",
       "    <tr>\n",
       "      <th>1</th>\n",
       "      <td>2020-03-18</td>\n",
       "      <td>Aomori</td>\n",
       "      <td>0</td>\n",
       "      <td>75.0</td>\n",
       "      <td>0.0</td>\n",
       "      <td>0.0</td>\n",
       "      <td>NaN</td>\n",
       "      <td>NaN</td>\n",
       "    </tr>\n",
       "    <tr>\n",
       "      <th>2</th>\n",
       "      <td>2020-03-18</td>\n",
       "      <td>Iwate</td>\n",
       "      <td>0</td>\n",
       "      <td>24.0</td>\n",
       "      <td>0.0</td>\n",
       "      <td>0.0</td>\n",
       "      <td>NaN</td>\n",
       "      <td>NaN</td>\n",
       "    </tr>\n",
       "    <tr>\n",
       "      <th>3</th>\n",
       "      <td>2020-03-18</td>\n",
       "      <td>Miyagi</td>\n",
       "      <td>1</td>\n",
       "      <td>138.0</td>\n",
       "      <td>1.0</td>\n",
       "      <td>0.0</td>\n",
       "      <td>NaN</td>\n",
       "      <td>NaN</td>\n",
       "    </tr>\n",
       "    <tr>\n",
       "      <th>4</th>\n",
       "      <td>2020-03-18</td>\n",
       "      <td>Akita</td>\n",
       "      <td>2</td>\n",
       "      <td>109.0</td>\n",
       "      <td>1.0</td>\n",
       "      <td>0.0</td>\n",
       "      <td>NaN</td>\n",
       "      <td>NaN</td>\n",
       "    </tr>\n",
       "  </tbody>\n",
       "</table>\n",
       "</div>"
      ],
      "text/plain": [
       "        Date  Province  Positive  Tested  Discharged  Death  Hospitalization  \\\n",
       "0 2020-03-18  Hokkaido       154  1587.0        69.0    7.0              NaN   \n",
       "1 2020-03-18    Aomori         0    75.0         0.0    0.0              NaN   \n",
       "2 2020-03-18     Iwate         0    24.0         0.0    0.0              NaN   \n",
       "3 2020-03-18    Miyagi         1   138.0         1.0    0.0              NaN   \n",
       "4 2020-03-18     Akita         2   109.0         1.0    0.0              NaN   \n",
       "\n",
       "   Severe  \n",
       "0     NaN  \n",
       "1     NaN  \n",
       "2     NaN  \n",
       "3     NaN  \n",
       "4     NaN  "
      ]
     },
     "execution_count": 49,
     "metadata": {},
     "output_type": "execute_result"
    }
   ],
   "source": [
    "df_clean.head()"
   ]
  },
  {
   "cell_type": "code",
   "execution_count": 50,
   "metadata": {},
   "outputs": [],
   "source": [
    "from datetime import datetime"
   ]
  },
  {
   "cell_type": "markdown",
   "metadata": {},
   "source": [
    "# GET DATA: Jun, Jul, Aug -2021"
   ]
  },
  {
   "cell_type": "code",
   "execution_count": 76,
   "metadata": {},
   "outputs": [
    {
     "data": {
      "text/html": [
       "<div>\n",
       "<style scoped>\n",
       "    .dataframe tbody tr th:only-of-type {\n",
       "        vertical-align: middle;\n",
       "    }\n",
       "\n",
       "    .dataframe tbody tr th {\n",
       "        vertical-align: top;\n",
       "    }\n",
       "\n",
       "    .dataframe thead th {\n",
       "        text-align: right;\n",
       "    }\n",
       "</style>\n",
       "<table border=\"1\" class=\"dataframe\">\n",
       "  <thead>\n",
       "    <tr style=\"text-align: right;\">\n",
       "      <th></th>\n",
       "      <th>Date</th>\n",
       "      <th>Province</th>\n",
       "      <th>Positive</th>\n",
       "      <th>Tested</th>\n",
       "      <th>Discharged</th>\n",
       "      <th>Death</th>\n",
       "      <th>Hospitalization</th>\n",
       "      <th>Severe</th>\n",
       "    </tr>\n",
       "  </thead>\n",
       "  <tbody>\n",
       "    <tr>\n",
       "      <th>20680</th>\n",
       "      <td>2021-06-01</td>\n",
       "      <td>Hokkaido</td>\n",
       "      <td>38213</td>\n",
       "      <td>685540.0</td>\n",
       "      <td>29778.0</td>\n",
       "      <td>1128.0</td>\n",
       "      <td>7828.0</td>\n",
       "      <td>56.0</td>\n",
       "    </tr>\n",
       "    <tr>\n",
       "      <th>20681</th>\n",
       "      <td>2021-06-01</td>\n",
       "      <td>Aomori</td>\n",
       "      <td>2368</td>\n",
       "      <td>45006.0</td>\n",
       "      <td>2132.0</td>\n",
       "      <td>30.0</td>\n",
       "      <td>206.0</td>\n",
       "      <td>1.0</td>\n",
       "    </tr>\n",
       "    <tr>\n",
       "      <th>20682</th>\n",
       "      <td>2021-06-01</td>\n",
       "      <td>Iwate</td>\n",
       "      <td>1448</td>\n",
       "      <td>73756.0</td>\n",
       "      <td>1284.0</td>\n",
       "      <td>45.0</td>\n",
       "      <td>119.0</td>\n",
       "      <td>1.0</td>\n",
       "    </tr>\n",
       "    <tr>\n",
       "      <th>20683</th>\n",
       "      <td>2021-06-01</td>\n",
       "      <td>Miyagi</td>\n",
       "      <td>8874</td>\n",
       "      <td>144763.0</td>\n",
       "      <td>8588.0</td>\n",
       "      <td>83.0</td>\n",
       "      <td>187.0</td>\n",
       "      <td>7.0</td>\n",
       "    </tr>\n",
       "    <tr>\n",
       "      <th>20684</th>\n",
       "      <td>2021-06-01</td>\n",
       "      <td>Akita</td>\n",
       "      <td>758</td>\n",
       "      <td>13807.0</td>\n",
       "      <td>699.0</td>\n",
       "      <td>14.0</td>\n",
       "      <td>45.0</td>\n",
       "      <td>1.0</td>\n",
       "    </tr>\n",
       "    <tr>\n",
       "      <th>...</th>\n",
       "      <td>...</td>\n",
       "      <td>...</td>\n",
       "      <td>...</td>\n",
       "      <td>...</td>\n",
       "      <td>...</td>\n",
       "      <td>...</td>\n",
       "      <td>...</td>\n",
       "      <td>...</td>\n",
       "    </tr>\n",
       "    <tr>\n",
       "      <th>24529</th>\n",
       "      <td>2021-08-21</td>\n",
       "      <td>Kumamoto</td>\n",
       "      <td>10426</td>\n",
       "      <td>98074.0</td>\n",
       "      <td>8466.0</td>\n",
       "      <td>123.0</td>\n",
       "      <td>1837.0</td>\n",
       "      <td>13.0</td>\n",
       "    </tr>\n",
       "    <tr>\n",
       "      <th>24530</th>\n",
       "      <td>2021-08-21</td>\n",
       "      <td>Oita</td>\n",
       "      <td>5449</td>\n",
       "      <td>210368.0</td>\n",
       "      <td>4086.0</td>\n",
       "      <td>65.0</td>\n",
       "      <td>1298.0</td>\n",
       "      <td>1.0</td>\n",
       "    </tr>\n",
       "    <tr>\n",
       "      <th>24531</th>\n",
       "      <td>2021-08-21</td>\n",
       "      <td>Miyazaki</td>\n",
       "      <td>4286</td>\n",
       "      <td>53900.0</td>\n",
       "      <td>3511.0</td>\n",
       "      <td>28.0</td>\n",
       "      <td>800.0</td>\n",
       "      <td>1.0</td>\n",
       "    </tr>\n",
       "    <tr>\n",
       "      <th>24532</th>\n",
       "      <td>2021-08-21</td>\n",
       "      <td>Kagoshima</td>\n",
       "      <td>6615</td>\n",
       "      <td>135705.0</td>\n",
       "      <td>4693.0</td>\n",
       "      <td>42.0</td>\n",
       "      <td>1691.0</td>\n",
       "      <td>4.0</td>\n",
       "    </tr>\n",
       "    <tr>\n",
       "      <th>24533</th>\n",
       "      <td>2021-08-21</td>\n",
       "      <td>Okinawa</td>\n",
       "      <td>36882</td>\n",
       "      <td>321707.0</td>\n",
       "      <td>29941.0</td>\n",
       "      <td>248.0</td>\n",
       "      <td>6509.0</td>\n",
       "      <td>117.0</td>\n",
       "    </tr>\n",
       "  </tbody>\n",
       "</table>\n",
       "<p>3854 rows × 8 columns</p>\n",
       "</div>"
      ],
      "text/plain": [
       "            Date   Province  Positive    Tested  Discharged   Death  \\\n",
       "20680 2021-06-01   Hokkaido     38213  685540.0     29778.0  1128.0   \n",
       "20681 2021-06-01     Aomori      2368   45006.0      2132.0    30.0   \n",
       "20682 2021-06-01      Iwate      1448   73756.0      1284.0    45.0   \n",
       "20683 2021-06-01     Miyagi      8874  144763.0      8588.0    83.0   \n",
       "20684 2021-06-01      Akita       758   13807.0       699.0    14.0   \n",
       "...          ...        ...       ...       ...         ...     ...   \n",
       "24529 2021-08-21   Kumamoto     10426   98074.0      8466.0   123.0   \n",
       "24530 2021-08-21       Oita      5449  210368.0      4086.0    65.0   \n",
       "24531 2021-08-21   Miyazaki      4286   53900.0      3511.0    28.0   \n",
       "24532 2021-08-21  Kagoshima      6615  135705.0      4693.0    42.0   \n",
       "24533 2021-08-21    Okinawa     36882  321707.0     29941.0   248.0   \n",
       "\n",
       "       Hospitalization  Severe  \n",
       "20680           7828.0    56.0  \n",
       "20681            206.0     1.0  \n",
       "20682            119.0     1.0  \n",
       "20683            187.0     7.0  \n",
       "20684             45.0     1.0  \n",
       "...                ...     ...  \n",
       "24529           1837.0    13.0  \n",
       "24530           1298.0     1.0  \n",
       "24531            800.0     1.0  \n",
       "24532           1691.0     4.0  \n",
       "24533           6509.0   117.0  \n",
       "\n",
       "[3854 rows x 8 columns]"
      ]
     },
     "execution_count": 76,
     "metadata": {},
     "output_type": "execute_result"
    }
   ],
   "source": [
    "# df_678 = df_clean[df_clean['Date'].dt.month > 5 and df_clean['Date'].dt.year == 2021]\n",
    "df_678 = df_clean[df_clean['Date'].dt.month > 5]\n",
    "df_678 = df_678[df_678['Date'].dt.year ==2021]\n",
    "df_678_original= df_678.copy()\n",
    "# df_678\n",
    "df_678_original"
   ]
  },
  {
   "cell_type": "code",
   "execution_count": 52,
   "metadata": {},
   "outputs": [
    {
     "data": {
      "text/html": [
       "<div>\n",
       "<style scoped>\n",
       "    .dataframe tbody tr th:only-of-type {\n",
       "        vertical-align: middle;\n",
       "    }\n",
       "\n",
       "    .dataframe tbody tr th {\n",
       "        vertical-align: top;\n",
       "    }\n",
       "\n",
       "    .dataframe thead th {\n",
       "        text-align: right;\n",
       "    }\n",
       "</style>\n",
       "<table border=\"1\" class=\"dataframe\">\n",
       "  <thead>\n",
       "    <tr style=\"text-align: right;\">\n",
       "      <th></th>\n",
       "      <th>Province</th>\n",
       "      <th>Positive</th>\n",
       "      <th>Tested</th>\n",
       "      <th>Discharged</th>\n",
       "      <th>Death</th>\n",
       "      <th>Hospitalization</th>\n",
       "      <th>Severe</th>\n",
       "    </tr>\n",
       "  </thead>\n",
       "  <tbody>\n",
       "    <tr>\n",
       "      <th>20680</th>\n",
       "      <td>Hokkaido</td>\n",
       "      <td>38213</td>\n",
       "      <td>685540.0</td>\n",
       "      <td>29778.0</td>\n",
       "      <td>1128.0</td>\n",
       "      <td>7828.0</td>\n",
       "      <td>56.0</td>\n",
       "    </tr>\n",
       "    <tr>\n",
       "      <th>20681</th>\n",
       "      <td>Aomori</td>\n",
       "      <td>2368</td>\n",
       "      <td>45006.0</td>\n",
       "      <td>2132.0</td>\n",
       "      <td>30.0</td>\n",
       "      <td>206.0</td>\n",
       "      <td>1.0</td>\n",
       "    </tr>\n",
       "    <tr>\n",
       "      <th>20682</th>\n",
       "      <td>Iwate</td>\n",
       "      <td>1448</td>\n",
       "      <td>73756.0</td>\n",
       "      <td>1284.0</td>\n",
       "      <td>45.0</td>\n",
       "      <td>119.0</td>\n",
       "      <td>1.0</td>\n",
       "    </tr>\n",
       "    <tr>\n",
       "      <th>20683</th>\n",
       "      <td>Miyagi</td>\n",
       "      <td>8874</td>\n",
       "      <td>144763.0</td>\n",
       "      <td>8588.0</td>\n",
       "      <td>83.0</td>\n",
       "      <td>187.0</td>\n",
       "      <td>7.0</td>\n",
       "    </tr>\n",
       "    <tr>\n",
       "      <th>20684</th>\n",
       "      <td>Akita</td>\n",
       "      <td>758</td>\n",
       "      <td>13807.0</td>\n",
       "      <td>699.0</td>\n",
       "      <td>14.0</td>\n",
       "      <td>45.0</td>\n",
       "      <td>1.0</td>\n",
       "    </tr>\n",
       "    <tr>\n",
       "      <th>...</th>\n",
       "      <td>...</td>\n",
       "      <td>...</td>\n",
       "      <td>...</td>\n",
       "      <td>...</td>\n",
       "      <td>...</td>\n",
       "      <td>...</td>\n",
       "      <td>...</td>\n",
       "    </tr>\n",
       "    <tr>\n",
       "      <th>24529</th>\n",
       "      <td>Kumamoto</td>\n",
       "      <td>10426</td>\n",
       "      <td>98074.0</td>\n",
       "      <td>8466.0</td>\n",
       "      <td>123.0</td>\n",
       "      <td>1837.0</td>\n",
       "      <td>13.0</td>\n",
       "    </tr>\n",
       "    <tr>\n",
       "      <th>24530</th>\n",
       "      <td>Oita</td>\n",
       "      <td>5449</td>\n",
       "      <td>210368.0</td>\n",
       "      <td>4086.0</td>\n",
       "      <td>65.0</td>\n",
       "      <td>1298.0</td>\n",
       "      <td>1.0</td>\n",
       "    </tr>\n",
       "    <tr>\n",
       "      <th>24531</th>\n",
       "      <td>Miyazaki</td>\n",
       "      <td>4286</td>\n",
       "      <td>53900.0</td>\n",
       "      <td>3511.0</td>\n",
       "      <td>28.0</td>\n",
       "      <td>800.0</td>\n",
       "      <td>1.0</td>\n",
       "    </tr>\n",
       "    <tr>\n",
       "      <th>24532</th>\n",
       "      <td>Kagoshima</td>\n",
       "      <td>6615</td>\n",
       "      <td>135705.0</td>\n",
       "      <td>4693.0</td>\n",
       "      <td>42.0</td>\n",
       "      <td>1691.0</td>\n",
       "      <td>4.0</td>\n",
       "    </tr>\n",
       "    <tr>\n",
       "      <th>24533</th>\n",
       "      <td>Okinawa</td>\n",
       "      <td>36882</td>\n",
       "      <td>321707.0</td>\n",
       "      <td>29941.0</td>\n",
       "      <td>248.0</td>\n",
       "      <td>6509.0</td>\n",
       "      <td>117.0</td>\n",
       "    </tr>\n",
       "  </tbody>\n",
       "</table>\n",
       "<p>3854 rows × 7 columns</p>\n",
       "</div>"
      ],
      "text/plain": [
       "        Province  Positive    Tested  Discharged   Death  Hospitalization  \\\n",
       "20680   Hokkaido     38213  685540.0     29778.0  1128.0           7828.0   \n",
       "20681     Aomori      2368   45006.0      2132.0    30.0            206.0   \n",
       "20682      Iwate      1448   73756.0      1284.0    45.0            119.0   \n",
       "20683     Miyagi      8874  144763.0      8588.0    83.0            187.0   \n",
       "20684      Akita       758   13807.0       699.0    14.0             45.0   \n",
       "...          ...       ...       ...         ...     ...              ...   \n",
       "24529   Kumamoto     10426   98074.0      8466.0   123.0           1837.0   \n",
       "24530       Oita      5449  210368.0      4086.0    65.0           1298.0   \n",
       "24531   Miyazaki      4286   53900.0      3511.0    28.0            800.0   \n",
       "24532  Kagoshima      6615  135705.0      4693.0    42.0           1691.0   \n",
       "24533    Okinawa     36882  321707.0     29941.0   248.0           6509.0   \n",
       "\n",
       "       Severe  \n",
       "20680    56.0  \n",
       "20681     1.0  \n",
       "20682     1.0  \n",
       "20683     7.0  \n",
       "20684     1.0  \n",
       "...       ...  \n",
       "24529    13.0  \n",
       "24530     1.0  \n",
       "24531     1.0  \n",
       "24532     4.0  \n",
       "24533   117.0  \n",
       "\n",
       "[3854 rows x 7 columns]"
      ]
     },
     "execution_count": 52,
     "metadata": {},
     "output_type": "execute_result"
    }
   ],
   "source": [
    "del df_678['Date']\n",
    "df_678"
   ]
  },
  {
   "cell_type": "markdown",
   "metadata": {},
   "source": [
    "# SUM to find which province has highest death"
   ]
  },
  {
   "cell_type": "code",
   "execution_count": 53,
   "metadata": {},
   "outputs": [
    {
     "data": {
      "text/html": [
       "<div>\n",
       "<style scoped>\n",
       "    .dataframe tbody tr th:only-of-type {\n",
       "        vertical-align: middle;\n",
       "    }\n",
       "\n",
       "    .dataframe tbody tr th {\n",
       "        vertical-align: top;\n",
       "    }\n",
       "\n",
       "    .dataframe thead th {\n",
       "        text-align: right;\n",
       "    }\n",
       "</style>\n",
       "<table border=\"1\" class=\"dataframe\">\n",
       "  <thead>\n",
       "    <tr style=\"text-align: right;\">\n",
       "      <th></th>\n",
       "      <th>Positive</th>\n",
       "      <th>Tested</th>\n",
       "      <th>Discharged</th>\n",
       "      <th>Death</th>\n",
       "      <th>Hospitalization</th>\n",
       "      <th>Severe</th>\n",
       "    </tr>\n",
       "    <tr>\n",
       "      <th>Province</th>\n",
       "      <th></th>\n",
       "      <th></th>\n",
       "      <th></th>\n",
       "      <th></th>\n",
       "      <th></th>\n",
       "      <th></th>\n",
       "    </tr>\n",
       "  </thead>\n",
       "  <tbody>\n",
       "    <tr>\n",
       "      <th>Aichi</th>\n",
       "      <td>4322920</td>\n",
       "      <td>70412563.0</td>\n",
       "      <td>4056301.0</td>\n",
       "      <td>78794.0</td>\n",
       "      <td>187825.0</td>\n",
       "      <td>2705.0</td>\n",
       "    </tr>\n",
       "    <tr>\n",
       "      <th>Akita</th>\n",
       "      <td>77106</td>\n",
       "      <td>1323068.0</td>\n",
       "      <td>70720.0</td>\n",
       "      <td>1615.0</td>\n",
       "      <td>4771.0</td>\n",
       "      <td>107.0</td>\n",
       "    </tr>\n",
       "    <tr>\n",
       "      <th>Aomori</th>\n",
       "      <td>216703</td>\n",
       "      <td>4358131.0</td>\n",
       "      <td>203927.0</td>\n",
       "      <td>2551.0</td>\n",
       "      <td>10225.0</td>\n",
       "      <td>38.0</td>\n",
       "    </tr>\n",
       "    <tr>\n",
       "      <th>Chiba</th>\n",
       "      <td>3764896</td>\n",
       "      <td>59720813.0</td>\n",
       "      <td>3437253.0</td>\n",
       "      <td>58954.0</td>\n",
       "      <td>268649.0</td>\n",
       "      <td>2545.0</td>\n",
       "    </tr>\n",
       "    <tr>\n",
       "      <th>Ehime</th>\n",
       "      <td>240172</td>\n",
       "      <td>8207378.0</td>\n",
       "      <td>223561.0</td>\n",
       "      <td>6198.0</td>\n",
       "      <td>10413.0</td>\n",
       "      <td>282.0</td>\n",
       "    </tr>\n",
       "    <tr>\n",
       "      <th>Fukui</th>\n",
       "      <td>117616</td>\n",
       "      <td>5969399.0</td>\n",
       "      <td>104583.0</td>\n",
       "      <td>2877.0</td>\n",
       "      <td>10157.0</td>\n",
       "      <td>33.0</td>\n",
       "    </tr>\n",
       "    <tr>\n",
       "      <th>Fukuoka</th>\n",
       "      <td>3168328</td>\n",
       "      <td>71318218.0</td>\n",
       "      <td>2903166.0</td>\n",
       "      <td>42673.0</td>\n",
       "      <td>200844.0</td>\n",
       "      <td>1980.0</td>\n",
       "    </tr>\n",
       "    <tr>\n",
       "      <th>Fukushima</th>\n",
       "      <td>446305</td>\n",
       "      <td>23994436.0</td>\n",
       "      <td>403771.0</td>\n",
       "      <td>13106.0</td>\n",
       "      <td>29428.0</td>\n",
       "      <td>619.0</td>\n",
       "    </tr>\n",
       "    <tr>\n",
       "      <th>Gifu</th>\n",
       "      <td>798538</td>\n",
       "      <td>22926520.0</td>\n",
       "      <td>754755.0</td>\n",
       "      <td>15134.0</td>\n",
       "      <td>28555.0</td>\n",
       "      <td>561.0</td>\n",
       "    </tr>\n",
       "    <tr>\n",
       "      <th>Gunma</th>\n",
       "      <td>711581</td>\n",
       "      <td>16639238.0</td>\n",
       "      <td>663495.0</td>\n",
       "      <td>12469.0</td>\n",
       "      <td>35779.0</td>\n",
       "      <td>668.0</td>\n",
       "    </tr>\n",
       "    <tr>\n",
       "      <th>Hiroshima</th>\n",
       "      <td>975763</td>\n",
       "      <td>46187864.0</td>\n",
       "      <td>921864.0</td>\n",
       "      <td>13976.0</td>\n",
       "      <td>29959.0</td>\n",
       "      <td>881.0</td>\n",
       "    </tr>\n",
       "    <tr>\n",
       "      <th>Hokkaido</th>\n",
       "      <td>3536220</td>\n",
       "      <td>66300484.0</td>\n",
       "      <td>3220589.0</td>\n",
       "      <td>112676.0</td>\n",
       "      <td>205870.0</td>\n",
       "      <td>1689.0</td>\n",
       "    </tr>\n",
       "    <tr>\n",
       "      <th>Hyogo</th>\n",
       "      <td>3527794</td>\n",
       "      <td>43231940.0</td>\n",
       "      <td>3309205.0</td>\n",
       "      <td>106079.0</td>\n",
       "      <td>112658.0</td>\n",
       "      <td>2712.0</td>\n",
       "    </tr>\n",
       "    <tr>\n",
       "      <th>Ibaraki</th>\n",
       "      <td>968521</td>\n",
       "      <td>2796397.0</td>\n",
       "      <td>892737.0</td>\n",
       "      <td>13527.0</td>\n",
       "      <td>62257.0</td>\n",
       "      <td>819.0</td>\n",
       "    </tr>\n",
       "    <tr>\n",
       "      <th>Ishikawa</th>\n",
       "      <td>373581</td>\n",
       "      <td>10385259.0</td>\n",
       "      <td>334581.0</td>\n",
       "      <td>9438.0</td>\n",
       "      <td>29134.0</td>\n",
       "      <td>328.0</td>\n",
       "    </tr>\n",
       "    <tr>\n",
       "      <th>Iwate</th>\n",
       "      <td>152510</td>\n",
       "      <td>7257273.0</td>\n",
       "      <td>137885.0</td>\n",
       "      <td>3826.0</td>\n",
       "      <td>10799.0</td>\n",
       "      <td>57.0</td>\n",
       "    </tr>\n",
       "    <tr>\n",
       "      <th>Kagawa</th>\n",
       "      <td>186661</td>\n",
       "      <td>7333738.0</td>\n",
       "      <td>172784.0</td>\n",
       "      <td>2495.0</td>\n",
       "      <td>11721.0</td>\n",
       "      <td>201.0</td>\n",
       "    </tr>\n",
       "    <tr>\n",
       "      <th>Kagoshima</th>\n",
       "      <td>327695</td>\n",
       "      <td>9435502.0</td>\n",
       "      <td>302695.0</td>\n",
       "      <td>3078.0</td>\n",
       "      <td>21703.0</td>\n",
       "      <td>99.0</td>\n",
       "    </tr>\n",
       "    <tr>\n",
       "      <th>Kanagawa</th>\n",
       "      <td>6369468</td>\n",
       "      <td>89853622.0</td>\n",
       "      <td>5859420.0</td>\n",
       "      <td>79098.0</td>\n",
       "      <td>430950.0</td>\n",
       "      <td>6345.0</td>\n",
       "    </tr>\n",
       "    <tr>\n",
       "      <th>Kochi</th>\n",
       "      <td>158276</td>\n",
       "      <td>3084066.0</td>\n",
       "      <td>146410.0</td>\n",
       "      <td>2163.0</td>\n",
       "      <td>9703.0</td>\n",
       "      <td>487.0</td>\n",
       "    </tr>\n",
       "    <tr>\n",
       "      <th>Kumamoto</th>\n",
       "      <td>571567</td>\n",
       "      <td>6907621.0</td>\n",
       "      <td>531803.0</td>\n",
       "      <td>9530.0</td>\n",
       "      <td>30234.0</td>\n",
       "      <td>522.0</td>\n",
       "    </tr>\n",
       "    <tr>\n",
       "      <th>Kyoto</th>\n",
       "      <td>1468636</td>\n",
       "      <td>24184076.0</td>\n",
       "      <td>1362629.0</td>\n",
       "      <td>19807.0</td>\n",
       "      <td>76819.0</td>\n",
       "      <td>2089.0</td>\n",
       "    </tr>\n",
       "    <tr>\n",
       "      <th>Mie</th>\n",
       "      <td>465200</td>\n",
       "      <td>12208312.0</td>\n",
       "      <td>438468.0</td>\n",
       "      <td>9183.0</td>\n",
       "      <td>29379.0</td>\n",
       "      <td>506.0</td>\n",
       "    </tr>\n",
       "    <tr>\n",
       "      <th>Miyagi</th>\n",
       "      <td>797503</td>\n",
       "      <td>13450614.0</td>\n",
       "      <td>757944.0</td>\n",
       "      <td>7307.0</td>\n",
       "      <td>29737.0</td>\n",
       "      <td>464.0</td>\n",
       "    </tr>\n",
       "    <tr>\n",
       "      <th>Miyazaki</th>\n",
       "      <td>265326</td>\n",
       "      <td>3742271.0</td>\n",
       "      <td>252812.0</td>\n",
       "      <td>2206.0</td>\n",
       "      <td>9610.0</td>\n",
       "      <td>48.0</td>\n",
       "    </tr>\n",
       "    <tr>\n",
       "      <th>Nagano</th>\n",
       "      <td>431742</td>\n",
       "      <td>17488625.0</td>\n",
       "      <td>413609.0</td>\n",
       "      <td>7528.0</td>\n",
       "      <td>15776.0</td>\n",
       "      <td>118.0</td>\n",
       "    </tr>\n",
       "    <tr>\n",
       "      <th>Nagasaki</th>\n",
       "      <td>276824</td>\n",
       "      <td>10608038.0</td>\n",
       "      <td>256186.0</td>\n",
       "      <td>5640.0</td>\n",
       "      <td>15082.0</td>\n",
       "      <td>41.0</td>\n",
       "    </tr>\n",
       "    <tr>\n",
       "      <th>Nara</th>\n",
       "      <td>721703</td>\n",
       "      <td>14440907.0</td>\n",
       "      <td>681459.0</td>\n",
       "      <td>10584.0</td>\n",
       "      <td>29673.0</td>\n",
       "      <td>638.0</td>\n",
       "    </tr>\n",
       "    <tr>\n",
       "      <th>Niigata</th>\n",
       "      <td>313369</td>\n",
       "      <td>14795309.0</td>\n",
       "      <td>286395.0</td>\n",
       "      <td>4140.0</td>\n",
       "      <td>22835.0</td>\n",
       "      <td>267.0</td>\n",
       "    </tr>\n",
       "    <tr>\n",
       "      <th>Oita</th>\n",
       "      <td>302708</td>\n",
       "      <td>14384495.0</td>\n",
       "      <td>282896.0</td>\n",
       "      <td>5090.0</td>\n",
       "      <td>14722.0</td>\n",
       "      <td>73.0</td>\n",
       "    </tr>\n",
       "    <tr>\n",
       "      <th>Okayama</th>\n",
       "      <td>664993</td>\n",
       "      <td>13995423.0</td>\n",
       "      <td>610471.0</td>\n",
       "      <td>10176.0</td>\n",
       "      <td>26631.0</td>\n",
       "      <td>506.0</td>\n",
       "    </tr>\n",
       "    <tr>\n",
       "      <th>Okinawa</th>\n",
       "      <td>1907585</td>\n",
       "      <td>21705776.0</td>\n",
       "      <td>1698318.0</td>\n",
       "      <td>16639.0</td>\n",
       "      <td>190606.0</td>\n",
       "      <td>5421.0</td>\n",
       "    </tr>\n",
       "    <tr>\n",
       "      <th>Osaka</th>\n",
       "      <td>9045161</td>\n",
       "      <td>185945091.0</td>\n",
       "      <td>8295037.0</td>\n",
       "      <td>217382.0</td>\n",
       "      <td>455489.0</td>\n",
       "      <td>19099.0</td>\n",
       "    </tr>\n",
       "    <tr>\n",
       "      <th>Saga</th>\n",
       "      <td>225953</td>\n",
       "      <td>4941718.0</td>\n",
       "      <td>213671.0</td>\n",
       "      <td>1963.0</td>\n",
       "      <td>9533.0</td>\n",
       "      <td>34.0</td>\n",
       "    </tr>\n",
       "    <tr>\n",
       "      <th>Saitama</th>\n",
       "      <td>4386952</td>\n",
       "      <td>83720021.0</td>\n",
       "      <td>3840801.0</td>\n",
       "      <td>68532.0</td>\n",
       "      <td>477619.0</td>\n",
       "      <td>3876.0</td>\n",
       "    </tr>\n",
       "    <tr>\n",
       "      <th>Shiga</th>\n",
       "      <td>489541</td>\n",
       "      <td>13019363.0</td>\n",
       "      <td>450216.0</td>\n",
       "      <td>7372.0</td>\n",
       "      <td>31953.0</td>\n",
       "      <td>409.0</td>\n",
       "    </tr>\n",
       "    <tr>\n",
       "      <th>Shimane</th>\n",
       "      <td>53438</td>\n",
       "      <td>2675347.0</td>\n",
       "      <td>49039.0</td>\n",
       "      <td>115.0</td>\n",
       "      <td>4286.0</td>\n",
       "      <td>81.0</td>\n",
       "    </tr>\n",
       "    <tr>\n",
       "      <th>Shizuoka</th>\n",
       "      <td>848903</td>\n",
       "      <td>34664434.0</td>\n",
       "      <td>762342.0</td>\n",
       "      <td>12402.0</td>\n",
       "      <td>74159.0</td>\n",
       "      <td>519.0</td>\n",
       "    </tr>\n",
       "    <tr>\n",
       "      <th>Tochigi</th>\n",
       "      <td>637060</td>\n",
       "      <td>25687926.0</td>\n",
       "      <td>584622.0</td>\n",
       "      <td>6897.0</td>\n",
       "      <td>45541.0</td>\n",
       "      <td>954.0</td>\n",
       "    </tr>\n",
       "    <tr>\n",
       "      <th>Tokushima</th>\n",
       "      <td>142215</td>\n",
       "      <td>5566748.0</td>\n",
       "      <td>133071.0</td>\n",
       "      <td>5160.0</td>\n",
       "      <td>3989.0</td>\n",
       "      <td>27.0</td>\n",
       "    </tr>\n",
       "    <tr>\n",
       "      <th>Tokyo</th>\n",
       "      <td>16390077</td>\n",
       "      <td>216782178.0</td>\n",
       "      <td>15031673.0</td>\n",
       "      <td>183938.0</td>\n",
       "      <td>1174466.0</td>\n",
       "      <td>7620.0</td>\n",
       "    </tr>\n",
       "    <tr>\n",
       "      <th>Tottori</th>\n",
       "      <td>53210</td>\n",
       "      <td>7366875.0</td>\n",
       "      <td>43496.0</td>\n",
       "      <td>181.0</td>\n",
       "      <td>8017.0</td>\n",
       "      <td>34.0</td>\n",
       "    </tr>\n",
       "    <tr>\n",
       "      <th>Toyama</th>\n",
       "      <td>183143</td>\n",
       "      <td>6314412.0</td>\n",
       "      <td>165767.0</td>\n",
       "      <td>3083.0</td>\n",
       "      <td>14292.0</td>\n",
       "      <td>324.0</td>\n",
       "    </tr>\n",
       "    <tr>\n",
       "      <th>Wakayama</th>\n",
       "      <td>235704</td>\n",
       "      <td>3574036.0</td>\n",
       "      <td>218297.0</td>\n",
       "      <td>3982.0</td>\n",
       "      <td>8257.0</td>\n",
       "      <td>593.0</td>\n",
       "    </tr>\n",
       "    <tr>\n",
       "      <th>Yamagata</th>\n",
       "      <td>175762</td>\n",
       "      <td>5582490.0</td>\n",
       "      <td>164256.0</td>\n",
       "      <td>3817.0</td>\n",
       "      <td>7689.0</td>\n",
       "      <td>178.0</td>\n",
       "    </tr>\n",
       "    <tr>\n",
       "      <th>Yamaguchi</th>\n",
       "      <td>267493</td>\n",
       "      <td>10177955.0</td>\n",
       "      <td>248344.0</td>\n",
       "      <td>6280.0</td>\n",
       "      <td>12869.0</td>\n",
       "      <td>133.0</td>\n",
       "    </tr>\n",
       "    <tr>\n",
       "      <th>Yamanashi</th>\n",
       "      <td>184869</td>\n",
       "      <td>5077123.0</td>\n",
       "      <td>166818.0</td>\n",
       "      <td>1709.0</td>\n",
       "      <td>16401.0</td>\n",
       "      <td>59.0</td>\n",
       "    </tr>\n",
       "  </tbody>\n",
       "</table>\n",
       "</div>"
      ],
      "text/plain": [
       "           Positive       Tested  Discharged     Death  Hospitalization  \\\n",
       "Province                                                                  \n",
       "Aichi       4322920   70412563.0   4056301.0   78794.0         187825.0   \n",
       "Akita         77106    1323068.0     70720.0    1615.0           4771.0   \n",
       "Aomori       216703    4358131.0    203927.0    2551.0          10225.0   \n",
       "Chiba       3764896   59720813.0   3437253.0   58954.0         268649.0   \n",
       "Ehime        240172    8207378.0    223561.0    6198.0          10413.0   \n",
       "Fukui        117616    5969399.0    104583.0    2877.0          10157.0   \n",
       "Fukuoka     3168328   71318218.0   2903166.0   42673.0         200844.0   \n",
       "Fukushima    446305   23994436.0    403771.0   13106.0          29428.0   \n",
       "Gifu         798538   22926520.0    754755.0   15134.0          28555.0   \n",
       "Gunma        711581   16639238.0    663495.0   12469.0          35779.0   \n",
       "Hiroshima    975763   46187864.0    921864.0   13976.0          29959.0   \n",
       "Hokkaido    3536220   66300484.0   3220589.0  112676.0         205870.0   \n",
       "Hyogo       3527794   43231940.0   3309205.0  106079.0         112658.0   \n",
       "Ibaraki      968521    2796397.0    892737.0   13527.0          62257.0   \n",
       "Ishikawa     373581   10385259.0    334581.0    9438.0          29134.0   \n",
       "Iwate        152510    7257273.0    137885.0    3826.0          10799.0   \n",
       "Kagawa       186661    7333738.0    172784.0    2495.0          11721.0   \n",
       "Kagoshima    327695    9435502.0    302695.0    3078.0          21703.0   \n",
       "Kanagawa    6369468   89853622.0   5859420.0   79098.0         430950.0   \n",
       "Kochi        158276    3084066.0    146410.0    2163.0           9703.0   \n",
       "Kumamoto     571567    6907621.0    531803.0    9530.0          30234.0   \n",
       "Kyoto       1468636   24184076.0   1362629.0   19807.0          76819.0   \n",
       "Mie          465200   12208312.0    438468.0    9183.0          29379.0   \n",
       "Miyagi       797503   13450614.0    757944.0    7307.0          29737.0   \n",
       "Miyazaki     265326    3742271.0    252812.0    2206.0           9610.0   \n",
       "Nagano       431742   17488625.0    413609.0    7528.0          15776.0   \n",
       "Nagasaki     276824   10608038.0    256186.0    5640.0          15082.0   \n",
       "Nara         721703   14440907.0    681459.0   10584.0          29673.0   \n",
       "Niigata      313369   14795309.0    286395.0    4140.0          22835.0   \n",
       "Oita         302708   14384495.0    282896.0    5090.0          14722.0   \n",
       "Okayama      664993   13995423.0    610471.0   10176.0          26631.0   \n",
       "Okinawa     1907585   21705776.0   1698318.0   16639.0         190606.0   \n",
       "Osaka       9045161  185945091.0   8295037.0  217382.0         455489.0   \n",
       "Saga         225953    4941718.0    213671.0    1963.0           9533.0   \n",
       "Saitama     4386952   83720021.0   3840801.0   68532.0         477619.0   \n",
       "Shiga        489541   13019363.0    450216.0    7372.0          31953.0   \n",
       "Shimane       53438    2675347.0     49039.0     115.0           4286.0   \n",
       "Shizuoka     848903   34664434.0    762342.0   12402.0          74159.0   \n",
       "Tochigi      637060   25687926.0    584622.0    6897.0          45541.0   \n",
       "Tokushima    142215    5566748.0    133071.0    5160.0           3989.0   \n",
       "Tokyo      16390077  216782178.0  15031673.0  183938.0        1174466.0   \n",
       "Tottori       53210    7366875.0     43496.0     181.0           8017.0   \n",
       "Toyama       183143    6314412.0    165767.0    3083.0          14292.0   \n",
       "Wakayama     235704    3574036.0    218297.0    3982.0           8257.0   \n",
       "Yamagata     175762    5582490.0    164256.0    3817.0           7689.0   \n",
       "Yamaguchi    267493   10177955.0    248344.0    6280.0          12869.0   \n",
       "Yamanashi    184869    5077123.0    166818.0    1709.0          16401.0   \n",
       "\n",
       "            Severe  \n",
       "Province            \n",
       "Aichi       2705.0  \n",
       "Akita        107.0  \n",
       "Aomori        38.0  \n",
       "Chiba       2545.0  \n",
       "Ehime        282.0  \n",
       "Fukui         33.0  \n",
       "Fukuoka     1980.0  \n",
       "Fukushima    619.0  \n",
       "Gifu         561.0  \n",
       "Gunma        668.0  \n",
       "Hiroshima    881.0  \n",
       "Hokkaido    1689.0  \n",
       "Hyogo       2712.0  \n",
       "Ibaraki      819.0  \n",
       "Ishikawa     328.0  \n",
       "Iwate         57.0  \n",
       "Kagawa       201.0  \n",
       "Kagoshima     99.0  \n",
       "Kanagawa    6345.0  \n",
       "Kochi        487.0  \n",
       "Kumamoto     522.0  \n",
       "Kyoto       2089.0  \n",
       "Mie          506.0  \n",
       "Miyagi       464.0  \n",
       "Miyazaki      48.0  \n",
       "Nagano       118.0  \n",
       "Nagasaki      41.0  \n",
       "Nara         638.0  \n",
       "Niigata      267.0  \n",
       "Oita          73.0  \n",
       "Okayama      506.0  \n",
       "Okinawa     5421.0  \n",
       "Osaka      19099.0  \n",
       "Saga          34.0  \n",
       "Saitama     3876.0  \n",
       "Shiga        409.0  \n",
       "Shimane       81.0  \n",
       "Shizuoka     519.0  \n",
       "Tochigi      954.0  \n",
       "Tokushima     27.0  \n",
       "Tokyo       7620.0  \n",
       "Tottori       34.0  \n",
       "Toyama       324.0  \n",
       "Wakayama     593.0  \n",
       "Yamagata     178.0  \n",
       "Yamaguchi    133.0  \n",
       "Yamanashi     59.0  "
      ]
     },
     "execution_count": 53,
     "metadata": {},
     "output_type": "execute_result"
    }
   ],
   "source": [
    "df_678_total=df_678.groupby('Province').sum()\n",
    "df_678_total"
   ]
  },
  {
   "cell_type": "code",
   "execution_count": 54,
   "metadata": {},
   "outputs": [
    {
     "data": {
      "text/html": [
       "<div>\n",
       "<style scoped>\n",
       "    .dataframe tbody tr th:only-of-type {\n",
       "        vertical-align: middle;\n",
       "    }\n",
       "\n",
       "    .dataframe tbody tr th {\n",
       "        vertical-align: top;\n",
       "    }\n",
       "\n",
       "    .dataframe thead th {\n",
       "        text-align: right;\n",
       "    }\n",
       "</style>\n",
       "<table border=\"1\" class=\"dataframe\">\n",
       "  <thead>\n",
       "    <tr style=\"text-align: right;\">\n",
       "      <th></th>\n",
       "      <th>Positive</th>\n",
       "      <th>Tested</th>\n",
       "      <th>Discharged</th>\n",
       "      <th>Death</th>\n",
       "      <th>Hospitalization</th>\n",
       "      <th>Severe</th>\n",
       "    </tr>\n",
       "    <tr>\n",
       "      <th>Province</th>\n",
       "      <th></th>\n",
       "      <th></th>\n",
       "      <th></th>\n",
       "      <th></th>\n",
       "      <th></th>\n",
       "      <th></th>\n",
       "    </tr>\n",
       "  </thead>\n",
       "  <tbody>\n",
       "    <tr>\n",
       "      <th>Osaka</th>\n",
       "      <td>9045161</td>\n",
       "      <td>185945091.0</td>\n",
       "      <td>8295037.0</td>\n",
       "      <td>217382.0</td>\n",
       "      <td>455489.0</td>\n",
       "      <td>19099.0</td>\n",
       "    </tr>\n",
       "    <tr>\n",
       "      <th>Tokyo</th>\n",
       "      <td>16390077</td>\n",
       "      <td>216782178.0</td>\n",
       "      <td>15031673.0</td>\n",
       "      <td>183938.0</td>\n",
       "      <td>1174466.0</td>\n",
       "      <td>7620.0</td>\n",
       "    </tr>\n",
       "    <tr>\n",
       "      <th>Hokkaido</th>\n",
       "      <td>3536220</td>\n",
       "      <td>66300484.0</td>\n",
       "      <td>3220589.0</td>\n",
       "      <td>112676.0</td>\n",
       "      <td>205870.0</td>\n",
       "      <td>1689.0</td>\n",
       "    </tr>\n",
       "    <tr>\n",
       "      <th>Hyogo</th>\n",
       "      <td>3527794</td>\n",
       "      <td>43231940.0</td>\n",
       "      <td>3309205.0</td>\n",
       "      <td>106079.0</td>\n",
       "      <td>112658.0</td>\n",
       "      <td>2712.0</td>\n",
       "    </tr>\n",
       "    <tr>\n",
       "      <th>Kanagawa</th>\n",
       "      <td>6369468</td>\n",
       "      <td>89853622.0</td>\n",
       "      <td>5859420.0</td>\n",
       "      <td>79098.0</td>\n",
       "      <td>430950.0</td>\n",
       "      <td>6345.0</td>\n",
       "    </tr>\n",
       "    <tr>\n",
       "      <th>Aichi</th>\n",
       "      <td>4322920</td>\n",
       "      <td>70412563.0</td>\n",
       "      <td>4056301.0</td>\n",
       "      <td>78794.0</td>\n",
       "      <td>187825.0</td>\n",
       "      <td>2705.0</td>\n",
       "    </tr>\n",
       "    <tr>\n",
       "      <th>Saitama</th>\n",
       "      <td>4386952</td>\n",
       "      <td>83720021.0</td>\n",
       "      <td>3840801.0</td>\n",
       "      <td>68532.0</td>\n",
       "      <td>477619.0</td>\n",
       "      <td>3876.0</td>\n",
       "    </tr>\n",
       "    <tr>\n",
       "      <th>Chiba</th>\n",
       "      <td>3764896</td>\n",
       "      <td>59720813.0</td>\n",
       "      <td>3437253.0</td>\n",
       "      <td>58954.0</td>\n",
       "      <td>268649.0</td>\n",
       "      <td>2545.0</td>\n",
       "    </tr>\n",
       "    <tr>\n",
       "      <th>Fukuoka</th>\n",
       "      <td>3168328</td>\n",
       "      <td>71318218.0</td>\n",
       "      <td>2903166.0</td>\n",
       "      <td>42673.0</td>\n",
       "      <td>200844.0</td>\n",
       "      <td>1980.0</td>\n",
       "    </tr>\n",
       "    <tr>\n",
       "      <th>Kyoto</th>\n",
       "      <td>1468636</td>\n",
       "      <td>24184076.0</td>\n",
       "      <td>1362629.0</td>\n",
       "      <td>19807.0</td>\n",
       "      <td>76819.0</td>\n",
       "      <td>2089.0</td>\n",
       "    </tr>\n",
       "    <tr>\n",
       "      <th>Okinawa</th>\n",
       "      <td>1907585</td>\n",
       "      <td>21705776.0</td>\n",
       "      <td>1698318.0</td>\n",
       "      <td>16639.0</td>\n",
       "      <td>190606.0</td>\n",
       "      <td>5421.0</td>\n",
       "    </tr>\n",
       "    <tr>\n",
       "      <th>Gifu</th>\n",
       "      <td>798538</td>\n",
       "      <td>22926520.0</td>\n",
       "      <td>754755.0</td>\n",
       "      <td>15134.0</td>\n",
       "      <td>28555.0</td>\n",
       "      <td>561.0</td>\n",
       "    </tr>\n",
       "    <tr>\n",
       "      <th>Hiroshima</th>\n",
       "      <td>975763</td>\n",
       "      <td>46187864.0</td>\n",
       "      <td>921864.0</td>\n",
       "      <td>13976.0</td>\n",
       "      <td>29959.0</td>\n",
       "      <td>881.0</td>\n",
       "    </tr>\n",
       "    <tr>\n",
       "      <th>Ibaraki</th>\n",
       "      <td>968521</td>\n",
       "      <td>2796397.0</td>\n",
       "      <td>892737.0</td>\n",
       "      <td>13527.0</td>\n",
       "      <td>62257.0</td>\n",
       "      <td>819.0</td>\n",
       "    </tr>\n",
       "    <tr>\n",
       "      <th>Fukushima</th>\n",
       "      <td>446305</td>\n",
       "      <td>23994436.0</td>\n",
       "      <td>403771.0</td>\n",
       "      <td>13106.0</td>\n",
       "      <td>29428.0</td>\n",
       "      <td>619.0</td>\n",
       "    </tr>\n",
       "    <tr>\n",
       "      <th>Gunma</th>\n",
       "      <td>711581</td>\n",
       "      <td>16639238.0</td>\n",
       "      <td>663495.0</td>\n",
       "      <td>12469.0</td>\n",
       "      <td>35779.0</td>\n",
       "      <td>668.0</td>\n",
       "    </tr>\n",
       "    <tr>\n",
       "      <th>Shizuoka</th>\n",
       "      <td>848903</td>\n",
       "      <td>34664434.0</td>\n",
       "      <td>762342.0</td>\n",
       "      <td>12402.0</td>\n",
       "      <td>74159.0</td>\n",
       "      <td>519.0</td>\n",
       "    </tr>\n",
       "    <tr>\n",
       "      <th>Nara</th>\n",
       "      <td>721703</td>\n",
       "      <td>14440907.0</td>\n",
       "      <td>681459.0</td>\n",
       "      <td>10584.0</td>\n",
       "      <td>29673.0</td>\n",
       "      <td>638.0</td>\n",
       "    </tr>\n",
       "    <tr>\n",
       "      <th>Okayama</th>\n",
       "      <td>664993</td>\n",
       "      <td>13995423.0</td>\n",
       "      <td>610471.0</td>\n",
       "      <td>10176.0</td>\n",
       "      <td>26631.0</td>\n",
       "      <td>506.0</td>\n",
       "    </tr>\n",
       "    <tr>\n",
       "      <th>Kumamoto</th>\n",
       "      <td>571567</td>\n",
       "      <td>6907621.0</td>\n",
       "      <td>531803.0</td>\n",
       "      <td>9530.0</td>\n",
       "      <td>30234.0</td>\n",
       "      <td>522.0</td>\n",
       "    </tr>\n",
       "    <tr>\n",
       "      <th>Ishikawa</th>\n",
       "      <td>373581</td>\n",
       "      <td>10385259.0</td>\n",
       "      <td>334581.0</td>\n",
       "      <td>9438.0</td>\n",
       "      <td>29134.0</td>\n",
       "      <td>328.0</td>\n",
       "    </tr>\n",
       "    <tr>\n",
       "      <th>Mie</th>\n",
       "      <td>465200</td>\n",
       "      <td>12208312.0</td>\n",
       "      <td>438468.0</td>\n",
       "      <td>9183.0</td>\n",
       "      <td>29379.0</td>\n",
       "      <td>506.0</td>\n",
       "    </tr>\n",
       "    <tr>\n",
       "      <th>Nagano</th>\n",
       "      <td>431742</td>\n",
       "      <td>17488625.0</td>\n",
       "      <td>413609.0</td>\n",
       "      <td>7528.0</td>\n",
       "      <td>15776.0</td>\n",
       "      <td>118.0</td>\n",
       "    </tr>\n",
       "    <tr>\n",
       "      <th>Shiga</th>\n",
       "      <td>489541</td>\n",
       "      <td>13019363.0</td>\n",
       "      <td>450216.0</td>\n",
       "      <td>7372.0</td>\n",
       "      <td>31953.0</td>\n",
       "      <td>409.0</td>\n",
       "    </tr>\n",
       "    <tr>\n",
       "      <th>Miyagi</th>\n",
       "      <td>797503</td>\n",
       "      <td>13450614.0</td>\n",
       "      <td>757944.0</td>\n",
       "      <td>7307.0</td>\n",
       "      <td>29737.0</td>\n",
       "      <td>464.0</td>\n",
       "    </tr>\n",
       "    <tr>\n",
       "      <th>Tochigi</th>\n",
       "      <td>637060</td>\n",
       "      <td>25687926.0</td>\n",
       "      <td>584622.0</td>\n",
       "      <td>6897.0</td>\n",
       "      <td>45541.0</td>\n",
       "      <td>954.0</td>\n",
       "    </tr>\n",
       "    <tr>\n",
       "      <th>Yamaguchi</th>\n",
       "      <td>267493</td>\n",
       "      <td>10177955.0</td>\n",
       "      <td>248344.0</td>\n",
       "      <td>6280.0</td>\n",
       "      <td>12869.0</td>\n",
       "      <td>133.0</td>\n",
       "    </tr>\n",
       "    <tr>\n",
       "      <th>Ehime</th>\n",
       "      <td>240172</td>\n",
       "      <td>8207378.0</td>\n",
       "      <td>223561.0</td>\n",
       "      <td>6198.0</td>\n",
       "      <td>10413.0</td>\n",
       "      <td>282.0</td>\n",
       "    </tr>\n",
       "    <tr>\n",
       "      <th>Nagasaki</th>\n",
       "      <td>276824</td>\n",
       "      <td>10608038.0</td>\n",
       "      <td>256186.0</td>\n",
       "      <td>5640.0</td>\n",
       "      <td>15082.0</td>\n",
       "      <td>41.0</td>\n",
       "    </tr>\n",
       "    <tr>\n",
       "      <th>Tokushima</th>\n",
       "      <td>142215</td>\n",
       "      <td>5566748.0</td>\n",
       "      <td>133071.0</td>\n",
       "      <td>5160.0</td>\n",
       "      <td>3989.0</td>\n",
       "      <td>27.0</td>\n",
       "    </tr>\n",
       "    <tr>\n",
       "      <th>Oita</th>\n",
       "      <td>302708</td>\n",
       "      <td>14384495.0</td>\n",
       "      <td>282896.0</td>\n",
       "      <td>5090.0</td>\n",
       "      <td>14722.0</td>\n",
       "      <td>73.0</td>\n",
       "    </tr>\n",
       "    <tr>\n",
       "      <th>Niigata</th>\n",
       "      <td>313369</td>\n",
       "      <td>14795309.0</td>\n",
       "      <td>286395.0</td>\n",
       "      <td>4140.0</td>\n",
       "      <td>22835.0</td>\n",
       "      <td>267.0</td>\n",
       "    </tr>\n",
       "    <tr>\n",
       "      <th>Wakayama</th>\n",
       "      <td>235704</td>\n",
       "      <td>3574036.0</td>\n",
       "      <td>218297.0</td>\n",
       "      <td>3982.0</td>\n",
       "      <td>8257.0</td>\n",
       "      <td>593.0</td>\n",
       "    </tr>\n",
       "    <tr>\n",
       "      <th>Iwate</th>\n",
       "      <td>152510</td>\n",
       "      <td>7257273.0</td>\n",
       "      <td>137885.0</td>\n",
       "      <td>3826.0</td>\n",
       "      <td>10799.0</td>\n",
       "      <td>57.0</td>\n",
       "    </tr>\n",
       "    <tr>\n",
       "      <th>Yamagata</th>\n",
       "      <td>175762</td>\n",
       "      <td>5582490.0</td>\n",
       "      <td>164256.0</td>\n",
       "      <td>3817.0</td>\n",
       "      <td>7689.0</td>\n",
       "      <td>178.0</td>\n",
       "    </tr>\n",
       "    <tr>\n",
       "      <th>Toyama</th>\n",
       "      <td>183143</td>\n",
       "      <td>6314412.0</td>\n",
       "      <td>165767.0</td>\n",
       "      <td>3083.0</td>\n",
       "      <td>14292.0</td>\n",
       "      <td>324.0</td>\n",
       "    </tr>\n",
       "    <tr>\n",
       "      <th>Kagoshima</th>\n",
       "      <td>327695</td>\n",
       "      <td>9435502.0</td>\n",
       "      <td>302695.0</td>\n",
       "      <td>3078.0</td>\n",
       "      <td>21703.0</td>\n",
       "      <td>99.0</td>\n",
       "    </tr>\n",
       "    <tr>\n",
       "      <th>Fukui</th>\n",
       "      <td>117616</td>\n",
       "      <td>5969399.0</td>\n",
       "      <td>104583.0</td>\n",
       "      <td>2877.0</td>\n",
       "      <td>10157.0</td>\n",
       "      <td>33.0</td>\n",
       "    </tr>\n",
       "    <tr>\n",
       "      <th>Aomori</th>\n",
       "      <td>216703</td>\n",
       "      <td>4358131.0</td>\n",
       "      <td>203927.0</td>\n",
       "      <td>2551.0</td>\n",
       "      <td>10225.0</td>\n",
       "      <td>38.0</td>\n",
       "    </tr>\n",
       "    <tr>\n",
       "      <th>Kagawa</th>\n",
       "      <td>186661</td>\n",
       "      <td>7333738.0</td>\n",
       "      <td>172784.0</td>\n",
       "      <td>2495.0</td>\n",
       "      <td>11721.0</td>\n",
       "      <td>201.0</td>\n",
       "    </tr>\n",
       "    <tr>\n",
       "      <th>Miyazaki</th>\n",
       "      <td>265326</td>\n",
       "      <td>3742271.0</td>\n",
       "      <td>252812.0</td>\n",
       "      <td>2206.0</td>\n",
       "      <td>9610.0</td>\n",
       "      <td>48.0</td>\n",
       "    </tr>\n",
       "    <tr>\n",
       "      <th>Kochi</th>\n",
       "      <td>158276</td>\n",
       "      <td>3084066.0</td>\n",
       "      <td>146410.0</td>\n",
       "      <td>2163.0</td>\n",
       "      <td>9703.0</td>\n",
       "      <td>487.0</td>\n",
       "    </tr>\n",
       "    <tr>\n",
       "      <th>Saga</th>\n",
       "      <td>225953</td>\n",
       "      <td>4941718.0</td>\n",
       "      <td>213671.0</td>\n",
       "      <td>1963.0</td>\n",
       "      <td>9533.0</td>\n",
       "      <td>34.0</td>\n",
       "    </tr>\n",
       "    <tr>\n",
       "      <th>Yamanashi</th>\n",
       "      <td>184869</td>\n",
       "      <td>5077123.0</td>\n",
       "      <td>166818.0</td>\n",
       "      <td>1709.0</td>\n",
       "      <td>16401.0</td>\n",
       "      <td>59.0</td>\n",
       "    </tr>\n",
       "    <tr>\n",
       "      <th>Akita</th>\n",
       "      <td>77106</td>\n",
       "      <td>1323068.0</td>\n",
       "      <td>70720.0</td>\n",
       "      <td>1615.0</td>\n",
       "      <td>4771.0</td>\n",
       "      <td>107.0</td>\n",
       "    </tr>\n",
       "    <tr>\n",
       "      <th>Tottori</th>\n",
       "      <td>53210</td>\n",
       "      <td>7366875.0</td>\n",
       "      <td>43496.0</td>\n",
       "      <td>181.0</td>\n",
       "      <td>8017.0</td>\n",
       "      <td>34.0</td>\n",
       "    </tr>\n",
       "    <tr>\n",
       "      <th>Shimane</th>\n",
       "      <td>53438</td>\n",
       "      <td>2675347.0</td>\n",
       "      <td>49039.0</td>\n",
       "      <td>115.0</td>\n",
       "      <td>4286.0</td>\n",
       "      <td>81.0</td>\n",
       "    </tr>\n",
       "  </tbody>\n",
       "</table>\n",
       "</div>"
      ],
      "text/plain": [
       "           Positive       Tested  Discharged     Death  Hospitalization  \\\n",
       "Province                                                                  \n",
       "Osaka       9045161  185945091.0   8295037.0  217382.0         455489.0   \n",
       "Tokyo      16390077  216782178.0  15031673.0  183938.0        1174466.0   \n",
       "Hokkaido    3536220   66300484.0   3220589.0  112676.0         205870.0   \n",
       "Hyogo       3527794   43231940.0   3309205.0  106079.0         112658.0   \n",
       "Kanagawa    6369468   89853622.0   5859420.0   79098.0         430950.0   \n",
       "Aichi       4322920   70412563.0   4056301.0   78794.0         187825.0   \n",
       "Saitama     4386952   83720021.0   3840801.0   68532.0         477619.0   \n",
       "Chiba       3764896   59720813.0   3437253.0   58954.0         268649.0   \n",
       "Fukuoka     3168328   71318218.0   2903166.0   42673.0         200844.0   \n",
       "Kyoto       1468636   24184076.0   1362629.0   19807.0          76819.0   \n",
       "Okinawa     1907585   21705776.0   1698318.0   16639.0         190606.0   \n",
       "Gifu         798538   22926520.0    754755.0   15134.0          28555.0   \n",
       "Hiroshima    975763   46187864.0    921864.0   13976.0          29959.0   \n",
       "Ibaraki      968521    2796397.0    892737.0   13527.0          62257.0   \n",
       "Fukushima    446305   23994436.0    403771.0   13106.0          29428.0   \n",
       "Gunma        711581   16639238.0    663495.0   12469.0          35779.0   \n",
       "Shizuoka     848903   34664434.0    762342.0   12402.0          74159.0   \n",
       "Nara         721703   14440907.0    681459.0   10584.0          29673.0   \n",
       "Okayama      664993   13995423.0    610471.0   10176.0          26631.0   \n",
       "Kumamoto     571567    6907621.0    531803.0    9530.0          30234.0   \n",
       "Ishikawa     373581   10385259.0    334581.0    9438.0          29134.0   \n",
       "Mie          465200   12208312.0    438468.0    9183.0          29379.0   \n",
       "Nagano       431742   17488625.0    413609.0    7528.0          15776.0   \n",
       "Shiga        489541   13019363.0    450216.0    7372.0          31953.0   \n",
       "Miyagi       797503   13450614.0    757944.0    7307.0          29737.0   \n",
       "Tochigi      637060   25687926.0    584622.0    6897.0          45541.0   \n",
       "Yamaguchi    267493   10177955.0    248344.0    6280.0          12869.0   \n",
       "Ehime        240172    8207378.0    223561.0    6198.0          10413.0   \n",
       "Nagasaki     276824   10608038.0    256186.0    5640.0          15082.0   \n",
       "Tokushima    142215    5566748.0    133071.0    5160.0           3989.0   \n",
       "Oita         302708   14384495.0    282896.0    5090.0          14722.0   \n",
       "Niigata      313369   14795309.0    286395.0    4140.0          22835.0   \n",
       "Wakayama     235704    3574036.0    218297.0    3982.0           8257.0   \n",
       "Iwate        152510    7257273.0    137885.0    3826.0          10799.0   \n",
       "Yamagata     175762    5582490.0    164256.0    3817.0           7689.0   \n",
       "Toyama       183143    6314412.0    165767.0    3083.0          14292.0   \n",
       "Kagoshima    327695    9435502.0    302695.0    3078.0          21703.0   \n",
       "Fukui        117616    5969399.0    104583.0    2877.0          10157.0   \n",
       "Aomori       216703    4358131.0    203927.0    2551.0          10225.0   \n",
       "Kagawa       186661    7333738.0    172784.0    2495.0          11721.0   \n",
       "Miyazaki     265326    3742271.0    252812.0    2206.0           9610.0   \n",
       "Kochi        158276    3084066.0    146410.0    2163.0           9703.0   \n",
       "Saga         225953    4941718.0    213671.0    1963.0           9533.0   \n",
       "Yamanashi    184869    5077123.0    166818.0    1709.0          16401.0   \n",
       "Akita         77106    1323068.0     70720.0    1615.0           4771.0   \n",
       "Tottori       53210    7366875.0     43496.0     181.0           8017.0   \n",
       "Shimane       53438    2675347.0     49039.0     115.0           4286.0   \n",
       "\n",
       "            Severe  \n",
       "Province            \n",
       "Osaka      19099.0  \n",
       "Tokyo       7620.0  \n",
       "Hokkaido    1689.0  \n",
       "Hyogo       2712.0  \n",
       "Kanagawa    6345.0  \n",
       "Aichi       2705.0  \n",
       "Saitama     3876.0  \n",
       "Chiba       2545.0  \n",
       "Fukuoka     1980.0  \n",
       "Kyoto       2089.0  \n",
       "Okinawa     5421.0  \n",
       "Gifu         561.0  \n",
       "Hiroshima    881.0  \n",
       "Ibaraki      819.0  \n",
       "Fukushima    619.0  \n",
       "Gunma        668.0  \n",
       "Shizuoka     519.0  \n",
       "Nara         638.0  \n",
       "Okayama      506.0  \n",
       "Kumamoto     522.0  \n",
       "Ishikawa     328.0  \n",
       "Mie          506.0  \n",
       "Nagano       118.0  \n",
       "Shiga        409.0  \n",
       "Miyagi       464.0  \n",
       "Tochigi      954.0  \n",
       "Yamaguchi    133.0  \n",
       "Ehime        282.0  \n",
       "Nagasaki      41.0  \n",
       "Tokushima     27.0  \n",
       "Oita          73.0  \n",
       "Niigata      267.0  \n",
       "Wakayama     593.0  \n",
       "Iwate         57.0  \n",
       "Yamagata     178.0  \n",
       "Toyama       324.0  \n",
       "Kagoshima     99.0  \n",
       "Fukui         33.0  \n",
       "Aomori        38.0  \n",
       "Kagawa       201.0  \n",
       "Miyazaki      48.0  \n",
       "Kochi        487.0  \n",
       "Saga          34.0  \n",
       "Yamanashi     59.0  \n",
       "Akita        107.0  \n",
       "Tottori       34.0  \n",
       "Shimane       81.0  "
      ]
     },
     "execution_count": 54,
     "metadata": {},
     "output_type": "execute_result"
    }
   ],
   "source": [
    "df_678_total.sort_values(['Death'], ascending=False, inplace=True)\n",
    "df_678_total"
   ]
  },
  {
   "cell_type": "markdown",
   "metadata": {},
   "source": [
    "# GET DATA from top 05 PROVINCE - highest Death"
   ]
  },
  {
   "cell_type": "code",
   "execution_count": 77,
   "metadata": {},
   "outputs": [
    {
     "data": {
      "text/html": [
       "<div>\n",
       "<style scoped>\n",
       "    .dataframe tbody tr th:only-of-type {\n",
       "        vertical-align: middle;\n",
       "    }\n",
       "\n",
       "    .dataframe tbody tr th {\n",
       "        vertical-align: top;\n",
       "    }\n",
       "\n",
       "    .dataframe thead th {\n",
       "        text-align: right;\n",
       "    }\n",
       "</style>\n",
       "<table border=\"1\" class=\"dataframe\">\n",
       "  <thead>\n",
       "    <tr style=\"text-align: right;\">\n",
       "      <th></th>\n",
       "      <th>Date</th>\n",
       "      <th>Province</th>\n",
       "      <th>Positive</th>\n",
       "      <th>Tested</th>\n",
       "      <th>Discharged</th>\n",
       "      <th>Death</th>\n",
       "      <th>Hospitalization</th>\n",
       "      <th>Severe</th>\n",
       "    </tr>\n",
       "  </thead>\n",
       "  <tbody>\n",
       "    <tr>\n",
       "      <th>20680</th>\n",
       "      <td>2021-06-01</td>\n",
       "      <td>Hokkaido</td>\n",
       "      <td>38213</td>\n",
       "      <td>685540.0</td>\n",
       "      <td>29778.0</td>\n",
       "      <td>1128.0</td>\n",
       "      <td>7828.0</td>\n",
       "      <td>56.0</td>\n",
       "    </tr>\n",
       "    <tr>\n",
       "      <th>20692</th>\n",
       "      <td>2021-06-01</td>\n",
       "      <td>Tokyo</td>\n",
       "      <td>161426</td>\n",
       "      <td>2291661.0</td>\n",
       "      <td>154590.0</td>\n",
       "      <td>2062.0</td>\n",
       "      <td>4774.0</td>\n",
       "      <td>70.0</td>\n",
       "    </tr>\n",
       "    <tr>\n",
       "      <th>20693</th>\n",
       "      <td>2021-06-01</td>\n",
       "      <td>Kanagawa</td>\n",
       "      <td>61675</td>\n",
       "      <td>932095.0</td>\n",
       "      <td>58909.0</td>\n",
       "      <td>884.0</td>\n",
       "      <td>1882.0</td>\n",
       "      <td>74.0</td>\n",
       "    </tr>\n",
       "    <tr>\n",
       "      <th>20706</th>\n",
       "      <td>2021-06-01</td>\n",
       "      <td>Osaka</td>\n",
       "      <td>99920</td>\n",
       "      <td>1835542.0</td>\n",
       "      <td>88261.0</td>\n",
       "      <td>2336.0</td>\n",
       "      <td>8411.0</td>\n",
       "      <td>339.0</td>\n",
       "    </tr>\n",
       "    <tr>\n",
       "      <th>20707</th>\n",
       "      <td>2021-06-01</td>\n",
       "      <td>Hyogo</td>\n",
       "      <td>39705</td>\n",
       "      <td>460466.0</td>\n",
       "      <td>36954.0</td>\n",
       "      <td>1192.0</td>\n",
       "      <td>1570.0</td>\n",
       "      <td>88.0</td>\n",
       "    </tr>\n",
       "    <tr>\n",
       "      <th>...</th>\n",
       "      <td>...</td>\n",
       "      <td>...</td>\n",
       "      <td>...</td>\n",
       "      <td>...</td>\n",
       "      <td>...</td>\n",
       "      <td>...</td>\n",
       "      <td>...</td>\n",
       "      <td>...</td>\n",
       "    </tr>\n",
       "    <tr>\n",
       "      <th>24487</th>\n",
       "      <td>2021-08-21</td>\n",
       "      <td>Hokkaido</td>\n",
       "      <td>52591</td>\n",
       "      <td>942602.0</td>\n",
       "      <td>46445.0</td>\n",
       "      <td>1435.0</td>\n",
       "      <td>4520.0</td>\n",
       "      <td>14.0</td>\n",
       "    </tr>\n",
       "    <tr>\n",
       "      <th>24499</th>\n",
       "      <td>2021-08-21</td>\n",
       "      <td>Tokyo</td>\n",
       "      <td>307870</td>\n",
       "      <td>3119292.0</td>\n",
       "      <td>260043.0</td>\n",
       "      <td>2371.0</td>\n",
       "      <td>45456.0</td>\n",
       "      <td>270.0</td>\n",
       "    </tr>\n",
       "    <tr>\n",
       "      <th>24500</th>\n",
       "      <td>2021-08-21</td>\n",
       "      <td>Kanagawa</td>\n",
       "      <td>125121</td>\n",
       "      <td>1329499.0</td>\n",
       "      <td>106697.0</td>\n",
       "      <td>1052.0</td>\n",
       "      <td>17372.0</td>\n",
       "      <td>221.0</td>\n",
       "    </tr>\n",
       "    <tr>\n",
       "      <th>24513</th>\n",
       "      <td>2021-08-21</td>\n",
       "      <td>Osaka</td>\n",
       "      <td>145148</td>\n",
       "      <td>2760556.0</td>\n",
       "      <td>121262.0</td>\n",
       "      <td>2756.0</td>\n",
       "      <td>19512.0</td>\n",
       "      <td>496.0</td>\n",
       "    </tr>\n",
       "    <tr>\n",
       "      <th>24514</th>\n",
       "      <td>2021-08-21</td>\n",
       "      <td>Hyogo</td>\n",
       "      <td>55199</td>\n",
       "      <td>610937.0</td>\n",
       "      <td>47975.0</td>\n",
       "      <td>1328.0</td>\n",
       "      <td>5896.0</td>\n",
       "      <td>62.0</td>\n",
       "    </tr>\n",
       "  </tbody>\n",
       "</table>\n",
       "<p>410 rows × 8 columns</p>\n",
       "</div>"
      ],
      "text/plain": [
       "            Date  Province  Positive     Tested  Discharged   Death  \\\n",
       "20680 2021-06-01  Hokkaido     38213   685540.0     29778.0  1128.0   \n",
       "20692 2021-06-01     Tokyo    161426  2291661.0    154590.0  2062.0   \n",
       "20693 2021-06-01  Kanagawa     61675   932095.0     58909.0   884.0   \n",
       "20706 2021-06-01     Osaka     99920  1835542.0     88261.0  2336.0   \n",
       "20707 2021-06-01     Hyogo     39705   460466.0     36954.0  1192.0   \n",
       "...          ...       ...       ...        ...         ...     ...   \n",
       "24487 2021-08-21  Hokkaido     52591   942602.0     46445.0  1435.0   \n",
       "24499 2021-08-21     Tokyo    307870  3119292.0    260043.0  2371.0   \n",
       "24500 2021-08-21  Kanagawa    125121  1329499.0    106697.0  1052.0   \n",
       "24513 2021-08-21     Osaka    145148  2760556.0    121262.0  2756.0   \n",
       "24514 2021-08-21     Hyogo     55199   610937.0     47975.0  1328.0   \n",
       "\n",
       "       Hospitalization  Severe  \n",
       "20680           7828.0    56.0  \n",
       "20692           4774.0    70.0  \n",
       "20693           1882.0    74.0  \n",
       "20706           8411.0   339.0  \n",
       "20707           1570.0    88.0  \n",
       "...                ...     ...  \n",
       "24487           4520.0    14.0  \n",
       "24499          45456.0   270.0  \n",
       "24500          17372.0   221.0  \n",
       "24513          19512.0   496.0  \n",
       "24514           5896.0    62.0  \n",
       "\n",
       "[410 rows x 8 columns]"
      ]
     },
     "execution_count": 77,
     "metadata": {},
     "output_type": "execute_result"
    }
   ],
   "source": [
    "df2 = df_678_original\n",
    "df3=df2[df2['Province'].isin(['Osaka', 'Tokyo', 'Hokkaido', 'Hyogo', 'Kanagawa'])]\n",
    "df3"
   ]
  },
  {
   "cell_type": "code",
   "execution_count": 78,
   "metadata": {},
   "outputs": [],
   "source": [
    "# resample data to date level (add the date it has missed)\n",
    "\n",
    "df3 = df3.groupby('Province').apply(\n",
    "    lambda x: x.set_index('Date').resample('D').interpolate('linear')\n",
    ")"
   ]
  },
  {
   "cell_type": "code",
   "execution_count": 79,
   "metadata": {},
   "outputs": [
    {
     "data": {
      "text/html": [
       "<div>\n",
       "<style scoped>\n",
       "    .dataframe tbody tr th:only-of-type {\n",
       "        vertical-align: middle;\n",
       "    }\n",
       "\n",
       "    .dataframe tbody tr th {\n",
       "        vertical-align: top;\n",
       "    }\n",
       "\n",
       "    .dataframe thead th {\n",
       "        text-align: right;\n",
       "    }\n",
       "</style>\n",
       "<table border=\"1\" class=\"dataframe\">\n",
       "  <thead>\n",
       "    <tr style=\"text-align: right;\">\n",
       "      <th></th>\n",
       "      <th></th>\n",
       "      <th>Province</th>\n",
       "      <th>Positive</th>\n",
       "      <th>Tested</th>\n",
       "      <th>Discharged</th>\n",
       "      <th>Death</th>\n",
       "      <th>Hospitalization</th>\n",
       "      <th>Severe</th>\n",
       "    </tr>\n",
       "    <tr>\n",
       "      <th>Province</th>\n",
       "      <th>Date</th>\n",
       "      <th></th>\n",
       "      <th></th>\n",
       "      <th></th>\n",
       "      <th></th>\n",
       "      <th></th>\n",
       "      <th></th>\n",
       "      <th></th>\n",
       "    </tr>\n",
       "  </thead>\n",
       "  <tbody>\n",
       "    <tr>\n",
       "      <th rowspan=\"5\" valign=\"top\">Hokkaido</th>\n",
       "      <th>2021-06-01</th>\n",
       "      <td>Hokkaido</td>\n",
       "      <td>38213</td>\n",
       "      <td>685540.0</td>\n",
       "      <td>29778.0</td>\n",
       "      <td>1128.0</td>\n",
       "      <td>7828.0</td>\n",
       "      <td>56.0</td>\n",
       "    </tr>\n",
       "    <tr>\n",
       "      <th>2021-06-02</th>\n",
       "      <td>Hokkaido</td>\n",
       "      <td>38530</td>\n",
       "      <td>691336.0</td>\n",
       "      <td>30401.0</td>\n",
       "      <td>1138.0</td>\n",
       "      <td>7307.0</td>\n",
       "      <td>51.0</td>\n",
       "    </tr>\n",
       "    <tr>\n",
       "      <th>2021-06-03</th>\n",
       "      <td>Hokkaido</td>\n",
       "      <td>38830</td>\n",
       "      <td>696174.0</td>\n",
       "      <td>31089.0</td>\n",
       "      <td>1156.0</td>\n",
       "      <td>6991.0</td>\n",
       "      <td>46.0</td>\n",
       "    </tr>\n",
       "    <tr>\n",
       "      <th>2021-06-04</th>\n",
       "      <td>Hokkaido</td>\n",
       "      <td>39033</td>\n",
       "      <td>701265.0</td>\n",
       "      <td>31439.0</td>\n",
       "      <td>1163.0</td>\n",
       "      <td>6585.0</td>\n",
       "      <td>47.0</td>\n",
       "    </tr>\n",
       "    <tr>\n",
       "      <th>2021-06-05</th>\n",
       "      <td>Hokkaido</td>\n",
       "      <td>39309</td>\n",
       "      <td>706189.0</td>\n",
       "      <td>31935.0</td>\n",
       "      <td>1179.0</td>\n",
       "      <td>6431.0</td>\n",
       "      <td>42.0</td>\n",
       "    </tr>\n",
       "    <tr>\n",
       "      <th>...</th>\n",
       "      <th>...</th>\n",
       "      <td>...</td>\n",
       "      <td>...</td>\n",
       "      <td>...</td>\n",
       "      <td>...</td>\n",
       "      <td>...</td>\n",
       "      <td>...</td>\n",
       "      <td>...</td>\n",
       "    </tr>\n",
       "    <tr>\n",
       "      <th rowspan=\"5\" valign=\"top\">Tokyo</th>\n",
       "      <th>2021-08-17</th>\n",
       "      <td>Tokyo</td>\n",
       "      <td>286471</td>\n",
       "      <td>3043648.0</td>\n",
       "      <td>245256.0</td>\n",
       "      <td>2348.0</td>\n",
       "      <td>38867.0</td>\n",
       "      <td>276.0</td>\n",
       "    </tr>\n",
       "    <tr>\n",
       "      <th>2021-08-18</th>\n",
       "      <td>Tokyo</td>\n",
       "      <td>291857</td>\n",
       "      <td>3065160.0</td>\n",
       "      <td>249306.0</td>\n",
       "      <td>2354.0</td>\n",
       "      <td>40197.0</td>\n",
       "      <td>275.0</td>\n",
       "    </tr>\n",
       "    <tr>\n",
       "      <th>2021-08-19</th>\n",
       "      <td>Tokyo</td>\n",
       "      <td>297391</td>\n",
       "      <td>3085568.0</td>\n",
       "      <td>252488.0</td>\n",
       "      <td>2358.0</td>\n",
       "      <td>42545.0</td>\n",
       "      <td>274.0</td>\n",
       "    </tr>\n",
       "    <tr>\n",
       "      <th>2021-08-20</th>\n",
       "      <td>Tokyo</td>\n",
       "      <td>302796</td>\n",
       "      <td>3104681.0</td>\n",
       "      <td>255928.0</td>\n",
       "      <td>2365.0</td>\n",
       "      <td>44503.0</td>\n",
       "      <td>273.0</td>\n",
       "    </tr>\n",
       "    <tr>\n",
       "      <th>2021-08-21</th>\n",
       "      <td>Tokyo</td>\n",
       "      <td>307870</td>\n",
       "      <td>3119292.0</td>\n",
       "      <td>260043.0</td>\n",
       "      <td>2371.0</td>\n",
       "      <td>45456.0</td>\n",
       "      <td>270.0</td>\n",
       "    </tr>\n",
       "  </tbody>\n",
       "</table>\n",
       "<p>410 rows × 7 columns</p>\n",
       "</div>"
      ],
      "text/plain": [
       "                     Province  Positive     Tested  Discharged   Death  \\\n",
       "Province Date                                                            \n",
       "Hokkaido 2021-06-01  Hokkaido     38213   685540.0     29778.0  1128.0   \n",
       "         2021-06-02  Hokkaido     38530   691336.0     30401.0  1138.0   \n",
       "         2021-06-03  Hokkaido     38830   696174.0     31089.0  1156.0   \n",
       "         2021-06-04  Hokkaido     39033   701265.0     31439.0  1163.0   \n",
       "         2021-06-05  Hokkaido     39309   706189.0     31935.0  1179.0   \n",
       "...                       ...       ...        ...         ...     ...   \n",
       "Tokyo    2021-08-17     Tokyo    286471  3043648.0    245256.0  2348.0   \n",
       "         2021-08-18     Tokyo    291857  3065160.0    249306.0  2354.0   \n",
       "         2021-08-19     Tokyo    297391  3085568.0    252488.0  2358.0   \n",
       "         2021-08-20     Tokyo    302796  3104681.0    255928.0  2365.0   \n",
       "         2021-08-21     Tokyo    307870  3119292.0    260043.0  2371.0   \n",
       "\n",
       "                     Hospitalization  Severe  \n",
       "Province Date                                 \n",
       "Hokkaido 2021-06-01           7828.0    56.0  \n",
       "         2021-06-02           7307.0    51.0  \n",
       "         2021-06-03           6991.0    46.0  \n",
       "         2021-06-04           6585.0    47.0  \n",
       "         2021-06-05           6431.0    42.0  \n",
       "...                              ...     ...  \n",
       "Tokyo    2021-08-17          38867.0   276.0  \n",
       "         2021-08-18          40197.0   275.0  \n",
       "         2021-08-19          42545.0   274.0  \n",
       "         2021-08-20          44503.0   273.0  \n",
       "         2021-08-21          45456.0   270.0  \n",
       "\n",
       "[410 rows x 7 columns]"
      ]
     },
     "execution_count": 79,
     "metadata": {},
     "output_type": "execute_result"
    }
   ],
   "source": [
    "df3"
   ]
  },
  {
   "cell_type": "code",
   "execution_count": 80,
   "metadata": {},
   "outputs": [],
   "source": [
    "# drop location column\n",
    "df3 = df3.drop('Province', axis=1).reset_index()"
   ]
  },
  {
   "cell_type": "code",
   "execution_count": 81,
   "metadata": {},
   "outputs": [
    {
     "data": {
      "text/html": [
       "<div>\n",
       "<style scoped>\n",
       "    .dataframe tbody tr th:only-of-type {\n",
       "        vertical-align: middle;\n",
       "    }\n",
       "\n",
       "    .dataframe tbody tr th {\n",
       "        vertical-align: top;\n",
       "    }\n",
       "\n",
       "    .dataframe thead th {\n",
       "        text-align: right;\n",
       "    }\n",
       "</style>\n",
       "<table border=\"1\" class=\"dataframe\">\n",
       "  <thead>\n",
       "    <tr style=\"text-align: right;\">\n",
       "      <th></th>\n",
       "      <th>Province</th>\n",
       "      <th>Date</th>\n",
       "      <th>Positive</th>\n",
       "      <th>Tested</th>\n",
       "      <th>Discharged</th>\n",
       "      <th>Death</th>\n",
       "      <th>Hospitalization</th>\n",
       "      <th>Severe</th>\n",
       "    </tr>\n",
       "  </thead>\n",
       "  <tbody>\n",
       "    <tr>\n",
       "      <th>0</th>\n",
       "      <td>Hokkaido</td>\n",
       "      <td>2021-06-01</td>\n",
       "      <td>38213</td>\n",
       "      <td>685540.0</td>\n",
       "      <td>29778.0</td>\n",
       "      <td>1128.0</td>\n",
       "      <td>7828.0</td>\n",
       "      <td>56.0</td>\n",
       "    </tr>\n",
       "    <tr>\n",
       "      <th>1</th>\n",
       "      <td>Hokkaido</td>\n",
       "      <td>2021-06-02</td>\n",
       "      <td>38530</td>\n",
       "      <td>691336.0</td>\n",
       "      <td>30401.0</td>\n",
       "      <td>1138.0</td>\n",
       "      <td>7307.0</td>\n",
       "      <td>51.0</td>\n",
       "    </tr>\n",
       "    <tr>\n",
       "      <th>2</th>\n",
       "      <td>Hokkaido</td>\n",
       "      <td>2021-06-03</td>\n",
       "      <td>38830</td>\n",
       "      <td>696174.0</td>\n",
       "      <td>31089.0</td>\n",
       "      <td>1156.0</td>\n",
       "      <td>6991.0</td>\n",
       "      <td>46.0</td>\n",
       "    </tr>\n",
       "    <tr>\n",
       "      <th>3</th>\n",
       "      <td>Hokkaido</td>\n",
       "      <td>2021-06-04</td>\n",
       "      <td>39033</td>\n",
       "      <td>701265.0</td>\n",
       "      <td>31439.0</td>\n",
       "      <td>1163.0</td>\n",
       "      <td>6585.0</td>\n",
       "      <td>47.0</td>\n",
       "    </tr>\n",
       "    <tr>\n",
       "      <th>4</th>\n",
       "      <td>Hokkaido</td>\n",
       "      <td>2021-06-05</td>\n",
       "      <td>39309</td>\n",
       "      <td>706189.0</td>\n",
       "      <td>31935.0</td>\n",
       "      <td>1179.0</td>\n",
       "      <td>6431.0</td>\n",
       "      <td>42.0</td>\n",
       "    </tr>\n",
       "    <tr>\n",
       "      <th>...</th>\n",
       "      <td>...</td>\n",
       "      <td>...</td>\n",
       "      <td>...</td>\n",
       "      <td>...</td>\n",
       "      <td>...</td>\n",
       "      <td>...</td>\n",
       "      <td>...</td>\n",
       "      <td>...</td>\n",
       "    </tr>\n",
       "    <tr>\n",
       "      <th>405</th>\n",
       "      <td>Tokyo</td>\n",
       "      <td>2021-08-17</td>\n",
       "      <td>286471</td>\n",
       "      <td>3043648.0</td>\n",
       "      <td>245256.0</td>\n",
       "      <td>2348.0</td>\n",
       "      <td>38867.0</td>\n",
       "      <td>276.0</td>\n",
       "    </tr>\n",
       "    <tr>\n",
       "      <th>406</th>\n",
       "      <td>Tokyo</td>\n",
       "      <td>2021-08-18</td>\n",
       "      <td>291857</td>\n",
       "      <td>3065160.0</td>\n",
       "      <td>249306.0</td>\n",
       "      <td>2354.0</td>\n",
       "      <td>40197.0</td>\n",
       "      <td>275.0</td>\n",
       "    </tr>\n",
       "    <tr>\n",
       "      <th>407</th>\n",
       "      <td>Tokyo</td>\n",
       "      <td>2021-08-19</td>\n",
       "      <td>297391</td>\n",
       "      <td>3085568.0</td>\n",
       "      <td>252488.0</td>\n",
       "      <td>2358.0</td>\n",
       "      <td>42545.0</td>\n",
       "      <td>274.0</td>\n",
       "    </tr>\n",
       "    <tr>\n",
       "      <th>408</th>\n",
       "      <td>Tokyo</td>\n",
       "      <td>2021-08-20</td>\n",
       "      <td>302796</td>\n",
       "      <td>3104681.0</td>\n",
       "      <td>255928.0</td>\n",
       "      <td>2365.0</td>\n",
       "      <td>44503.0</td>\n",
       "      <td>273.0</td>\n",
       "    </tr>\n",
       "    <tr>\n",
       "      <th>409</th>\n",
       "      <td>Tokyo</td>\n",
       "      <td>2021-08-21</td>\n",
       "      <td>307870</td>\n",
       "      <td>3119292.0</td>\n",
       "      <td>260043.0</td>\n",
       "      <td>2371.0</td>\n",
       "      <td>45456.0</td>\n",
       "      <td>270.0</td>\n",
       "    </tr>\n",
       "  </tbody>\n",
       "</table>\n",
       "<p>410 rows × 8 columns</p>\n",
       "</div>"
      ],
      "text/plain": [
       "     Province       Date  Positive     Tested  Discharged   Death  \\\n",
       "0    Hokkaido 2021-06-01     38213   685540.0     29778.0  1128.0   \n",
       "1    Hokkaido 2021-06-02     38530   691336.0     30401.0  1138.0   \n",
       "2    Hokkaido 2021-06-03     38830   696174.0     31089.0  1156.0   \n",
       "3    Hokkaido 2021-06-04     39033   701265.0     31439.0  1163.0   \n",
       "4    Hokkaido 2021-06-05     39309   706189.0     31935.0  1179.0   \n",
       "..        ...        ...       ...        ...         ...     ...   \n",
       "405     Tokyo 2021-08-17    286471  3043648.0    245256.0  2348.0   \n",
       "406     Tokyo 2021-08-18    291857  3065160.0    249306.0  2354.0   \n",
       "407     Tokyo 2021-08-19    297391  3085568.0    252488.0  2358.0   \n",
       "408     Tokyo 2021-08-20    302796  3104681.0    255928.0  2365.0   \n",
       "409     Tokyo 2021-08-21    307870  3119292.0    260043.0  2371.0   \n",
       "\n",
       "     Hospitalization  Severe  \n",
       "0             7828.0    56.0  \n",
       "1             7307.0    51.0  \n",
       "2             6991.0    46.0  \n",
       "3             6585.0    47.0  \n",
       "4             6431.0    42.0  \n",
       "..               ...     ...  \n",
       "405          38867.0   276.0  \n",
       "406          40197.0   275.0  \n",
       "407          42545.0   274.0  \n",
       "408          44503.0   273.0  \n",
       "409          45456.0   270.0  \n",
       "\n",
       "[410 rows x 8 columns]"
      ]
     },
     "execution_count": 81,
     "metadata": {},
     "output_type": "execute_result"
    }
   ],
   "source": [
    "df3"
   ]
  },
  {
   "cell_type": "code",
   "execution_count": 82,
   "metadata": {},
   "outputs": [
    {
     "data": {
      "text/html": [
       "<div>\n",
       "<style scoped>\n",
       "    .dataframe tbody tr th:only-of-type {\n",
       "        vertical-align: middle;\n",
       "    }\n",
       "\n",
       "    .dataframe tbody tr th {\n",
       "        vertical-align: top;\n",
       "    }\n",
       "\n",
       "    .dataframe thead th {\n",
       "        text-align: right;\n",
       "    }\n",
       "</style>\n",
       "<table border=\"1\" class=\"dataframe\">\n",
       "  <thead>\n",
       "    <tr style=\"text-align: right;\">\n",
       "      <th></th>\n",
       "      <th>Province</th>\n",
       "      <th>Date</th>\n",
       "      <th>Positive</th>\n",
       "      <th>Tested</th>\n",
       "      <th>Discharged</th>\n",
       "      <th>Death</th>\n",
       "      <th>Hospitalization</th>\n",
       "      <th>Severe</th>\n",
       "    </tr>\n",
       "  </thead>\n",
       "  <tbody>\n",
       "    <tr>\n",
       "      <th>0</th>\n",
       "      <td>Tokyo</td>\n",
       "      <td>2021-08-21</td>\n",
       "      <td>307870</td>\n",
       "      <td>3119292.0</td>\n",
       "      <td>260043.0</td>\n",
       "      <td>2371.0</td>\n",
       "      <td>45456.0</td>\n",
       "      <td>270.0</td>\n",
       "    </tr>\n",
       "    <tr>\n",
       "      <th>1</th>\n",
       "      <td>Hyogo</td>\n",
       "      <td>2021-08-21</td>\n",
       "      <td>55199</td>\n",
       "      <td>610937.0</td>\n",
       "      <td>47975.0</td>\n",
       "      <td>1328.0</td>\n",
       "      <td>5896.0</td>\n",
       "      <td>62.0</td>\n",
       "    </tr>\n",
       "    <tr>\n",
       "      <th>2</th>\n",
       "      <td>Osaka</td>\n",
       "      <td>2021-08-21</td>\n",
       "      <td>145148</td>\n",
       "      <td>2760556.0</td>\n",
       "      <td>121262.0</td>\n",
       "      <td>2756.0</td>\n",
       "      <td>19512.0</td>\n",
       "      <td>496.0</td>\n",
       "    </tr>\n",
       "    <tr>\n",
       "      <th>3</th>\n",
       "      <td>Hokkaido</td>\n",
       "      <td>2021-08-21</td>\n",
       "      <td>52591</td>\n",
       "      <td>942602.0</td>\n",
       "      <td>46445.0</td>\n",
       "      <td>1435.0</td>\n",
       "      <td>4520.0</td>\n",
       "      <td>14.0</td>\n",
       "    </tr>\n",
       "    <tr>\n",
       "      <th>4</th>\n",
       "      <td>Kanagawa</td>\n",
       "      <td>2021-08-21</td>\n",
       "      <td>125121</td>\n",
       "      <td>1329499.0</td>\n",
       "      <td>106697.0</td>\n",
       "      <td>1052.0</td>\n",
       "      <td>17372.0</td>\n",
       "      <td>221.0</td>\n",
       "    </tr>\n",
       "  </tbody>\n",
       "</table>\n",
       "</div>"
      ],
      "text/plain": [
       "   Province       Date  Positive     Tested  Discharged   Death  \\\n",
       "0     Tokyo 2021-08-21    307870  3119292.0    260043.0  2371.0   \n",
       "1     Hyogo 2021-08-21     55199   610937.0     47975.0  1328.0   \n",
       "2     Osaka 2021-08-21    145148  2760556.0    121262.0  2756.0   \n",
       "3  Hokkaido 2021-08-21     52591   942602.0     46445.0  1435.0   \n",
       "4  Kanagawa 2021-08-21    125121  1329499.0    106697.0  1052.0   \n",
       "\n",
       "   Hospitalization  Severe  \n",
       "0          45456.0   270.0  \n",
       "1           5896.0    62.0  \n",
       "2          19512.0   496.0  \n",
       "3           4520.0    14.0  \n",
       "4          17372.0   221.0  "
      ]
     },
     "execution_count": 82,
     "metadata": {},
     "output_type": "execute_result"
    }
   ],
   "source": [
    "# sort data by date\n",
    "\n",
    "df3 =df3.sort_values('Date', ascending=False).reset_index(drop=True)\n",
    "df3.head()"
   ]
  },
  {
   "cell_type": "code",
   "execution_count": 83,
   "metadata": {},
   "outputs": [],
   "source": [
    "# impute missing data by using interpolation method\n",
    "\n",
    "unmis_cols = df3.columns.isin(['Province', 'Date'])\n",
    "df3.loc[:, ~unmis_cols] = df3.loc[:, ~unmis_cols].interpolate('linear').astype(np.int64)"
   ]
  },
  {
   "cell_type": "code",
   "execution_count": 84,
   "metadata": {},
   "outputs": [
    {
     "data": {
      "text/html": [
       "<div>\n",
       "<style scoped>\n",
       "    .dataframe tbody tr th:only-of-type {\n",
       "        vertical-align: middle;\n",
       "    }\n",
       "\n",
       "    .dataframe tbody tr th {\n",
       "        vertical-align: top;\n",
       "    }\n",
       "\n",
       "    .dataframe thead th {\n",
       "        text-align: right;\n",
       "    }\n",
       "</style>\n",
       "<table border=\"1\" class=\"dataframe\">\n",
       "  <thead>\n",
       "    <tr style=\"text-align: right;\">\n",
       "      <th></th>\n",
       "      <th>Province</th>\n",
       "      <th>Date</th>\n",
       "      <th>Positive</th>\n",
       "      <th>Discharged</th>\n",
       "      <th>Death</th>\n",
       "      <th>Hospitalization</th>\n",
       "      <th>Severe</th>\n",
       "      <th>Pos_Tes_Ratio</th>\n",
       "    </tr>\n",
       "  </thead>\n",
       "  <tbody>\n",
       "    <tr>\n",
       "      <th>0</th>\n",
       "      <td>Tokyo</td>\n",
       "      <td>2021-08-21</td>\n",
       "      <td>307870</td>\n",
       "      <td>260043</td>\n",
       "      <td>2371</td>\n",
       "      <td>45456</td>\n",
       "      <td>270</td>\n",
       "      <td>0.098699</td>\n",
       "    </tr>\n",
       "    <tr>\n",
       "      <th>1</th>\n",
       "      <td>Hyogo</td>\n",
       "      <td>2021-08-21</td>\n",
       "      <td>55199</td>\n",
       "      <td>47975</td>\n",
       "      <td>1328</td>\n",
       "      <td>5896</td>\n",
       "      <td>62</td>\n",
       "      <td>0.090351</td>\n",
       "    </tr>\n",
       "    <tr>\n",
       "      <th>2</th>\n",
       "      <td>Osaka</td>\n",
       "      <td>2021-08-21</td>\n",
       "      <td>145148</td>\n",
       "      <td>121262</td>\n",
       "      <td>2756</td>\n",
       "      <td>19512</td>\n",
       "      <td>496</td>\n",
       "      <td>0.052579</td>\n",
       "    </tr>\n",
       "    <tr>\n",
       "      <th>3</th>\n",
       "      <td>Hokkaido</td>\n",
       "      <td>2021-08-21</td>\n",
       "      <td>52591</td>\n",
       "      <td>46445</td>\n",
       "      <td>1435</td>\n",
       "      <td>4520</td>\n",
       "      <td>14</td>\n",
       "      <td>0.055793</td>\n",
       "    </tr>\n",
       "    <tr>\n",
       "      <th>4</th>\n",
       "      <td>Kanagawa</td>\n",
       "      <td>2021-08-21</td>\n",
       "      <td>125121</td>\n",
       "      <td>106697</td>\n",
       "      <td>1052</td>\n",
       "      <td>17372</td>\n",
       "      <td>221</td>\n",
       "      <td>0.094111</td>\n",
       "    </tr>\n",
       "  </tbody>\n",
       "</table>\n",
       "</div>"
      ],
      "text/plain": [
       "   Province       Date  Positive  Discharged  Death  Hospitalization  Severe  \\\n",
       "0     Tokyo 2021-08-21    307870      260043   2371            45456     270   \n",
       "1     Hyogo 2021-08-21     55199       47975   1328             5896      62   \n",
       "2     Osaka 2021-08-21    145148      121262   2756            19512     496   \n",
       "3  Hokkaido 2021-08-21     52591       46445   1435             4520      14   \n",
       "4  Kanagawa 2021-08-21    125121      106697   1052            17372     221   \n",
       "\n",
       "   Pos_Tes_Ratio  \n",
       "0       0.098699  \n",
       "1       0.090351  \n",
       "2       0.052579  \n",
       "3       0.055793  \n",
       "4       0.094111  "
      ]
     },
     "execution_count": 84,
     "metadata": {},
     "output_type": "execute_result"
    }
   ],
   "source": [
    "# create a new feature by ratio between Positive and tested\n",
    "df3['Pos_Tes_Ratio'] = df3['Positive']/df3['Tested']\n",
    "\n",
    "# remove tested feature\n",
    "df3.drop(['Tested'], axis=1, inplace =True)\n",
    "df3.head()"
   ]
  },
  {
   "cell_type": "markdown",
   "metadata": {},
   "source": [
    "3. Exploratory Data Analysis (EDA)\n",
    "3.1 Compare the change about positive case among 3 locations"
   ]
  },
  {
   "cell_type": "code",
   "execution_count": 85,
   "metadata": {},
   "outputs": [
    {
     "data": {
      "text/html": [
       "<div>\n",
       "<style scoped>\n",
       "    .dataframe tbody tr th:only-of-type {\n",
       "        vertical-align: middle;\n",
       "    }\n",
       "\n",
       "    .dataframe tbody tr th {\n",
       "        vertical-align: top;\n",
       "    }\n",
       "\n",
       "    .dataframe thead th {\n",
       "        text-align: right;\n",
       "    }\n",
       "</style>\n",
       "<table border=\"1\" class=\"dataframe\">\n",
       "  <thead>\n",
       "    <tr style=\"text-align: right;\">\n",
       "      <th>Province</th>\n",
       "      <th>Hokkaido</th>\n",
       "      <th>Hyogo</th>\n",
       "      <th>Kanagawa</th>\n",
       "      <th>Osaka</th>\n",
       "      <th>Tokyo</th>\n",
       "    </tr>\n",
       "    <tr>\n",
       "      <th>Date</th>\n",
       "      <th></th>\n",
       "      <th></th>\n",
       "      <th></th>\n",
       "      <th></th>\n",
       "      <th></th>\n",
       "    </tr>\n",
       "  </thead>\n",
       "  <tbody>\n",
       "    <tr>\n",
       "      <th>2021-06-01</th>\n",
       "      <td>38213</td>\n",
       "      <td>39705</td>\n",
       "      <td>61675</td>\n",
       "      <td>99920</td>\n",
       "      <td>161426</td>\n",
       "    </tr>\n",
       "    <tr>\n",
       "      <th>2021-06-02</th>\n",
       "      <td>38530</td>\n",
       "      <td>39816</td>\n",
       "      <td>61893</td>\n",
       "      <td>100133</td>\n",
       "      <td>161913</td>\n",
       "    </tr>\n",
       "    <tr>\n",
       "      <th>2021-06-03</th>\n",
       "      <td>38830</td>\n",
       "      <td>39919</td>\n",
       "      <td>62108</td>\n",
       "      <td>100357</td>\n",
       "      <td>162421</td>\n",
       "    </tr>\n",
       "    <tr>\n",
       "      <th>2021-06-04</th>\n",
       "      <td>39033</td>\n",
       "      <td>39989</td>\n",
       "      <td>62342</td>\n",
       "      <td>100546</td>\n",
       "      <td>162893</td>\n",
       "    </tr>\n",
       "    <tr>\n",
       "      <th>2021-06-05</th>\n",
       "      <td>39309</td>\n",
       "      <td>40064</td>\n",
       "      <td>62566</td>\n",
       "      <td>100720</td>\n",
       "      <td>163329</td>\n",
       "    </tr>\n",
       "  </tbody>\n",
       "</table>\n",
       "</div>"
      ],
      "text/plain": [
       "Province    Hokkaido  Hyogo  Kanagawa   Osaka   Tokyo\n",
       "Date                                                 \n",
       "2021-06-01     38213  39705     61675   99920  161426\n",
       "2021-06-02     38530  39816     61893  100133  161913\n",
       "2021-06-03     38830  39919     62108  100357  162421\n",
       "2021-06-04     39033  39989     62342  100546  162893\n",
       "2021-06-05     39309  40064     62566  100720  163329"
      ]
     },
     "execution_count": 85,
     "metadata": {},
     "output_type": "execute_result"
    }
   ],
   "source": [
    "\n",
    "df_pos = df3.pivot_table(\n",
    "    index='Date', columns='Province', values ='Positive', aggfunc='last'\n",
    ")\n",
    "df_pos.head()"
   ]
  },
  {
   "cell_type": "code",
   "execution_count": 86,
   "metadata": {},
   "outputs": [
    {
     "data": {
      "application/vnd.plotly.v1+json": {
       "config": {
        "plotlyServerURL": "https://plot.ly"
       },
       "data": [
        {
         "hovertemplate": "variable=Osaka<br>Date=%{x}<br>Number of Positive People=%{y}<extra></extra>",
         "legendgroup": "Osaka",
         "line": {
          "color": "#636efa",
          "dash": "solid"
         },
         "marker": {
          "symbol": "circle"
         },
         "mode": "lines",
         "name": "Osaka",
         "orientation": "v",
         "showlegend": true,
         "type": "scatter",
         "x": [
          "2021-06-01T00:00:00",
          "2021-06-02T00:00:00",
          "2021-06-03T00:00:00",
          "2021-06-04T00:00:00",
          "2021-06-05T00:00:00",
          "2021-06-06T00:00:00",
          "2021-06-07T00:00:00",
          "2021-06-08T00:00:00",
          "2021-06-09T00:00:00",
          "2021-06-10T00:00:00",
          "2021-06-11T00:00:00",
          "2021-06-12T00:00:00",
          "2021-06-13T00:00:00",
          "2021-06-14T00:00:00",
          "2021-06-15T00:00:00",
          "2021-06-16T00:00:00",
          "2021-06-17T00:00:00",
          "2021-06-18T00:00:00",
          "2021-06-19T00:00:00",
          "2021-06-20T00:00:00",
          "2021-06-21T00:00:00",
          "2021-06-22T00:00:00",
          "2021-06-23T00:00:00",
          "2021-06-24T00:00:00",
          "2021-06-25T00:00:00",
          "2021-06-26T00:00:00",
          "2021-06-27T00:00:00",
          "2021-06-28T00:00:00",
          "2021-06-29T00:00:00",
          "2021-06-30T00:00:00",
          "2021-07-01T00:00:00",
          "2021-07-02T00:00:00",
          "2021-07-03T00:00:00",
          "2021-07-04T00:00:00",
          "2021-07-05T00:00:00",
          "2021-07-06T00:00:00",
          "2021-07-07T00:00:00",
          "2021-07-08T00:00:00",
          "2021-07-09T00:00:00",
          "2021-07-10T00:00:00",
          "2021-07-11T00:00:00",
          "2021-07-12T00:00:00",
          "2021-07-13T00:00:00",
          "2021-07-14T00:00:00",
          "2021-07-15T00:00:00",
          "2021-07-16T00:00:00",
          "2021-07-17T00:00:00",
          "2021-07-18T00:00:00",
          "2021-07-19T00:00:00",
          "2021-07-20T00:00:00",
          "2021-07-21T00:00:00",
          "2021-07-22T00:00:00",
          "2021-07-23T00:00:00",
          "2021-07-24T00:00:00",
          "2021-07-25T00:00:00",
          "2021-07-26T00:00:00",
          "2021-07-27T00:00:00",
          "2021-07-28T00:00:00",
          "2021-07-29T00:00:00",
          "2021-07-30T00:00:00",
          "2021-07-31T00:00:00",
          "2021-08-01T00:00:00",
          "2021-08-02T00:00:00",
          "2021-08-03T00:00:00",
          "2021-08-04T00:00:00",
          "2021-08-05T00:00:00",
          "2021-08-06T00:00:00",
          "2021-08-07T00:00:00",
          "2021-08-08T00:00:00",
          "2021-08-09T00:00:00",
          "2021-08-10T00:00:00",
          "2021-08-11T00:00:00",
          "2021-08-12T00:00:00",
          "2021-08-13T00:00:00",
          "2021-08-14T00:00:00",
          "2021-08-15T00:00:00",
          "2021-08-16T00:00:00",
          "2021-08-17T00:00:00",
          "2021-08-18T00:00:00",
          "2021-08-19T00:00:00",
          "2021-08-20T00:00:00",
          "2021-08-21T00:00:00"
         ],
         "xaxis": "x",
         "y": [
          99920,
          100133,
          100357,
          100546,
          100720,
          100865,
          100933,
          101123,
          101276,
          101424,
          101552,
          101678,
          101774,
          101831,
          101941,
          102049,
          102144,
          102223,
          102334,
          102440,
          102482,
          102589,
          102714,
          102830,
          102950,
          103038,
          103134,
          103174,
          103275,
          103383,
          103491,
          103614,
          103762,
          103850,
          103928,
          104064,
          104214,
          104339,
          104482,
          104682,
          104849,
          104954,
          105179,
          105528,
          105850,
          106104,
          106484,
          106746,
          106970,
          107283,
          107774,
          108235,
          108614,
          108897,
          109368,
          109742,
          110483,
          111281,
          112213,
          113095,
          114135,
          115025,
          115473,
          116552,
          117776,
          118861,
          120171,
          121294,
          122458,
          123453,
          124150,
          125640,
          127294,
          128855,
          130683,
          132447,
          133411,
          135267,
          137563,
          140006,
          142592,
          145148
         ],
         "yaxis": "y"
        },
        {
         "hovertemplate": "variable=Tokyo<br>Date=%{x}<br>Number of Positive People=%{y}<extra></extra>",
         "legendgroup": "Tokyo",
         "line": {
          "color": "#EF553B",
          "dash": "solid"
         },
         "marker": {
          "symbol": "circle"
         },
         "mode": "lines",
         "name": "Tokyo",
         "orientation": "v",
         "showlegend": true,
         "type": "scatter",
         "x": [
          "2021-06-01T00:00:00",
          "2021-06-02T00:00:00",
          "2021-06-03T00:00:00",
          "2021-06-04T00:00:00",
          "2021-06-05T00:00:00",
          "2021-06-06T00:00:00",
          "2021-06-07T00:00:00",
          "2021-06-08T00:00:00",
          "2021-06-09T00:00:00",
          "2021-06-10T00:00:00",
          "2021-06-11T00:00:00",
          "2021-06-12T00:00:00",
          "2021-06-13T00:00:00",
          "2021-06-14T00:00:00",
          "2021-06-15T00:00:00",
          "2021-06-16T00:00:00",
          "2021-06-17T00:00:00",
          "2021-06-18T00:00:00",
          "2021-06-19T00:00:00",
          "2021-06-20T00:00:00",
          "2021-06-21T00:00:00",
          "2021-06-22T00:00:00",
          "2021-06-23T00:00:00",
          "2021-06-24T00:00:00",
          "2021-06-25T00:00:00",
          "2021-06-26T00:00:00",
          "2021-06-27T00:00:00",
          "2021-06-28T00:00:00",
          "2021-06-29T00:00:00",
          "2021-06-30T00:00:00",
          "2021-07-01T00:00:00",
          "2021-07-02T00:00:00",
          "2021-07-03T00:00:00",
          "2021-07-04T00:00:00",
          "2021-07-05T00:00:00",
          "2021-07-06T00:00:00",
          "2021-07-07T00:00:00",
          "2021-07-08T00:00:00",
          "2021-07-09T00:00:00",
          "2021-07-10T00:00:00",
          "2021-07-11T00:00:00",
          "2021-07-12T00:00:00",
          "2021-07-13T00:00:00",
          "2021-07-14T00:00:00",
          "2021-07-15T00:00:00",
          "2021-07-16T00:00:00",
          "2021-07-17T00:00:00",
          "2021-07-18T00:00:00",
          "2021-07-19T00:00:00",
          "2021-07-20T00:00:00",
          "2021-07-21T00:00:00",
          "2021-07-22T00:00:00",
          "2021-07-23T00:00:00",
          "2021-07-24T00:00:00",
          "2021-07-25T00:00:00",
          "2021-07-26T00:00:00",
          "2021-07-27T00:00:00",
          "2021-07-28T00:00:00",
          "2021-07-29T00:00:00",
          "2021-07-30T00:00:00",
          "2021-07-31T00:00:00",
          "2021-08-01T00:00:00",
          "2021-08-02T00:00:00",
          "2021-08-03T00:00:00",
          "2021-08-04T00:00:00",
          "2021-08-05T00:00:00",
          "2021-08-06T00:00:00",
          "2021-08-07T00:00:00",
          "2021-08-08T00:00:00",
          "2021-08-09T00:00:00",
          "2021-08-10T00:00:00",
          "2021-08-11T00:00:00",
          "2021-08-12T00:00:00",
          "2021-08-13T00:00:00",
          "2021-08-14T00:00:00",
          "2021-08-15T00:00:00",
          "2021-08-16T00:00:00",
          "2021-08-17T00:00:00",
          "2021-08-18T00:00:00",
          "2021-08-19T00:00:00",
          "2021-08-20T00:00:00",
          "2021-08-21T00:00:00"
         ],
         "xaxis": "x",
         "y": [
          161426,
          161913,
          162421,
          162893,
          163329,
          163680,
          163915,
          164284,
          164724,
          165163,
          165598,
          166065,
          166369,
          166578,
          166915,
          167416,
          167868,
          168321,
          168709,
          169085,
          169321,
          169756,
          170375,
          170945,
          171507,
          172041,
          172427,
          172744,
          173220,
          173934,
          174607,
          175267,
          175983,
          176501,
          176843,
          177436,
          178356,
          179252,
          180074,
          181024,
          181638,
          182140,
          182970,
          184119,
          185427,
          186698,
          188108,
          189116,
          189843,
          191230,
          193062,
          195041,
          196400,
          197528,
          199291,
          200720,
          203568,
          206745,
          210610,
          213910,
          217968,
          221026,
          223221,
          226930,
          231096,
          236138,
          240653,
          245219,
          249285,
          252169,
          254781,
          258981,
          263970,
          269743,
          274837,
          279132,
          282094,
          286471,
          291857,
          297391,
          302796,
          307870
         ],
         "yaxis": "y"
        },
        {
         "hovertemplate": "variable=Hokkaido<br>Date=%{x}<br>Number of Positive People=%{y}<extra></extra>",
         "legendgroup": "Hokkaido",
         "line": {
          "color": "#00cc96",
          "dash": "solid"
         },
         "marker": {
          "symbol": "circle"
         },
         "mode": "lines",
         "name": "Hokkaido",
         "orientation": "v",
         "showlegend": true,
         "type": "scatter",
         "x": [
          "2021-06-01T00:00:00",
          "2021-06-02T00:00:00",
          "2021-06-03T00:00:00",
          "2021-06-04T00:00:00",
          "2021-06-05T00:00:00",
          "2021-06-06T00:00:00",
          "2021-06-07T00:00:00",
          "2021-06-08T00:00:00",
          "2021-06-09T00:00:00",
          "2021-06-10T00:00:00",
          "2021-06-11T00:00:00",
          "2021-06-12T00:00:00",
          "2021-06-13T00:00:00",
          "2021-06-14T00:00:00",
          "2021-06-15T00:00:00",
          "2021-06-16T00:00:00",
          "2021-06-17T00:00:00",
          "2021-06-18T00:00:00",
          "2021-06-19T00:00:00",
          "2021-06-20T00:00:00",
          "2021-06-21T00:00:00",
          "2021-06-22T00:00:00",
          "2021-06-23T00:00:00",
          "2021-06-24T00:00:00",
          "2021-06-25T00:00:00",
          "2021-06-26T00:00:00",
          "2021-06-27T00:00:00",
          "2021-06-28T00:00:00",
          "2021-06-29T00:00:00",
          "2021-06-30T00:00:00",
          "2021-07-01T00:00:00",
          "2021-07-02T00:00:00",
          "2021-07-03T00:00:00",
          "2021-07-04T00:00:00",
          "2021-07-05T00:00:00",
          "2021-07-06T00:00:00",
          "2021-07-07T00:00:00",
          "2021-07-08T00:00:00",
          "2021-07-09T00:00:00",
          "2021-07-10T00:00:00",
          "2021-07-11T00:00:00",
          "2021-07-12T00:00:00",
          "2021-07-13T00:00:00",
          "2021-07-14T00:00:00",
          "2021-07-15T00:00:00",
          "2021-07-16T00:00:00",
          "2021-07-17T00:00:00",
          "2021-07-18T00:00:00",
          "2021-07-19T00:00:00",
          "2021-07-20T00:00:00",
          "2021-07-21T00:00:00",
          "2021-07-22T00:00:00",
          "2021-07-23T00:00:00",
          "2021-07-24T00:00:00",
          "2021-07-25T00:00:00",
          "2021-07-26T00:00:00",
          "2021-07-27T00:00:00",
          "2021-07-28T00:00:00",
          "2021-07-29T00:00:00",
          "2021-07-30T00:00:00",
          "2021-07-31T00:00:00",
          "2021-08-01T00:00:00",
          "2021-08-02T00:00:00",
          "2021-08-03T00:00:00",
          "2021-08-04T00:00:00",
          "2021-08-05T00:00:00",
          "2021-08-06T00:00:00",
          "2021-08-07T00:00:00",
          "2021-08-08T00:00:00",
          "2021-08-09T00:00:00",
          "2021-08-10T00:00:00",
          "2021-08-11T00:00:00",
          "2021-08-12T00:00:00",
          "2021-08-13T00:00:00",
          "2021-08-14T00:00:00",
          "2021-08-15T00:00:00",
          "2021-08-16T00:00:00",
          "2021-08-17T00:00:00",
          "2021-08-18T00:00:00",
          "2021-08-19T00:00:00",
          "2021-08-20T00:00:00",
          "2021-08-21T00:00:00"
         ],
         "xaxis": "x",
         "y": [
          38213,
          38530,
          38830,
          39033,
          39309,
          39492,
          39639,
          39759,
          39938,
          40120,
          40265,
          40390,
          40472,
          40546,
          40633,
          40721,
          40794,
          40870,
          40943,
          40995,
          41032,
          41061,
          41110,
          41136,
          41169,
          41216,
          41244,
          41271,
          41294,
          41332,
          41371,
          41397,
          41427,
          41466,
          41495,
          41529,
          41596,
          41658,
          41708,
          41772,
          41828,
          41875,
          41935,
          42010,
          42095,
          42168,
          42279,
          42386,
          42456,
          42560,
          42678,
          42818,
          42897,
          43015,
          43128,
          43265,
          43403,
          43630,
          43890,
          44140,
          44424,
          44691,
          44908,
          45119,
          45485,
          45827,
          46110,
          46457,
          46765,
          47075,
          47422,
          47773,
          48253,
          48707,
          49186,
          49552,
          49909,
          50319,
          50914,
          51489,
          52012,
          52591
         ],
         "yaxis": "y"
        },
        {
         "hovertemplate": "variable=Hyogo<br>Date=%{x}<br>Number of Positive People=%{y}<extra></extra>",
         "legendgroup": "Hyogo",
         "line": {
          "color": "#ab63fa",
          "dash": "solid"
         },
         "marker": {
          "symbol": "circle"
         },
         "mode": "lines",
         "name": "Hyogo",
         "orientation": "v",
         "showlegend": true,
         "type": "scatter",
         "x": [
          "2021-06-01T00:00:00",
          "2021-06-02T00:00:00",
          "2021-06-03T00:00:00",
          "2021-06-04T00:00:00",
          "2021-06-05T00:00:00",
          "2021-06-06T00:00:00",
          "2021-06-07T00:00:00",
          "2021-06-08T00:00:00",
          "2021-06-09T00:00:00",
          "2021-06-10T00:00:00",
          "2021-06-11T00:00:00",
          "2021-06-12T00:00:00",
          "2021-06-13T00:00:00",
          "2021-06-14T00:00:00",
          "2021-06-15T00:00:00",
          "2021-06-16T00:00:00",
          "2021-06-17T00:00:00",
          "2021-06-18T00:00:00",
          "2021-06-19T00:00:00",
          "2021-06-20T00:00:00",
          "2021-06-21T00:00:00",
          "2021-06-22T00:00:00",
          "2021-06-23T00:00:00",
          "2021-06-24T00:00:00",
          "2021-06-25T00:00:00",
          "2021-06-26T00:00:00",
          "2021-06-27T00:00:00",
          "2021-06-28T00:00:00",
          "2021-06-29T00:00:00",
          "2021-06-30T00:00:00",
          "2021-07-01T00:00:00",
          "2021-07-02T00:00:00",
          "2021-07-03T00:00:00",
          "2021-07-04T00:00:00",
          "2021-07-05T00:00:00",
          "2021-07-06T00:00:00",
          "2021-07-07T00:00:00",
          "2021-07-08T00:00:00",
          "2021-07-09T00:00:00",
          "2021-07-10T00:00:00",
          "2021-07-11T00:00:00",
          "2021-07-12T00:00:00",
          "2021-07-13T00:00:00",
          "2021-07-14T00:00:00",
          "2021-07-15T00:00:00",
          "2021-07-16T00:00:00",
          "2021-07-17T00:00:00",
          "2021-07-18T00:00:00",
          "2021-07-19T00:00:00",
          "2021-07-20T00:00:00",
          "2021-07-21T00:00:00",
          "2021-07-22T00:00:00",
          "2021-07-23T00:00:00",
          "2021-07-24T00:00:00",
          "2021-07-25T00:00:00",
          "2021-07-26T00:00:00",
          "2021-07-27T00:00:00",
          "2021-07-28T00:00:00",
          "2021-07-29T00:00:00",
          "2021-07-30T00:00:00",
          "2021-07-31T00:00:00",
          "2021-08-01T00:00:00",
          "2021-08-02T00:00:00",
          "2021-08-03T00:00:00",
          "2021-08-04T00:00:00",
          "2021-08-05T00:00:00",
          "2021-08-06T00:00:00",
          "2021-08-07T00:00:00",
          "2021-08-08T00:00:00",
          "2021-08-09T00:00:00",
          "2021-08-10T00:00:00",
          "2021-08-11T00:00:00",
          "2021-08-12T00:00:00",
          "2021-08-13T00:00:00",
          "2021-08-14T00:00:00",
          "2021-08-15T00:00:00",
          "2021-08-16T00:00:00",
          "2021-08-17T00:00:00",
          "2021-08-18T00:00:00",
          "2021-08-19T00:00:00",
          "2021-08-20T00:00:00",
          "2021-08-21T00:00:00"
         ],
         "xaxis": "x",
         "y": [
          39705,
          39816,
          39919,
          39989,
          40064,
          40145,
          40203,
          40225,
          40293,
          40356,
          40406,
          40452,
          40490,
          40513,
          40534,
          40577,
          40611,
          40646,
          40682,
          40699,
          40718,
          40732,
          40759,
          40780,
          40796,
          40816,
          40850,
          40865,
          40867,
          40892,
          40919,
          40951,
          40983,
          41005,
          41031,
          41043,
          41077,
          41113,
          41162,
          41200,
          41245,
          41289,
          41306,
          41386,
          41463,
          41540,
          41621,
          41743,
          41818,
          41857,
          41986,
          42106,
          42255,
          42316,
          42387,
          42525,
          42600,
          42860,
          42860,
          43394,
          43658,
          43987,
          44304,
          44469,
          44909,
          45330,
          45789,
          46264,
          46767,
          47216,
          47489,
          47716,
          48323,
          49051,
          49730,
          50358,
          50875,
          51277,
          52130,
          53217,
          54295,
          55199
         ],
         "yaxis": "y"
        },
        {
         "hovertemplate": "variable=Kanagawa<br>Date=%{x}<br>Number of Positive People=%{y}<extra></extra>",
         "legendgroup": "Kanagawa",
         "line": {
          "color": "#FFA15A",
          "dash": "solid"
         },
         "marker": {
          "symbol": "circle"
         },
         "mode": "lines",
         "name": "Kanagawa",
         "orientation": "v",
         "showlegend": true,
         "type": "scatter",
         "x": [
          "2021-06-01T00:00:00",
          "2021-06-02T00:00:00",
          "2021-06-03T00:00:00",
          "2021-06-04T00:00:00",
          "2021-06-05T00:00:00",
          "2021-06-06T00:00:00",
          "2021-06-07T00:00:00",
          "2021-06-08T00:00:00",
          "2021-06-09T00:00:00",
          "2021-06-10T00:00:00",
          "2021-06-11T00:00:00",
          "2021-06-12T00:00:00",
          "2021-06-13T00:00:00",
          "2021-06-14T00:00:00",
          "2021-06-15T00:00:00",
          "2021-06-16T00:00:00",
          "2021-06-17T00:00:00",
          "2021-06-18T00:00:00",
          "2021-06-19T00:00:00",
          "2021-06-20T00:00:00",
          "2021-06-21T00:00:00",
          "2021-06-22T00:00:00",
          "2021-06-23T00:00:00",
          "2021-06-24T00:00:00",
          "2021-06-25T00:00:00",
          "2021-06-26T00:00:00",
          "2021-06-27T00:00:00",
          "2021-06-28T00:00:00",
          "2021-06-29T00:00:00",
          "2021-06-30T00:00:00",
          "2021-07-01T00:00:00",
          "2021-07-02T00:00:00",
          "2021-07-03T00:00:00",
          "2021-07-04T00:00:00",
          "2021-07-05T00:00:00",
          "2021-07-06T00:00:00",
          "2021-07-07T00:00:00",
          "2021-07-08T00:00:00",
          "2021-07-09T00:00:00",
          "2021-07-10T00:00:00",
          "2021-07-11T00:00:00",
          "2021-07-12T00:00:00",
          "2021-07-13T00:00:00",
          "2021-07-14T00:00:00",
          "2021-07-15T00:00:00",
          "2021-07-16T00:00:00",
          "2021-07-17T00:00:00",
          "2021-07-18T00:00:00",
          "2021-07-19T00:00:00",
          "2021-07-20T00:00:00",
          "2021-07-21T00:00:00",
          "2021-07-22T00:00:00",
          "2021-07-23T00:00:00",
          "2021-07-24T00:00:00",
          "2021-07-25T00:00:00",
          "2021-07-26T00:00:00",
          "2021-07-27T00:00:00",
          "2021-07-28T00:00:00",
          "2021-07-29T00:00:00",
          "2021-07-30T00:00:00",
          "2021-07-31T00:00:00",
          "2021-08-01T00:00:00",
          "2021-08-02T00:00:00",
          "2021-08-03T00:00:00",
          "2021-08-04T00:00:00",
          "2021-08-05T00:00:00",
          "2021-08-06T00:00:00",
          "2021-08-07T00:00:00",
          "2021-08-08T00:00:00",
          "2021-08-09T00:00:00",
          "2021-08-10T00:00:00",
          "2021-08-11T00:00:00",
          "2021-08-12T00:00:00",
          "2021-08-13T00:00:00",
          "2021-08-14T00:00:00",
          "2021-08-15T00:00:00",
          "2021-08-16T00:00:00",
          "2021-08-17T00:00:00",
          "2021-08-18T00:00:00",
          "2021-08-19T00:00:00",
          "2021-08-20T00:00:00",
          "2021-08-21T00:00:00"
         ],
         "xaxis": "x",
         "y": [
          61675,
          61893,
          62108,
          62342,
          62566,
          62815,
          62988,
          63167,
          63369,
          63558,
          63778,
          64025,
          64195,
          64335,
          64495,
          64705,
          64890,
          65121,
          65302,
          65464,
          65599,
          65762,
          65962,
          66154,
          66375,
          66606,
          66810,
          67001,
          67182,
          67391,
          67602,
          67832,
          68086,
          68312,
          68492,
          68690,
          68940,
          69262,
          69617,
          69927,
          70316,
          70596,
          70904,
          71265,
          71668,
          72114,
          72653,
          73113,
          73525,
          73958,
          74480,
          75110,
          75762,
          76308,
          76839,
          77379,
          78137,
          79188,
          80351,
          81769,
          83349,
          84607,
          86292,
          87590,
          89074,
          90920,
          93001,
          94894,
          96754,
          98920,
          100492,
          102057,
          103860,
          106141,
          108497,
          110578,
          113161,
          115178,
          117199,
          119539,
          122416,
          125121
         ],
         "yaxis": "y"
        }
       ],
       "layout": {
        "legend": {
         "title": {
          "text": "variable"
         },
         "tracegroupgap": 0
        },
        "margin": {
         "t": 60
        },
        "template": {
         "data": {
          "bar": [
           {
            "error_x": {
             "color": "#2a3f5f"
            },
            "error_y": {
             "color": "#2a3f5f"
            },
            "marker": {
             "line": {
              "color": "#E5ECF6",
              "width": 0.5
             },
             "pattern": {
              "fillmode": "overlay",
              "size": 10,
              "solidity": 0.2
             }
            },
            "type": "bar"
           }
          ],
          "barpolar": [
           {
            "marker": {
             "line": {
              "color": "#E5ECF6",
              "width": 0.5
             },
             "pattern": {
              "fillmode": "overlay",
              "size": 10,
              "solidity": 0.2
             }
            },
            "type": "barpolar"
           }
          ],
          "carpet": [
           {
            "aaxis": {
             "endlinecolor": "#2a3f5f",
             "gridcolor": "white",
             "linecolor": "white",
             "minorgridcolor": "white",
             "startlinecolor": "#2a3f5f"
            },
            "baxis": {
             "endlinecolor": "#2a3f5f",
             "gridcolor": "white",
             "linecolor": "white",
             "minorgridcolor": "white",
             "startlinecolor": "#2a3f5f"
            },
            "type": "carpet"
           }
          ],
          "choropleth": [
           {
            "colorbar": {
             "outlinewidth": 0,
             "ticks": ""
            },
            "type": "choropleth"
           }
          ],
          "contour": [
           {
            "colorbar": {
             "outlinewidth": 0,
             "ticks": ""
            },
            "colorscale": [
             [
              0,
              "#0d0887"
             ],
             [
              0.1111111111111111,
              "#46039f"
             ],
             [
              0.2222222222222222,
              "#7201a8"
             ],
             [
              0.3333333333333333,
              "#9c179e"
             ],
             [
              0.4444444444444444,
              "#bd3786"
             ],
             [
              0.5555555555555556,
              "#d8576b"
             ],
             [
              0.6666666666666666,
              "#ed7953"
             ],
             [
              0.7777777777777778,
              "#fb9f3a"
             ],
             [
              0.8888888888888888,
              "#fdca26"
             ],
             [
              1,
              "#f0f921"
             ]
            ],
            "type": "contour"
           }
          ],
          "contourcarpet": [
           {
            "colorbar": {
             "outlinewidth": 0,
             "ticks": ""
            },
            "type": "contourcarpet"
           }
          ],
          "heatmap": [
           {
            "colorbar": {
             "outlinewidth": 0,
             "ticks": ""
            },
            "colorscale": [
             [
              0,
              "#0d0887"
             ],
             [
              0.1111111111111111,
              "#46039f"
             ],
             [
              0.2222222222222222,
              "#7201a8"
             ],
             [
              0.3333333333333333,
              "#9c179e"
             ],
             [
              0.4444444444444444,
              "#bd3786"
             ],
             [
              0.5555555555555556,
              "#d8576b"
             ],
             [
              0.6666666666666666,
              "#ed7953"
             ],
             [
              0.7777777777777778,
              "#fb9f3a"
             ],
             [
              0.8888888888888888,
              "#fdca26"
             ],
             [
              1,
              "#f0f921"
             ]
            ],
            "type": "heatmap"
           }
          ],
          "heatmapgl": [
           {
            "colorbar": {
             "outlinewidth": 0,
             "ticks": ""
            },
            "colorscale": [
             [
              0,
              "#0d0887"
             ],
             [
              0.1111111111111111,
              "#46039f"
             ],
             [
              0.2222222222222222,
              "#7201a8"
             ],
             [
              0.3333333333333333,
              "#9c179e"
             ],
             [
              0.4444444444444444,
              "#bd3786"
             ],
             [
              0.5555555555555556,
              "#d8576b"
             ],
             [
              0.6666666666666666,
              "#ed7953"
             ],
             [
              0.7777777777777778,
              "#fb9f3a"
             ],
             [
              0.8888888888888888,
              "#fdca26"
             ],
             [
              1,
              "#f0f921"
             ]
            ],
            "type": "heatmapgl"
           }
          ],
          "histogram": [
           {
            "marker": {
             "pattern": {
              "fillmode": "overlay",
              "size": 10,
              "solidity": 0.2
             }
            },
            "type": "histogram"
           }
          ],
          "histogram2d": [
           {
            "colorbar": {
             "outlinewidth": 0,
             "ticks": ""
            },
            "colorscale": [
             [
              0,
              "#0d0887"
             ],
             [
              0.1111111111111111,
              "#46039f"
             ],
             [
              0.2222222222222222,
              "#7201a8"
             ],
             [
              0.3333333333333333,
              "#9c179e"
             ],
             [
              0.4444444444444444,
              "#bd3786"
             ],
             [
              0.5555555555555556,
              "#d8576b"
             ],
             [
              0.6666666666666666,
              "#ed7953"
             ],
             [
              0.7777777777777778,
              "#fb9f3a"
             ],
             [
              0.8888888888888888,
              "#fdca26"
             ],
             [
              1,
              "#f0f921"
             ]
            ],
            "type": "histogram2d"
           }
          ],
          "histogram2dcontour": [
           {
            "colorbar": {
             "outlinewidth": 0,
             "ticks": ""
            },
            "colorscale": [
             [
              0,
              "#0d0887"
             ],
             [
              0.1111111111111111,
              "#46039f"
             ],
             [
              0.2222222222222222,
              "#7201a8"
             ],
             [
              0.3333333333333333,
              "#9c179e"
             ],
             [
              0.4444444444444444,
              "#bd3786"
             ],
             [
              0.5555555555555556,
              "#d8576b"
             ],
             [
              0.6666666666666666,
              "#ed7953"
             ],
             [
              0.7777777777777778,
              "#fb9f3a"
             ],
             [
              0.8888888888888888,
              "#fdca26"
             ],
             [
              1,
              "#f0f921"
             ]
            ],
            "type": "histogram2dcontour"
           }
          ],
          "mesh3d": [
           {
            "colorbar": {
             "outlinewidth": 0,
             "ticks": ""
            },
            "type": "mesh3d"
           }
          ],
          "parcoords": [
           {
            "line": {
             "colorbar": {
              "outlinewidth": 0,
              "ticks": ""
             }
            },
            "type": "parcoords"
           }
          ],
          "pie": [
           {
            "automargin": true,
            "type": "pie"
           }
          ],
          "scatter": [
           {
            "fillpattern": {
             "fillmode": "overlay",
             "size": 10,
             "solidity": 0.2
            },
            "type": "scatter"
           }
          ],
          "scatter3d": [
           {
            "line": {
             "colorbar": {
              "outlinewidth": 0,
              "ticks": ""
             }
            },
            "marker": {
             "colorbar": {
              "outlinewidth": 0,
              "ticks": ""
             }
            },
            "type": "scatter3d"
           }
          ],
          "scattercarpet": [
           {
            "marker": {
             "colorbar": {
              "outlinewidth": 0,
              "ticks": ""
             }
            },
            "type": "scattercarpet"
           }
          ],
          "scattergeo": [
           {
            "marker": {
             "colorbar": {
              "outlinewidth": 0,
              "ticks": ""
             }
            },
            "type": "scattergeo"
           }
          ],
          "scattergl": [
           {
            "marker": {
             "colorbar": {
              "outlinewidth": 0,
              "ticks": ""
             }
            },
            "type": "scattergl"
           }
          ],
          "scattermapbox": [
           {
            "marker": {
             "colorbar": {
              "outlinewidth": 0,
              "ticks": ""
             }
            },
            "type": "scattermapbox"
           }
          ],
          "scatterpolar": [
           {
            "marker": {
             "colorbar": {
              "outlinewidth": 0,
              "ticks": ""
             }
            },
            "type": "scatterpolar"
           }
          ],
          "scatterpolargl": [
           {
            "marker": {
             "colorbar": {
              "outlinewidth": 0,
              "ticks": ""
             }
            },
            "type": "scatterpolargl"
           }
          ],
          "scatterternary": [
           {
            "marker": {
             "colorbar": {
              "outlinewidth": 0,
              "ticks": ""
             }
            },
            "type": "scatterternary"
           }
          ],
          "surface": [
           {
            "colorbar": {
             "outlinewidth": 0,
             "ticks": ""
            },
            "colorscale": [
             [
              0,
              "#0d0887"
             ],
             [
              0.1111111111111111,
              "#46039f"
             ],
             [
              0.2222222222222222,
              "#7201a8"
             ],
             [
              0.3333333333333333,
              "#9c179e"
             ],
             [
              0.4444444444444444,
              "#bd3786"
             ],
             [
              0.5555555555555556,
              "#d8576b"
             ],
             [
              0.6666666666666666,
              "#ed7953"
             ],
             [
              0.7777777777777778,
              "#fb9f3a"
             ],
             [
              0.8888888888888888,
              "#fdca26"
             ],
             [
              1,
              "#f0f921"
             ]
            ],
            "type": "surface"
           }
          ],
          "table": [
           {
            "cells": {
             "fill": {
              "color": "#EBF0F8"
             },
             "line": {
              "color": "white"
             }
            },
            "header": {
             "fill": {
              "color": "#C8D4E3"
             },
             "line": {
              "color": "white"
             }
            },
            "type": "table"
           }
          ]
         },
         "layout": {
          "annotationdefaults": {
           "arrowcolor": "#2a3f5f",
           "arrowhead": 0,
           "arrowwidth": 1
          },
          "autotypenumbers": "strict",
          "coloraxis": {
           "colorbar": {
            "outlinewidth": 0,
            "ticks": ""
           }
          },
          "colorscale": {
           "diverging": [
            [
             0,
             "#8e0152"
            ],
            [
             0.1,
             "#c51b7d"
            ],
            [
             0.2,
             "#de77ae"
            ],
            [
             0.3,
             "#f1b6da"
            ],
            [
             0.4,
             "#fde0ef"
            ],
            [
             0.5,
             "#f7f7f7"
            ],
            [
             0.6,
             "#e6f5d0"
            ],
            [
             0.7,
             "#b8e186"
            ],
            [
             0.8,
             "#7fbc41"
            ],
            [
             0.9,
             "#4d9221"
            ],
            [
             1,
             "#276419"
            ]
           ],
           "sequential": [
            [
             0,
             "#0d0887"
            ],
            [
             0.1111111111111111,
             "#46039f"
            ],
            [
             0.2222222222222222,
             "#7201a8"
            ],
            [
             0.3333333333333333,
             "#9c179e"
            ],
            [
             0.4444444444444444,
             "#bd3786"
            ],
            [
             0.5555555555555556,
             "#d8576b"
            ],
            [
             0.6666666666666666,
             "#ed7953"
            ],
            [
             0.7777777777777778,
             "#fb9f3a"
            ],
            [
             0.8888888888888888,
             "#fdca26"
            ],
            [
             1,
             "#f0f921"
            ]
           ],
           "sequentialminus": [
            [
             0,
             "#0d0887"
            ],
            [
             0.1111111111111111,
             "#46039f"
            ],
            [
             0.2222222222222222,
             "#7201a8"
            ],
            [
             0.3333333333333333,
             "#9c179e"
            ],
            [
             0.4444444444444444,
             "#bd3786"
            ],
            [
             0.5555555555555556,
             "#d8576b"
            ],
            [
             0.6666666666666666,
             "#ed7953"
            ],
            [
             0.7777777777777778,
             "#fb9f3a"
            ],
            [
             0.8888888888888888,
             "#fdca26"
            ],
            [
             1,
             "#f0f921"
            ]
           ]
          },
          "colorway": [
           "#636efa",
           "#EF553B",
           "#00cc96",
           "#ab63fa",
           "#FFA15A",
           "#19d3f3",
           "#FF6692",
           "#B6E880",
           "#FF97FF",
           "#FECB52"
          ],
          "font": {
           "color": "#2a3f5f"
          },
          "geo": {
           "bgcolor": "white",
           "lakecolor": "white",
           "landcolor": "#E5ECF6",
           "showlakes": true,
           "showland": true,
           "subunitcolor": "white"
          },
          "hoverlabel": {
           "align": "left"
          },
          "hovermode": "closest",
          "mapbox": {
           "style": "light"
          },
          "paper_bgcolor": "white",
          "plot_bgcolor": "#E5ECF6",
          "polar": {
           "angularaxis": {
            "gridcolor": "white",
            "linecolor": "white",
            "ticks": ""
           },
           "bgcolor": "#E5ECF6",
           "radialaxis": {
            "gridcolor": "white",
            "linecolor": "white",
            "ticks": ""
           }
          },
          "scene": {
           "xaxis": {
            "backgroundcolor": "#E5ECF6",
            "gridcolor": "white",
            "gridwidth": 2,
            "linecolor": "white",
            "showbackground": true,
            "ticks": "",
            "zerolinecolor": "white"
           },
           "yaxis": {
            "backgroundcolor": "#E5ECF6",
            "gridcolor": "white",
            "gridwidth": 2,
            "linecolor": "white",
            "showbackground": true,
            "ticks": "",
            "zerolinecolor": "white"
           },
           "zaxis": {
            "backgroundcolor": "#E5ECF6",
            "gridcolor": "white",
            "gridwidth": 2,
            "linecolor": "white",
            "showbackground": true,
            "ticks": "",
            "zerolinecolor": "white"
           }
          },
          "shapedefaults": {
           "line": {
            "color": "#2a3f5f"
           }
          },
          "ternary": {
           "aaxis": {
            "gridcolor": "white",
            "linecolor": "white",
            "ticks": ""
           },
           "baxis": {
            "gridcolor": "white",
            "linecolor": "white",
            "ticks": ""
           },
           "bgcolor": "#E5ECF6",
           "caxis": {
            "gridcolor": "white",
            "linecolor": "white",
            "ticks": ""
           }
          },
          "title": {
           "x": 0.05
          },
          "xaxis": {
           "automargin": true,
           "gridcolor": "white",
           "linecolor": "white",
           "ticks": "",
           "title": {
            "standoff": 15
           },
           "zerolinecolor": "white",
           "zerolinewidth": 2
          },
          "yaxis": {
           "automargin": true,
           "gridcolor": "white",
           "linecolor": "white",
           "ticks": "",
           "title": {
            "standoff": 15
           },
           "zerolinecolor": "white",
           "zerolinewidth": 2
          }
         }
        },
        "xaxis": {
         "anchor": "y",
         "domain": [
          0,
          1
         ],
         "title": {
          "text": "Date"
         }
        },
        "yaxis": {
         "anchor": "x",
         "domain": [
          0,
          1
         ],
         "title": {
          "text": "Number of Positive People"
         }
        }
       }
      }
     },
     "metadata": {},
     "output_type": "display_data"
    }
   ],
   "source": [
    "# draw line chart \n",
    "fig = px.line(\n",
    "    df_pos, \n",
    "    y= ['Osaka', 'Tokyo', 'Hokkaido', 'Hyogo', 'Kanagawa'],\n",
    "    labels={'value': 'Number of Positive People'}\n",
    ")\n",
    "\n",
    "fig.show()"
   ]
  },
  {
   "cell_type": "markdown",
   "metadata": {},
   "source": [
    "#### 3.2 Compare the change about number of dead peoplein 3 location\n"
   ]
  },
  {
   "cell_type": "code",
   "execution_count": 87,
   "metadata": {},
   "outputs": [
    {
     "data": {
      "text/html": [
       "<div>\n",
       "<style scoped>\n",
       "    .dataframe tbody tr th:only-of-type {\n",
       "        vertical-align: middle;\n",
       "    }\n",
       "\n",
       "    .dataframe tbody tr th {\n",
       "        vertical-align: top;\n",
       "    }\n",
       "\n",
       "    .dataframe thead th {\n",
       "        text-align: right;\n",
       "    }\n",
       "</style>\n",
       "<table border=\"1\" class=\"dataframe\">\n",
       "  <thead>\n",
       "    <tr style=\"text-align: right;\">\n",
       "      <th>Province</th>\n",
       "      <th>Hokkaido</th>\n",
       "      <th>Hyogo</th>\n",
       "      <th>Kanagawa</th>\n",
       "      <th>Osaka</th>\n",
       "      <th>Tokyo</th>\n",
       "    </tr>\n",
       "    <tr>\n",
       "      <th>Date</th>\n",
       "      <th></th>\n",
       "      <th></th>\n",
       "      <th></th>\n",
       "      <th></th>\n",
       "      <th></th>\n",
       "    </tr>\n",
       "  </thead>\n",
       "  <tbody>\n",
       "    <tr>\n",
       "      <th>2021-06-01</th>\n",
       "      <td>1128</td>\n",
       "      <td>1192</td>\n",
       "      <td>884</td>\n",
       "      <td>2336</td>\n",
       "      <td>2062</td>\n",
       "    </tr>\n",
       "    <tr>\n",
       "      <th>2021-06-02</th>\n",
       "      <td>1138</td>\n",
       "      <td>1202</td>\n",
       "      <td>886</td>\n",
       "      <td>2363</td>\n",
       "      <td>2075</td>\n",
       "    </tr>\n",
       "    <tr>\n",
       "      <th>2021-06-03</th>\n",
       "      <td>1156</td>\n",
       "      <td>1206</td>\n",
       "      <td>896</td>\n",
       "      <td>2382</td>\n",
       "      <td>2091</td>\n",
       "    </tr>\n",
       "    <tr>\n",
       "      <th>2021-06-04</th>\n",
       "      <td>1163</td>\n",
       "      <td>1211</td>\n",
       "      <td>902</td>\n",
       "      <td>2404</td>\n",
       "      <td>2095</td>\n",
       "    </tr>\n",
       "    <tr>\n",
       "      <th>2021-06-05</th>\n",
       "      <td>1179</td>\n",
       "      <td>1214</td>\n",
       "      <td>908</td>\n",
       "      <td>2412</td>\n",
       "      <td>2103</td>\n",
       "    </tr>\n",
       "  </tbody>\n",
       "</table>\n",
       "</div>"
      ],
      "text/plain": [
       "Province    Hokkaido  Hyogo  Kanagawa  Osaka  Tokyo\n",
       "Date                                               \n",
       "2021-06-01      1128   1192       884   2336   2062\n",
       "2021-06-02      1138   1202       886   2363   2075\n",
       "2021-06-03      1156   1206       896   2382   2091\n",
       "2021-06-04      1163   1211       902   2404   2095\n",
       "2021-06-05      1179   1214       908   2412   2103"
      ]
     },
     "execution_count": 87,
     "metadata": {},
     "output_type": "execute_result"
    }
   ],
   "source": [
    "# create pivot table\n",
    "df_death = df3.pivot_table(\n",
    "    index='Date', columns='Province', values ='Death', aggfunc='last'\n",
    ")\n",
    "df_death.head()"
   ]
  },
  {
   "cell_type": "code",
   "execution_count": 66,
   "metadata": {},
   "outputs": [
    {
     "data": {
      "application/vnd.plotly.v1+json": {
       "config": {
        "plotlyServerURL": "https://plot.ly"
       },
       "data": [
        {
         "hovertemplate": "variable=Osaka<br>Date=%{x}<br>Number of Positive People=%{y}<extra></extra>",
         "legendgroup": "Osaka",
         "line": {
          "color": "#636efa",
          "dash": "solid"
         },
         "marker": {
          "symbol": "circle"
         },
         "mode": "lines",
         "name": "Osaka",
         "orientation": "v",
         "showlegend": true,
         "type": "scatter",
         "x": [
          "2021-06-01T00:00:00",
          "2021-06-02T00:00:00",
          "2021-06-03T00:00:00",
          "2021-06-04T00:00:00",
          "2021-06-05T00:00:00",
          "2021-06-06T00:00:00",
          "2021-06-07T00:00:00",
          "2021-06-08T00:00:00",
          "2021-06-09T00:00:00",
          "2021-06-10T00:00:00",
          "2021-06-11T00:00:00",
          "2021-06-12T00:00:00",
          "2021-06-13T00:00:00",
          "2021-06-14T00:00:00",
          "2021-06-15T00:00:00",
          "2021-06-16T00:00:00",
          "2021-06-17T00:00:00",
          "2021-06-18T00:00:00",
          "2021-06-19T00:00:00",
          "2021-06-20T00:00:00",
          "2021-06-21T00:00:00",
          "2021-06-22T00:00:00",
          "2021-06-23T00:00:00",
          "2021-06-24T00:00:00",
          "2021-06-25T00:00:00",
          "2021-06-26T00:00:00",
          "2021-06-27T00:00:00",
          "2021-06-28T00:00:00",
          "2021-06-29T00:00:00",
          "2021-06-30T00:00:00",
          "2021-07-01T00:00:00",
          "2021-07-02T00:00:00",
          "2021-07-03T00:00:00",
          "2021-07-04T00:00:00",
          "2021-07-05T00:00:00",
          "2021-07-06T00:00:00",
          "2021-07-07T00:00:00",
          "2021-07-08T00:00:00",
          "2021-07-09T00:00:00",
          "2021-07-10T00:00:00",
          "2021-07-11T00:00:00",
          "2021-07-12T00:00:00",
          "2021-07-13T00:00:00",
          "2021-07-14T00:00:00",
          "2021-07-15T00:00:00",
          "2021-07-16T00:00:00",
          "2021-07-17T00:00:00",
          "2021-07-18T00:00:00",
          "2021-07-19T00:00:00",
          "2021-07-20T00:00:00",
          "2021-07-21T00:00:00",
          "2021-07-22T00:00:00",
          "2021-07-23T00:00:00",
          "2021-07-24T00:00:00",
          "2021-07-25T00:00:00",
          "2021-07-26T00:00:00",
          "2021-07-27T00:00:00",
          "2021-07-28T00:00:00",
          "2021-07-29T00:00:00",
          "2021-07-30T00:00:00",
          "2021-07-31T00:00:00",
          "2021-08-01T00:00:00",
          "2021-08-02T00:00:00",
          "2021-08-03T00:00:00",
          "2021-08-04T00:00:00",
          "2021-08-05T00:00:00",
          "2021-08-06T00:00:00",
          "2021-08-07T00:00:00",
          "2021-08-08T00:00:00",
          "2021-08-09T00:00:00",
          "2021-08-10T00:00:00",
          "2021-08-11T00:00:00",
          "2021-08-12T00:00:00",
          "2021-08-13T00:00:00",
          "2021-08-14T00:00:00",
          "2021-08-15T00:00:00",
          "2021-08-16T00:00:00",
          "2021-08-17T00:00:00",
          "2021-08-18T00:00:00",
          "2021-08-19T00:00:00",
          "2021-08-20T00:00:00",
          "2021-08-21T00:00:00"
         ],
         "xaxis": "x",
         "y": [
          2336,
          2363,
          2382,
          2404,
          2412,
          2417,
          2432,
          2457,
          2484,
          2501,
          2512,
          2524,
          2530,
          2540,
          2544,
          2563,
          2567,
          2584,
          2589,
          2592,
          2605,
          2609,
          2624,
          2635,
          2640,
          2647,
          2647,
          2661,
          2668,
          2671,
          2677,
          2680,
          2680,
          2680,
          2681,
          2685,
          2687,
          2690,
          2692,
          2693,
          2693,
          2693,
          2696,
          2698,
          2700,
          2703,
          2707,
          2708,
          2708,
          2711,
          2715,
          2716,
          2716,
          2717,
          2718,
          2719,
          2719,
          2719,
          2721,
          2721,
          2721,
          2721,
          2722,
          2722,
          2724,
          2726,
          2728,
          2731,
          2733,
          2733,
          2733,
          2735,
          2739,
          2742,
          2742,
          2742,
          2743,
          2747,
          2752,
          2753,
          2754,
          2756
         ],
         "yaxis": "y"
        },
        {
         "hovertemplate": "variable=Tokyo<br>Date=%{x}<br>Number of Positive People=%{y}<extra></extra>",
         "legendgroup": "Tokyo",
         "line": {
          "color": "#EF553B",
          "dash": "solid"
         },
         "marker": {
          "symbol": "circle"
         },
         "mode": "lines",
         "name": "Tokyo",
         "orientation": "v",
         "showlegend": true,
         "type": "scatter",
         "x": [
          "2021-06-01T00:00:00",
          "2021-06-02T00:00:00",
          "2021-06-03T00:00:00",
          "2021-06-04T00:00:00",
          "2021-06-05T00:00:00",
          "2021-06-06T00:00:00",
          "2021-06-07T00:00:00",
          "2021-06-08T00:00:00",
          "2021-06-09T00:00:00",
          "2021-06-10T00:00:00",
          "2021-06-11T00:00:00",
          "2021-06-12T00:00:00",
          "2021-06-13T00:00:00",
          "2021-06-14T00:00:00",
          "2021-06-15T00:00:00",
          "2021-06-16T00:00:00",
          "2021-06-17T00:00:00",
          "2021-06-18T00:00:00",
          "2021-06-19T00:00:00",
          "2021-06-20T00:00:00",
          "2021-06-21T00:00:00",
          "2021-06-22T00:00:00",
          "2021-06-23T00:00:00",
          "2021-06-24T00:00:00",
          "2021-06-25T00:00:00",
          "2021-06-26T00:00:00",
          "2021-06-27T00:00:00",
          "2021-06-28T00:00:00",
          "2021-06-29T00:00:00",
          "2021-06-30T00:00:00",
          "2021-07-01T00:00:00",
          "2021-07-02T00:00:00",
          "2021-07-03T00:00:00",
          "2021-07-04T00:00:00",
          "2021-07-05T00:00:00",
          "2021-07-06T00:00:00",
          "2021-07-07T00:00:00",
          "2021-07-08T00:00:00",
          "2021-07-09T00:00:00",
          "2021-07-10T00:00:00",
          "2021-07-11T00:00:00",
          "2021-07-12T00:00:00",
          "2021-07-13T00:00:00",
          "2021-07-14T00:00:00",
          "2021-07-15T00:00:00",
          "2021-07-16T00:00:00",
          "2021-07-17T00:00:00",
          "2021-07-18T00:00:00",
          "2021-07-19T00:00:00",
          "2021-07-20T00:00:00",
          "2021-07-21T00:00:00",
          "2021-07-22T00:00:00",
          "2021-07-23T00:00:00",
          "2021-07-24T00:00:00",
          "2021-07-25T00:00:00",
          "2021-07-26T00:00:00",
          "2021-07-27T00:00:00",
          "2021-07-28T00:00:00",
          "2021-07-29T00:00:00",
          "2021-07-30T00:00:00",
          "2021-07-31T00:00:00",
          "2021-08-01T00:00:00",
          "2021-08-02T00:00:00",
          "2021-08-03T00:00:00",
          "2021-08-04T00:00:00",
          "2021-08-05T00:00:00",
          "2021-08-06T00:00:00",
          "2021-08-07T00:00:00",
          "2021-08-08T00:00:00",
          "2021-08-09T00:00:00",
          "2021-08-10T00:00:00",
          "2021-08-11T00:00:00",
          "2021-08-12T00:00:00",
          "2021-08-13T00:00:00",
          "2021-08-14T00:00:00",
          "2021-08-15T00:00:00",
          "2021-08-16T00:00:00",
          "2021-08-17T00:00:00",
          "2021-08-18T00:00:00",
          "2021-08-19T00:00:00",
          "2021-08-20T00:00:00",
          "2021-08-21T00:00:00"
         ],
         "xaxis": "x",
         "y": [
          2062,
          2075,
          2091,
          2095,
          2103,
          2108,
          2111,
          2121,
          2128,
          2134,
          2142,
          2150,
          2156,
          2159,
          2171,
          2183,
          2190,
          2192,
          2196,
          2197,
          2198,
          2203,
          2213,
          2216,
          2218,
          2222,
          2223,
          2227,
          2231,
          2234,
          2236,
          2238,
          2238,
          2239,
          2240,
          2241,
          2244,
          2246,
          2248,
          2253,
          2256,
          2256,
          2258,
          2262,
          2266,
          2267,
          2269,
          2269,
          2270,
          2272,
          2276,
          2276,
          2277,
          2277,
          2277,
          2277,
          2279,
          2285,
          2288,
          2290,
          2293,
          2293,
          2293,
          2300,
          2301,
          2302,
          2306,
          2310,
          2311,
          2314,
          2317,
          2319,
          2325,
          2332,
          2332,
          2335,
          2340,
          2348,
          2354,
          2358,
          2365,
          2371
         ],
         "yaxis": "y"
        },
        {
         "hovertemplate": "variable=Hokkaido<br>Date=%{x}<br>Number of Positive People=%{y}<extra></extra>",
         "legendgroup": "Hokkaido",
         "line": {
          "color": "#00cc96",
          "dash": "solid"
         },
         "marker": {
          "symbol": "circle"
         },
         "mode": "lines",
         "name": "Hokkaido",
         "orientation": "v",
         "showlegend": true,
         "type": "scatter",
         "x": [
          "2021-06-01T00:00:00",
          "2021-06-02T00:00:00",
          "2021-06-03T00:00:00",
          "2021-06-04T00:00:00",
          "2021-06-05T00:00:00",
          "2021-06-06T00:00:00",
          "2021-06-07T00:00:00",
          "2021-06-08T00:00:00",
          "2021-06-09T00:00:00",
          "2021-06-10T00:00:00",
          "2021-06-11T00:00:00",
          "2021-06-12T00:00:00",
          "2021-06-13T00:00:00",
          "2021-06-14T00:00:00",
          "2021-06-15T00:00:00",
          "2021-06-16T00:00:00",
          "2021-06-17T00:00:00",
          "2021-06-18T00:00:00",
          "2021-06-19T00:00:00",
          "2021-06-20T00:00:00",
          "2021-06-21T00:00:00",
          "2021-06-22T00:00:00",
          "2021-06-23T00:00:00",
          "2021-06-24T00:00:00",
          "2021-06-25T00:00:00",
          "2021-06-26T00:00:00",
          "2021-06-27T00:00:00",
          "2021-06-28T00:00:00",
          "2021-06-29T00:00:00",
          "2021-06-30T00:00:00",
          "2021-07-01T00:00:00",
          "2021-07-02T00:00:00",
          "2021-07-03T00:00:00",
          "2021-07-04T00:00:00",
          "2021-07-05T00:00:00",
          "2021-07-06T00:00:00",
          "2021-07-07T00:00:00",
          "2021-07-08T00:00:00",
          "2021-07-09T00:00:00",
          "2021-07-10T00:00:00",
          "2021-07-11T00:00:00",
          "2021-07-12T00:00:00",
          "2021-07-13T00:00:00",
          "2021-07-14T00:00:00",
          "2021-07-15T00:00:00",
          "2021-07-16T00:00:00",
          "2021-07-17T00:00:00",
          "2021-07-18T00:00:00",
          "2021-07-19T00:00:00",
          "2021-07-20T00:00:00",
          "2021-07-21T00:00:00",
          "2021-07-22T00:00:00",
          "2021-07-23T00:00:00",
          "2021-07-24T00:00:00",
          "2021-07-25T00:00:00",
          "2021-07-26T00:00:00",
          "2021-07-27T00:00:00",
          "2021-07-28T00:00:00",
          "2021-07-29T00:00:00",
          "2021-07-30T00:00:00",
          "2021-07-31T00:00:00",
          "2021-08-01T00:00:00",
          "2021-08-02T00:00:00",
          "2021-08-03T00:00:00",
          "2021-08-04T00:00:00",
          "2021-08-05T00:00:00",
          "2021-08-06T00:00:00",
          "2021-08-07T00:00:00",
          "2021-08-08T00:00:00",
          "2021-08-09T00:00:00",
          "2021-08-10T00:00:00",
          "2021-08-11T00:00:00",
          "2021-08-12T00:00:00",
          "2021-08-13T00:00:00",
          "2021-08-14T00:00:00",
          "2021-08-15T00:00:00",
          "2021-08-16T00:00:00",
          "2021-08-17T00:00:00",
          "2021-08-18T00:00:00",
          "2021-08-19T00:00:00",
          "2021-08-20T00:00:00",
          "2021-08-21T00:00:00"
         ],
         "xaxis": "x",
         "y": [
          1128,
          1138,
          1156,
          1163,
          1179,
          1191,
          1206,
          1225,
          1241,
          1252,
          1269,
          1284,
          1288,
          1301,
          1319,
          1327,
          1331,
          1334,
          1340,
          1342,
          1346,
          1358,
          1369,
          1373,
          1377,
          1382,
          1385,
          1389,
          1394,
          1399,
          1400,
          1401,
          1403,
          1405,
          1410,
          1411,
          1411,
          1411,
          1412,
          1412,
          1412,
          1412,
          1413,
          1413,
          1415,
          1416,
          1417,
          1417,
          1418,
          1418,
          1418,
          1419,
          1422,
          1422,
          1422,
          1423,
          1424,
          1424,
          1424,
          1424,
          1425,
          1425,
          1426,
          1426,
          1426,
          1426,
          1427,
          1428,
          1428,
          1428,
          1429,
          1429,
          1429,
          1429,
          1430,
          1430,
          1430,
          1433,
          1433,
          1434,
          1435,
          1435
         ],
         "yaxis": "y"
        },
        {
         "hovertemplate": "variable=Hyogo<br>Date=%{x}<br>Number of Positive People=%{y}<extra></extra>",
         "legendgroup": "Hyogo",
         "line": {
          "color": "#ab63fa",
          "dash": "solid"
         },
         "marker": {
          "symbol": "circle"
         },
         "mode": "lines",
         "name": "Hyogo",
         "orientation": "v",
         "showlegend": true,
         "type": "scatter",
         "x": [
          "2021-06-01T00:00:00",
          "2021-06-02T00:00:00",
          "2021-06-03T00:00:00",
          "2021-06-04T00:00:00",
          "2021-06-05T00:00:00",
          "2021-06-06T00:00:00",
          "2021-06-07T00:00:00",
          "2021-06-08T00:00:00",
          "2021-06-09T00:00:00",
          "2021-06-10T00:00:00",
          "2021-06-11T00:00:00",
          "2021-06-12T00:00:00",
          "2021-06-13T00:00:00",
          "2021-06-14T00:00:00",
          "2021-06-15T00:00:00",
          "2021-06-16T00:00:00",
          "2021-06-17T00:00:00",
          "2021-06-18T00:00:00",
          "2021-06-19T00:00:00",
          "2021-06-20T00:00:00",
          "2021-06-21T00:00:00",
          "2021-06-22T00:00:00",
          "2021-06-23T00:00:00",
          "2021-06-24T00:00:00",
          "2021-06-25T00:00:00",
          "2021-06-26T00:00:00",
          "2021-06-27T00:00:00",
          "2021-06-28T00:00:00",
          "2021-06-29T00:00:00",
          "2021-06-30T00:00:00",
          "2021-07-01T00:00:00",
          "2021-07-02T00:00:00",
          "2021-07-03T00:00:00",
          "2021-07-04T00:00:00",
          "2021-07-05T00:00:00",
          "2021-07-06T00:00:00",
          "2021-07-07T00:00:00",
          "2021-07-08T00:00:00",
          "2021-07-09T00:00:00",
          "2021-07-10T00:00:00",
          "2021-07-11T00:00:00",
          "2021-07-12T00:00:00",
          "2021-07-13T00:00:00",
          "2021-07-14T00:00:00",
          "2021-07-15T00:00:00",
          "2021-07-16T00:00:00",
          "2021-07-17T00:00:00",
          "2021-07-18T00:00:00",
          "2021-07-19T00:00:00",
          "2021-07-20T00:00:00",
          "2021-07-21T00:00:00",
          "2021-07-22T00:00:00",
          "2021-07-23T00:00:00",
          "2021-07-24T00:00:00",
          "2021-07-25T00:00:00",
          "2021-07-26T00:00:00",
          "2021-07-27T00:00:00",
          "2021-07-28T00:00:00",
          "2021-07-29T00:00:00",
          "2021-07-30T00:00:00",
          "2021-07-31T00:00:00",
          "2021-08-01T00:00:00",
          "2021-08-02T00:00:00",
          "2021-08-03T00:00:00",
          "2021-08-04T00:00:00",
          "2021-08-05T00:00:00",
          "2021-08-06T00:00:00",
          "2021-08-07T00:00:00",
          "2021-08-08T00:00:00",
          "2021-08-09T00:00:00",
          "2021-08-10T00:00:00",
          "2021-08-11T00:00:00",
          "2021-08-12T00:00:00",
          "2021-08-13T00:00:00",
          "2021-08-14T00:00:00",
          "2021-08-15T00:00:00",
          "2021-08-16T00:00:00",
          "2021-08-17T00:00:00",
          "2021-08-18T00:00:00",
          "2021-08-19T00:00:00",
          "2021-08-20T00:00:00",
          "2021-08-21T00:00:00"
         ],
         "xaxis": "x",
         "y": [
          1192,
          1202,
          1206,
          1211,
          1214,
          1220,
          1228,
          1237,
          1241,
          1246,
          1255,
          1256,
          1256,
          1259,
          1263,
          1268,
          1270,
          1271,
          1272,
          1273,
          1272,
          1273,
          1275,
          1278,
          1279,
          1282,
          1282,
          1285,
          1288,
          1307,
          1308,
          1308,
          1308,
          1308,
          1308,
          1308,
          1309,
          1309,
          1309,
          1310,
          1310,
          1310,
          1310,
          1310,
          1310,
          1310,
          1310,
          1311,
          1311,
          1315,
          1315,
          1315,
          1315,
          1315,
          1315,
          1315,
          1315,
          1315,
          1316,
          1316,
          1316,
          1316,
          1316,
          1316,
          1317,
          1318,
          1319,
          1320,
          1320,
          1320,
          1321,
          1322,
          1323,
          1323,
          1323,
          1323,
          1325,
          1326,
          1326,
          1328,
          1328,
          1328
         ],
         "yaxis": "y"
        },
        {
         "hovertemplate": "variable=Kanagawa<br>Date=%{x}<br>Number of Positive People=%{y}<extra></extra>",
         "legendgroup": "Kanagawa",
         "line": {
          "color": "#FFA15A",
          "dash": "solid"
         },
         "marker": {
          "symbol": "circle"
         },
         "mode": "lines",
         "name": "Kanagawa",
         "orientation": "v",
         "showlegend": true,
         "type": "scatter",
         "x": [
          "2021-06-01T00:00:00",
          "2021-06-02T00:00:00",
          "2021-06-03T00:00:00",
          "2021-06-04T00:00:00",
          "2021-06-05T00:00:00",
          "2021-06-06T00:00:00",
          "2021-06-07T00:00:00",
          "2021-06-08T00:00:00",
          "2021-06-09T00:00:00",
          "2021-06-10T00:00:00",
          "2021-06-11T00:00:00",
          "2021-06-12T00:00:00",
          "2021-06-13T00:00:00",
          "2021-06-14T00:00:00",
          "2021-06-15T00:00:00",
          "2021-06-16T00:00:00",
          "2021-06-17T00:00:00",
          "2021-06-18T00:00:00",
          "2021-06-19T00:00:00",
          "2021-06-20T00:00:00",
          "2021-06-21T00:00:00",
          "2021-06-22T00:00:00",
          "2021-06-23T00:00:00",
          "2021-06-24T00:00:00",
          "2021-06-25T00:00:00",
          "2021-06-26T00:00:00",
          "2021-06-27T00:00:00",
          "2021-06-28T00:00:00",
          "2021-06-29T00:00:00",
          "2021-06-30T00:00:00",
          "2021-07-01T00:00:00",
          "2021-07-02T00:00:00",
          "2021-07-03T00:00:00",
          "2021-07-04T00:00:00",
          "2021-07-05T00:00:00",
          "2021-07-06T00:00:00",
          "2021-07-07T00:00:00",
          "2021-07-08T00:00:00",
          "2021-07-09T00:00:00",
          "2021-07-10T00:00:00",
          "2021-07-11T00:00:00",
          "2021-07-12T00:00:00",
          "2021-07-13T00:00:00",
          "2021-07-14T00:00:00",
          "2021-07-15T00:00:00",
          "2021-07-16T00:00:00",
          "2021-07-17T00:00:00",
          "2021-07-18T00:00:00",
          "2021-07-19T00:00:00",
          "2021-07-20T00:00:00",
          "2021-07-21T00:00:00",
          "2021-07-22T00:00:00",
          "2021-07-23T00:00:00",
          "2021-07-24T00:00:00",
          "2021-07-25T00:00:00",
          "2021-07-26T00:00:00",
          "2021-07-27T00:00:00",
          "2021-07-28T00:00:00",
          "2021-07-29T00:00:00",
          "2021-07-30T00:00:00",
          "2021-07-31T00:00:00",
          "2021-08-01T00:00:00",
          "2021-08-02T00:00:00",
          "2021-08-03T00:00:00",
          "2021-08-04T00:00:00",
          "2021-08-05T00:00:00",
          "2021-08-06T00:00:00",
          "2021-08-07T00:00:00",
          "2021-08-08T00:00:00",
          "2021-08-09T00:00:00",
          "2021-08-10T00:00:00",
          "2021-08-11T00:00:00",
          "2021-08-12T00:00:00",
          "2021-08-13T00:00:00",
          "2021-08-14T00:00:00",
          "2021-08-15T00:00:00",
          "2021-08-16T00:00:00",
          "2021-08-17T00:00:00",
          "2021-08-18T00:00:00",
          "2021-08-19T00:00:00",
          "2021-08-20T00:00:00",
          "2021-08-21T00:00:00"
         ],
         "xaxis": "x",
         "y": [
          884,
          886,
          896,
          902,
          908,
          909,
          910,
          913,
          918,
          920,
          921,
          924,
          924,
          924,
          924,
          930,
          931,
          933,
          936,
          936,
          936,
          937,
          939,
          941,
          942,
          944,
          944,
          945,
          947,
          948,
          949,
          951,
          952,
          952,
          952,
          953,
          956,
          959,
          960,
          963,
          964,
          964,
          964,
          966,
          968,
          969,
          970,
          975,
          976,
          976,
          977,
          979,
          980,
          980,
          980,
          980,
          982,
          983,
          983,
          985,
          986,
          987,
          989,
          994,
          994,
          998,
          999,
          1004,
          1005,
          1009,
          1009,
          1014,
          1016,
          1018,
          1021,
          1023,
          1023,
          1026,
          1037,
          1045,
          1049,
          1052
         ],
         "yaxis": "y"
        }
       ],
       "layout": {
        "legend": {
         "title": {
          "text": "variable"
         },
         "tracegroupgap": 0
        },
        "margin": {
         "t": 60
        },
        "template": {
         "data": {
          "bar": [
           {
            "error_x": {
             "color": "#2a3f5f"
            },
            "error_y": {
             "color": "#2a3f5f"
            },
            "marker": {
             "line": {
              "color": "#E5ECF6",
              "width": 0.5
             },
             "pattern": {
              "fillmode": "overlay",
              "size": 10,
              "solidity": 0.2
             }
            },
            "type": "bar"
           }
          ],
          "barpolar": [
           {
            "marker": {
             "line": {
              "color": "#E5ECF6",
              "width": 0.5
             },
             "pattern": {
              "fillmode": "overlay",
              "size": 10,
              "solidity": 0.2
             }
            },
            "type": "barpolar"
           }
          ],
          "carpet": [
           {
            "aaxis": {
             "endlinecolor": "#2a3f5f",
             "gridcolor": "white",
             "linecolor": "white",
             "minorgridcolor": "white",
             "startlinecolor": "#2a3f5f"
            },
            "baxis": {
             "endlinecolor": "#2a3f5f",
             "gridcolor": "white",
             "linecolor": "white",
             "minorgridcolor": "white",
             "startlinecolor": "#2a3f5f"
            },
            "type": "carpet"
           }
          ],
          "choropleth": [
           {
            "colorbar": {
             "outlinewidth": 0,
             "ticks": ""
            },
            "type": "choropleth"
           }
          ],
          "contour": [
           {
            "colorbar": {
             "outlinewidth": 0,
             "ticks": ""
            },
            "colorscale": [
             [
              0,
              "#0d0887"
             ],
             [
              0.1111111111111111,
              "#46039f"
             ],
             [
              0.2222222222222222,
              "#7201a8"
             ],
             [
              0.3333333333333333,
              "#9c179e"
             ],
             [
              0.4444444444444444,
              "#bd3786"
             ],
             [
              0.5555555555555556,
              "#d8576b"
             ],
             [
              0.6666666666666666,
              "#ed7953"
             ],
             [
              0.7777777777777778,
              "#fb9f3a"
             ],
             [
              0.8888888888888888,
              "#fdca26"
             ],
             [
              1,
              "#f0f921"
             ]
            ],
            "type": "contour"
           }
          ],
          "contourcarpet": [
           {
            "colorbar": {
             "outlinewidth": 0,
             "ticks": ""
            },
            "type": "contourcarpet"
           }
          ],
          "heatmap": [
           {
            "colorbar": {
             "outlinewidth": 0,
             "ticks": ""
            },
            "colorscale": [
             [
              0,
              "#0d0887"
             ],
             [
              0.1111111111111111,
              "#46039f"
             ],
             [
              0.2222222222222222,
              "#7201a8"
             ],
             [
              0.3333333333333333,
              "#9c179e"
             ],
             [
              0.4444444444444444,
              "#bd3786"
             ],
             [
              0.5555555555555556,
              "#d8576b"
             ],
             [
              0.6666666666666666,
              "#ed7953"
             ],
             [
              0.7777777777777778,
              "#fb9f3a"
             ],
             [
              0.8888888888888888,
              "#fdca26"
             ],
             [
              1,
              "#f0f921"
             ]
            ],
            "type": "heatmap"
           }
          ],
          "heatmapgl": [
           {
            "colorbar": {
             "outlinewidth": 0,
             "ticks": ""
            },
            "colorscale": [
             [
              0,
              "#0d0887"
             ],
             [
              0.1111111111111111,
              "#46039f"
             ],
             [
              0.2222222222222222,
              "#7201a8"
             ],
             [
              0.3333333333333333,
              "#9c179e"
             ],
             [
              0.4444444444444444,
              "#bd3786"
             ],
             [
              0.5555555555555556,
              "#d8576b"
             ],
             [
              0.6666666666666666,
              "#ed7953"
             ],
             [
              0.7777777777777778,
              "#fb9f3a"
             ],
             [
              0.8888888888888888,
              "#fdca26"
             ],
             [
              1,
              "#f0f921"
             ]
            ],
            "type": "heatmapgl"
           }
          ],
          "histogram": [
           {
            "marker": {
             "pattern": {
              "fillmode": "overlay",
              "size": 10,
              "solidity": 0.2
             }
            },
            "type": "histogram"
           }
          ],
          "histogram2d": [
           {
            "colorbar": {
             "outlinewidth": 0,
             "ticks": ""
            },
            "colorscale": [
             [
              0,
              "#0d0887"
             ],
             [
              0.1111111111111111,
              "#46039f"
             ],
             [
              0.2222222222222222,
              "#7201a8"
             ],
             [
              0.3333333333333333,
              "#9c179e"
             ],
             [
              0.4444444444444444,
              "#bd3786"
             ],
             [
              0.5555555555555556,
              "#d8576b"
             ],
             [
              0.6666666666666666,
              "#ed7953"
             ],
             [
              0.7777777777777778,
              "#fb9f3a"
             ],
             [
              0.8888888888888888,
              "#fdca26"
             ],
             [
              1,
              "#f0f921"
             ]
            ],
            "type": "histogram2d"
           }
          ],
          "histogram2dcontour": [
           {
            "colorbar": {
             "outlinewidth": 0,
             "ticks": ""
            },
            "colorscale": [
             [
              0,
              "#0d0887"
             ],
             [
              0.1111111111111111,
              "#46039f"
             ],
             [
              0.2222222222222222,
              "#7201a8"
             ],
             [
              0.3333333333333333,
              "#9c179e"
             ],
             [
              0.4444444444444444,
              "#bd3786"
             ],
             [
              0.5555555555555556,
              "#d8576b"
             ],
             [
              0.6666666666666666,
              "#ed7953"
             ],
             [
              0.7777777777777778,
              "#fb9f3a"
             ],
             [
              0.8888888888888888,
              "#fdca26"
             ],
             [
              1,
              "#f0f921"
             ]
            ],
            "type": "histogram2dcontour"
           }
          ],
          "mesh3d": [
           {
            "colorbar": {
             "outlinewidth": 0,
             "ticks": ""
            },
            "type": "mesh3d"
           }
          ],
          "parcoords": [
           {
            "line": {
             "colorbar": {
              "outlinewidth": 0,
              "ticks": ""
             }
            },
            "type": "parcoords"
           }
          ],
          "pie": [
           {
            "automargin": true,
            "type": "pie"
           }
          ],
          "scatter": [
           {
            "fillpattern": {
             "fillmode": "overlay",
             "size": 10,
             "solidity": 0.2
            },
            "type": "scatter"
           }
          ],
          "scatter3d": [
           {
            "line": {
             "colorbar": {
              "outlinewidth": 0,
              "ticks": ""
             }
            },
            "marker": {
             "colorbar": {
              "outlinewidth": 0,
              "ticks": ""
             }
            },
            "type": "scatter3d"
           }
          ],
          "scattercarpet": [
           {
            "marker": {
             "colorbar": {
              "outlinewidth": 0,
              "ticks": ""
             }
            },
            "type": "scattercarpet"
           }
          ],
          "scattergeo": [
           {
            "marker": {
             "colorbar": {
              "outlinewidth": 0,
              "ticks": ""
             }
            },
            "type": "scattergeo"
           }
          ],
          "scattergl": [
           {
            "marker": {
             "colorbar": {
              "outlinewidth": 0,
              "ticks": ""
             }
            },
            "type": "scattergl"
           }
          ],
          "scattermapbox": [
           {
            "marker": {
             "colorbar": {
              "outlinewidth": 0,
              "ticks": ""
             }
            },
            "type": "scattermapbox"
           }
          ],
          "scatterpolar": [
           {
            "marker": {
             "colorbar": {
              "outlinewidth": 0,
              "ticks": ""
             }
            },
            "type": "scatterpolar"
           }
          ],
          "scatterpolargl": [
           {
            "marker": {
             "colorbar": {
              "outlinewidth": 0,
              "ticks": ""
             }
            },
            "type": "scatterpolargl"
           }
          ],
          "scatterternary": [
           {
            "marker": {
             "colorbar": {
              "outlinewidth": 0,
              "ticks": ""
             }
            },
            "type": "scatterternary"
           }
          ],
          "surface": [
           {
            "colorbar": {
             "outlinewidth": 0,
             "ticks": ""
            },
            "colorscale": [
             [
              0,
              "#0d0887"
             ],
             [
              0.1111111111111111,
              "#46039f"
             ],
             [
              0.2222222222222222,
              "#7201a8"
             ],
             [
              0.3333333333333333,
              "#9c179e"
             ],
             [
              0.4444444444444444,
              "#bd3786"
             ],
             [
              0.5555555555555556,
              "#d8576b"
             ],
             [
              0.6666666666666666,
              "#ed7953"
             ],
             [
              0.7777777777777778,
              "#fb9f3a"
             ],
             [
              0.8888888888888888,
              "#fdca26"
             ],
             [
              1,
              "#f0f921"
             ]
            ],
            "type": "surface"
           }
          ],
          "table": [
           {
            "cells": {
             "fill": {
              "color": "#EBF0F8"
             },
             "line": {
              "color": "white"
             }
            },
            "header": {
             "fill": {
              "color": "#C8D4E3"
             },
             "line": {
              "color": "white"
             }
            },
            "type": "table"
           }
          ]
         },
         "layout": {
          "annotationdefaults": {
           "arrowcolor": "#2a3f5f",
           "arrowhead": 0,
           "arrowwidth": 1
          },
          "autotypenumbers": "strict",
          "coloraxis": {
           "colorbar": {
            "outlinewidth": 0,
            "ticks": ""
           }
          },
          "colorscale": {
           "diverging": [
            [
             0,
             "#8e0152"
            ],
            [
             0.1,
             "#c51b7d"
            ],
            [
             0.2,
             "#de77ae"
            ],
            [
             0.3,
             "#f1b6da"
            ],
            [
             0.4,
             "#fde0ef"
            ],
            [
             0.5,
             "#f7f7f7"
            ],
            [
             0.6,
             "#e6f5d0"
            ],
            [
             0.7,
             "#b8e186"
            ],
            [
             0.8,
             "#7fbc41"
            ],
            [
             0.9,
             "#4d9221"
            ],
            [
             1,
             "#276419"
            ]
           ],
           "sequential": [
            [
             0,
             "#0d0887"
            ],
            [
             0.1111111111111111,
             "#46039f"
            ],
            [
             0.2222222222222222,
             "#7201a8"
            ],
            [
             0.3333333333333333,
             "#9c179e"
            ],
            [
             0.4444444444444444,
             "#bd3786"
            ],
            [
             0.5555555555555556,
             "#d8576b"
            ],
            [
             0.6666666666666666,
             "#ed7953"
            ],
            [
             0.7777777777777778,
             "#fb9f3a"
            ],
            [
             0.8888888888888888,
             "#fdca26"
            ],
            [
             1,
             "#f0f921"
            ]
           ],
           "sequentialminus": [
            [
             0,
             "#0d0887"
            ],
            [
             0.1111111111111111,
             "#46039f"
            ],
            [
             0.2222222222222222,
             "#7201a8"
            ],
            [
             0.3333333333333333,
             "#9c179e"
            ],
            [
             0.4444444444444444,
             "#bd3786"
            ],
            [
             0.5555555555555556,
             "#d8576b"
            ],
            [
             0.6666666666666666,
             "#ed7953"
            ],
            [
             0.7777777777777778,
             "#fb9f3a"
            ],
            [
             0.8888888888888888,
             "#fdca26"
            ],
            [
             1,
             "#f0f921"
            ]
           ]
          },
          "colorway": [
           "#636efa",
           "#EF553B",
           "#00cc96",
           "#ab63fa",
           "#FFA15A",
           "#19d3f3",
           "#FF6692",
           "#B6E880",
           "#FF97FF",
           "#FECB52"
          ],
          "font": {
           "color": "#2a3f5f"
          },
          "geo": {
           "bgcolor": "white",
           "lakecolor": "white",
           "landcolor": "#E5ECF6",
           "showlakes": true,
           "showland": true,
           "subunitcolor": "white"
          },
          "hoverlabel": {
           "align": "left"
          },
          "hovermode": "closest",
          "mapbox": {
           "style": "light"
          },
          "paper_bgcolor": "white",
          "plot_bgcolor": "#E5ECF6",
          "polar": {
           "angularaxis": {
            "gridcolor": "white",
            "linecolor": "white",
            "ticks": ""
           },
           "bgcolor": "#E5ECF6",
           "radialaxis": {
            "gridcolor": "white",
            "linecolor": "white",
            "ticks": ""
           }
          },
          "scene": {
           "xaxis": {
            "backgroundcolor": "#E5ECF6",
            "gridcolor": "white",
            "gridwidth": 2,
            "linecolor": "white",
            "showbackground": true,
            "ticks": "",
            "zerolinecolor": "white"
           },
           "yaxis": {
            "backgroundcolor": "#E5ECF6",
            "gridcolor": "white",
            "gridwidth": 2,
            "linecolor": "white",
            "showbackground": true,
            "ticks": "",
            "zerolinecolor": "white"
           },
           "zaxis": {
            "backgroundcolor": "#E5ECF6",
            "gridcolor": "white",
            "gridwidth": 2,
            "linecolor": "white",
            "showbackground": true,
            "ticks": "",
            "zerolinecolor": "white"
           }
          },
          "shapedefaults": {
           "line": {
            "color": "#2a3f5f"
           }
          },
          "ternary": {
           "aaxis": {
            "gridcolor": "white",
            "linecolor": "white",
            "ticks": ""
           },
           "baxis": {
            "gridcolor": "white",
            "linecolor": "white",
            "ticks": ""
           },
           "bgcolor": "#E5ECF6",
           "caxis": {
            "gridcolor": "white",
            "linecolor": "white",
            "ticks": ""
           }
          },
          "title": {
           "x": 0.05
          },
          "xaxis": {
           "automargin": true,
           "gridcolor": "white",
           "linecolor": "white",
           "ticks": "",
           "title": {
            "standoff": 15
           },
           "zerolinecolor": "white",
           "zerolinewidth": 2
          },
          "yaxis": {
           "automargin": true,
           "gridcolor": "white",
           "linecolor": "white",
           "ticks": "",
           "title": {
            "standoff": 15
           },
           "zerolinecolor": "white",
           "zerolinewidth": 2
          }
         }
        },
        "xaxis": {
         "anchor": "y",
         "domain": [
          0,
          1
         ],
         "title": {
          "text": "Date"
         }
        },
        "yaxis": {
         "anchor": "x",
         "domain": [
          0,
          1
         ],
         "title": {
          "text": "Number of Positive People"
         }
        }
       }
      }
     },
     "metadata": {},
     "output_type": "display_data"
    }
   ],
   "source": [
    "# draw line chart\n",
    "\n",
    "fig =px.line(\n",
    "    df_death,\n",
    "    y=['Osaka', 'Tokyo', 'Hokkaido', 'Hyogo', 'Kanagawa'],\n",
    "    labels={'value': 'Number of Positive People', 'varible': 'locations'}\n",
    ")\n",
    "fig.show()"
   ]
  },
  {
   "cell_type": "markdown",
   "metadata": {},
   "source": [
    "#### 3.3 Detail analytics for OSAKA province"
   ]
  },
  {
   "cell_type": "code",
   "execution_count": 88,
   "metadata": {},
   "outputs": [
    {
     "data": {
      "text/html": [
       "<div>\n",
       "<style scoped>\n",
       "    .dataframe tbody tr th:only-of-type {\n",
       "        vertical-align: middle;\n",
       "    }\n",
       "\n",
       "    .dataframe tbody tr th {\n",
       "        vertical-align: top;\n",
       "    }\n",
       "\n",
       "    .dataframe thead th {\n",
       "        text-align: right;\n",
       "    }\n",
       "</style>\n",
       "<table border=\"1\" class=\"dataframe\">\n",
       "  <thead>\n",
       "    <tr style=\"text-align: right;\">\n",
       "      <th></th>\n",
       "      <th>Date</th>\n",
       "      <th>Positive</th>\n",
       "      <th>Discharged</th>\n",
       "      <th>Death</th>\n",
       "      <th>Hospitalization</th>\n",
       "      <th>Severe</th>\n",
       "      <th>Pos_Tes_Ratio</th>\n",
       "    </tr>\n",
       "  </thead>\n",
       "  <tbody>\n",
       "    <tr>\n",
       "      <th>2</th>\n",
       "      <td>2021-08-21</td>\n",
       "      <td>145148</td>\n",
       "      <td>121262</td>\n",
       "      <td>2756</td>\n",
       "      <td>19512</td>\n",
       "      <td>496</td>\n",
       "      <td>0.052579</td>\n",
       "    </tr>\n",
       "    <tr>\n",
       "      <th>9</th>\n",
       "      <td>2021-08-20</td>\n",
       "      <td>142592</td>\n",
       "      <td>119967</td>\n",
       "      <td>2754</td>\n",
       "      <td>18297</td>\n",
       "      <td>494</td>\n",
       "      <td>0.052048</td>\n",
       "    </tr>\n",
       "    <tr>\n",
       "      <th>10</th>\n",
       "      <td>2021-08-19</td>\n",
       "      <td>140006</td>\n",
       "      <td>118959</td>\n",
       "      <td>2753</td>\n",
       "      <td>16776</td>\n",
       "      <td>487</td>\n",
       "      <td>0.051497</td>\n",
       "    </tr>\n",
       "    <tr>\n",
       "      <th>18</th>\n",
       "      <td>2021-08-18</td>\n",
       "      <td>137563</td>\n",
       "      <td>117638</td>\n",
       "      <td>2752</td>\n",
       "      <td>15710</td>\n",
       "      <td>451</td>\n",
       "      <td>0.050950</td>\n",
       "    </tr>\n",
       "    <tr>\n",
       "      <th>21</th>\n",
       "      <td>2021-08-17</td>\n",
       "      <td>135267</td>\n",
       "      <td>116627</td>\n",
       "      <td>2747</td>\n",
       "      <td>14438</td>\n",
       "      <td>450</td>\n",
       "      <td>0.050409</td>\n",
       "    </tr>\n",
       "  </tbody>\n",
       "</table>\n",
       "</div>"
      ],
      "text/plain": [
       "         Date  Positive  Discharged  Death  Hospitalization  Severe  \\\n",
       "2  2021-08-21    145148      121262   2756            19512     496   \n",
       "9  2021-08-20    142592      119967   2754            18297     494   \n",
       "10 2021-08-19    140006      118959   2753            16776     487   \n",
       "18 2021-08-18    137563      117638   2752            15710     451   \n",
       "21 2021-08-17    135267      116627   2747            14438     450   \n",
       "\n",
       "    Pos_Tes_Ratio  \n",
       "2        0.052579  \n",
       "9        0.052048  \n",
       "10       0.051497  \n",
       "18       0.050950  \n",
       "21       0.050409  "
      ]
     },
     "execution_count": 88,
     "metadata": {},
     "output_type": "execute_result"
    }
   ],
   "source": [
    "df_osaka =df3[df3['Province']=='Osaka'].drop(['Province'],axis=1)\n",
    "df_osaka.head()"
   ]
  },
  {
   "cell_type": "code",
   "execution_count": 89,
   "metadata": {},
   "outputs": [
    {
     "data": {
      "text/html": [
       "<div>\n",
       "<style scoped>\n",
       "    .dataframe tbody tr th:only-of-type {\n",
       "        vertical-align: middle;\n",
       "    }\n",
       "\n",
       "    .dataframe tbody tr th {\n",
       "        vertical-align: top;\n",
       "    }\n",
       "\n",
       "    .dataframe thead th {\n",
       "        text-align: right;\n",
       "    }\n",
       "</style>\n",
       "<table border=\"1\" class=\"dataframe\">\n",
       "  <thead>\n",
       "    <tr style=\"text-align: right;\">\n",
       "      <th></th>\n",
       "      <th>Positive</th>\n",
       "      <th>Discharged</th>\n",
       "      <th>Death</th>\n",
       "      <th>Hospitalization</th>\n",
       "      <th>Severe</th>\n",
       "      <th>Pos_Tes_Ratio</th>\n",
       "    </tr>\n",
       "    <tr>\n",
       "      <th>Date</th>\n",
       "      <th></th>\n",
       "      <th></th>\n",
       "      <th></th>\n",
       "      <th></th>\n",
       "      <th></th>\n",
       "      <th></th>\n",
       "    </tr>\n",
       "  </thead>\n",
       "  <tbody>\n",
       "    <tr>\n",
       "      <th>2021-08-21</th>\n",
       "      <td>145148</td>\n",
       "      <td>121262</td>\n",
       "      <td>2756</td>\n",
       "      <td>19512</td>\n",
       "      <td>496</td>\n",
       "      <td>0.052579</td>\n",
       "    </tr>\n",
       "    <tr>\n",
       "      <th>2021-08-20</th>\n",
       "      <td>142592</td>\n",
       "      <td>119967</td>\n",
       "      <td>2754</td>\n",
       "      <td>18297</td>\n",
       "      <td>494</td>\n",
       "      <td>0.052048</td>\n",
       "    </tr>\n",
       "    <tr>\n",
       "      <th>2021-08-19</th>\n",
       "      <td>140006</td>\n",
       "      <td>118959</td>\n",
       "      <td>2753</td>\n",
       "      <td>16776</td>\n",
       "      <td>487</td>\n",
       "      <td>0.051497</td>\n",
       "    </tr>\n",
       "    <tr>\n",
       "      <th>2021-08-18</th>\n",
       "      <td>137563</td>\n",
       "      <td>117638</td>\n",
       "      <td>2752</td>\n",
       "      <td>15710</td>\n",
       "      <td>451</td>\n",
       "      <td>0.050950</td>\n",
       "    </tr>\n",
       "    <tr>\n",
       "      <th>2021-08-17</th>\n",
       "      <td>135267</td>\n",
       "      <td>116627</td>\n",
       "      <td>2747</td>\n",
       "      <td>14438</td>\n",
       "      <td>450</td>\n",
       "      <td>0.050409</td>\n",
       "    </tr>\n",
       "  </tbody>\n",
       "</table>\n",
       "</div>"
      ],
      "text/plain": [
       "            Positive  Discharged  Death  Hospitalization  Severe  \\\n",
       "Date                                                               \n",
       "2021-08-21    145148      121262   2756            19512     496   \n",
       "2021-08-20    142592      119967   2754            18297     494   \n",
       "2021-08-19    140006      118959   2753            16776     487   \n",
       "2021-08-18    137563      117638   2752            15710     451   \n",
       "2021-08-17    135267      116627   2747            14438     450   \n",
       "\n",
       "            Pos_Tes_Ratio  \n",
       "Date                       \n",
       "2021-08-21       0.052579  \n",
       "2021-08-20       0.052048  \n",
       "2021-08-19       0.051497  \n",
       "2021-08-18       0.050950  \n",
       "2021-08-17       0.050409  "
      ]
     },
     "execution_count": 89,
     "metadata": {},
     "output_type": "execute_result"
    }
   ],
   "source": [
    "# reset index\n",
    "df_osaka.reset_index(drop=True, inplace=True)\n",
    "df_osaka.set_index('Date', inplace=True)\n",
    "df_osaka.head()"
   ]
  },
  {
   "cell_type": "code",
   "execution_count": 90,
   "metadata": {},
   "outputs": [
    {
     "data": {
      "application/vnd.plotly.v1+json": {
       "config": {
        "plotlyServerURL": "https://plot.ly"
       },
       "data": [
        {
         "hovertemplate": "variable=Positive<br>Date=%{x}<br>Number of Positive People=%{y}<extra></extra>",
         "legendgroup": "Positive",
         "line": {
          "color": "#636efa",
          "dash": "solid"
         },
         "marker": {
          "symbol": "circle"
         },
         "mode": "lines",
         "name": "Positive",
         "orientation": "v",
         "showlegend": true,
         "type": "scatter",
         "x": [
          "2021-08-21T00:00:00",
          "2021-08-20T00:00:00",
          "2021-08-19T00:00:00",
          "2021-08-18T00:00:00",
          "2021-08-17T00:00:00",
          "2021-08-16T00:00:00",
          "2021-08-15T00:00:00",
          "2021-08-14T00:00:00",
          "2021-08-13T00:00:00",
          "2021-08-12T00:00:00",
          "2021-08-11T00:00:00",
          "2021-08-10T00:00:00",
          "2021-08-09T00:00:00",
          "2021-08-08T00:00:00",
          "2021-08-07T00:00:00",
          "2021-08-06T00:00:00",
          "2021-08-05T00:00:00",
          "2021-08-04T00:00:00",
          "2021-08-03T00:00:00",
          "2021-08-02T00:00:00",
          "2021-08-01T00:00:00",
          "2021-07-31T00:00:00",
          "2021-07-30T00:00:00",
          "2021-07-29T00:00:00",
          "2021-07-28T00:00:00",
          "2021-07-27T00:00:00",
          "2021-07-26T00:00:00",
          "2021-07-25T00:00:00",
          "2021-07-24T00:00:00",
          "2021-07-23T00:00:00",
          "2021-07-22T00:00:00",
          "2021-07-21T00:00:00",
          "2021-07-20T00:00:00",
          "2021-07-19T00:00:00",
          "2021-07-18T00:00:00",
          "2021-07-17T00:00:00",
          "2021-07-16T00:00:00",
          "2021-07-15T00:00:00",
          "2021-07-14T00:00:00",
          "2021-07-13T00:00:00",
          "2021-07-12T00:00:00",
          "2021-07-11T00:00:00",
          "2021-07-10T00:00:00",
          "2021-07-09T00:00:00",
          "2021-07-08T00:00:00",
          "2021-07-07T00:00:00",
          "2021-07-06T00:00:00",
          "2021-07-05T00:00:00",
          "2021-07-04T00:00:00",
          "2021-07-03T00:00:00",
          "2021-07-02T00:00:00",
          "2021-07-01T00:00:00",
          "2021-06-30T00:00:00",
          "2021-06-29T00:00:00",
          "2021-06-28T00:00:00",
          "2021-06-27T00:00:00",
          "2021-06-26T00:00:00",
          "2021-06-25T00:00:00",
          "2021-06-24T00:00:00",
          "2021-06-23T00:00:00",
          "2021-06-22T00:00:00",
          "2021-06-21T00:00:00",
          "2021-06-20T00:00:00",
          "2021-06-19T00:00:00",
          "2021-06-18T00:00:00",
          "2021-06-17T00:00:00",
          "2021-06-16T00:00:00",
          "2021-06-15T00:00:00",
          "2021-06-14T00:00:00",
          "2021-06-13T00:00:00",
          "2021-06-12T00:00:00",
          "2021-06-11T00:00:00",
          "2021-06-10T00:00:00",
          "2021-06-09T00:00:00",
          "2021-06-08T00:00:00",
          "2021-06-07T00:00:00",
          "2021-06-06T00:00:00",
          "2021-06-05T00:00:00",
          "2021-06-04T00:00:00",
          "2021-06-03T00:00:00",
          "2021-06-02T00:00:00",
          "2021-06-01T00:00:00"
         ],
         "xaxis": "x",
         "y": [
          145148,
          142592,
          140006,
          137563,
          135267,
          133411,
          132447,
          130683,
          128855,
          127294,
          125640,
          124150,
          123453,
          122458,
          121294,
          120171,
          118861,
          117776,
          116552,
          115473,
          115025,
          114135,
          113095,
          112213,
          111281,
          110483,
          109742,
          109368,
          108897,
          108614,
          108235,
          107774,
          107283,
          106970,
          106746,
          106484,
          106104,
          105850,
          105528,
          105179,
          104954,
          104849,
          104682,
          104482,
          104339,
          104214,
          104064,
          103928,
          103850,
          103762,
          103614,
          103491,
          103383,
          103275,
          103174,
          103134,
          103038,
          102950,
          102830,
          102714,
          102589,
          102482,
          102440,
          102334,
          102223,
          102144,
          102049,
          101941,
          101831,
          101774,
          101678,
          101552,
          101424,
          101276,
          101123,
          100933,
          100865,
          100720,
          100546,
          100357,
          100133,
          99920
         ],
         "yaxis": "y"
        },
        {
         "hovertemplate": "variable=Discharged<br>Date=%{x}<br>Number of Positive People=%{y}<extra></extra>",
         "legendgroup": "Discharged",
         "line": {
          "color": "#EF553B",
          "dash": "solid"
         },
         "marker": {
          "symbol": "circle"
         },
         "mode": "lines",
         "name": "Discharged",
         "orientation": "v",
         "showlegend": true,
         "type": "scatter",
         "x": [
          "2021-08-21T00:00:00",
          "2021-08-20T00:00:00",
          "2021-08-19T00:00:00",
          "2021-08-18T00:00:00",
          "2021-08-17T00:00:00",
          "2021-08-16T00:00:00",
          "2021-08-15T00:00:00",
          "2021-08-14T00:00:00",
          "2021-08-13T00:00:00",
          "2021-08-12T00:00:00",
          "2021-08-11T00:00:00",
          "2021-08-10T00:00:00",
          "2021-08-09T00:00:00",
          "2021-08-08T00:00:00",
          "2021-08-07T00:00:00",
          "2021-08-06T00:00:00",
          "2021-08-05T00:00:00",
          "2021-08-04T00:00:00",
          "2021-08-03T00:00:00",
          "2021-08-02T00:00:00",
          "2021-08-01T00:00:00",
          "2021-07-31T00:00:00",
          "2021-07-30T00:00:00",
          "2021-07-29T00:00:00",
          "2021-07-28T00:00:00",
          "2021-07-27T00:00:00",
          "2021-07-26T00:00:00",
          "2021-07-25T00:00:00",
          "2021-07-24T00:00:00",
          "2021-07-23T00:00:00",
          "2021-07-22T00:00:00",
          "2021-07-21T00:00:00",
          "2021-07-20T00:00:00",
          "2021-07-19T00:00:00",
          "2021-07-18T00:00:00",
          "2021-07-17T00:00:00",
          "2021-07-16T00:00:00",
          "2021-07-15T00:00:00",
          "2021-07-14T00:00:00",
          "2021-07-13T00:00:00",
          "2021-07-12T00:00:00",
          "2021-07-11T00:00:00",
          "2021-07-10T00:00:00",
          "2021-07-09T00:00:00",
          "2021-07-08T00:00:00",
          "2021-07-07T00:00:00",
          "2021-07-06T00:00:00",
          "2021-07-05T00:00:00",
          "2021-07-04T00:00:00",
          "2021-07-03T00:00:00",
          "2021-07-02T00:00:00",
          "2021-07-01T00:00:00",
          "2021-06-30T00:00:00",
          "2021-06-29T00:00:00",
          "2021-06-28T00:00:00",
          "2021-06-27T00:00:00",
          "2021-06-26T00:00:00",
          "2021-06-25T00:00:00",
          "2021-06-24T00:00:00",
          "2021-06-23T00:00:00",
          "2021-06-22T00:00:00",
          "2021-06-21T00:00:00",
          "2021-06-20T00:00:00",
          "2021-06-19T00:00:00",
          "2021-06-18T00:00:00",
          "2021-06-17T00:00:00",
          "2021-06-16T00:00:00",
          "2021-06-15T00:00:00",
          "2021-06-14T00:00:00",
          "2021-06-13T00:00:00",
          "2021-06-12T00:00:00",
          "2021-06-11T00:00:00",
          "2021-06-10T00:00:00",
          "2021-06-09T00:00:00",
          "2021-06-08T00:00:00",
          "2021-06-07T00:00:00",
          "2021-06-06T00:00:00",
          "2021-06-05T00:00:00",
          "2021-06-04T00:00:00",
          "2021-06-03T00:00:00",
          "2021-06-02T00:00:00",
          "2021-06-01T00:00:00"
         ],
         "xaxis": "x",
         "y": [
          121262,
          119967,
          118959,
          117638,
          116627,
          115134,
          114574,
          113516,
          112558,
          111360,
          110578,
          109374,
          108730,
          108128,
          107629,
          107037,
          106283,
          105868,
          105251,
          104755,
          104289,
          104059,
          103759,
          103524,
          103193,
          102973,
          102620,
          102326,
          102019,
          101762,
          101620,
          101353,
          101119,
          100894,
          100719,
          100611,
          100465,
          100326,
          100191,
          100044,
          99855,
          99814,
          99746,
          99653,
          99489,
          99390,
          99334,
          99189,
          99147,
          99047,
          98873,
          98820,
          98670,
          98507,
          98306,
          98265,
          98121,
          98054,
          97864,
          97754,
          97441,
          97256,
          97091,
          96971,
          96618,
          95736,
          95297,
          94486,
          93118,
          92844,
          92651,
          92317,
          91924,
          91475,
          91014,
          90754,
          90334,
          90166,
          89852,
          89457,
          88982,
          88261
         ],
         "yaxis": "y"
        },
        {
         "hovertemplate": "variable=Death<br>Date=%{x}<br>Number of Positive People=%{y}<extra></extra>",
         "legendgroup": "Death",
         "line": {
          "color": "#00cc96",
          "dash": "solid"
         },
         "marker": {
          "symbol": "circle"
         },
         "mode": "lines",
         "name": "Death",
         "orientation": "v",
         "showlegend": true,
         "type": "scatter",
         "x": [
          "2021-08-21T00:00:00",
          "2021-08-20T00:00:00",
          "2021-08-19T00:00:00",
          "2021-08-18T00:00:00",
          "2021-08-17T00:00:00",
          "2021-08-16T00:00:00",
          "2021-08-15T00:00:00",
          "2021-08-14T00:00:00",
          "2021-08-13T00:00:00",
          "2021-08-12T00:00:00",
          "2021-08-11T00:00:00",
          "2021-08-10T00:00:00",
          "2021-08-09T00:00:00",
          "2021-08-08T00:00:00",
          "2021-08-07T00:00:00",
          "2021-08-06T00:00:00",
          "2021-08-05T00:00:00",
          "2021-08-04T00:00:00",
          "2021-08-03T00:00:00",
          "2021-08-02T00:00:00",
          "2021-08-01T00:00:00",
          "2021-07-31T00:00:00",
          "2021-07-30T00:00:00",
          "2021-07-29T00:00:00",
          "2021-07-28T00:00:00",
          "2021-07-27T00:00:00",
          "2021-07-26T00:00:00",
          "2021-07-25T00:00:00",
          "2021-07-24T00:00:00",
          "2021-07-23T00:00:00",
          "2021-07-22T00:00:00",
          "2021-07-21T00:00:00",
          "2021-07-20T00:00:00",
          "2021-07-19T00:00:00",
          "2021-07-18T00:00:00",
          "2021-07-17T00:00:00",
          "2021-07-16T00:00:00",
          "2021-07-15T00:00:00",
          "2021-07-14T00:00:00",
          "2021-07-13T00:00:00",
          "2021-07-12T00:00:00",
          "2021-07-11T00:00:00",
          "2021-07-10T00:00:00",
          "2021-07-09T00:00:00",
          "2021-07-08T00:00:00",
          "2021-07-07T00:00:00",
          "2021-07-06T00:00:00",
          "2021-07-05T00:00:00",
          "2021-07-04T00:00:00",
          "2021-07-03T00:00:00",
          "2021-07-02T00:00:00",
          "2021-07-01T00:00:00",
          "2021-06-30T00:00:00",
          "2021-06-29T00:00:00",
          "2021-06-28T00:00:00",
          "2021-06-27T00:00:00",
          "2021-06-26T00:00:00",
          "2021-06-25T00:00:00",
          "2021-06-24T00:00:00",
          "2021-06-23T00:00:00",
          "2021-06-22T00:00:00",
          "2021-06-21T00:00:00",
          "2021-06-20T00:00:00",
          "2021-06-19T00:00:00",
          "2021-06-18T00:00:00",
          "2021-06-17T00:00:00",
          "2021-06-16T00:00:00",
          "2021-06-15T00:00:00",
          "2021-06-14T00:00:00",
          "2021-06-13T00:00:00",
          "2021-06-12T00:00:00",
          "2021-06-11T00:00:00",
          "2021-06-10T00:00:00",
          "2021-06-09T00:00:00",
          "2021-06-08T00:00:00",
          "2021-06-07T00:00:00",
          "2021-06-06T00:00:00",
          "2021-06-05T00:00:00",
          "2021-06-04T00:00:00",
          "2021-06-03T00:00:00",
          "2021-06-02T00:00:00",
          "2021-06-01T00:00:00"
         ],
         "xaxis": "x",
         "y": [
          2756,
          2754,
          2753,
          2752,
          2747,
          2743,
          2742,
          2742,
          2742,
          2739,
          2735,
          2733,
          2733,
          2733,
          2731,
          2728,
          2726,
          2724,
          2722,
          2722,
          2721,
          2721,
          2721,
          2721,
          2719,
          2719,
          2719,
          2718,
          2717,
          2716,
          2716,
          2715,
          2711,
          2708,
          2708,
          2707,
          2703,
          2700,
          2698,
          2696,
          2693,
          2693,
          2693,
          2692,
          2690,
          2687,
          2685,
          2681,
          2680,
          2680,
          2680,
          2677,
          2671,
          2668,
          2661,
          2647,
          2647,
          2640,
          2635,
          2624,
          2609,
          2605,
          2592,
          2589,
          2584,
          2567,
          2563,
          2544,
          2540,
          2530,
          2524,
          2512,
          2501,
          2484,
          2457,
          2432,
          2417,
          2412,
          2404,
          2382,
          2363,
          2336
         ],
         "yaxis": "y"
        },
        {
         "hovertemplate": "variable=Hospitalization<br>Date=%{x}<br>Number of Positive People=%{y}<extra></extra>",
         "legendgroup": "Hospitalization",
         "line": {
          "color": "#ab63fa",
          "dash": "solid"
         },
         "marker": {
          "symbol": "circle"
         },
         "mode": "lines",
         "name": "Hospitalization",
         "orientation": "v",
         "showlegend": true,
         "type": "scatter",
         "x": [
          "2021-08-21T00:00:00",
          "2021-08-20T00:00:00",
          "2021-08-19T00:00:00",
          "2021-08-18T00:00:00",
          "2021-08-17T00:00:00",
          "2021-08-16T00:00:00",
          "2021-08-15T00:00:00",
          "2021-08-14T00:00:00",
          "2021-08-13T00:00:00",
          "2021-08-12T00:00:00",
          "2021-08-11T00:00:00",
          "2021-08-10T00:00:00",
          "2021-08-09T00:00:00",
          "2021-08-08T00:00:00",
          "2021-08-07T00:00:00",
          "2021-08-06T00:00:00",
          "2021-08-05T00:00:00",
          "2021-08-04T00:00:00",
          "2021-08-03T00:00:00",
          "2021-08-02T00:00:00",
          "2021-08-01T00:00:00",
          "2021-07-31T00:00:00",
          "2021-07-30T00:00:00",
          "2021-07-29T00:00:00",
          "2021-07-28T00:00:00",
          "2021-07-27T00:00:00",
          "2021-07-26T00:00:00",
          "2021-07-25T00:00:00",
          "2021-07-24T00:00:00",
          "2021-07-23T00:00:00",
          "2021-07-22T00:00:00",
          "2021-07-21T00:00:00",
          "2021-07-20T00:00:00",
          "2021-07-19T00:00:00",
          "2021-07-18T00:00:00",
          "2021-07-17T00:00:00",
          "2021-07-16T00:00:00",
          "2021-07-15T00:00:00",
          "2021-07-14T00:00:00",
          "2021-07-13T00:00:00",
          "2021-07-12T00:00:00",
          "2021-07-11T00:00:00",
          "2021-07-10T00:00:00",
          "2021-07-09T00:00:00",
          "2021-07-08T00:00:00",
          "2021-07-07T00:00:00",
          "2021-07-06T00:00:00",
          "2021-07-05T00:00:00",
          "2021-07-04T00:00:00",
          "2021-07-03T00:00:00",
          "2021-07-02T00:00:00",
          "2021-07-01T00:00:00",
          "2021-06-30T00:00:00",
          "2021-06-29T00:00:00",
          "2021-06-28T00:00:00",
          "2021-06-27T00:00:00",
          "2021-06-26T00:00:00",
          "2021-06-25T00:00:00",
          "2021-06-24T00:00:00",
          "2021-06-23T00:00:00",
          "2021-06-22T00:00:00",
          "2021-06-21T00:00:00",
          "2021-06-20T00:00:00",
          "2021-06-19T00:00:00",
          "2021-06-18T00:00:00",
          "2021-06-17T00:00:00",
          "2021-06-16T00:00:00",
          "2021-06-15T00:00:00",
          "2021-06-14T00:00:00",
          "2021-06-13T00:00:00",
          "2021-06-12T00:00:00",
          "2021-06-11T00:00:00",
          "2021-06-10T00:00:00",
          "2021-06-09T00:00:00",
          "2021-06-08T00:00:00",
          "2021-06-07T00:00:00",
          "2021-06-06T00:00:00",
          "2021-06-05T00:00:00",
          "2021-06-04T00:00:00",
          "2021-06-03T00:00:00",
          "2021-06-02T00:00:00",
          "2021-06-01T00:00:00"
         ],
         "xaxis": "x",
         "y": [
          19512,
          18297,
          16776,
          15710,
          14438,
          14137,
          13777,
          13151,
          12301,
          11988,
          11138,
          10926,
          10890,
          10509,
          9883,
          9386,
          8836,
          8176,
          7591,
          7028,
          7037,
          6396,
          5680,
          5062,
          4464,
          3894,
          3517,
          3456,
          3292,
          3276,
          3044,
          2859,
          2614,
          2528,
          2486,
          2337,
          2117,
          2003,
          1824,
          1633,
          1605,
          1536,
          1439,
          1338,
          1360,
          1352,
          1247,
          1260,
          1229,
          1234,
          1266,
          1199,
          1246,
          1293,
          1397,
          1413,
          1457,
          1441,
          1513,
          1523,
          1708,
          1791,
          1928,
          1948,
          2198,
          3009,
          3352,
          4066,
          5313,
          5539,
          5641,
          5854,
          6124,
          6436,
          6740,
          6837,
          7207,
          7219,
          7376,
          7602,
          7873,
          8411
         ],
         "yaxis": "y"
        },
        {
         "hovertemplate": "variable=Severe<br>Date=%{x}<br>Number of Positive People=%{y}<extra></extra>",
         "legendgroup": "Severe",
         "line": {
          "color": "#FFA15A",
          "dash": "solid"
         },
         "marker": {
          "symbol": "circle"
         },
         "mode": "lines",
         "name": "Severe",
         "orientation": "v",
         "showlegend": true,
         "type": "scatter",
         "x": [
          "2021-08-21T00:00:00",
          "2021-08-20T00:00:00",
          "2021-08-19T00:00:00",
          "2021-08-18T00:00:00",
          "2021-08-17T00:00:00",
          "2021-08-16T00:00:00",
          "2021-08-15T00:00:00",
          "2021-08-14T00:00:00",
          "2021-08-13T00:00:00",
          "2021-08-12T00:00:00",
          "2021-08-11T00:00:00",
          "2021-08-10T00:00:00",
          "2021-08-09T00:00:00",
          "2021-08-08T00:00:00",
          "2021-08-07T00:00:00",
          "2021-08-06T00:00:00",
          "2021-08-05T00:00:00",
          "2021-08-04T00:00:00",
          "2021-08-03T00:00:00",
          "2021-08-02T00:00:00",
          "2021-08-01T00:00:00",
          "2021-07-31T00:00:00",
          "2021-07-30T00:00:00",
          "2021-07-29T00:00:00",
          "2021-07-28T00:00:00",
          "2021-07-27T00:00:00",
          "2021-07-26T00:00:00",
          "2021-07-25T00:00:00",
          "2021-07-24T00:00:00",
          "2021-07-23T00:00:00",
          "2021-07-22T00:00:00",
          "2021-07-21T00:00:00",
          "2021-07-20T00:00:00",
          "2021-07-19T00:00:00",
          "2021-07-18T00:00:00",
          "2021-07-17T00:00:00",
          "2021-07-16T00:00:00",
          "2021-07-15T00:00:00",
          "2021-07-14T00:00:00",
          "2021-07-13T00:00:00",
          "2021-07-12T00:00:00",
          "2021-07-11T00:00:00",
          "2021-07-10T00:00:00",
          "2021-07-09T00:00:00",
          "2021-07-08T00:00:00",
          "2021-07-07T00:00:00",
          "2021-07-06T00:00:00",
          "2021-07-05T00:00:00",
          "2021-07-04T00:00:00",
          "2021-07-03T00:00:00",
          "2021-07-02T00:00:00",
          "2021-07-01T00:00:00",
          "2021-06-30T00:00:00",
          "2021-06-29T00:00:00",
          "2021-06-28T00:00:00",
          "2021-06-27T00:00:00",
          "2021-06-26T00:00:00",
          "2021-06-25T00:00:00",
          "2021-06-24T00:00:00",
          "2021-06-23T00:00:00",
          "2021-06-22T00:00:00",
          "2021-06-21T00:00:00",
          "2021-06-20T00:00:00",
          "2021-06-19T00:00:00",
          "2021-06-18T00:00:00",
          "2021-06-17T00:00:00",
          "2021-06-16T00:00:00",
          "2021-06-15T00:00:00",
          "2021-06-14T00:00:00",
          "2021-06-13T00:00:00",
          "2021-06-12T00:00:00",
          "2021-06-11T00:00:00",
          "2021-06-10T00:00:00",
          "2021-06-09T00:00:00",
          "2021-06-08T00:00:00",
          "2021-06-07T00:00:00",
          "2021-06-06T00:00:00",
          "2021-06-05T00:00:00",
          "2021-06-04T00:00:00",
          "2021-06-03T00:00:00",
          "2021-06-02T00:00:00",
          "2021-06-01T00:00:00"
         ],
         "xaxis": "x",
         "y": [
          496,
          494,
          487,
          451,
          450,
          445,
          442,
          431,
          428,
          422,
          400,
          387,
          378,
          374,
          366,
          367,
          362,
          230,
          221,
          219,
          224,
          223,
          223,
          220,
          160,
          155,
          158,
          150,
          147,
          142,
          138,
          109,
          106,
          110,
          110,
          108,
          109,
          108,
          116,
          115,
          118,
          121,
          122,
          122,
          125,
          146,
          150,
          147,
          148,
          144,
          143,
          144,
          146,
          149,
          167,
          170,
          170,
          171,
          176,
          187,
          194,
          217,
          217,
          214,
          215,
          227,
          189,
          198,
          202,
          208,
          209,
          215,
          221,
          271,
          279,
          283,
          285,
          283,
          287,
          293,
          306,
          339
         ],
         "yaxis": "y"
        },
        {
         "hovertemplate": "variable=Pos_Tes_Ratio<br>Date=%{x}<br>Number of Positive People=%{y}<extra></extra>",
         "legendgroup": "Pos_Tes_Ratio",
         "line": {
          "color": "#19d3f3",
          "dash": "solid"
         },
         "marker": {
          "symbol": "circle"
         },
         "mode": "lines",
         "name": "Pos_Tes_Ratio",
         "orientation": "v",
         "showlegend": true,
         "type": "scatter",
         "x": [
          "2021-08-21T00:00:00",
          "2021-08-20T00:00:00",
          "2021-08-19T00:00:00",
          "2021-08-18T00:00:00",
          "2021-08-17T00:00:00",
          "2021-08-16T00:00:00",
          "2021-08-15T00:00:00",
          "2021-08-14T00:00:00",
          "2021-08-13T00:00:00",
          "2021-08-12T00:00:00",
          "2021-08-11T00:00:00",
          "2021-08-10T00:00:00",
          "2021-08-09T00:00:00",
          "2021-08-08T00:00:00",
          "2021-08-07T00:00:00",
          "2021-08-06T00:00:00",
          "2021-08-05T00:00:00",
          "2021-08-04T00:00:00",
          "2021-08-03T00:00:00",
          "2021-08-02T00:00:00",
          "2021-08-01T00:00:00",
          "2021-07-31T00:00:00",
          "2021-07-30T00:00:00",
          "2021-07-29T00:00:00",
          "2021-07-28T00:00:00",
          "2021-07-27T00:00:00",
          "2021-07-26T00:00:00",
          "2021-07-25T00:00:00",
          "2021-07-24T00:00:00",
          "2021-07-23T00:00:00",
          "2021-07-22T00:00:00",
          "2021-07-21T00:00:00",
          "2021-07-20T00:00:00",
          "2021-07-19T00:00:00",
          "2021-07-18T00:00:00",
          "2021-07-17T00:00:00",
          "2021-07-16T00:00:00",
          "2021-07-15T00:00:00",
          "2021-07-14T00:00:00",
          "2021-07-13T00:00:00",
          "2021-07-12T00:00:00",
          "2021-07-11T00:00:00",
          "2021-07-10T00:00:00",
          "2021-07-09T00:00:00",
          "2021-07-08T00:00:00",
          "2021-07-07T00:00:00",
          "2021-07-06T00:00:00",
          "2021-07-05T00:00:00",
          "2021-07-04T00:00:00",
          "2021-07-03T00:00:00",
          "2021-07-02T00:00:00",
          "2021-07-01T00:00:00",
          "2021-06-30T00:00:00",
          "2021-06-29T00:00:00",
          "2021-06-28T00:00:00",
          "2021-06-27T00:00:00",
          "2021-06-26T00:00:00",
          "2021-06-25T00:00:00",
          "2021-06-24T00:00:00",
          "2021-06-23T00:00:00",
          "2021-06-22T00:00:00",
          "2021-06-21T00:00:00",
          "2021-06-20T00:00:00",
          "2021-06-19T00:00:00",
          "2021-06-18T00:00:00",
          "2021-06-17T00:00:00",
          "2021-06-16T00:00:00",
          "2021-06-15T00:00:00",
          "2021-06-14T00:00:00",
          "2021-06-13T00:00:00",
          "2021-06-12T00:00:00",
          "2021-06-11T00:00:00",
          "2021-06-10T00:00:00",
          "2021-06-09T00:00:00",
          "2021-06-08T00:00:00",
          "2021-06-07T00:00:00",
          "2021-06-06T00:00:00",
          "2021-06-05T00:00:00",
          "2021-06-04T00:00:00",
          "2021-06-03T00:00:00",
          "2021-06-02T00:00:00",
          "2021-06-01T00:00:00"
         ],
         "xaxis": "x",
         "y": [
          0.052579263018029704,
          0.0520483792371528,
          0.05149746367469416,
          0.05094991972118157,
          0.05040914785893324,
          0.04990795472442344,
          0.04975998575355682,
          0.04935594761772755,
          0.04898159488680122,
          0.04872486417256075,
          0.048400499106070055,
          0.04795906463019949,
          0.047823456128226506,
          0.04757193109221825,
          0.04735128112436943,
          0.0472165381061049,
          0.04702922307870662,
          0.04686865149558577,
          0.04663344699082391,
          0.04632162425943287,
          0.04636564302828415,
          0.04625038952281885,
          0.046135162830466384,
          0.04603009740677934,
          0.04592486515263442,
          0.04582518134839672,
          0.045686676044739985,
          0.045694498468953536,
          0.04561751861509944,
          0.04571250122052639,
          0.04582950838552764,
          0.04589365603476836,
          0.04589028644268259,
          0.04583221220010043,
          0.04591603009107415,
          0.04602530172713744,
          0.04610485177696869,
          0.04623068171147425,
          0.046320108610488915,
          0.04636129980371855,
          0.0463563405725088,
          0.04650074663570431,
          0.046629700966251575,
          0.04684033302265445,
          0.04706677871861113,
          0.04728226989739946,
          0.04742596642757108,
          0.04743368034113839,
          0.047518317544989114,
          0.04764198309146249,
          0.047774167534646576,
          0.04791323200771123,
          0.04807471872362489,
          0.04828549667787367,
          0.04841022426338796,
          0.0485842203743379,
          0.04878277419538107,
          0.04911082923599387,
          0.04944239669890384,
          0.04973848483425106,
          0.04993749841798955,
          0.05000585537230409,
          0.05020781053952321,
          0.050401700578417315,
          0.05064553574834733,
          0.05092000378869076,
          0.051193618117451,
          0.0513970181551606,
          0.05149557186932198,
          0.05166977119877585,
          0.05187361933769023,
          0.05218070456694208,
          0.05255902941158181,
          0.052872607900298206,
          0.05309879958895859,
          0.05312738508182311,
          0.0533164958960068,
          0.05354154573039131,
          0.05379524357293813,
          0.05403206701985614,
          0.05423520790262328,
          0.05443623736204347
         ],
         "yaxis": "y"
        }
       ],
       "layout": {
        "legend": {
         "title": {
          "text": "variable"
         },
         "tracegroupgap": 0
        },
        "margin": {
         "t": 60
        },
        "template": {
         "data": {
          "bar": [
           {
            "error_x": {
             "color": "#2a3f5f"
            },
            "error_y": {
             "color": "#2a3f5f"
            },
            "marker": {
             "line": {
              "color": "#E5ECF6",
              "width": 0.5
             },
             "pattern": {
              "fillmode": "overlay",
              "size": 10,
              "solidity": 0.2
             }
            },
            "type": "bar"
           }
          ],
          "barpolar": [
           {
            "marker": {
             "line": {
              "color": "#E5ECF6",
              "width": 0.5
             },
             "pattern": {
              "fillmode": "overlay",
              "size": 10,
              "solidity": 0.2
             }
            },
            "type": "barpolar"
           }
          ],
          "carpet": [
           {
            "aaxis": {
             "endlinecolor": "#2a3f5f",
             "gridcolor": "white",
             "linecolor": "white",
             "minorgridcolor": "white",
             "startlinecolor": "#2a3f5f"
            },
            "baxis": {
             "endlinecolor": "#2a3f5f",
             "gridcolor": "white",
             "linecolor": "white",
             "minorgridcolor": "white",
             "startlinecolor": "#2a3f5f"
            },
            "type": "carpet"
           }
          ],
          "choropleth": [
           {
            "colorbar": {
             "outlinewidth": 0,
             "ticks": ""
            },
            "type": "choropleth"
           }
          ],
          "contour": [
           {
            "colorbar": {
             "outlinewidth": 0,
             "ticks": ""
            },
            "colorscale": [
             [
              0,
              "#0d0887"
             ],
             [
              0.1111111111111111,
              "#46039f"
             ],
             [
              0.2222222222222222,
              "#7201a8"
             ],
             [
              0.3333333333333333,
              "#9c179e"
             ],
             [
              0.4444444444444444,
              "#bd3786"
             ],
             [
              0.5555555555555556,
              "#d8576b"
             ],
             [
              0.6666666666666666,
              "#ed7953"
             ],
             [
              0.7777777777777778,
              "#fb9f3a"
             ],
             [
              0.8888888888888888,
              "#fdca26"
             ],
             [
              1,
              "#f0f921"
             ]
            ],
            "type": "contour"
           }
          ],
          "contourcarpet": [
           {
            "colorbar": {
             "outlinewidth": 0,
             "ticks": ""
            },
            "type": "contourcarpet"
           }
          ],
          "heatmap": [
           {
            "colorbar": {
             "outlinewidth": 0,
             "ticks": ""
            },
            "colorscale": [
             [
              0,
              "#0d0887"
             ],
             [
              0.1111111111111111,
              "#46039f"
             ],
             [
              0.2222222222222222,
              "#7201a8"
             ],
             [
              0.3333333333333333,
              "#9c179e"
             ],
             [
              0.4444444444444444,
              "#bd3786"
             ],
             [
              0.5555555555555556,
              "#d8576b"
             ],
             [
              0.6666666666666666,
              "#ed7953"
             ],
             [
              0.7777777777777778,
              "#fb9f3a"
             ],
             [
              0.8888888888888888,
              "#fdca26"
             ],
             [
              1,
              "#f0f921"
             ]
            ],
            "type": "heatmap"
           }
          ],
          "heatmapgl": [
           {
            "colorbar": {
             "outlinewidth": 0,
             "ticks": ""
            },
            "colorscale": [
             [
              0,
              "#0d0887"
             ],
             [
              0.1111111111111111,
              "#46039f"
             ],
             [
              0.2222222222222222,
              "#7201a8"
             ],
             [
              0.3333333333333333,
              "#9c179e"
             ],
             [
              0.4444444444444444,
              "#bd3786"
             ],
             [
              0.5555555555555556,
              "#d8576b"
             ],
             [
              0.6666666666666666,
              "#ed7953"
             ],
             [
              0.7777777777777778,
              "#fb9f3a"
             ],
             [
              0.8888888888888888,
              "#fdca26"
             ],
             [
              1,
              "#f0f921"
             ]
            ],
            "type": "heatmapgl"
           }
          ],
          "histogram": [
           {
            "marker": {
             "pattern": {
              "fillmode": "overlay",
              "size": 10,
              "solidity": 0.2
             }
            },
            "type": "histogram"
           }
          ],
          "histogram2d": [
           {
            "colorbar": {
             "outlinewidth": 0,
             "ticks": ""
            },
            "colorscale": [
             [
              0,
              "#0d0887"
             ],
             [
              0.1111111111111111,
              "#46039f"
             ],
             [
              0.2222222222222222,
              "#7201a8"
             ],
             [
              0.3333333333333333,
              "#9c179e"
             ],
             [
              0.4444444444444444,
              "#bd3786"
             ],
             [
              0.5555555555555556,
              "#d8576b"
             ],
             [
              0.6666666666666666,
              "#ed7953"
             ],
             [
              0.7777777777777778,
              "#fb9f3a"
             ],
             [
              0.8888888888888888,
              "#fdca26"
             ],
             [
              1,
              "#f0f921"
             ]
            ],
            "type": "histogram2d"
           }
          ],
          "histogram2dcontour": [
           {
            "colorbar": {
             "outlinewidth": 0,
             "ticks": ""
            },
            "colorscale": [
             [
              0,
              "#0d0887"
             ],
             [
              0.1111111111111111,
              "#46039f"
             ],
             [
              0.2222222222222222,
              "#7201a8"
             ],
             [
              0.3333333333333333,
              "#9c179e"
             ],
             [
              0.4444444444444444,
              "#bd3786"
             ],
             [
              0.5555555555555556,
              "#d8576b"
             ],
             [
              0.6666666666666666,
              "#ed7953"
             ],
             [
              0.7777777777777778,
              "#fb9f3a"
             ],
             [
              0.8888888888888888,
              "#fdca26"
             ],
             [
              1,
              "#f0f921"
             ]
            ],
            "type": "histogram2dcontour"
           }
          ],
          "mesh3d": [
           {
            "colorbar": {
             "outlinewidth": 0,
             "ticks": ""
            },
            "type": "mesh3d"
           }
          ],
          "parcoords": [
           {
            "line": {
             "colorbar": {
              "outlinewidth": 0,
              "ticks": ""
             }
            },
            "type": "parcoords"
           }
          ],
          "pie": [
           {
            "automargin": true,
            "type": "pie"
           }
          ],
          "scatter": [
           {
            "fillpattern": {
             "fillmode": "overlay",
             "size": 10,
             "solidity": 0.2
            },
            "type": "scatter"
           }
          ],
          "scatter3d": [
           {
            "line": {
             "colorbar": {
              "outlinewidth": 0,
              "ticks": ""
             }
            },
            "marker": {
             "colorbar": {
              "outlinewidth": 0,
              "ticks": ""
             }
            },
            "type": "scatter3d"
           }
          ],
          "scattercarpet": [
           {
            "marker": {
             "colorbar": {
              "outlinewidth": 0,
              "ticks": ""
             }
            },
            "type": "scattercarpet"
           }
          ],
          "scattergeo": [
           {
            "marker": {
             "colorbar": {
              "outlinewidth": 0,
              "ticks": ""
             }
            },
            "type": "scattergeo"
           }
          ],
          "scattergl": [
           {
            "marker": {
             "colorbar": {
              "outlinewidth": 0,
              "ticks": ""
             }
            },
            "type": "scattergl"
           }
          ],
          "scattermapbox": [
           {
            "marker": {
             "colorbar": {
              "outlinewidth": 0,
              "ticks": ""
             }
            },
            "type": "scattermapbox"
           }
          ],
          "scatterpolar": [
           {
            "marker": {
             "colorbar": {
              "outlinewidth": 0,
              "ticks": ""
             }
            },
            "type": "scatterpolar"
           }
          ],
          "scatterpolargl": [
           {
            "marker": {
             "colorbar": {
              "outlinewidth": 0,
              "ticks": ""
             }
            },
            "type": "scatterpolargl"
           }
          ],
          "scatterternary": [
           {
            "marker": {
             "colorbar": {
              "outlinewidth": 0,
              "ticks": ""
             }
            },
            "type": "scatterternary"
           }
          ],
          "surface": [
           {
            "colorbar": {
             "outlinewidth": 0,
             "ticks": ""
            },
            "colorscale": [
             [
              0,
              "#0d0887"
             ],
             [
              0.1111111111111111,
              "#46039f"
             ],
             [
              0.2222222222222222,
              "#7201a8"
             ],
             [
              0.3333333333333333,
              "#9c179e"
             ],
             [
              0.4444444444444444,
              "#bd3786"
             ],
             [
              0.5555555555555556,
              "#d8576b"
             ],
             [
              0.6666666666666666,
              "#ed7953"
             ],
             [
              0.7777777777777778,
              "#fb9f3a"
             ],
             [
              0.8888888888888888,
              "#fdca26"
             ],
             [
              1,
              "#f0f921"
             ]
            ],
            "type": "surface"
           }
          ],
          "table": [
           {
            "cells": {
             "fill": {
              "color": "#EBF0F8"
             },
             "line": {
              "color": "white"
             }
            },
            "header": {
             "fill": {
              "color": "#C8D4E3"
             },
             "line": {
              "color": "white"
             }
            },
            "type": "table"
           }
          ]
         },
         "layout": {
          "annotationdefaults": {
           "arrowcolor": "#2a3f5f",
           "arrowhead": 0,
           "arrowwidth": 1
          },
          "autotypenumbers": "strict",
          "coloraxis": {
           "colorbar": {
            "outlinewidth": 0,
            "ticks": ""
           }
          },
          "colorscale": {
           "diverging": [
            [
             0,
             "#8e0152"
            ],
            [
             0.1,
             "#c51b7d"
            ],
            [
             0.2,
             "#de77ae"
            ],
            [
             0.3,
             "#f1b6da"
            ],
            [
             0.4,
             "#fde0ef"
            ],
            [
             0.5,
             "#f7f7f7"
            ],
            [
             0.6,
             "#e6f5d0"
            ],
            [
             0.7,
             "#b8e186"
            ],
            [
             0.8,
             "#7fbc41"
            ],
            [
             0.9,
             "#4d9221"
            ],
            [
             1,
             "#276419"
            ]
           ],
           "sequential": [
            [
             0,
             "#0d0887"
            ],
            [
             0.1111111111111111,
             "#46039f"
            ],
            [
             0.2222222222222222,
             "#7201a8"
            ],
            [
             0.3333333333333333,
             "#9c179e"
            ],
            [
             0.4444444444444444,
             "#bd3786"
            ],
            [
             0.5555555555555556,
             "#d8576b"
            ],
            [
             0.6666666666666666,
             "#ed7953"
            ],
            [
             0.7777777777777778,
             "#fb9f3a"
            ],
            [
             0.8888888888888888,
             "#fdca26"
            ],
            [
             1,
             "#f0f921"
            ]
           ],
           "sequentialminus": [
            [
             0,
             "#0d0887"
            ],
            [
             0.1111111111111111,
             "#46039f"
            ],
            [
             0.2222222222222222,
             "#7201a8"
            ],
            [
             0.3333333333333333,
             "#9c179e"
            ],
            [
             0.4444444444444444,
             "#bd3786"
            ],
            [
             0.5555555555555556,
             "#d8576b"
            ],
            [
             0.6666666666666666,
             "#ed7953"
            ],
            [
             0.7777777777777778,
             "#fb9f3a"
            ],
            [
             0.8888888888888888,
             "#fdca26"
            ],
            [
             1,
             "#f0f921"
            ]
           ]
          },
          "colorway": [
           "#636efa",
           "#EF553B",
           "#00cc96",
           "#ab63fa",
           "#FFA15A",
           "#19d3f3",
           "#FF6692",
           "#B6E880",
           "#FF97FF",
           "#FECB52"
          ],
          "font": {
           "color": "#2a3f5f"
          },
          "geo": {
           "bgcolor": "white",
           "lakecolor": "white",
           "landcolor": "#E5ECF6",
           "showlakes": true,
           "showland": true,
           "subunitcolor": "white"
          },
          "hoverlabel": {
           "align": "left"
          },
          "hovermode": "closest",
          "mapbox": {
           "style": "light"
          },
          "paper_bgcolor": "white",
          "plot_bgcolor": "#E5ECF6",
          "polar": {
           "angularaxis": {
            "gridcolor": "white",
            "linecolor": "white",
            "ticks": ""
           },
           "bgcolor": "#E5ECF6",
           "radialaxis": {
            "gridcolor": "white",
            "linecolor": "white",
            "ticks": ""
           }
          },
          "scene": {
           "xaxis": {
            "backgroundcolor": "#E5ECF6",
            "gridcolor": "white",
            "gridwidth": 2,
            "linecolor": "white",
            "showbackground": true,
            "ticks": "",
            "zerolinecolor": "white"
           },
           "yaxis": {
            "backgroundcolor": "#E5ECF6",
            "gridcolor": "white",
            "gridwidth": 2,
            "linecolor": "white",
            "showbackground": true,
            "ticks": "",
            "zerolinecolor": "white"
           },
           "zaxis": {
            "backgroundcolor": "#E5ECF6",
            "gridcolor": "white",
            "gridwidth": 2,
            "linecolor": "white",
            "showbackground": true,
            "ticks": "",
            "zerolinecolor": "white"
           }
          },
          "shapedefaults": {
           "line": {
            "color": "#2a3f5f"
           }
          },
          "ternary": {
           "aaxis": {
            "gridcolor": "white",
            "linecolor": "white",
            "ticks": ""
           },
           "baxis": {
            "gridcolor": "white",
            "linecolor": "white",
            "ticks": ""
           },
           "bgcolor": "#E5ECF6",
           "caxis": {
            "gridcolor": "white",
            "linecolor": "white",
            "ticks": ""
           }
          },
          "title": {
           "x": 0.05
          },
          "xaxis": {
           "automargin": true,
           "gridcolor": "white",
           "linecolor": "white",
           "ticks": "",
           "title": {
            "standoff": 15
           },
           "zerolinecolor": "white",
           "zerolinewidth": 2
          },
          "yaxis": {
           "automargin": true,
           "gridcolor": "white",
           "linecolor": "white",
           "ticks": "",
           "title": {
            "standoff": 15
           },
           "zerolinecolor": "white",
           "zerolinewidth": 2
          }
         }
        },
        "xaxis": {
         "anchor": "y",
         "domain": [
          0,
          1
         ],
         "title": {
          "text": "Date"
         }
        },
        "yaxis": {
         "anchor": "x",
         "domain": [
          0,
          1
         ],
         "title": {
          "text": "Number of Positive People"
         }
        }
       }
      }
     },
     "metadata": {},
     "output_type": "display_data"
    }
   ],
   "source": [
    "# compare all infomation \n",
    "fig = px.line(\n",
    "    df_osaka,\n",
    "    y=df_osaka.columns.to_list(),\n",
    "     labels={'value': 'Number of Positive People'}\n",
    ")\n",
    "fig.show()"
   ]
  },
  {
   "cell_type": "code",
   "execution_count": 70,
   "metadata": {},
   "outputs": [],
   "source": [
    "# pip install bar_chart_race"
   ]
  },
  {
   "cell_type": "code",
   "execution_count": 91,
   "metadata": {},
   "outputs": [
    {
     "data": {
      "text/html": [
       "<div>\n",
       "<style scoped>\n",
       "    .dataframe tbody tr th:only-of-type {\n",
       "        vertical-align: middle;\n",
       "    }\n",
       "\n",
       "    .dataframe tbody tr th {\n",
       "        vertical-align: top;\n",
       "    }\n",
       "\n",
       "    .dataframe thead th {\n",
       "        text-align: right;\n",
       "    }\n",
       "</style>\n",
       "<table border=\"1\" class=\"dataframe\">\n",
       "  <thead>\n",
       "    <tr style=\"text-align: right;\">\n",
       "      <th></th>\n",
       "      <th>Positive</th>\n",
       "      <th>Discharged</th>\n",
       "      <th>Death</th>\n",
       "      <th>Hospitalization</th>\n",
       "      <th>Severe</th>\n",
       "      <th>Pos_Tes_Ratio</th>\n",
       "    </tr>\n",
       "    <tr>\n",
       "      <th>Date</th>\n",
       "      <th></th>\n",
       "      <th></th>\n",
       "      <th></th>\n",
       "      <th></th>\n",
       "      <th></th>\n",
       "      <th></th>\n",
       "    </tr>\n",
       "  </thead>\n",
       "  <tbody>\n",
       "    <tr>\n",
       "      <th>2021-08-21</th>\n",
       "      <td>145148</td>\n",
       "      <td>121262</td>\n",
       "      <td>2756</td>\n",
       "      <td>19512</td>\n",
       "      <td>496</td>\n",
       "      <td>0.052579</td>\n",
       "    </tr>\n",
       "    <tr>\n",
       "      <th>2021-08-20</th>\n",
       "      <td>142592</td>\n",
       "      <td>119967</td>\n",
       "      <td>2754</td>\n",
       "      <td>18297</td>\n",
       "      <td>494</td>\n",
       "      <td>0.052048</td>\n",
       "    </tr>\n",
       "    <tr>\n",
       "      <th>2021-08-19</th>\n",
       "      <td>140006</td>\n",
       "      <td>118959</td>\n",
       "      <td>2753</td>\n",
       "      <td>16776</td>\n",
       "      <td>487</td>\n",
       "      <td>0.051497</td>\n",
       "    </tr>\n",
       "    <tr>\n",
       "      <th>2021-08-18</th>\n",
       "      <td>137563</td>\n",
       "      <td>117638</td>\n",
       "      <td>2752</td>\n",
       "      <td>15710</td>\n",
       "      <td>451</td>\n",
       "      <td>0.050950</td>\n",
       "    </tr>\n",
       "    <tr>\n",
       "      <th>2021-08-17</th>\n",
       "      <td>135267</td>\n",
       "      <td>116627</td>\n",
       "      <td>2747</td>\n",
       "      <td>14438</td>\n",
       "      <td>450</td>\n",
       "      <td>0.050409</td>\n",
       "    </tr>\n",
       "  </tbody>\n",
       "</table>\n",
       "</div>"
      ],
      "text/plain": [
       "            Positive  Discharged  Death  Hospitalization  Severe  \\\n",
       "Date                                                               \n",
       "2021-08-21    145148      121262   2756            19512     496   \n",
       "2021-08-20    142592      119967   2754            18297     494   \n",
       "2021-08-19    140006      118959   2753            16776     487   \n",
       "2021-08-18    137563      117638   2752            15710     451   \n",
       "2021-08-17    135267      116627   2747            14438     450   \n",
       "\n",
       "            Pos_Tes_Ratio  \n",
       "Date                       \n",
       "2021-08-21       0.052579  \n",
       "2021-08-20       0.052048  \n",
       "2021-08-19       0.051497  \n",
       "2021-08-18       0.050950  \n",
       "2021-08-17       0.050409  "
      ]
     },
     "execution_count": 91,
     "metadata": {},
     "output_type": "execute_result"
    }
   ],
   "source": [
    "# draw chart in animation mode\n",
    "\n",
    "import bar_chart_race as bcr\n",
    "\n",
    "# sort value by date\n",
    "df_osaka.sort_values(['Date'], ascending=True)\n",
    "df_osaka.head()"
   ]
  },
  {
   "cell_type": "code",
   "execution_count": 72,
   "metadata": {},
   "outputs": [
    {
     "data": {
      "application/vnd.plotly.v1+json": {
       "config": {
        "plotlyServerURL": "https://plot.ly"
       },
       "data": [
        {
         "alignmentgroup": "True",
         "hovertemplate": "Date=%{x}<br>Number of death=%{marker.color}<extra></extra>",
         "legendgroup": "",
         "marker": {
          "color": [
           2756,
           2754,
           2753,
           2752,
           2747,
           2743,
           2742,
           2742,
           2742,
           2739,
           2735,
           2733,
           2733,
           2733,
           2731,
           2728,
           2726,
           2724,
           2722,
           2722,
           2721,
           2721,
           2721,
           2721,
           2719,
           2719,
           2719,
           2718,
           2717,
           2716,
           2716,
           2715,
           2711,
           2708,
           2708,
           2707,
           2703,
           2700,
           2698,
           2696,
           2693,
           2693,
           2693,
           2692,
           2690,
           2687,
           2685,
           2681,
           2680,
           2680,
           2680,
           2677,
           2671,
           2668,
           2661,
           2647,
           2647,
           2640,
           2635,
           2624,
           2609,
           2605,
           2592,
           2589,
           2584,
           2567,
           2563,
           2544,
           2540,
           2530,
           2524,
           2512,
           2501,
           2484,
           2457,
           2432,
           2417,
           2412,
           2404,
           2382,
           2363,
           2336
          ],
          "coloraxis": "coloraxis",
          "pattern": {
           "shape": ""
          }
         },
         "name": "",
         "offsetgroup": "",
         "orientation": "v",
         "showlegend": false,
         "textposition": "auto",
         "type": "bar",
         "x": [
          "2021-08-21T00:00:00",
          "2021-08-20T00:00:00",
          "2021-08-19T00:00:00",
          "2021-08-18T00:00:00",
          "2021-08-17T00:00:00",
          "2021-08-16T00:00:00",
          "2021-08-15T00:00:00",
          "2021-08-14T00:00:00",
          "2021-08-13T00:00:00",
          "2021-08-12T00:00:00",
          "2021-08-11T00:00:00",
          "2021-08-10T00:00:00",
          "2021-08-09T00:00:00",
          "2021-08-08T00:00:00",
          "2021-08-07T00:00:00",
          "2021-08-06T00:00:00",
          "2021-08-05T00:00:00",
          "2021-08-04T00:00:00",
          "2021-08-03T00:00:00",
          "2021-08-02T00:00:00",
          "2021-08-01T00:00:00",
          "2021-07-31T00:00:00",
          "2021-07-30T00:00:00",
          "2021-07-29T00:00:00",
          "2021-07-28T00:00:00",
          "2021-07-27T00:00:00",
          "2021-07-26T00:00:00",
          "2021-07-25T00:00:00",
          "2021-07-24T00:00:00",
          "2021-07-23T00:00:00",
          "2021-07-22T00:00:00",
          "2021-07-21T00:00:00",
          "2021-07-20T00:00:00",
          "2021-07-19T00:00:00",
          "2021-07-18T00:00:00",
          "2021-07-17T00:00:00",
          "2021-07-16T00:00:00",
          "2021-07-15T00:00:00",
          "2021-07-14T00:00:00",
          "2021-07-13T00:00:00",
          "2021-07-12T00:00:00",
          "2021-07-11T00:00:00",
          "2021-07-10T00:00:00",
          "2021-07-09T00:00:00",
          "2021-07-08T00:00:00",
          "2021-07-07T00:00:00",
          "2021-07-06T00:00:00",
          "2021-07-05T00:00:00",
          "2021-07-04T00:00:00",
          "2021-07-03T00:00:00",
          "2021-07-02T00:00:00",
          "2021-07-01T00:00:00",
          "2021-06-30T00:00:00",
          "2021-06-29T00:00:00",
          "2021-06-28T00:00:00",
          "2021-06-27T00:00:00",
          "2021-06-26T00:00:00",
          "2021-06-25T00:00:00",
          "2021-06-24T00:00:00",
          "2021-06-23T00:00:00",
          "2021-06-22T00:00:00",
          "2021-06-21T00:00:00",
          "2021-06-20T00:00:00",
          "2021-06-19T00:00:00",
          "2021-06-18T00:00:00",
          "2021-06-17T00:00:00",
          "2021-06-16T00:00:00",
          "2021-06-15T00:00:00",
          "2021-06-14T00:00:00",
          "2021-06-13T00:00:00",
          "2021-06-12T00:00:00",
          "2021-06-11T00:00:00",
          "2021-06-10T00:00:00",
          "2021-06-09T00:00:00",
          "2021-06-08T00:00:00",
          "2021-06-07T00:00:00",
          "2021-06-06T00:00:00",
          "2021-06-05T00:00:00",
          "2021-06-04T00:00:00",
          "2021-06-03T00:00:00",
          "2021-06-02T00:00:00",
          "2021-06-01T00:00:00"
         ],
         "xaxis": "x",
         "y": [
          2756,
          2754,
          2753,
          2752,
          2747,
          2743,
          2742,
          2742,
          2742,
          2739,
          2735,
          2733,
          2733,
          2733,
          2731,
          2728,
          2726,
          2724,
          2722,
          2722,
          2721,
          2721,
          2721,
          2721,
          2719,
          2719,
          2719,
          2718,
          2717,
          2716,
          2716,
          2715,
          2711,
          2708,
          2708,
          2707,
          2703,
          2700,
          2698,
          2696,
          2693,
          2693,
          2693,
          2692,
          2690,
          2687,
          2685,
          2681,
          2680,
          2680,
          2680,
          2677,
          2671,
          2668,
          2661,
          2647,
          2647,
          2640,
          2635,
          2624,
          2609,
          2605,
          2592,
          2589,
          2584,
          2567,
          2563,
          2544,
          2540,
          2530,
          2524,
          2512,
          2501,
          2484,
          2457,
          2432,
          2417,
          2412,
          2404,
          2382,
          2363,
          2336
         ],
         "yaxis": "y"
        }
       ],
       "layout": {
        "barmode": "relative",
        "coloraxis": {
         "colorbar": {
          "title": {
           "text": "Number of death"
          }
         },
         "colorscale": [
          [
           0,
           "#0d0887"
          ],
          [
           0.1111111111111111,
           "#46039f"
          ],
          [
           0.2222222222222222,
           "#7201a8"
          ],
          [
           0.3333333333333333,
           "#9c179e"
          ],
          [
           0.4444444444444444,
           "#bd3786"
          ],
          [
           0.5555555555555556,
           "#d8576b"
          ],
          [
           0.6666666666666666,
           "#ed7953"
          ],
          [
           0.7777777777777778,
           "#fb9f3a"
          ],
          [
           0.8888888888888888,
           "#fdca26"
          ],
          [
           1,
           "#f0f921"
          ]
         ]
        },
        "legend": {
         "tracegroupgap": 0
        },
        "template": {
         "data": {
          "bar": [
           {
            "error_x": {
             "color": "#2a3f5f"
            },
            "error_y": {
             "color": "#2a3f5f"
            },
            "marker": {
             "line": {
              "color": "#E5ECF6",
              "width": 0.5
             },
             "pattern": {
              "fillmode": "overlay",
              "size": 10,
              "solidity": 0.2
             }
            },
            "type": "bar"
           }
          ],
          "barpolar": [
           {
            "marker": {
             "line": {
              "color": "#E5ECF6",
              "width": 0.5
             },
             "pattern": {
              "fillmode": "overlay",
              "size": 10,
              "solidity": 0.2
             }
            },
            "type": "barpolar"
           }
          ],
          "carpet": [
           {
            "aaxis": {
             "endlinecolor": "#2a3f5f",
             "gridcolor": "white",
             "linecolor": "white",
             "minorgridcolor": "white",
             "startlinecolor": "#2a3f5f"
            },
            "baxis": {
             "endlinecolor": "#2a3f5f",
             "gridcolor": "white",
             "linecolor": "white",
             "minorgridcolor": "white",
             "startlinecolor": "#2a3f5f"
            },
            "type": "carpet"
           }
          ],
          "choropleth": [
           {
            "colorbar": {
             "outlinewidth": 0,
             "ticks": ""
            },
            "type": "choropleth"
           }
          ],
          "contour": [
           {
            "colorbar": {
             "outlinewidth": 0,
             "ticks": ""
            },
            "colorscale": [
             [
              0,
              "#0d0887"
             ],
             [
              0.1111111111111111,
              "#46039f"
             ],
             [
              0.2222222222222222,
              "#7201a8"
             ],
             [
              0.3333333333333333,
              "#9c179e"
             ],
             [
              0.4444444444444444,
              "#bd3786"
             ],
             [
              0.5555555555555556,
              "#d8576b"
             ],
             [
              0.6666666666666666,
              "#ed7953"
             ],
             [
              0.7777777777777778,
              "#fb9f3a"
             ],
             [
              0.8888888888888888,
              "#fdca26"
             ],
             [
              1,
              "#f0f921"
             ]
            ],
            "type": "contour"
           }
          ],
          "contourcarpet": [
           {
            "colorbar": {
             "outlinewidth": 0,
             "ticks": ""
            },
            "type": "contourcarpet"
           }
          ],
          "heatmap": [
           {
            "colorbar": {
             "outlinewidth": 0,
             "ticks": ""
            },
            "colorscale": [
             [
              0,
              "#0d0887"
             ],
             [
              0.1111111111111111,
              "#46039f"
             ],
             [
              0.2222222222222222,
              "#7201a8"
             ],
             [
              0.3333333333333333,
              "#9c179e"
             ],
             [
              0.4444444444444444,
              "#bd3786"
             ],
             [
              0.5555555555555556,
              "#d8576b"
             ],
             [
              0.6666666666666666,
              "#ed7953"
             ],
             [
              0.7777777777777778,
              "#fb9f3a"
             ],
             [
              0.8888888888888888,
              "#fdca26"
             ],
             [
              1,
              "#f0f921"
             ]
            ],
            "type": "heatmap"
           }
          ],
          "heatmapgl": [
           {
            "colorbar": {
             "outlinewidth": 0,
             "ticks": ""
            },
            "colorscale": [
             [
              0,
              "#0d0887"
             ],
             [
              0.1111111111111111,
              "#46039f"
             ],
             [
              0.2222222222222222,
              "#7201a8"
             ],
             [
              0.3333333333333333,
              "#9c179e"
             ],
             [
              0.4444444444444444,
              "#bd3786"
             ],
             [
              0.5555555555555556,
              "#d8576b"
             ],
             [
              0.6666666666666666,
              "#ed7953"
             ],
             [
              0.7777777777777778,
              "#fb9f3a"
             ],
             [
              0.8888888888888888,
              "#fdca26"
             ],
             [
              1,
              "#f0f921"
             ]
            ],
            "type": "heatmapgl"
           }
          ],
          "histogram": [
           {
            "marker": {
             "pattern": {
              "fillmode": "overlay",
              "size": 10,
              "solidity": 0.2
             }
            },
            "type": "histogram"
           }
          ],
          "histogram2d": [
           {
            "colorbar": {
             "outlinewidth": 0,
             "ticks": ""
            },
            "colorscale": [
             [
              0,
              "#0d0887"
             ],
             [
              0.1111111111111111,
              "#46039f"
             ],
             [
              0.2222222222222222,
              "#7201a8"
             ],
             [
              0.3333333333333333,
              "#9c179e"
             ],
             [
              0.4444444444444444,
              "#bd3786"
             ],
             [
              0.5555555555555556,
              "#d8576b"
             ],
             [
              0.6666666666666666,
              "#ed7953"
             ],
             [
              0.7777777777777778,
              "#fb9f3a"
             ],
             [
              0.8888888888888888,
              "#fdca26"
             ],
             [
              1,
              "#f0f921"
             ]
            ],
            "type": "histogram2d"
           }
          ],
          "histogram2dcontour": [
           {
            "colorbar": {
             "outlinewidth": 0,
             "ticks": ""
            },
            "colorscale": [
             [
              0,
              "#0d0887"
             ],
             [
              0.1111111111111111,
              "#46039f"
             ],
             [
              0.2222222222222222,
              "#7201a8"
             ],
             [
              0.3333333333333333,
              "#9c179e"
             ],
             [
              0.4444444444444444,
              "#bd3786"
             ],
             [
              0.5555555555555556,
              "#d8576b"
             ],
             [
              0.6666666666666666,
              "#ed7953"
             ],
             [
              0.7777777777777778,
              "#fb9f3a"
             ],
             [
              0.8888888888888888,
              "#fdca26"
             ],
             [
              1,
              "#f0f921"
             ]
            ],
            "type": "histogram2dcontour"
           }
          ],
          "mesh3d": [
           {
            "colorbar": {
             "outlinewidth": 0,
             "ticks": ""
            },
            "type": "mesh3d"
           }
          ],
          "parcoords": [
           {
            "line": {
             "colorbar": {
              "outlinewidth": 0,
              "ticks": ""
             }
            },
            "type": "parcoords"
           }
          ],
          "pie": [
           {
            "automargin": true,
            "type": "pie"
           }
          ],
          "scatter": [
           {
            "fillpattern": {
             "fillmode": "overlay",
             "size": 10,
             "solidity": 0.2
            },
            "type": "scatter"
           }
          ],
          "scatter3d": [
           {
            "line": {
             "colorbar": {
              "outlinewidth": 0,
              "ticks": ""
             }
            },
            "marker": {
             "colorbar": {
              "outlinewidth": 0,
              "ticks": ""
             }
            },
            "type": "scatter3d"
           }
          ],
          "scattercarpet": [
           {
            "marker": {
             "colorbar": {
              "outlinewidth": 0,
              "ticks": ""
             }
            },
            "type": "scattercarpet"
           }
          ],
          "scattergeo": [
           {
            "marker": {
             "colorbar": {
              "outlinewidth": 0,
              "ticks": ""
             }
            },
            "type": "scattergeo"
           }
          ],
          "scattergl": [
           {
            "marker": {
             "colorbar": {
              "outlinewidth": 0,
              "ticks": ""
             }
            },
            "type": "scattergl"
           }
          ],
          "scattermapbox": [
           {
            "marker": {
             "colorbar": {
              "outlinewidth": 0,
              "ticks": ""
             }
            },
            "type": "scattermapbox"
           }
          ],
          "scatterpolar": [
           {
            "marker": {
             "colorbar": {
              "outlinewidth": 0,
              "ticks": ""
             }
            },
            "type": "scatterpolar"
           }
          ],
          "scatterpolargl": [
           {
            "marker": {
             "colorbar": {
              "outlinewidth": 0,
              "ticks": ""
             }
            },
            "type": "scatterpolargl"
           }
          ],
          "scatterternary": [
           {
            "marker": {
             "colorbar": {
              "outlinewidth": 0,
              "ticks": ""
             }
            },
            "type": "scatterternary"
           }
          ],
          "surface": [
           {
            "colorbar": {
             "outlinewidth": 0,
             "ticks": ""
            },
            "colorscale": [
             [
              0,
              "#0d0887"
             ],
             [
              0.1111111111111111,
              "#46039f"
             ],
             [
              0.2222222222222222,
              "#7201a8"
             ],
             [
              0.3333333333333333,
              "#9c179e"
             ],
             [
              0.4444444444444444,
              "#bd3786"
             ],
             [
              0.5555555555555556,
              "#d8576b"
             ],
             [
              0.6666666666666666,
              "#ed7953"
             ],
             [
              0.7777777777777778,
              "#fb9f3a"
             ],
             [
              0.8888888888888888,
              "#fdca26"
             ],
             [
              1,
              "#f0f921"
             ]
            ],
            "type": "surface"
           }
          ],
          "table": [
           {
            "cells": {
             "fill": {
              "color": "#EBF0F8"
             },
             "line": {
              "color": "white"
             }
            },
            "header": {
             "fill": {
              "color": "#C8D4E3"
             },
             "line": {
              "color": "white"
             }
            },
            "type": "table"
           }
          ]
         },
         "layout": {
          "annotationdefaults": {
           "arrowcolor": "#2a3f5f",
           "arrowhead": 0,
           "arrowwidth": 1
          },
          "autotypenumbers": "strict",
          "coloraxis": {
           "colorbar": {
            "outlinewidth": 0,
            "ticks": ""
           }
          },
          "colorscale": {
           "diverging": [
            [
             0,
             "#8e0152"
            ],
            [
             0.1,
             "#c51b7d"
            ],
            [
             0.2,
             "#de77ae"
            ],
            [
             0.3,
             "#f1b6da"
            ],
            [
             0.4,
             "#fde0ef"
            ],
            [
             0.5,
             "#f7f7f7"
            ],
            [
             0.6,
             "#e6f5d0"
            ],
            [
             0.7,
             "#b8e186"
            ],
            [
             0.8,
             "#7fbc41"
            ],
            [
             0.9,
             "#4d9221"
            ],
            [
             1,
             "#276419"
            ]
           ],
           "sequential": [
            [
             0,
             "#0d0887"
            ],
            [
             0.1111111111111111,
             "#46039f"
            ],
            [
             0.2222222222222222,
             "#7201a8"
            ],
            [
             0.3333333333333333,
             "#9c179e"
            ],
            [
             0.4444444444444444,
             "#bd3786"
            ],
            [
             0.5555555555555556,
             "#d8576b"
            ],
            [
             0.6666666666666666,
             "#ed7953"
            ],
            [
             0.7777777777777778,
             "#fb9f3a"
            ],
            [
             0.8888888888888888,
             "#fdca26"
            ],
            [
             1,
             "#f0f921"
            ]
           ],
           "sequentialminus": [
            [
             0,
             "#0d0887"
            ],
            [
             0.1111111111111111,
             "#46039f"
            ],
            [
             0.2222222222222222,
             "#7201a8"
            ],
            [
             0.3333333333333333,
             "#9c179e"
            ],
            [
             0.4444444444444444,
             "#bd3786"
            ],
            [
             0.5555555555555556,
             "#d8576b"
            ],
            [
             0.6666666666666666,
             "#ed7953"
            ],
            [
             0.7777777777777778,
             "#fb9f3a"
            ],
            [
             0.8888888888888888,
             "#fdca26"
            ],
            [
             1,
             "#f0f921"
            ]
           ]
          },
          "colorway": [
           "#636efa",
           "#EF553B",
           "#00cc96",
           "#ab63fa",
           "#FFA15A",
           "#19d3f3",
           "#FF6692",
           "#B6E880",
           "#FF97FF",
           "#FECB52"
          ],
          "font": {
           "color": "#2a3f5f"
          },
          "geo": {
           "bgcolor": "white",
           "lakecolor": "white",
           "landcolor": "#E5ECF6",
           "showlakes": true,
           "showland": true,
           "subunitcolor": "white"
          },
          "hoverlabel": {
           "align": "left"
          },
          "hovermode": "closest",
          "mapbox": {
           "style": "light"
          },
          "paper_bgcolor": "white",
          "plot_bgcolor": "#E5ECF6",
          "polar": {
           "angularaxis": {
            "gridcolor": "white",
            "linecolor": "white",
            "ticks": ""
           },
           "bgcolor": "#E5ECF6",
           "radialaxis": {
            "gridcolor": "white",
            "linecolor": "white",
            "ticks": ""
           }
          },
          "scene": {
           "xaxis": {
            "backgroundcolor": "#E5ECF6",
            "gridcolor": "white",
            "gridwidth": 2,
            "linecolor": "white",
            "showbackground": true,
            "ticks": "",
            "zerolinecolor": "white"
           },
           "yaxis": {
            "backgroundcolor": "#E5ECF6",
            "gridcolor": "white",
            "gridwidth": 2,
            "linecolor": "white",
            "showbackground": true,
            "ticks": "",
            "zerolinecolor": "white"
           },
           "zaxis": {
            "backgroundcolor": "#E5ECF6",
            "gridcolor": "white",
            "gridwidth": 2,
            "linecolor": "white",
            "showbackground": true,
            "ticks": "",
            "zerolinecolor": "white"
           }
          },
          "shapedefaults": {
           "line": {
            "color": "#2a3f5f"
           }
          },
          "ternary": {
           "aaxis": {
            "gridcolor": "white",
            "linecolor": "white",
            "ticks": ""
           },
           "baxis": {
            "gridcolor": "white",
            "linecolor": "white",
            "ticks": ""
           },
           "bgcolor": "#E5ECF6",
           "caxis": {
            "gridcolor": "white",
            "linecolor": "white",
            "ticks": ""
           }
          },
          "title": {
           "x": 0.05
          },
          "xaxis": {
           "automargin": true,
           "gridcolor": "white",
           "linecolor": "white",
           "ticks": "",
           "title": {
            "standoff": 15
           },
           "zerolinecolor": "white",
           "zerolinewidth": 2
          },
          "yaxis": {
           "automargin": true,
           "gridcolor": "white",
           "linecolor": "white",
           "ticks": "",
           "title": {
            "standoff": 15
           },
           "zerolinecolor": "white",
           "zerolinewidth": 2
          }
         }
        },
        "title": {
         "text": "Change in number of dead people over time"
        },
        "xaxis": {
         "anchor": "y",
         "domain": [
          0,
          1
         ],
         "title": {
          "text": "Date"
         }
        },
        "yaxis": {
         "anchor": "x",
         "domain": [
          0,
          1
         ],
         "title": {
          "text": "Number of death"
         }
        }
       }
      }
     },
     "metadata": {},
     "output_type": "display_data"
    }
   ],
   "source": [
    "# draw bar chart for dead people\n",
    "\n",
    "fig =px.bar (\n",
    "    df_osaka,\n",
    "    y='Death',\n",
    "    color= 'Death',\n",
    "    title ='Change in number of dead people over time',\n",
    "    labels={'Death': 'Number of death'}\n",
    ")\n",
    "fig.show()"
   ]
  },
  {
   "cell_type": "code",
   "execution_count": 92,
   "metadata": {},
   "outputs": [
    {
     "name": "stderr",
     "output_type": "stream",
     "text": [
      "c:\\Users\\hoang\\anaconda3\\lib\\site-packages\\pandas\\core\\frame.py:4308: SettingWithCopyWarning:\n",
      "\n",
      "\n",
      "A value is trying to be set on a copy of a slice from a DataFrame\n",
      "\n",
      "See the caveats in the documentation: https://pandas.pydata.org/pandas-docs/stable/user_guide/indexing.html#returning-a-view-versus-a-copy\n",
      "\n"
     ]
    }
   ],
   "source": [
    "# get data in latest date\n",
    "df_latest =df_osaka.head(1)\n",
    "df_latest.drop(['Pos_Tes_Ratio'], axis=1, inplace=True)"
   ]
  },
  {
   "cell_type": "code",
   "execution_count": 74,
   "metadata": {},
   "outputs": [
    {
     "data": {
      "application/vnd.plotly.v1+json": {
       "config": {
        "plotlyServerURL": "https://plot.ly"
       },
       "data": [
        {
         "domain": {
          "x": [
           0,
           1
          ],
          "y": [
           0,
           1
          ]
         },
         "hole": 0.2,
         "hovertemplate": "label=%{label}<br>value=%{value}<extra></extra>",
         "labels": [
          "Positive",
          "Discharged",
          "Death",
          "Hospitalization",
          "Severe"
         ],
         "legendgroup": "",
         "name": "",
         "showlegend": true,
         "type": "pie",
         "values": [
          145148,
          121262,
          2756,
          19512,
          496
         ]
        }
       ],
       "layout": {
        "legend": {
         "tracegroupgap": 0
        },
        "template": {
         "data": {
          "bar": [
           {
            "error_x": {
             "color": "#2a3f5f"
            },
            "error_y": {
             "color": "#2a3f5f"
            },
            "marker": {
             "line": {
              "color": "#E5ECF6",
              "width": 0.5
             },
             "pattern": {
              "fillmode": "overlay",
              "size": 10,
              "solidity": 0.2
             }
            },
            "type": "bar"
           }
          ],
          "barpolar": [
           {
            "marker": {
             "line": {
              "color": "#E5ECF6",
              "width": 0.5
             },
             "pattern": {
              "fillmode": "overlay",
              "size": 10,
              "solidity": 0.2
             }
            },
            "type": "barpolar"
           }
          ],
          "carpet": [
           {
            "aaxis": {
             "endlinecolor": "#2a3f5f",
             "gridcolor": "white",
             "linecolor": "white",
             "minorgridcolor": "white",
             "startlinecolor": "#2a3f5f"
            },
            "baxis": {
             "endlinecolor": "#2a3f5f",
             "gridcolor": "white",
             "linecolor": "white",
             "minorgridcolor": "white",
             "startlinecolor": "#2a3f5f"
            },
            "type": "carpet"
           }
          ],
          "choropleth": [
           {
            "colorbar": {
             "outlinewidth": 0,
             "ticks": ""
            },
            "type": "choropleth"
           }
          ],
          "contour": [
           {
            "colorbar": {
             "outlinewidth": 0,
             "ticks": ""
            },
            "colorscale": [
             [
              0,
              "#0d0887"
             ],
             [
              0.1111111111111111,
              "#46039f"
             ],
             [
              0.2222222222222222,
              "#7201a8"
             ],
             [
              0.3333333333333333,
              "#9c179e"
             ],
             [
              0.4444444444444444,
              "#bd3786"
             ],
             [
              0.5555555555555556,
              "#d8576b"
             ],
             [
              0.6666666666666666,
              "#ed7953"
             ],
             [
              0.7777777777777778,
              "#fb9f3a"
             ],
             [
              0.8888888888888888,
              "#fdca26"
             ],
             [
              1,
              "#f0f921"
             ]
            ],
            "type": "contour"
           }
          ],
          "contourcarpet": [
           {
            "colorbar": {
             "outlinewidth": 0,
             "ticks": ""
            },
            "type": "contourcarpet"
           }
          ],
          "heatmap": [
           {
            "colorbar": {
             "outlinewidth": 0,
             "ticks": ""
            },
            "colorscale": [
             [
              0,
              "#0d0887"
             ],
             [
              0.1111111111111111,
              "#46039f"
             ],
             [
              0.2222222222222222,
              "#7201a8"
             ],
             [
              0.3333333333333333,
              "#9c179e"
             ],
             [
              0.4444444444444444,
              "#bd3786"
             ],
             [
              0.5555555555555556,
              "#d8576b"
             ],
             [
              0.6666666666666666,
              "#ed7953"
             ],
             [
              0.7777777777777778,
              "#fb9f3a"
             ],
             [
              0.8888888888888888,
              "#fdca26"
             ],
             [
              1,
              "#f0f921"
             ]
            ],
            "type": "heatmap"
           }
          ],
          "heatmapgl": [
           {
            "colorbar": {
             "outlinewidth": 0,
             "ticks": ""
            },
            "colorscale": [
             [
              0,
              "#0d0887"
             ],
             [
              0.1111111111111111,
              "#46039f"
             ],
             [
              0.2222222222222222,
              "#7201a8"
             ],
             [
              0.3333333333333333,
              "#9c179e"
             ],
             [
              0.4444444444444444,
              "#bd3786"
             ],
             [
              0.5555555555555556,
              "#d8576b"
             ],
             [
              0.6666666666666666,
              "#ed7953"
             ],
             [
              0.7777777777777778,
              "#fb9f3a"
             ],
             [
              0.8888888888888888,
              "#fdca26"
             ],
             [
              1,
              "#f0f921"
             ]
            ],
            "type": "heatmapgl"
           }
          ],
          "histogram": [
           {
            "marker": {
             "pattern": {
              "fillmode": "overlay",
              "size": 10,
              "solidity": 0.2
             }
            },
            "type": "histogram"
           }
          ],
          "histogram2d": [
           {
            "colorbar": {
             "outlinewidth": 0,
             "ticks": ""
            },
            "colorscale": [
             [
              0,
              "#0d0887"
             ],
             [
              0.1111111111111111,
              "#46039f"
             ],
             [
              0.2222222222222222,
              "#7201a8"
             ],
             [
              0.3333333333333333,
              "#9c179e"
             ],
             [
              0.4444444444444444,
              "#bd3786"
             ],
             [
              0.5555555555555556,
              "#d8576b"
             ],
             [
              0.6666666666666666,
              "#ed7953"
             ],
             [
              0.7777777777777778,
              "#fb9f3a"
             ],
             [
              0.8888888888888888,
              "#fdca26"
             ],
             [
              1,
              "#f0f921"
             ]
            ],
            "type": "histogram2d"
           }
          ],
          "histogram2dcontour": [
           {
            "colorbar": {
             "outlinewidth": 0,
             "ticks": ""
            },
            "colorscale": [
             [
              0,
              "#0d0887"
             ],
             [
              0.1111111111111111,
              "#46039f"
             ],
             [
              0.2222222222222222,
              "#7201a8"
             ],
             [
              0.3333333333333333,
              "#9c179e"
             ],
             [
              0.4444444444444444,
              "#bd3786"
             ],
             [
              0.5555555555555556,
              "#d8576b"
             ],
             [
              0.6666666666666666,
              "#ed7953"
             ],
             [
              0.7777777777777778,
              "#fb9f3a"
             ],
             [
              0.8888888888888888,
              "#fdca26"
             ],
             [
              1,
              "#f0f921"
             ]
            ],
            "type": "histogram2dcontour"
           }
          ],
          "mesh3d": [
           {
            "colorbar": {
             "outlinewidth": 0,
             "ticks": ""
            },
            "type": "mesh3d"
           }
          ],
          "parcoords": [
           {
            "line": {
             "colorbar": {
              "outlinewidth": 0,
              "ticks": ""
             }
            },
            "type": "parcoords"
           }
          ],
          "pie": [
           {
            "automargin": true,
            "type": "pie"
           }
          ],
          "scatter": [
           {
            "fillpattern": {
             "fillmode": "overlay",
             "size": 10,
             "solidity": 0.2
            },
            "type": "scatter"
           }
          ],
          "scatter3d": [
           {
            "line": {
             "colorbar": {
              "outlinewidth": 0,
              "ticks": ""
             }
            },
            "marker": {
             "colorbar": {
              "outlinewidth": 0,
              "ticks": ""
             }
            },
            "type": "scatter3d"
           }
          ],
          "scattercarpet": [
           {
            "marker": {
             "colorbar": {
              "outlinewidth": 0,
              "ticks": ""
             }
            },
            "type": "scattercarpet"
           }
          ],
          "scattergeo": [
           {
            "marker": {
             "colorbar": {
              "outlinewidth": 0,
              "ticks": ""
             }
            },
            "type": "scattergeo"
           }
          ],
          "scattergl": [
           {
            "marker": {
             "colorbar": {
              "outlinewidth": 0,
              "ticks": ""
             }
            },
            "type": "scattergl"
           }
          ],
          "scattermapbox": [
           {
            "marker": {
             "colorbar": {
              "outlinewidth": 0,
              "ticks": ""
             }
            },
            "type": "scattermapbox"
           }
          ],
          "scatterpolar": [
           {
            "marker": {
             "colorbar": {
              "outlinewidth": 0,
              "ticks": ""
             }
            },
            "type": "scatterpolar"
           }
          ],
          "scatterpolargl": [
           {
            "marker": {
             "colorbar": {
              "outlinewidth": 0,
              "ticks": ""
             }
            },
            "type": "scatterpolargl"
           }
          ],
          "scatterternary": [
           {
            "marker": {
             "colorbar": {
              "outlinewidth": 0,
              "ticks": ""
             }
            },
            "type": "scatterternary"
           }
          ],
          "surface": [
           {
            "colorbar": {
             "outlinewidth": 0,
             "ticks": ""
            },
            "colorscale": [
             [
              0,
              "#0d0887"
             ],
             [
              0.1111111111111111,
              "#46039f"
             ],
             [
              0.2222222222222222,
              "#7201a8"
             ],
             [
              0.3333333333333333,
              "#9c179e"
             ],
             [
              0.4444444444444444,
              "#bd3786"
             ],
             [
              0.5555555555555556,
              "#d8576b"
             ],
             [
              0.6666666666666666,
              "#ed7953"
             ],
             [
              0.7777777777777778,
              "#fb9f3a"
             ],
             [
              0.8888888888888888,
              "#fdca26"
             ],
             [
              1,
              "#f0f921"
             ]
            ],
            "type": "surface"
           }
          ],
          "table": [
           {
            "cells": {
             "fill": {
              "color": "#EBF0F8"
             },
             "line": {
              "color": "white"
             }
            },
            "header": {
             "fill": {
              "color": "#C8D4E3"
             },
             "line": {
              "color": "white"
             }
            },
            "type": "table"
           }
          ]
         },
         "layout": {
          "annotationdefaults": {
           "arrowcolor": "#2a3f5f",
           "arrowhead": 0,
           "arrowwidth": 1
          },
          "autotypenumbers": "strict",
          "coloraxis": {
           "colorbar": {
            "outlinewidth": 0,
            "ticks": ""
           }
          },
          "colorscale": {
           "diverging": [
            [
             0,
             "#8e0152"
            ],
            [
             0.1,
             "#c51b7d"
            ],
            [
             0.2,
             "#de77ae"
            ],
            [
             0.3,
             "#f1b6da"
            ],
            [
             0.4,
             "#fde0ef"
            ],
            [
             0.5,
             "#f7f7f7"
            ],
            [
             0.6,
             "#e6f5d0"
            ],
            [
             0.7,
             "#b8e186"
            ],
            [
             0.8,
             "#7fbc41"
            ],
            [
             0.9,
             "#4d9221"
            ],
            [
             1,
             "#276419"
            ]
           ],
           "sequential": [
            [
             0,
             "#0d0887"
            ],
            [
             0.1111111111111111,
             "#46039f"
            ],
            [
             0.2222222222222222,
             "#7201a8"
            ],
            [
             0.3333333333333333,
             "#9c179e"
            ],
            [
             0.4444444444444444,
             "#bd3786"
            ],
            [
             0.5555555555555556,
             "#d8576b"
            ],
            [
             0.6666666666666666,
             "#ed7953"
            ],
            [
             0.7777777777777778,
             "#fb9f3a"
            ],
            [
             0.8888888888888888,
             "#fdca26"
            ],
            [
             1,
             "#f0f921"
            ]
           ],
           "sequentialminus": [
            [
             0,
             "#0d0887"
            ],
            [
             0.1111111111111111,
             "#46039f"
            ],
            [
             0.2222222222222222,
             "#7201a8"
            ],
            [
             0.3333333333333333,
             "#9c179e"
            ],
            [
             0.4444444444444444,
             "#bd3786"
            ],
            [
             0.5555555555555556,
             "#d8576b"
            ],
            [
             0.6666666666666666,
             "#ed7953"
            ],
            [
             0.7777777777777778,
             "#fb9f3a"
            ],
            [
             0.8888888888888888,
             "#fdca26"
            ],
            [
             1,
             "#f0f921"
            ]
           ]
          },
          "colorway": [
           "#636efa",
           "#EF553B",
           "#00cc96",
           "#ab63fa",
           "#FFA15A",
           "#19d3f3",
           "#FF6692",
           "#B6E880",
           "#FF97FF",
           "#FECB52"
          ],
          "font": {
           "color": "#2a3f5f"
          },
          "geo": {
           "bgcolor": "white",
           "lakecolor": "white",
           "landcolor": "#E5ECF6",
           "showlakes": true,
           "showland": true,
           "subunitcolor": "white"
          },
          "hoverlabel": {
           "align": "left"
          },
          "hovermode": "closest",
          "mapbox": {
           "style": "light"
          },
          "paper_bgcolor": "white",
          "plot_bgcolor": "#E5ECF6",
          "polar": {
           "angularaxis": {
            "gridcolor": "white",
            "linecolor": "white",
            "ticks": ""
           },
           "bgcolor": "#E5ECF6",
           "radialaxis": {
            "gridcolor": "white",
            "linecolor": "white",
            "ticks": ""
           }
          },
          "scene": {
           "xaxis": {
            "backgroundcolor": "#E5ECF6",
            "gridcolor": "white",
            "gridwidth": 2,
            "linecolor": "white",
            "showbackground": true,
            "ticks": "",
            "zerolinecolor": "white"
           },
           "yaxis": {
            "backgroundcolor": "#E5ECF6",
            "gridcolor": "white",
            "gridwidth": 2,
            "linecolor": "white",
            "showbackground": true,
            "ticks": "",
            "zerolinecolor": "white"
           },
           "zaxis": {
            "backgroundcolor": "#E5ECF6",
            "gridcolor": "white",
            "gridwidth": 2,
            "linecolor": "white",
            "showbackground": true,
            "ticks": "",
            "zerolinecolor": "white"
           }
          },
          "shapedefaults": {
           "line": {
            "color": "#2a3f5f"
           }
          },
          "ternary": {
           "aaxis": {
            "gridcolor": "white",
            "linecolor": "white",
            "ticks": ""
           },
           "baxis": {
            "gridcolor": "white",
            "linecolor": "white",
            "ticks": ""
           },
           "bgcolor": "#E5ECF6",
           "caxis": {
            "gridcolor": "white",
            "linecolor": "white",
            "ticks": ""
           }
          },
          "title": {
           "x": 0.05
          },
          "xaxis": {
           "automargin": true,
           "gridcolor": "white",
           "linecolor": "white",
           "ticks": "",
           "title": {
            "standoff": 15
           },
           "zerolinecolor": "white",
           "zerolinewidth": 2
          },
          "yaxis": {
           "automargin": true,
           "gridcolor": "white",
           "linecolor": "white",
           "ticks": "",
           "title": {
            "standoff": 15
           },
           "zerolinecolor": "white",
           "zerolinewidth": 2
          }
         }
        },
        "title": {
         "text": "Current Situation in OSAKA (2021-08-22)"
        }
       }
      }
     },
     "metadata": {},
     "output_type": "display_data"
    }
   ],
   "source": [
    "# Compare  percenatge of positive, hospitalization, serve, discharged, death people\n",
    "\n",
    "fig=px.pie (\n",
    "    df_latest,\n",
    "    names= df_latest.columns.to_list(),\n",
    "    hole=0.2,\n",
    "    values = np.array(df_latest)[0],\n",
    "    title ='Current Situation in OSAKA (2021-08-22)'\n",
    ")\n",
    "\n",
    "fig.show()"
   ]
  },
  {
   "cell_type": "code",
   "execution_count": 93,
   "metadata": {},
   "outputs": [
    {
     "data": {
      "text/html": [
       "<style  type=\"text/css\" >\n",
       "#T_7fdfe_row0_col0{\n",
       "            background-color:  #0d0887;\n",
       "            color:  #f1f1f1;\n",
       "        }#T_7fdfe_row1_col0{\n",
       "            background-color:  #5c01a6;\n",
       "            color:  #f1f1f1;\n",
       "        }#T_7fdfe_row2_col0{\n",
       "            background-color:  #fdc229;\n",
       "            color:  #000000;\n",
       "        }#T_7fdfe_row3_col0{\n",
       "            background-color:  #f1f426;\n",
       "            color:  #000000;\n",
       "        }#T_7fdfe_row4_col0{\n",
       "            background-color:  #f0f921;\n",
       "            color:  #000000;\n",
       "        }</style><table id=\"T_7fdfe_\" ><thead>    <tr>        <th class=\"blank level0\" ></th>        <th class=\"col_heading level0 col0\" >Cases</th>    </tr></thead><tbody>\n",
       "                <tr>\n",
       "                        <th id=\"T_7fdfe_level0_row0\" class=\"row_heading level0 row0\" >Positive</th>\n",
       "                        <td id=\"T_7fdfe_row0_col0\" class=\"data row0 col0\" >145148</td>\n",
       "            </tr>\n",
       "            <tr>\n",
       "                        <th id=\"T_7fdfe_level0_row1\" class=\"row_heading level0 row1\" >Hospitalization</th>\n",
       "                        <td id=\"T_7fdfe_row1_col0\" class=\"data row1 col0\" >121262</td>\n",
       "            </tr>\n",
       "            <tr>\n",
       "                        <th id=\"T_7fdfe_level0_row2\" class=\"row_heading level0 row2\" >Death</th>\n",
       "                        <td id=\"T_7fdfe_row2_col0\" class=\"data row2 col0\" >19512</td>\n",
       "            </tr>\n",
       "            <tr>\n",
       "                        <th id=\"T_7fdfe_level0_row3\" class=\"row_heading level0 row3\" >Severe</th>\n",
       "                        <td id=\"T_7fdfe_row3_col0\" class=\"data row3 col0\" >2756</td>\n",
       "            </tr>\n",
       "            <tr>\n",
       "                        <th id=\"T_7fdfe_level0_row4\" class=\"row_heading level0 row4\" >Discharged</th>\n",
       "                        <td id=\"T_7fdfe_row4_col0\" class=\"data row4 col0\" >496</td>\n",
       "            </tr>\n",
       "    </tbody></table>"
      ],
      "text/plain": [
       "<pandas.io.formats.style.Styler at 0x285ae2f1790>"
      ]
     },
     "execution_count": 93,
     "metadata": {},
     "output_type": "execute_result"
    }
   ],
   "source": [
    "# reset index and transpose data\n",
    "df_latest = df_latest.reset_index(drop=True)\n",
    "df_latest =pd.DataFrame(\n",
    "    df_latest.T.values,\n",
    "    columns =['Cases'],\n",
    "    index =['Positive', 'Hospitalization', 'Severe', 'Death', 'Discharged']\n",
    ")\n",
    "\n",
    "df_latest.sort_values(['Cases'], ascending=False, inplace=True)\n",
    "df_latest.style.background_gradient(cmap='plasma_r')"
   ]
  },
  {
   "cell_type": "code",
   "execution_count": null,
   "metadata": {},
   "outputs": [],
   "source": []
  }
 ],
 "metadata": {
  "interpreter": {
   "hash": "f5051a862b211aa3ac754ed70592e90620d523e87b3b3d1f0d4bf9ecbd174644"
  },
  "kernelspec": {
   "display_name": "Python 3.8.8 ('base')",
   "language": "python",
   "name": "python3"
  },
  "language_info": {
   "codemirror_mode": {
    "name": "ipython",
    "version": 3
   },
   "file_extension": ".py",
   "mimetype": "text/x-python",
   "name": "python",
   "nbconvert_exporter": "python",
   "pygments_lexer": "ipython3",
   "version": "3.8.8"
  },
  "orig_nbformat": 4
 },
 "nbformat": 4,
 "nbformat_minor": 2
}
