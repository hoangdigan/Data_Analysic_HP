{
 "cells": [
  {
   "cell_type": "markdown",
   "id": "0d0f23a9-8cd7-4195-9508-121b98655cc7",
   "metadata": {},
   "source": [
    "# 1.1.1 Basic data types"
   ]
  },
  {
   "cell_type": "markdown",
   "id": "b517f10c-90bc-430b-96eb-66453aff8fb8",
   "metadata": {},
   "source": [
    "# Number"
   ]
  },
  {
   "cell_type": "code",
   "execution_count": 167,
   "id": "af2e3994-b457-4dee-a781-2a10759ac7d0",
   "metadata": {},
   "outputs": [
    {
     "name": "stdout",
     "output_type": "stream",
     "text": [
      "5\n",
      "6\n",
      "4\n",
      "16\n"
     ]
    }
   ],
   "source": [
    "x=5\n",
    "print(x)\n",
    "x+=1\n",
    "print(x)\n",
    "x-=2\n",
    "print(x)\n",
    "x**=2\n",
    "print(x)"
   ]
  },
  {
   "cell_type": "markdown",
   "id": "ae40f911-7fca-41b7-9b6b-615f3c2d41d5",
   "metadata": {},
   "source": [
    "# Boolean"
   ]
  },
  {
   "cell_type": "code",
   "execution_count": 174,
   "id": "fb6d8871-f923-4c79-8aa6-16f9972752b8",
   "metadata": {},
   "outputs": [
    {
     "name": "stdout",
     "output_type": "stream",
     "text": [
      "type a <class 'bool'>\n",
      "type b <class 'bool'>\n",
      "False\n",
      "True\n",
      "False\n",
      "True\n",
      "True\n"
     ]
    }
   ],
   "source": [
    "a= True\n",
    "b= False\n",
    "print(\"type a\", type(a))\n",
    "print(\"type b\",type(a))\n",
    "print(a and b)\n",
    "print (a or b)\n",
    "print (not a)\n",
    "print (not b)\n",
    "print(a != b)"
   ]
  },
  {
   "cell_type": "code",
   "execution_count": 176,
   "id": "5c4861f7-ebff-4793-8f39-89b3ed09f8d8",
   "metadata": {},
   "outputs": [
    {
     "name": "stdout",
     "output_type": "stream",
     "text": [
      "13\n",
      "28\n",
      "Hanoi capital-hochiminh city\n",
      "HANOI CAPITAL-HOCHIMINH CITY\n",
      "hanoi capital-hochiminh city\n",
      "###haNoi capiTal-hocHiminh cIty\n",
      "*****haNoi capiTal-hocHiminh cIty****\n",
      "haNoi capiTal-hocHiminh TP\n",
      "haNoi capiTal-hocHiminh cIty\n"
     ]
    }
   ],
   "source": [
    "s = \"haNoi capiTal\"\n",
    "u = \"hocHiminh cIty\"\n",
    "print(len(s))\n",
    "su = s + \"-\"+u\n",
    "print(len(su))\n",
    "print(su.capitalize())\n",
    "print(su.upper())\n",
    "print(su.lower())\n",
    "print(su.rjust(31, '#'))\n",
    "print(su.center(37, \"*\"))\n",
    "print(su.replace(\"cIty\", \"TP\"))\n",
    "print(su.strip( '*'))"
   ]
  },
  {
   "cell_type": "markdown",
   "id": "7e597b7d-fc27-4de7-897d-3c55493c17c2",
   "metadata": {},
   "source": [
    "# 1.1.2 Container"
   ]
  },
  {
   "cell_type": "code",
   "execution_count": 181,
   "id": "b5cd60f0-03e7-441d-a98e-8067fbe6791d",
   "metadata": {},
   "outputs": [
    {
     "name": "stdout",
     "output_type": "stream",
     "text": [
      "9\n",
      "[100, 101]\n",
      "NEW VALUE\n",
      "additional value\n",
      "['a', 9, 'NEW VALUE', 'b', 'JAPAN', 'KOREA', ' HCM CITY', [100, 101]]\n"
     ]
    }
   ],
   "source": [
    "mylist =[\"a\", 9, 10, \"b\", \"JAPAN\", \"KOREA\", \" HCM CITY\", [100, 101]]\n",
    "print(mylist[1])\n",
    "print(mylist[-1])\n",
    "mylist[2] = \"NEW VALUE\"\n",
    "print(mylist[2])\n",
    "mylist.append(\"additional value\")\n",
    "print(mylist[-1])\n",
    "mylist.pop()\n",
    "print(mylist)"
   ]
  },
  {
   "cell_type": "markdown",
   "id": "c7465023-823b-49c7-949d-8d48487c5797",
   "metadata": {},
   "source": [
    "# Slicing"
   ]
  },
  {
   "cell_type": "code",
   "execution_count": 186,
   "id": "42203d09-5f19-4615-9bcf-d1c6874d3ffa",
   "metadata": {},
   "outputs": [
    {
     "name": "stdout",
     "output_type": "stream",
     "text": [
      "[9, ' HCM CITY']\n",
      "[9, ' HCM CITY', [100, 101]]\n",
      "['b', 'JAPAN', 9]\n",
      "['b', 'JAPAN', 9, ' HCM CITY', [100, 101]]\n",
      "[9000, 'HANOI CAPITAL']\n"
     ]
    }
   ],
   "source": [
    "ml =[\"b\", \"JAPAN\", 9, \" HCM CITY\", [100, 101]]\n",
    "print(ml[2:4])\n",
    "print(ml[2:])\n",
    "print(ml[:3])\n",
    "print(ml)\n",
    "ml[2:4] =[9000, \"HANOI CAPITAL\"]\n",
    "print(ml[2:4])"
   ]
  },
  {
   "cell_type": "markdown",
   "id": "f782da12-af62-48df-ab63-8b79ee6c17b4",
   "metadata": {},
   "source": [
    "# Loop"
   ]
  },
  {
   "cell_type": "code",
   "execution_count": 187,
   "id": "592394fa-04b9-46d7-8175-306a316a85e4",
   "metadata": {},
   "outputs": [
    {
     "name": "stdout",
     "output_type": "stream",
     "text": [
      "b\n",
      "JAPAN\n",
      "9\n",
      " HCM CITY\n",
      "[100, 101]\n"
     ]
    }
   ],
   "source": [
    "ml =[\"b\", \"JAPAN\", 9, \" HCM CITY\", [100, 101]]\n",
    "for item in ml:\n",
    "    print(item)"
   ]
  },
  {
   "cell_type": "code",
   "execution_count": 189,
   "id": "60f86943-9669-43ac-9055-b50de1a5a4bb",
   "metadata": {},
   "outputs": [
    {
     "name": "stdout",
     "output_type": "stream",
     "text": [
      "Key:  0 ; Element:  b\n",
      "Key:  1 ; Element:  JAPAN\n",
      "Key:  2 ; Element:  9\n",
      "Key:  3 ; Element:   HCM CITY\n",
      "Key:  4 ; Element:  [100, 101]\n"
     ]
    }
   ],
   "source": [
    "ml =[\"b\", \"JAPAN\", 9, \" HCM CITY\", [100, 101]]\n",
    "for key, element in enumerate(ml):\n",
    "    print(\"Key: \", key,\";\", \"Element: \", element)\n",
    "   "
   ]
  },
  {
   "cell_type": "markdown",
   "id": "be161629-caa5-48b9-a6f3-78b8ab121eb5",
   "metadata": {},
   "source": [
    "# List comprehensions:"
   ]
  },
  {
   "cell_type": "code",
   "execution_count": 190,
   "id": "2fbd6e24-e40e-4a9a-a0db-b450924d7aaf",
   "metadata": {},
   "outputs": [
    {
     "name": "stdout",
     "output_type": "stream",
     "text": [
      "[0, 2, 4, 6, 8]\n"
     ]
    }
   ],
   "source": [
    "nums = [0, 1, 2, 3, 4]\n",
    "squares = []\n",
    "for x in nums:\n",
    "    squares.append(x*2)\n",
    "print(squares)"
   ]
  },
  {
   "cell_type": "code",
   "execution_count": 193,
   "id": "a54ce894-7c04-4728-9c15-8580e7a90860",
   "metadata": {},
   "outputs": [
    {
     "name": "stdout",
     "output_type": "stream",
     "text": [
      "[0, 2, 4, 6, 8]\n"
     ]
    }
   ],
   "source": [
    "nums = [0, 1, 2, 3, 4]\n",
    "squares = [x*2 for x in nums]\n",
    "print(squares)"
   ]
  },
  {
   "cell_type": "code",
   "execution_count": 194,
   "id": "5c6c13b2-aca6-4cf6-baed-12eedeba5bdb",
   "metadata": {},
   "outputs": [
    {
     "name": "stdout",
     "output_type": "stream",
     "text": [
      "[0, 2, 4]\n"
     ]
    }
   ],
   "source": [
    "nums = [0, 1, 2, 3, 4]\n",
    "even_squares = [x for x in nums if (x % 2) == 0]\n",
    "print(even_squares)"
   ]
  },
  {
   "cell_type": "markdown",
   "id": "70c64892-791c-4dcb-98ec-37b69d0130d6",
   "metadata": {},
   "source": [
    "# Dictionaries"
   ]
  },
  {
   "cell_type": "code",
   "execution_count": 14,
   "id": "fe056109-6413-4b95-877d-f3cd8d39968a",
   "metadata": {},
   "outputs": [
    {
     "name": "stdout",
     "output_type": "stream",
     "text": [
      "John\n",
      "Not Exist\n",
      "{'user': 'John', 'email': 'john@gmail.com', 'age': 30}\n",
      "user : John\n",
      "email : john@gmail.com\n",
      "{5: 10, 6: 12, 7: 14, 8: 16, 9: 18}\n"
     ]
    }
   ],
   "source": [
    "dict = {\n",
    "  \"user\": \"John\",\n",
    "  \"email\": \"john@gmail.com\"\n",
    "}\n",
    "print(dict['user'])\n",
    "print(\"Key exist\" if 'Age' in dict.keys() else \"Not Exist\")\n",
    "dict[\"age\"]=30\n",
    "print(dict)\n",
    "del dict[\"age\"]\n",
    "\n",
    "# 1. list dictionary item \n",
    "for k,v in dict.items():\n",
    "    print(k,\":\", v)\n",
    "    \n",
    "# 2 \n",
    "# for i in dict.iteritems():\n",
    "#     print(i)\n",
    "# python 3: No 'dict' object has no attribute 'iteritems'\n",
    "\n",
    "# dict comprehesions\n",
    "\n",
    "mylist =[5,6,7,8,9]\n",
    "double_dict =  {num: num*2 for num in mylist}\n",
    "print(double_dict)"
   ]
  },
  {
   "cell_type": "markdown",
   "id": "3e72457d-6ddf-414c-9a44-2444853a23ec",
   "metadata": {},
   "source": [
    "# Set"
   ]
  },
  {
   "cell_type": "code",
   "execution_count": 18,
   "id": "bb4f7668-aadc-4f5b-a319-8f85d1557713",
   "metadata": {},
   "outputs": [
    {
     "name": "stdout",
     "output_type": "stream",
     "text": [
      "{'mango', 'sapoche', 'durian', 'banana'}\n",
      "{'sapoche', 'durian', 'banana'}\n",
      "0 sapoche\n",
      "1 durian\n",
      "2 banana\n"
     ]
    }
   ],
   "source": [
    "myset = {\"durian\", \"banana\", \"mango\"}\n",
    "myset.add(\"sapoche\")\n",
    "print(myset)\n",
    "myset.remove(\"mango\")\n",
    "print(myset)\n",
    "\n",
    "for idx, x in enumerate(myset):\n",
    "    print(idx, x)"
   ]
  },
  {
   "cell_type": "code",
   "execution_count": 22,
   "id": "ef427567-5f26-4ae0-81e3-cbc6d4197a46",
   "metadata": {},
   "outputs": [],
   "source": [
    "mytuple = (\"orange\", \"kiwi\", \"melon\", \"mango\")\n",
    "mytuple[1]= \"cherry\" # tuple object does not support item assignment"
   ]
  },
  {
   "cell_type": "markdown",
   "id": "000f4995-aac9-4e78-ace6-3185867cd846",
   "metadata": {},
   "source": [
    "# 1.1.3 Functions"
   ]
  },
  {
   "cell_type": "code",
   "execution_count": 24,
   "id": "d067596c-4d85-4ade-9c5f-e90613cc09fa",
   "metadata": {},
   "outputs": [
    {
     "name": "stdout",
     "output_type": "stream",
     "text": [
      "Sum of list:  134\n"
     ]
    }
   ],
   "source": [
    "list1 = [11, 5, 17, 18, 23, 10, 20,30]\n",
    "\n",
    "def sumOfList(list, lenList):\n",
    "    if (lenList == 0):\n",
    "        return 0\n",
    "    else:\n",
    "        return list[lenList - 1] + sumOfList(list, lenList - 1)\n",
    "\n",
    "# Driver code\t\n",
    "total = sumOfList(list1, len(list1))\n",
    "\n",
    "print(\"Sum of list: \", total)\n"
   ]
  },
  {
   "cell_type": "code",
   "execution_count": 25,
   "id": "c414bc01-2e2a-4373-8faa-b42c53053e2b",
   "metadata": {},
   "outputs": [
    {
     "name": "stdout",
     "output_type": "stream",
     "text": [
      "20\n",
      "30\n"
     ]
    }
   ],
   "source": [
    "def addNum(a, b=10):\n",
    "    return a+b\n",
    "\n",
    "print(addNum(10))\n",
    "print(addNum(10,20))"
   ]
  },
  {
   "cell_type": "code",
   "execution_count": null,
   "id": "c9336790-d7aa-45a9-8368-e5cbc63c430a",
   "metadata": {},
   "outputs": [],
   "source": []
  }
 ],
 "metadata": {
  "kernelspec": {
   "display_name": "Python 3",
   "language": "python",
   "name": "python3"
  },
  "language_info": {
   "codemirror_mode": {
    "name": "ipython",
    "version": 3
   },
   "file_extension": ".py",
   "mimetype": "text/x-python",
   "name": "python",
   "nbconvert_exporter": "python",
   "pygments_lexer": "ipython3",
   "version": "3.8.8"
  }
 },
 "nbformat": 4,
 "nbformat_minor": 5
}
